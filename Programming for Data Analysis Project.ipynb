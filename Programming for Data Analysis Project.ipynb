{
 "cells": [
  {
   "cell_type": "markdown",
   "metadata": {},
   "source": [
    "## Programming for Data Analysis Project\n",
    "\n"
   ]
  },
  {
   "cell_type": "markdown",
   "metadata": {},
   "source": [
    "** Introduction**"
   ]
  },
  {
   "cell_type": "markdown",
   "metadata": {},
   "source": [
    "The weather, the obsession of all Irish adults. From a conversation starter to the dreaded threat of weddings and summer bar-b-bues.\n",
    "\n",
    "Meteireann has the dubios task of trying to give accurate and timely forecasts for the whole nation, while more often than not being the butt of the joke due to each individual taking a wholistic forecast as a personal gaurantee of weather certainty.\n",
    "\n",
    "The following project is going to analyse the percipitation (Rain Fall) from the UCC weather station in Cork City under the following headings;\n",
    "\n",
    "- Date\n",
    "- Percipitation Amount (mm)\n",
    "- Maximum Air Temperature (C)\n",
    "- Minimum Air Temperature (C)\n",
    "- Mean Wind Speed (Knot)\n",
    "- Wind Direction at Max 10 min Mean (deg)\n",
    "- Mean CBL Pressure (hpa)\n",
    "\n",
    "  "
   ]
  },
  {
   "cell_type": "markdown",
   "metadata": {},
   "source": [
    "** Aim**\n",
    "\n",
    "The aim of this project is to explore the creation of an accurate localised personal weather predictor by investigating if known historical weather characterisitics have a dependency and relationship with each other.\n"
   ]
  },
  {
   "cell_type": "markdown",
   "metadata": {},
   "source": [
    "** Method **\n",
    "\n",
    "By analysing historical weather data and its associated characteristics in relation to percipitation amount it is proposed that if the correct "
   ]
  },
  {
   "cell_type": "code",
   "execution_count": 2,
   "metadata": {
    "collapsed": true
   },
   "outputs": [],
   "source": [
    "import pandas as pd"
   ]
  },
  {
   "cell_type": "code",
   "execution_count": 3,
   "metadata": {},
   "outputs": [
    {
     "name": "stdout",
     "output_type": "stream",
     "text": [
      "          Date  Muskerry Golf club rain (mm)  Malin Head rain (mm)\n",
      "0    31-Aug-17                           0.0                   1.0\n",
      "1    01-Sep-17                           1.1                   0.0\n",
      "2    02-Sep-17                          31.1                   0.2\n",
      "3    03-Sep-17                           6.7                   0.0\n",
      "4    04-Sep-17                          13.8                   0.0\n",
      "5    05-Sep-17                           0.0                   0.0\n",
      "6    06-Sep-17                           0.0                   0.0\n",
      "7    07-Sep-17                           2.6                   3.4\n",
      "8    08-Sep-17                           4.2                   0.4\n",
      "9    09-Sep-17                           2.5                   0.1\n",
      "10   10-Sep-17                           0.8                   0.0\n",
      "11   11-Sep-17                           1.5                   1.0\n",
      "12   12-Sep-17                           2.0                   0.4\n",
      "13   13-Sep-17                           1.5                   3.5\n",
      "14   14-Sep-17                           0.0                   0.0\n",
      "15   15-Sep-17                           0.0                   3.2\n",
      "16   16-Sep-17                           1.5                   1.6\n",
      "17   17-Sep-17                           0.0                   2.7\n",
      "18   18-Sep-17                           0.0                   0.0\n",
      "19   19-Sep-17                           2.6                   0.1\n",
      "20   20-Sep-17                          14.4                   0.0\n",
      "21   21-Sep-17                           8.2                   6.0\n",
      "22   22-Sep-17                           0.0                   9.2\n",
      "23   23-Sep-17                          10.0                  11.6\n",
      "24   24-Sep-17                           0.0                   5.8\n",
      "25   25-Sep-17                           0.0                  13.4\n",
      "26   26-Sep-17                          19.5                   2.5\n",
      "27   27-Sep-17                          10.0                   2.3\n",
      "28   28-Sep-17                           6.5                   0.0\n",
      "29   29-Sep-17                           4.9                   0.0\n",
      "..         ...                           ...                   ...\n",
      "337  03-Aug-18                           0.0                   8.3\n",
      "338  04-Aug-18                           0.0                   0.0\n",
      "339  05-Aug-18                           0.0                   3.1\n",
      "340  06-Aug-18                           0.0                   7.7\n",
      "341  07-Aug-18                           0.0                   2.7\n",
      "342  08-Aug-18                           0.0                   8.3\n",
      "343  09-Aug-18                           0.0                   4.7\n",
      "344  10-Aug-18                           1.4                   2.6\n",
      "345  11-Aug-18                           4.7                   3.8\n",
      "346  12-Aug-18                          10.4                   5.7\n",
      "347  13-Aug-18                           0.0                   0.5\n",
      "348  14-Aug-18                           0.0                   4.6\n",
      "349  15-Aug-18                           0.4                   1.3\n",
      "350  16-Aug-18                           0.0                   2.7\n",
      "351  17-Aug-18                           0.0                   0.0\n",
      "352  18-Aug-18                           0.5                   7.1\n",
      "353  19-Aug-18                           0.0                   7.8\n",
      "354  20-Aug-18                           0.0                   0.1\n",
      "355  21-Aug-18                           0.4                   5.2\n",
      "356  22-Aug-18                           0.0                   8.4\n",
      "357  23-Aug-18                           0.0                  12.7\n",
      "358  24-Aug-18                           0.0                   1.5\n",
      "359  25-Aug-18                          13.0                  11.5\n",
      "360  26-Aug-18                           0.0                   7.7\n",
      "361  27-Aug-18                           0.0                   3.1\n",
      "362  28-Aug-18                           3.6                   7.2\n",
      "363  29-Aug-18                           0.0                   3.4\n",
      "364  30-Aug-18                           0.5                   3.4\n",
      "365  31-Aug-18                           3.4                   0.7\n",
      "366        NaN                           NaN                   NaN\n",
      "\n",
      "[367 rows x 3 columns]\n"
     ]
    }
   ],
   "source": [
    "df = pd.read_csv(r'C:\\Users\\Shane\\Desktop\\GMIT\\meteireann\\Rain Data.csv')\n",
    "print(df)"
   ]
  },
  {
   "cell_type": "code",
   "execution_count": null,
   "metadata": {},
   "outputs": [],
   "source": []
  }
 ],
 "metadata": {
  "kernelspec": {
   "display_name": "Python 3",
   "language": "python",
   "name": "python3"
  },
  "language_info": {
   "codemirror_mode": {
    "name": "ipython",
    "version": 3
   },
   "file_extension": ".py",
   "mimetype": "text/x-python",
   "name": "python",
   "nbconvert_exporter": "python",
   "pygments_lexer": "ipython3",
   "version": "3.6.3"
  }
 },
 "nbformat": 4,
 "nbformat_minor": 2
}
