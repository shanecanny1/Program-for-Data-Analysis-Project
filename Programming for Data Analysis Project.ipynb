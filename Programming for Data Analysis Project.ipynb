{
 "cells": [
  {
   "cell_type": "markdown",
   "metadata": {},
   "source": [
    "## Programming for Data Analysis Project\n",
    "\n"
   ]
  },
  {
   "cell_type": "markdown",
   "metadata": {},
   "source": [
    "** Introduction**"
   ]
  },
  {
   "cell_type": "markdown",
   "metadata": {},
   "source": [
    "The weather, the obsession of all Irish adults. From a conversation starter to the dreaded threat of weddings and summer bar-be-cues.\n",
    "\n",
    "Meteireann has the dubious task of trying to give accurate and timely forecasts for the nation, while more often than not being the butt of the joke due to each individual taking a wholistic forecast as a personal gaurantee of weather certainty.\n",
    "\n",
    "The following project is going to analyse the percipitation (Rain Fall) from the Cork Airport weather station in County Cork under the following headings;\n",
    "\n",
    "- Date\n",
    "- Percipitation Amount (mm)\n",
    "- Maximum Air Temperature (C)\n",
    "- Minimum Air Temperature (C)\n",
    "- Mean Wind Speed (Knot)\n",
    "- Wind Direction at Max 10 min Mean (deg)\n",
    "- Mean CBL Pressure (hpa)\n"
   ]
  },
  {
   "cell_type": "markdown",
   "metadata": {},
   "source": [
    "** Aim**\n",
    "\n",
    "The aim of this project is to explore the creation of an accurate localised weather predictor by investigating if known historical weather characterisitics have a dependency and relationship with each other.\n"
   ]
  },
  {
   "cell_type": "markdown",
   "metadata": {},
   "source": [
    "** Method **\n",
    "\n",
    "By analysing historical weather data and its associated characteristics in relation to percipitation amount it is proposed that if the correct weather characteristics and data for the local area are entered into the model i.e. Ballincollig, County Cork, an accurate determination if percipition (rain) is forecast for your locality will be determined.\n",
    "\n",
    "As the Cork Airport weather station is the closest weather station with enough variable data to create a model it was used to gather historical data points.\n",
    "\n",
    "For the purpose of this project random data will be generated using numpy.random to generate a data sets to mimick the characteristics of the variables taken from the Cork Airport weather station. i.e.\n",
    "\n",
    "- Date\n",
    "- Percipitation Amount (mm)\n",
    "- Maximum Air Temperature (C)\n",
    "- Minimum Air Temperature (C)\n",
    "- Mean Wind Speed (Knot)\n",
    "- Wind Direction at Max 10 min Mean (deg)\n",
    "- Mean CBL Pressure (hpa)\n"
   ]
  },
  {
   "cell_type": "code",
   "execution_count": 76,
   "metadata": {
    "collapsed": true
   },
   "outputs": [],
   "source": [
    "import pandas as pd"
   ]
  },
  {
   "cell_type": "code",
   "execution_count": 77,
   "metadata": {
    "collapsed": true
   },
   "outputs": [],
   "source": [
    "import numpy as np"
   ]
  },
  {
   "cell_type": "code",
   "execution_count": 78,
   "metadata": {
    "collapsed": true
   },
   "outputs": [],
   "source": [
    "import matplotlib.pyplot as plt"
   ]
  },
  {
   "cell_type": "code",
   "execution_count": 79,
   "metadata": {
    "collapsed": true
   },
   "outputs": [],
   "source": [
    "from scipy import stats"
   ]
  },
  {
   "cell_type": "code",
   "execution_count": 80,
   "metadata": {
    "collapsed": true
   },
   "outputs": [],
   "source": [
    "from scipy.stats import kurtosis, skew"
   ]
  },
  {
   "cell_type": "markdown",
   "metadata": {},
   "source": [
    "**Definition of the Data Frame**\n",
    "\n",
    "To provide clarity when further analysis is conducted and to be able to differentiate between the original and random data sets we will define the original Cork airport data frame as \"CorkAirportData\""
   ]
  },
  {
   "cell_type": "code",
   "execution_count": 81,
   "metadata": {
    "collapsed": true
   },
   "outputs": [],
   "source": [
    "CorkAirportData = pd.read_csv('C://Users//Shane//Desktop//GMIT//meteireann//CorkAirportDataone.txt')"
   ]
  },
  {
   "cell_type": "code",
   "execution_count": 82,
   "metadata": {},
   "outputs": [
    {
     "data": {
      "text/html": [
       "<div>\n",
       "<style>\n",
       "    .dataframe thead tr:only-child th {\n",
       "        text-align: right;\n",
       "    }\n",
       "\n",
       "    .dataframe thead th {\n",
       "        text-align: left;\n",
       "    }\n",
       "\n",
       "    .dataframe tbody tr th {\n",
       "        vertical-align: top;\n",
       "    }\n",
       "</style>\n",
       "<table border=\"1\" class=\"dataframe\">\n",
       "  <thead>\n",
       "    <tr style=\"text-align: right;\">\n",
       "      <th></th>\n",
       "      <th>Date</th>\n",
       "      <th>MaxTemp</th>\n",
       "      <th>MinTemp</th>\n",
       "      <th>Rain mm</th>\n",
       "      <th>Pressure cbl Hpa</th>\n",
       "      <th>WindSpeed Knots</th>\n",
       "      <th>Wind Direction deg</th>\n",
       "    </tr>\n",
       "  </thead>\n",
       "  <tbody>\n",
       "    <tr>\n",
       "      <th>0</th>\n",
       "      <td>31-Oct-17</td>\n",
       "      <td>12.3</td>\n",
       "      <td>10.0</td>\n",
       "      <td>0.0</td>\n",
       "      <td>1003.7</td>\n",
       "      <td>9.2</td>\n",
       "      <td>220</td>\n",
       "    </tr>\n",
       "    <tr>\n",
       "      <th>1</th>\n",
       "      <td>01-Nov-17</td>\n",
       "      <td>12.6</td>\n",
       "      <td>7.8</td>\n",
       "      <td>0.0</td>\n",
       "      <td>998.5</td>\n",
       "      <td>3.8</td>\n",
       "      <td>180</td>\n",
       "    </tr>\n",
       "    <tr>\n",
       "      <th>2</th>\n",
       "      <td>02-Nov-17</td>\n",
       "      <td>12.8</td>\n",
       "      <td>7.8</td>\n",
       "      <td>0.2</td>\n",
       "      <td>997.4</td>\n",
       "      <td>4.1</td>\n",
       "      <td>340</td>\n",
       "    </tr>\n",
       "    <tr>\n",
       "      <th>3</th>\n",
       "      <td>03-Nov-17</td>\n",
       "      <td>10.0</td>\n",
       "      <td>7.3</td>\n",
       "      <td>0.0</td>\n",
       "      <td>992.5</td>\n",
       "      <td>3.1</td>\n",
       "      <td>260</td>\n",
       "    </tr>\n",
       "    <tr>\n",
       "      <th>4</th>\n",
       "      <td>04-Nov-17</td>\n",
       "      <td>9.4</td>\n",
       "      <td>3.4</td>\n",
       "      <td>2.4</td>\n",
       "      <td>991.3</td>\n",
       "      <td>10.2</td>\n",
       "      <td>300</td>\n",
       "    </tr>\n",
       "    <tr>\n",
       "      <th>5</th>\n",
       "      <td>05-Nov-17</td>\n",
       "      <td>9.8</td>\n",
       "      <td>4.0</td>\n",
       "      <td>1.1</td>\n",
       "      <td>1000.5</td>\n",
       "      <td>7.8</td>\n",
       "      <td>320</td>\n",
       "    </tr>\n",
       "    <tr>\n",
       "      <th>6</th>\n",
       "      <td>06-Nov-17</td>\n",
       "      <td>11.5</td>\n",
       "      <td>5.6</td>\n",
       "      <td>10.6</td>\n",
       "      <td>997.8</td>\n",
       "      <td>12.5</td>\n",
       "      <td>200</td>\n",
       "    </tr>\n",
       "    <tr>\n",
       "      <th>7</th>\n",
       "      <td>07-Nov-17</td>\n",
       "      <td>9.7</td>\n",
       "      <td>3.0</td>\n",
       "      <td>2.5</td>\n",
       "      <td>997.2</td>\n",
       "      <td>9.1</td>\n",
       "      <td>330</td>\n",
       "    </tr>\n",
       "    <tr>\n",
       "      <th>8</th>\n",
       "      <td>08-Nov-17</td>\n",
       "      <td>10.5</td>\n",
       "      <td>4.0</td>\n",
       "      <td>0.1</td>\n",
       "      <td>1005.2</td>\n",
       "      <td>5.9</td>\n",
       "      <td>300</td>\n",
       "    </tr>\n",
       "    <tr>\n",
       "      <th>9</th>\n",
       "      <td>09-Nov-17</td>\n",
       "      <td>12.2</td>\n",
       "      <td>8.7</td>\n",
       "      <td>0.8</td>\n",
       "      <td>1006.8</td>\n",
       "      <td>9.9</td>\n",
       "      <td>310</td>\n",
       "    </tr>\n",
       "    <tr>\n",
       "      <th>10</th>\n",
       "      <td>10-Nov-17</td>\n",
       "      <td>12.1</td>\n",
       "      <td>9.2</td>\n",
       "      <td>0.7</td>\n",
       "      <td>1002.6</td>\n",
       "      <td>11.8</td>\n",
       "      <td>300</td>\n",
       "    </tr>\n",
       "    <tr>\n",
       "      <th>11</th>\n",
       "      <td>11-Nov-17</td>\n",
       "      <td>14.1</td>\n",
       "      <td>7.3</td>\n",
       "      <td>4.3</td>\n",
       "      <td>995.2</td>\n",
       "      <td>13.0</td>\n",
       "      <td>280</td>\n",
       "    </tr>\n",
       "    <tr>\n",
       "      <th>12</th>\n",
       "      <td>12-Nov-17</td>\n",
       "      <td>8.6</td>\n",
       "      <td>2.6</td>\n",
       "      <td>0.0</td>\n",
       "      <td>1002.6</td>\n",
       "      <td>11.8</td>\n",
       "      <td>330</td>\n",
       "    </tr>\n",
       "    <tr>\n",
       "      <th>13</th>\n",
       "      <td>13-Nov-17</td>\n",
       "      <td>10.2</td>\n",
       "      <td>2.6</td>\n",
       "      <td>0.0</td>\n",
       "      <td>1007.2</td>\n",
       "      <td>6.6</td>\n",
       "      <td>230</td>\n",
       "    </tr>\n",
       "    <tr>\n",
       "      <th>14</th>\n",
       "      <td>14-Nov-17</td>\n",
       "      <td>13.1</td>\n",
       "      <td>9.6</td>\n",
       "      <td>0.3</td>\n",
       "      <td>1003.2</td>\n",
       "      <td>6.1</td>\n",
       "      <td>230</td>\n",
       "    </tr>\n",
       "    <tr>\n",
       "      <th>15</th>\n",
       "      <td>15-Nov-17</td>\n",
       "      <td>11.1</td>\n",
       "      <td>8.6</td>\n",
       "      <td>2.3</td>\n",
       "      <td>1002.3</td>\n",
       "      <td>5.4</td>\n",
       "      <td>200</td>\n",
       "    </tr>\n",
       "    <tr>\n",
       "      <th>16</th>\n",
       "      <td>16-Nov-17</td>\n",
       "      <td>10.6</td>\n",
       "      <td>4.3</td>\n",
       "      <td>0.2</td>\n",
       "      <td>1005.5</td>\n",
       "      <td>8.2</td>\n",
       "      <td>330</td>\n",
       "    </tr>\n",
       "    <tr>\n",
       "      <th>17</th>\n",
       "      <td>17-Nov-17</td>\n",
       "      <td>8.4</td>\n",
       "      <td>3.1</td>\n",
       "      <td>0.3</td>\n",
       "      <td>1009.3</td>\n",
       "      <td>3.5</td>\n",
       "      <td>220</td>\n",
       "    </tr>\n",
       "    <tr>\n",
       "      <th>18</th>\n",
       "      <td>18-Nov-17</td>\n",
       "      <td>13.4</td>\n",
       "      <td>7.9</td>\n",
       "      <td>1.6</td>\n",
       "      <td>1005.2</td>\n",
       "      <td>6.5</td>\n",
       "      <td>260</td>\n",
       "    </tr>\n",
       "    <tr>\n",
       "      <th>19</th>\n",
       "      <td>19-Nov-17</td>\n",
       "      <td>11.0</td>\n",
       "      <td>7.1</td>\n",
       "      <td>2.0</td>\n",
       "      <td>1000.7</td>\n",
       "      <td>8.1</td>\n",
       "      <td>210</td>\n",
       "    </tr>\n",
       "    <tr>\n",
       "      <th>20</th>\n",
       "      <td>20-Nov-17</td>\n",
       "      <td>13.4</td>\n",
       "      <td>11.0</td>\n",
       "      <td>1.7</td>\n",
       "      <td>994.5</td>\n",
       "      <td>10.9</td>\n",
       "      <td>230</td>\n",
       "    </tr>\n",
       "    <tr>\n",
       "      <th>21</th>\n",
       "      <td>21-Nov-17</td>\n",
       "      <td>13.1</td>\n",
       "      <td>10.6</td>\n",
       "      <td>14.4</td>\n",
       "      <td>985.5</td>\n",
       "      <td>9.9</td>\n",
       "      <td>220</td>\n",
       "    </tr>\n",
       "    <tr>\n",
       "      <th>22</th>\n",
       "      <td>22-Nov-17</td>\n",
       "      <td>12.9</td>\n",
       "      <td>3.0</td>\n",
       "      <td>21.6</td>\n",
       "      <td>970.5</td>\n",
       "      <td>13.5</td>\n",
       "      <td>200</td>\n",
       "    </tr>\n",
       "    <tr>\n",
       "      <th>23</th>\n",
       "      <td>23-Nov-17</td>\n",
       "      <td>9.0</td>\n",
       "      <td>1.9</td>\n",
       "      <td>0.1</td>\n",
       "      <td>977.8</td>\n",
       "      <td>9.2</td>\n",
       "      <td>240</td>\n",
       "    </tr>\n",
       "    <tr>\n",
       "      <th>24</th>\n",
       "      <td>24-Nov-17</td>\n",
       "      <td>6.4</td>\n",
       "      <td>0.9</td>\n",
       "      <td>2.1</td>\n",
       "      <td>993.0</td>\n",
       "      <td>7.6</td>\n",
       "      <td>330</td>\n",
       "    </tr>\n",
       "    <tr>\n",
       "      <th>25</th>\n",
       "      <td>25-Nov-17</td>\n",
       "      <td>5.0</td>\n",
       "      <td>0.6</td>\n",
       "      <td>0.6</td>\n",
       "      <td>1003.2</td>\n",
       "      <td>9.8</td>\n",
       "      <td>300</td>\n",
       "    </tr>\n",
       "    <tr>\n",
       "      <th>26</th>\n",
       "      <td>26-Nov-17</td>\n",
       "      <td>9.7</td>\n",
       "      <td>2.3</td>\n",
       "      <td>0.7</td>\n",
       "      <td>1004.3</td>\n",
       "      <td>10.2</td>\n",
       "      <td>240</td>\n",
       "    </tr>\n",
       "    <tr>\n",
       "      <th>27</th>\n",
       "      <td>27-Nov-17</td>\n",
       "      <td>10.2</td>\n",
       "      <td>4.3</td>\n",
       "      <td>4.0</td>\n",
       "      <td>998.0</td>\n",
       "      <td>11.8</td>\n",
       "      <td>240</td>\n",
       "    </tr>\n",
       "    <tr>\n",
       "      <th>28</th>\n",
       "      <td>28-Nov-17</td>\n",
       "      <td>6.1</td>\n",
       "      <td>1.8</td>\n",
       "      <td>0.1</td>\n",
       "      <td>997.8</td>\n",
       "      <td>11.0</td>\n",
       "      <td>340</td>\n",
       "    </tr>\n",
       "    <tr>\n",
       "      <th>29</th>\n",
       "      <td>29-Nov-17</td>\n",
       "      <td>5.2</td>\n",
       "      <td>0.8</td>\n",
       "      <td>0.0</td>\n",
       "      <td>1001.2</td>\n",
       "      <td>11.5</td>\n",
       "      <td>340</td>\n",
       "    </tr>\n",
       "    <tr>\n",
       "      <th>...</th>\n",
       "      <td>...</td>\n",
       "      <td>...</td>\n",
       "      <td>...</td>\n",
       "      <td>...</td>\n",
       "      <td>...</td>\n",
       "      <td>...</td>\n",
       "      <td>...</td>\n",
       "    </tr>\n",
       "    <tr>\n",
       "      <th>336</th>\n",
       "      <td>02-Oct-18</td>\n",
       "      <td>18.1</td>\n",
       "      <td>11.4</td>\n",
       "      <td>0.0</td>\n",
       "      <td>1006.9</td>\n",
       "      <td>10.6</td>\n",
       "      <td>300</td>\n",
       "    </tr>\n",
       "    <tr>\n",
       "      <th>337</th>\n",
       "      <td>03-Oct-18</td>\n",
       "      <td>15.5</td>\n",
       "      <td>10.4</td>\n",
       "      <td>0.2</td>\n",
       "      <td>1007.7</td>\n",
       "      <td>6.5</td>\n",
       "      <td>220</td>\n",
       "    </tr>\n",
       "    <tr>\n",
       "      <th>338</th>\n",
       "      <td>04-Oct-18</td>\n",
       "      <td>14.9</td>\n",
       "      <td>11.4</td>\n",
       "      <td>2.8</td>\n",
       "      <td>1001.5</td>\n",
       "      <td>7.7</td>\n",
       "      <td>200</td>\n",
       "    </tr>\n",
       "    <tr>\n",
       "      <th>339</th>\n",
       "      <td>05-Oct-18</td>\n",
       "      <td>11.4</td>\n",
       "      <td>6.6</td>\n",
       "      <td>0.4</td>\n",
       "      <td>996.6</td>\n",
       "      <td>10.8</td>\n",
       "      <td>330</td>\n",
       "    </tr>\n",
       "    <tr>\n",
       "      <th>340</th>\n",
       "      <td>06-Oct-18</td>\n",
       "      <td>11.9</td>\n",
       "      <td>5.0</td>\n",
       "      <td>0.0</td>\n",
       "      <td>1000.8</td>\n",
       "      <td>9.0</td>\n",
       "      <td>350</td>\n",
       "    </tr>\n",
       "    <tr>\n",
       "      <th>341</th>\n",
       "      <td>07-Oct-18</td>\n",
       "      <td>13.4</td>\n",
       "      <td>3.1</td>\n",
       "      <td>0.0</td>\n",
       "      <td>1002.3</td>\n",
       "      <td>9.5</td>\n",
       "      <td>230</td>\n",
       "    </tr>\n",
       "    <tr>\n",
       "      <th>342</th>\n",
       "      <td>08-Oct-18</td>\n",
       "      <td>13.9</td>\n",
       "      <td>11.6</td>\n",
       "      <td>0.3</td>\n",
       "      <td>996.2</td>\n",
       "      <td>15.5</td>\n",
       "      <td>210</td>\n",
       "    </tr>\n",
       "    <tr>\n",
       "      <th>343</th>\n",
       "      <td>09-Oct-18</td>\n",
       "      <td>15.2</td>\n",
       "      <td>12.0</td>\n",
       "      <td>0.0</td>\n",
       "      <td>992.2</td>\n",
       "      <td>14.6</td>\n",
       "      <td>210</td>\n",
       "    </tr>\n",
       "    <tr>\n",
       "      <th>344</th>\n",
       "      <td>10-Oct-18</td>\n",
       "      <td>16.9</td>\n",
       "      <td>12.2</td>\n",
       "      <td>0.0</td>\n",
       "      <td>983.2</td>\n",
       "      <td>16.8</td>\n",
       "      <td>140</td>\n",
       "    </tr>\n",
       "    <tr>\n",
       "      <th>345</th>\n",
       "      <td>11-Oct-18</td>\n",
       "      <td>14.1</td>\n",
       "      <td>10.1</td>\n",
       "      <td>9.7</td>\n",
       "      <td>972.3</td>\n",
       "      <td>13.8</td>\n",
       "      <td>140</td>\n",
       "    </tr>\n",
       "    <tr>\n",
       "      <th>346</th>\n",
       "      <td>12-Oct-18</td>\n",
       "      <td>13.9</td>\n",
       "      <td>10.4</td>\n",
       "      <td>18.3</td>\n",
       "      <td>972.8</td>\n",
       "      <td>13.9</td>\n",
       "      <td>150</td>\n",
       "    </tr>\n",
       "    <tr>\n",
       "      <th>347</th>\n",
       "      <td>13-Oct-18</td>\n",
       "      <td>13.2</td>\n",
       "      <td>7.8</td>\n",
       "      <td>18.4</td>\n",
       "      <td>982.3</td>\n",
       "      <td>7.9</td>\n",
       "      <td>320</td>\n",
       "    </tr>\n",
       "    <tr>\n",
       "      <th>348</th>\n",
       "      <td>14-Oct-18</td>\n",
       "      <td>12.3</td>\n",
       "      <td>5.6</td>\n",
       "      <td>0.0</td>\n",
       "      <td>990.5</td>\n",
       "      <td>4.1</td>\n",
       "      <td>300</td>\n",
       "    </tr>\n",
       "    <tr>\n",
       "      <th>349</th>\n",
       "      <td>15-Oct-18</td>\n",
       "      <td>13.3</td>\n",
       "      <td>5.2</td>\n",
       "      <td>0.0</td>\n",
       "      <td>994.0</td>\n",
       "      <td>6.0</td>\n",
       "      <td>30</td>\n",
       "    </tr>\n",
       "    <tr>\n",
       "      <th>350</th>\n",
       "      <td>16-Oct-18</td>\n",
       "      <td>15.5</td>\n",
       "      <td>7.0</td>\n",
       "      <td>1.4</td>\n",
       "      <td>993.5</td>\n",
       "      <td>8.2</td>\n",
       "      <td>200</td>\n",
       "    </tr>\n",
       "    <tr>\n",
       "      <th>351</th>\n",
       "      <td>17-Oct-18</td>\n",
       "      <td>13.1</td>\n",
       "      <td>5.8</td>\n",
       "      <td>0.4</td>\n",
       "      <td>1002.6</td>\n",
       "      <td>8.0</td>\n",
       "      <td>350</td>\n",
       "    </tr>\n",
       "    <tr>\n",
       "      <th>352</th>\n",
       "      <td>18-Oct-18</td>\n",
       "      <td>12.5</td>\n",
       "      <td>4.6</td>\n",
       "      <td>0.1</td>\n",
       "      <td>1007.9</td>\n",
       "      <td>5.3</td>\n",
       "      <td>340</td>\n",
       "    </tr>\n",
       "    <tr>\n",
       "      <th>353</th>\n",
       "      <td>19-Oct-18</td>\n",
       "      <td>13.8</td>\n",
       "      <td>8.1</td>\n",
       "      <td>0.0</td>\n",
       "      <td>1006.4</td>\n",
       "      <td>5.1</td>\n",
       "      <td>220</td>\n",
       "    </tr>\n",
       "    <tr>\n",
       "      <th>354</th>\n",
       "      <td>20-Oct-18</td>\n",
       "      <td>13.5</td>\n",
       "      <td>10.1</td>\n",
       "      <td>0.2</td>\n",
       "      <td>1009.5</td>\n",
       "      <td>6.4</td>\n",
       "      <td>210</td>\n",
       "    </tr>\n",
       "    <tr>\n",
       "      <th>355</th>\n",
       "      <td>21-Oct-18</td>\n",
       "      <td>13.2</td>\n",
       "      <td>5.8</td>\n",
       "      <td>0.6</td>\n",
       "      <td>1013.2</td>\n",
       "      <td>11.8</td>\n",
       "      <td>320</td>\n",
       "    </tr>\n",
       "    <tr>\n",
       "      <th>356</th>\n",
       "      <td>22-Oct-18</td>\n",
       "      <td>12.6</td>\n",
       "      <td>4.5</td>\n",
       "      <td>0.0</td>\n",
       "      <td>1020.9</td>\n",
       "      <td>7.3</td>\n",
       "      <td>340</td>\n",
       "    </tr>\n",
       "    <tr>\n",
       "      <th>357</th>\n",
       "      <td>23-Oct-18</td>\n",
       "      <td>15.3</td>\n",
       "      <td>6.5</td>\n",
       "      <td>0.0</td>\n",
       "      <td>1018.3</td>\n",
       "      <td>10.0</td>\n",
       "      <td>330</td>\n",
       "    </tr>\n",
       "    <tr>\n",
       "      <th>358</th>\n",
       "      <td>24-Oct-18</td>\n",
       "      <td>12.9</td>\n",
       "      <td>7.3</td>\n",
       "      <td>0.0</td>\n",
       "      <td>1013.0</td>\n",
       "      <td>13.1</td>\n",
       "      <td>330</td>\n",
       "    </tr>\n",
       "    <tr>\n",
       "      <th>359</th>\n",
       "      <td>25-Oct-18</td>\n",
       "      <td>13.1</td>\n",
       "      <td>8.3</td>\n",
       "      <td>0.0</td>\n",
       "      <td>1005.5</td>\n",
       "      <td>9.2</td>\n",
       "      <td>330</td>\n",
       "    </tr>\n",
       "    <tr>\n",
       "      <th>360</th>\n",
       "      <td>26-Oct-18</td>\n",
       "      <td>9.2</td>\n",
       "      <td>4.0</td>\n",
       "      <td>0.3</td>\n",
       "      <td>1002.3</td>\n",
       "      <td>13.5</td>\n",
       "      <td>330</td>\n",
       "    </tr>\n",
       "    <tr>\n",
       "      <th>361</th>\n",
       "      <td>27-Oct-18</td>\n",
       "      <td>6.9</td>\n",
       "      <td>1.2</td>\n",
       "      <td>0.1</td>\n",
       "      <td>1004.9</td>\n",
       "      <td>12.5</td>\n",
       "      <td>360</td>\n",
       "    </tr>\n",
       "    <tr>\n",
       "      <th>362</th>\n",
       "      <td>28-Oct-18</td>\n",
       "      <td>8.7</td>\n",
       "      <td>0.3</td>\n",
       "      <td>0.0</td>\n",
       "      <td>1003.1</td>\n",
       "      <td>9.0</td>\n",
       "      <td>330</td>\n",
       "    </tr>\n",
       "    <tr>\n",
       "      <th>363</th>\n",
       "      <td>29-Oct-18</td>\n",
       "      <td>8.4</td>\n",
       "      <td>2.6</td>\n",
       "      <td>2.0</td>\n",
       "      <td>989.4</td>\n",
       "      <td>8.3</td>\n",
       "      <td>140</td>\n",
       "    </tr>\n",
       "    <tr>\n",
       "      <th>364</th>\n",
       "      <td>30-Oct-18</td>\n",
       "      <td>10.1</td>\n",
       "      <td>4.0</td>\n",
       "      <td>6.0</td>\n",
       "      <td>979.9</td>\n",
       "      <td>4.6</td>\n",
       "      <td>160</td>\n",
       "    </tr>\n",
       "    <tr>\n",
       "      <th>365</th>\n",
       "      <td>31-Oct-18</td>\n",
       "      <td>11.2</td>\n",
       "      <td>3.7</td>\n",
       "      <td>0.4</td>\n",
       "      <td>983.0</td>\n",
       "      <td>4.5</td>\n",
       "      <td>220</td>\n",
       "    </tr>\n",
       "  </tbody>\n",
       "</table>\n",
       "<p>366 rows × 7 columns</p>\n",
       "</div>"
      ],
      "text/plain": [
       "          Date  MaxTemp  MinTemp  Rain mm  Pressure cbl Hpa  WindSpeed Knots  \\\n",
       "0    31-Oct-17     12.3     10.0      0.0            1003.7              9.2   \n",
       "1    01-Nov-17     12.6      7.8      0.0             998.5              3.8   \n",
       "2    02-Nov-17     12.8      7.8      0.2             997.4              4.1   \n",
       "3    03-Nov-17     10.0      7.3      0.0             992.5              3.1   \n",
       "4    04-Nov-17      9.4      3.4      2.4             991.3             10.2   \n",
       "5    05-Nov-17      9.8      4.0      1.1            1000.5              7.8   \n",
       "6    06-Nov-17     11.5      5.6     10.6             997.8             12.5   \n",
       "7    07-Nov-17      9.7      3.0      2.5             997.2              9.1   \n",
       "8    08-Nov-17     10.5      4.0      0.1            1005.2              5.9   \n",
       "9    09-Nov-17     12.2      8.7      0.8            1006.8              9.9   \n",
       "10   10-Nov-17     12.1      9.2      0.7            1002.6             11.8   \n",
       "11   11-Nov-17     14.1      7.3      4.3             995.2             13.0   \n",
       "12   12-Nov-17      8.6      2.6      0.0            1002.6             11.8   \n",
       "13   13-Nov-17     10.2      2.6      0.0            1007.2              6.6   \n",
       "14   14-Nov-17     13.1      9.6      0.3            1003.2              6.1   \n",
       "15   15-Nov-17     11.1      8.6      2.3            1002.3              5.4   \n",
       "16   16-Nov-17     10.6      4.3      0.2            1005.5              8.2   \n",
       "17   17-Nov-17      8.4      3.1      0.3            1009.3              3.5   \n",
       "18   18-Nov-17     13.4      7.9      1.6            1005.2              6.5   \n",
       "19   19-Nov-17     11.0      7.1      2.0            1000.7              8.1   \n",
       "20   20-Nov-17     13.4     11.0      1.7             994.5             10.9   \n",
       "21   21-Nov-17     13.1     10.6     14.4             985.5              9.9   \n",
       "22   22-Nov-17     12.9      3.0     21.6             970.5             13.5   \n",
       "23   23-Nov-17      9.0      1.9      0.1             977.8              9.2   \n",
       "24   24-Nov-17      6.4      0.9      2.1             993.0              7.6   \n",
       "25   25-Nov-17      5.0      0.6      0.6            1003.2              9.8   \n",
       "26   26-Nov-17      9.7      2.3      0.7            1004.3             10.2   \n",
       "27   27-Nov-17     10.2      4.3      4.0             998.0             11.8   \n",
       "28   28-Nov-17      6.1      1.8      0.1             997.8             11.0   \n",
       "29   29-Nov-17      5.2      0.8      0.0            1001.2             11.5   \n",
       "..         ...      ...      ...      ...               ...              ...   \n",
       "336  02-Oct-18     18.1     11.4      0.0            1006.9             10.6   \n",
       "337  03-Oct-18     15.5     10.4      0.2            1007.7              6.5   \n",
       "338  04-Oct-18     14.9     11.4      2.8            1001.5              7.7   \n",
       "339  05-Oct-18     11.4      6.6      0.4             996.6             10.8   \n",
       "340  06-Oct-18     11.9      5.0      0.0            1000.8              9.0   \n",
       "341  07-Oct-18     13.4      3.1      0.0            1002.3              9.5   \n",
       "342  08-Oct-18     13.9     11.6      0.3             996.2             15.5   \n",
       "343  09-Oct-18     15.2     12.0      0.0             992.2             14.6   \n",
       "344  10-Oct-18     16.9     12.2      0.0             983.2             16.8   \n",
       "345  11-Oct-18     14.1     10.1      9.7             972.3             13.8   \n",
       "346  12-Oct-18     13.9     10.4     18.3             972.8             13.9   \n",
       "347  13-Oct-18     13.2      7.8     18.4             982.3              7.9   \n",
       "348  14-Oct-18     12.3      5.6      0.0             990.5              4.1   \n",
       "349  15-Oct-18     13.3      5.2      0.0             994.0              6.0   \n",
       "350  16-Oct-18     15.5      7.0      1.4             993.5              8.2   \n",
       "351  17-Oct-18     13.1      5.8      0.4            1002.6              8.0   \n",
       "352  18-Oct-18     12.5      4.6      0.1            1007.9              5.3   \n",
       "353  19-Oct-18     13.8      8.1      0.0            1006.4              5.1   \n",
       "354  20-Oct-18     13.5     10.1      0.2            1009.5              6.4   \n",
       "355  21-Oct-18     13.2      5.8      0.6            1013.2             11.8   \n",
       "356  22-Oct-18     12.6      4.5      0.0            1020.9              7.3   \n",
       "357  23-Oct-18     15.3      6.5      0.0            1018.3             10.0   \n",
       "358  24-Oct-18     12.9      7.3      0.0            1013.0             13.1   \n",
       "359  25-Oct-18     13.1      8.3      0.0            1005.5              9.2   \n",
       "360  26-Oct-18      9.2      4.0      0.3            1002.3             13.5   \n",
       "361  27-Oct-18      6.9      1.2      0.1            1004.9             12.5   \n",
       "362  28-Oct-18      8.7      0.3      0.0            1003.1              9.0   \n",
       "363  29-Oct-18      8.4      2.6      2.0             989.4              8.3   \n",
       "364  30-Oct-18     10.1      4.0      6.0             979.9              4.6   \n",
       "365  31-Oct-18     11.2      3.7      0.4             983.0              4.5   \n",
       "\n",
       "     Wind Direction deg  \n",
       "0                   220  \n",
       "1                   180  \n",
       "2                   340  \n",
       "3                   260  \n",
       "4                   300  \n",
       "5                   320  \n",
       "6                   200  \n",
       "7                   330  \n",
       "8                   300  \n",
       "9                   310  \n",
       "10                  300  \n",
       "11                  280  \n",
       "12                  330  \n",
       "13                  230  \n",
       "14                  230  \n",
       "15                  200  \n",
       "16                  330  \n",
       "17                  220  \n",
       "18                  260  \n",
       "19                  210  \n",
       "20                  230  \n",
       "21                  220  \n",
       "22                  200  \n",
       "23                  240  \n",
       "24                  330  \n",
       "25                  300  \n",
       "26                  240  \n",
       "27                  240  \n",
       "28                  340  \n",
       "29                  340  \n",
       "..                  ...  \n",
       "336                 300  \n",
       "337                 220  \n",
       "338                 200  \n",
       "339                 330  \n",
       "340                 350  \n",
       "341                 230  \n",
       "342                 210  \n",
       "343                 210  \n",
       "344                 140  \n",
       "345                 140  \n",
       "346                 150  \n",
       "347                 320  \n",
       "348                 300  \n",
       "349                  30  \n",
       "350                 200  \n",
       "351                 350  \n",
       "352                 340  \n",
       "353                 220  \n",
       "354                 210  \n",
       "355                 320  \n",
       "356                 340  \n",
       "357                 330  \n",
       "358                 330  \n",
       "359                 330  \n",
       "360                 330  \n",
       "361                 360  \n",
       "362                 330  \n",
       "363                 140  \n",
       "364                 160  \n",
       "365                 220  \n",
       "\n",
       "[366 rows x 7 columns]"
      ]
     },
     "execution_count": 82,
     "metadata": {},
     "output_type": "execute_result"
    }
   ],
   "source": [
    "CorkAirportData"
   ]
  },
  {
   "cell_type": "markdown",
   "metadata": {},
   "source": [
    "** Summary Descriptive Statistics for the Data Frame**\n",
    "\n",
    "To generate random data to match the characteristics of the cork airport weather data I first need to determine the descriptive statistics for the data set. To generate a randm data set that closely aligns to the cork airport data set I am going to calculate the following statistical parameters.\n",
    "\n",
    "- Mean\n",
    "- Standard Deviation (std)\n",
    "- Skewness\n",
    "- Kurtosis"
   ]
  },
  {
   "cell_type": "code",
   "execution_count": 83,
   "metadata": {},
   "outputs": [
    {
     "data": {
      "text/plain": [
       "MaxTemp                13.301366\n",
       "MinTemp                 6.671858\n",
       "Rain mm                 2.960929\n",
       "Pressure cbl Hpa      995.120765\n",
       "WindSpeed Knots         9.370219\n",
       "Wind Direction deg    228.415301\n",
       "dtype: float64"
      ]
     },
     "execution_count": 83,
     "metadata": {},
     "output_type": "execute_result"
    }
   ],
   "source": [
    "\"Mean Data\"\n",
    "CorkAirportData.mean()"
   ]
  },
  {
   "cell_type": "code",
   "execution_count": 84,
   "metadata": {},
   "outputs": [
    {
     "data": {
      "text/plain": [
       "MaxTemp                5.517347\n",
       "MinTemp                4.669434\n",
       "Rain mm                5.256508\n",
       "Pressure cbl Hpa      11.382705\n",
       "WindSpeed Knots        3.611673\n",
       "Wind Direction deg    89.321351\n",
       "dtype: float64"
      ]
     },
     "execution_count": 84,
     "metadata": {},
     "output_type": "execute_result"
    }
   ],
   "source": [
    "CorkAirportData.std()"
   ]
  },
  {
   "cell_type": "code",
   "execution_count": 85,
   "metadata": {},
   "outputs": [
    {
     "data": {
      "text/plain": [
       "MaxTemp               0.175570\n",
       "MinTemp              -0.028819\n",
       "Rain mm               2.597616\n",
       "Pressure cbl Hpa     -0.594056\n",
       "WindSpeed Knots       0.694846\n",
       "Wind Direction deg   -0.609418\n",
       "dtype: float64"
      ]
     },
     "execution_count": 85,
     "metadata": {},
     "output_type": "execute_result"
    }
   ],
   "source": [
    "CorkAirportData.skew()"
   ]
  },
  {
   "cell_type": "code",
   "execution_count": 86,
   "metadata": {},
   "outputs": [
    {
     "data": {
      "text/plain": [
       "MaxTemp              -0.538643\n",
       "MinTemp              -0.809285\n",
       "Rain mm               7.324231\n",
       "Pressure cbl Hpa      0.033814\n",
       "WindSpeed Knots       0.133744\n",
       "Wind Direction deg   -0.338251\n",
       "dtype: float64"
      ]
     },
     "execution_count": 86,
     "metadata": {},
     "output_type": "execute_result"
    }
   ],
   "source": [
    "CorkAirportData.kurtosis()"
   ]
  },
  {
   "cell_type": "code",
   "execution_count": 87,
   "metadata": {},
   "outputs": [
    {
     "data": {
      "text/plain": [
       "Date                  01-Apr-18\n",
       "MaxTemp                    -1.8\n",
       "MinTemp                      -7\n",
       "Rain mm                       0\n",
       "Pressure cbl Hpa          963.3\n",
       "WindSpeed Knots             2.8\n",
       "Wind Direction deg            0\n",
       "dtype: object"
      ]
     },
     "execution_count": 87,
     "metadata": {},
     "output_type": "execute_result"
    }
   ],
   "source": [
    "CorkAirportData.min()"
   ]
  },
  {
   "cell_type": "code",
   "execution_count": 88,
   "metadata": {},
   "outputs": [
    {
     "data": {
      "text/plain": [
       "Date                  31-Oct-18\n",
       "MaxTemp                    26.7\n",
       "MinTemp                    16.5\n",
       "Rain mm                      31\n",
       "Pressure cbl Hpa         1020.9\n",
       "WindSpeed Knots            23.8\n",
       "Wind Direction deg          360\n",
       "dtype: object"
      ]
     },
     "execution_count": 88,
     "metadata": {},
     "output_type": "execute_result"
    }
   ],
   "source": [
    "CorkAirportData.max()"
   ]
  },
  {
   "cell_type": "code",
   "execution_count": 89,
   "metadata": {},
   "outputs": [
    {
     "data": {
      "text/plain": [
       "MaxTemp                12.60\n",
       "MinTemp                 6.75\n",
       "Rain mm                 0.40\n",
       "Pressure cbl Hpa      996.85\n",
       "WindSpeed Knots         8.90\n",
       "Wind Direction deg    230.00\n",
       "dtype: float64"
      ]
     },
     "execution_count": 89,
     "metadata": {},
     "output_type": "execute_result"
    }
   ],
   "source": [
    "CorkAirportData.median()"
   ]
  },
  {
   "cell_type": "markdown",
   "metadata": {},
   "source": [
    "** Defining Each Column Within the Cork Airport Data Frame**\n",
    "\n",
    "To compare the data and graphs of the Cork airport data and the randomly generated data I will define each column within the data frame so it can be graphed. I will use the iloc function to define each column of data so they can be plotted on as subplots on bar chart graphs."
   ]
  },
  {
   "cell_type": "code",
   "execution_count": 90,
   "metadata": {},
   "outputs": [
    {
     "data": {
      "text/plain": [
       "Text(0,0.5,'Temperature')"
      ]
     },
     "execution_count": 90,
     "metadata": {},
     "output_type": "execute_result"
    }
   ],
   "source": [
    "plt.subplot(2,3,1)\n",
    "MaxTemp=CorkAirportData.iloc[0:365,1]\n",
    "plt.hist(MaxTemp)\n",
    "plt.title(\"MaxTemp\")\n",
    "plt.xlabel(\"Qty\")\n",
    "plt.ylabel(\"Temperature\")"
   ]
  },
  {
   "cell_type": "code",
   "execution_count": 91,
   "metadata": {},
   "outputs": [
    {
     "data": {
      "text/plain": [
       "Text(0,0.5,'Temperature')"
      ]
     },
     "execution_count": 91,
     "metadata": {},
     "output_type": "execute_result"
    }
   ],
   "source": [
    "plt.subplot(2,3,2)\n",
    "MinTemp=CorkAirportData.iloc[0:365,2]\n",
    "plt.hist(MinTemp)\n",
    "plt.title(\"MinTemp\")\n",
    "plt.xlabel(\"Qty\")\n",
    "plt.ylabel(\"Temperature\")"
   ]
  },
  {
   "cell_type": "code",
   "execution_count": 92,
   "metadata": {},
   "outputs": [
    {
     "data": {
      "text/plain": [
       "Text(0,0.5,'Volume')"
      ]
     },
     "execution_count": 92,
     "metadata": {},
     "output_type": "execute_result"
    }
   ],
   "source": [
    "plt.subplot(2,3,3)\n",
    "Rain=CorkAirportData.iloc[0:365,3]\n",
    "plt.hist(Rain)\n",
    "plt.title(\"Percipitation (mm)\")\n",
    "plt.xlabel(\"Qty\")\n",
    "plt.ylabel(\"Volume\")"
   ]
  },
  {
   "cell_type": "code",
   "execution_count": 93,
   "metadata": {},
   "outputs": [
    {
     "data": {
      "text/plain": [
       "Text(0,0.5,'Pressure')"
      ]
     },
     "execution_count": 93,
     "metadata": {},
     "output_type": "execute_result"
    }
   ],
   "source": [
    "plt.subplot(2,3,4)\n",
    "Pressure=CorkAirportData.iloc[0:365,4]\n",
    "plt.hist(Pressure)\n",
    "plt.title(\"Pressure (Hpa)\")\n",
    "plt.xlabel(\"Qty\")\n",
    "plt.ylabel(\"Pressure\")"
   ]
  },
  {
   "cell_type": "code",
   "execution_count": 94,
   "metadata": {},
   "outputs": [
    {
     "data": {
      "text/plain": [
       "Text(0,0.5,'Speed Knots')"
      ]
     },
     "execution_count": 94,
     "metadata": {},
     "output_type": "execute_result"
    }
   ],
   "source": [
    "plt.subplot(2,3,5)\n",
    "WindSpeed=CorkAirportData.iloc[0:365,5]\n",
    "plt.hist(WindSpeed)\n",
    "plt.title(\"Wind Speed (knots)\")\n",
    "plt.xlabel(\"Qty\")\n",
    "plt.ylabel(\"Speed Knots\")"
   ]
  },
  {
   "cell_type": "code",
   "execution_count": 95,
   "metadata": {},
   "outputs": [
    {
     "data": {
      "text/plain": [
       "Text(0,0.5,'Wind Direction (deg)')"
      ]
     },
     "execution_count": 95,
     "metadata": {},
     "output_type": "execute_result"
    }
   ],
   "source": [
    "plt.subplot(2,3,6)\n",
    "WindDirection=CorkAirportData.iloc[0:365,6]\n",
    "plt.hist(WindDirection)\n",
    "plt.title(\"Wind Direction (deg)\")\n",
    "plt.xlabel(\"Qty\")\n",
    "plt.ylabel(\"Wind Direction (deg)\")"
   ]
  },
  {
   "cell_type": "code",
   "execution_count": 96,
   "metadata": {},
   "outputs": [
    {
     "data": {
      "image/png": "[encoded data removed]",
      "text/plain": [
       "<matplotlib.figure.Figure at 0x211ba68d048>"
      ]
     },
     "metadata": {},
     "output_type": "display_data"
    }
   ],
   "source": [
    "plt.show()"
   ]
  },
  {
   "cell_type": "markdown",
   "metadata": {
    "collapsed": true
   },
   "source": [
    "** Generatation of Random Data to Simulation the Cork Airport Weather Data**\n",
    "\n",
    "To analyse the data and to determine if there is any dependancies between the variables and rainfall, random data will be generated who's distributions approximate the real world weather data from Cork Airport. Below we detail the distributions assigned to each of the weather variables selected and a brief justification for selecting the specific distribution for each variable.\n",
    "    \n",
    "       Weather Variable         Designation        Selected Distribution\n",
    "     - Max Temperature          RandMaxTemp        Normal Distribution\n",
    "     - Min Temperature          RandMinTemp        Normal Distribution\n",
    "     - Percipitation            RandRain           Gamma Distribution\n",
    "     - Pressure                 RandPressure       Gumbel Distribution\n",
    "     - Wind Speed               RandWindSpeed      Gumbel Distribution\n",
    "     - Wind Direction           RandWindDir        Gumbel Distribtion\n",
    "     \n",
    "As the original data visually illustrated the Max and Min temperatures displayed an approximation to the normal distribution the random data for Max and Min temperatures will be generated following the normal distribution.\n",
    "\n",
    "On review of literature it was discovered a number of distributions can be used to model percipitation amounts. As the original data set was right skewed the Gamma distribution was selected to model the random data for percipitation (Rain Fall)\n",
    "\n",
    "All other variables display extreme values and for this reason the Gumbel distributions were selected for them.\n",
    "     "
   ]
  },
  {
   "cell_type": "markdown",
   "metadata": {},
   "source": [
    "**RandMaxTemp**"
   ]
  },
  {
   "cell_type": "code",
   "execution_count": 97,
   "metadata": {},
   "outputs": [
    {
     "data": {
      "text/plain": [
       "Text(0,0.5,'Temperature')"
      ]
     },
     "execution_count": 97,
     "metadata": {},
     "output_type": "execute_result"
    }
   ],
   "source": [
    "RandMaxTemp=np.random.normal(13.301366,5.517347,365)\n",
    "plt.subplot(2,3,1)\n",
    "plt.hist(RandMaxTemp)\n",
    "plt.title(\"Daily Max Temperature\")\n",
    "plt.xlabel(\"Qty\")\n",
    "plt.ylabel(\"Temperature\")"
   ]
  },
  {
   "cell_type": "markdown",
   "metadata": {},
   "source": [
    "**RandMinTemp**"
   ]
  },
  {
   "cell_type": "code",
   "execution_count": 98,
   "metadata": {},
   "outputs": [
    {
     "data": {
      "text/plain": [
       "Text(0,0.5,'Temperature')"
      ]
     },
     "execution_count": 98,
     "metadata": {},
     "output_type": "execute_result"
    }
   ],
   "source": [
    "RandMinTemp=np.random.normal(6.671858,4.669434,365)\n",
    "plt.subplot(2,3,2)\n",
    "plt.hist(RandMinTemp)\n",
    "plt.title(\"Daily Min Temperature\")\n",
    "plt.xlabel(\"Qty\")\n",
    "plt.ylabel(\"Temperature\")"
   ]
  },
  {
   "cell_type": "markdown",
   "metadata": {},
   "source": [
    "**RandRain**"
   ]
  },
  {
   "cell_type": "code",
   "execution_count": 99,
   "metadata": {},
   "outputs": [
    {
     "data": {
      "text/plain": [
       "Text(0,0.5,'Rain mm')"
      ]
     },
     "execution_count": 99,
     "metadata": {},
     "output_type": "execute_result"
    }
   ],
   "source": [
    "RandRain = np.random.gamma(0.4, 5.256508, 365)\n",
    "plt.subplot(2,3,3)\n",
    "plt.hist(RandRain)\n",
    "plt.title(\"Daily Rain Fall\")\n",
    "plt.xlabel(\"Amount\")\n",
    "plt.ylabel(\"Rain mm\")"
   ]
  },
  {
   "cell_type": "markdown",
   "metadata": {},
   "source": [
    "**RandPressure**"
   ]
  },
  {
   "cell_type": "code",
   "execution_count": 100,
   "metadata": {},
   "outputs": [
    {
     "data": {
      "text/plain": [
       "Text(0,0.5,'Pressure Frequency Hpa')"
      ]
     },
     "execution_count": 100,
     "metadata": {},
     "output_type": "execute_result"
    }
   ],
   "source": [
    "RandPressure = np.random.gumbel(996.85, 11.382705, 365)\n",
    "plt.subplot(2,3,4)\n",
    "plt.hist(RandPressure)\n",
    "plt.title(\"Daily Pressure\")\n",
    "plt.xlabel(\"Pressure\")\n",
    "plt.ylabel(\"Pressure Frequency Hpa\")"
   ]
  },
  {
   "cell_type": "markdown",
   "metadata": {},
   "source": [
    "**RandWindSpeed**"
   ]
  },
  {
   "cell_type": "code",
   "execution_count": 101,
   "metadata": {},
   "outputs": [
    {
     "data": {
      "text/plain": [
       "Text(0,0.5,'Wind Speed Frequency Knots')"
      ]
     },
     "execution_count": 101,
     "metadata": {},
     "output_type": "execute_result"
    }
   ],
   "source": [
    "RandWindSpeed = np.random.gumbel(8.9, 3.611673, 365)\n",
    "plt.subplot(2,3,5)\n",
    "plt.hist(RandWindSpeed)\n",
    "plt.title(\"Daily Wind Speed\")\n",
    "plt.xlabel(\"Wind Speed\")\n",
    "plt.ylabel(\"Wind Speed Frequency Knots\")"
   ]
  },
  {
   "cell_type": "markdown",
   "metadata": {},
   "source": [
    "**RandWindDir**"
   ]
  },
  {
   "cell_type": "code",
   "execution_count": 102,
   "metadata": {},
   "outputs": [
    {
     "data": {
      "text/plain": [
       "Text(0,0.5,'Wind Direction Degs')"
      ]
     },
     "execution_count": 102,
     "metadata": {},
     "output_type": "execute_result"
    }
   ],
   "source": [
    "RandWindDir = np.random.gumbel(230, 89.321351, 365)\n",
    "plt.subplot(2,3,6)\n",
    "plt.hist(RandWindDir)\n",
    "plt.title(\"Daily Wind Direction\")\n",
    "plt.xlabel(\"Wind Direction\")\n",
    "plt.ylabel(\"Wind Direction Degs\")"
   ]
  },
  {
   "cell_type": "code",
   "execution_count": 103,
   "metadata": {},
   "outputs": [
    {
     "data": {
      "image/png": "[encoded data removed]",
      "text/plain": [
       "<matplotlib.figure.Figure at 0x211ba7747f0>"
      ]
     },
     "metadata": {},
     "output_type": "display_data"
    }
   ],
   "source": [
    "plt.show()"
   ]
  },
  {
   "cell_type": "code",
   "execution_count": 104,
   "metadata": {
    "collapsed": true
   },
   "outputs": [],
   "source": [
    "## Including a range of integers for use in the scatter plots for an \"X\" value\n",
    "DayNumber = range(1,366)"
   ]
  },
  {
   "cell_type": "markdown",
   "metadata": {},
   "source": [
    "**Random Data, Data Frame Creation**\n",
    "\n",
    "Now that we have created random data to simulate the real world weather data from Cork airport, we will create a data from to store our results.\n",
    "\n",
    "I will define and name the data frame RanWeatherData to differenciate from the original data set from Cork airport."
   ]
  },
  {
   "cell_type": "code",
   "execution_count": 105,
   "metadata": {
    "collapsed": true
   },
   "outputs": [],
   "source": [
    "RanWeatherData = pd.DataFrame({\"Day Number\": DayNumber,\"Random Max Temp\":RandMaxTemp, \"Random Min Temp\": RandMinTemp, \"Random Rain\": RandRain, \"Random Pressure\": RandPressure, \"Random Wind Speed\": RandWindSpeed, \"Random Wind Direction\": RandWindDir})"
   ]
  },
  {
   "cell_type": "code",
   "execution_count": 106,
   "metadata": {},
   "outputs": [
    {
     "data": {
      "text/html": [
       "<div>\n",
       "<style>\n",
       "    .dataframe thead tr:only-child th {\n",
       "        text-align: right;\n",
       "    }\n",
       "\n",
       "    .dataframe thead th {\n",
       "        text-align: left;\n",
       "    }\n",
       "\n",
       "    .dataframe tbody tr th {\n",
       "        vertical-align: top;\n",
       "    }\n",
       "</style>\n",
       "<table border=\"1\" class=\"dataframe\">\n",
       "  <thead>\n",
       "    <tr style=\"text-align: right;\">\n",
       "      <th></th>\n",
       "      <th>Day Number</th>\n",
       "      <th>Random Max Temp</th>\n",
       "      <th>Random Min Temp</th>\n",
       "      <th>Random Pressure</th>\n",
       "      <th>Random Rain</th>\n",
       "      <th>Random Wind Direction</th>\n",
       "      <th>Random Wind Speed</th>\n",
       "    </tr>\n",
       "  </thead>\n",
       "  <tbody>\n",
       "    <tr>\n",
       "      <th>0</th>\n",
       "      <td>1</td>\n",
       "      <td>17.975778</td>\n",
       "      <td>0.397632</td>\n",
       "      <td>1002.640627</td>\n",
       "      <td>0.369396</td>\n",
       "      <td>149.363663</td>\n",
       "      <td>8.301087</td>\n",
       "    </tr>\n",
       "    <tr>\n",
       "      <th>1</th>\n",
       "      <td>2</td>\n",
       "      <td>14.232412</td>\n",
       "      <td>6.486686</td>\n",
       "      <td>989.913224</td>\n",
       "      <td>0.584717</td>\n",
       "      <td>581.700805</td>\n",
       "      <td>5.743892</td>\n",
       "    </tr>\n",
       "    <tr>\n",
       "      <th>2</th>\n",
       "      <td>3</td>\n",
       "      <td>18.704578</td>\n",
       "      <td>8.204304</td>\n",
       "      <td>1005.902317</td>\n",
       "      <td>2.112722</td>\n",
       "      <td>423.001286</td>\n",
       "      <td>5.975953</td>\n",
       "    </tr>\n",
       "    <tr>\n",
       "      <th>3</th>\n",
       "      <td>4</td>\n",
       "      <td>18.967325</td>\n",
       "      <td>6.617632</td>\n",
       "      <td>1010.906793</td>\n",
       "      <td>0.468551</td>\n",
       "      <td>172.804679</td>\n",
       "      <td>22.118091</td>\n",
       "    </tr>\n",
       "    <tr>\n",
       "      <th>4</th>\n",
       "      <td>5</td>\n",
       "      <td>16.262802</td>\n",
       "      <td>6.014919</td>\n",
       "      <td>997.484816</td>\n",
       "      <td>11.508790</td>\n",
       "      <td>313.213154</td>\n",
       "      <td>5.614479</td>\n",
       "    </tr>\n",
       "    <tr>\n",
       "      <th>5</th>\n",
       "      <td>6</td>\n",
       "      <td>11.635953</td>\n",
       "      <td>3.304826</td>\n",
       "      <td>1006.210801</td>\n",
       "      <td>4.072095</td>\n",
       "      <td>257.316229</td>\n",
       "      <td>4.837762</td>\n",
       "    </tr>\n",
       "    <tr>\n",
       "      <th>6</th>\n",
       "      <td>7</td>\n",
       "      <td>22.803874</td>\n",
       "      <td>2.039253</td>\n",
       "      <td>1012.715914</td>\n",
       "      <td>7.220116</td>\n",
       "      <td>317.531904</td>\n",
       "      <td>10.886260</td>\n",
       "    </tr>\n",
       "    <tr>\n",
       "      <th>7</th>\n",
       "      <td>8</td>\n",
       "      <td>13.081555</td>\n",
       "      <td>-0.107058</td>\n",
       "      <td>992.604123</td>\n",
       "      <td>0.001424</td>\n",
       "      <td>92.824898</td>\n",
       "      <td>17.807894</td>\n",
       "    </tr>\n",
       "    <tr>\n",
       "      <th>8</th>\n",
       "      <td>9</td>\n",
       "      <td>14.308154</td>\n",
       "      <td>6.184073</td>\n",
       "      <td>993.545900</td>\n",
       "      <td>6.485894</td>\n",
       "      <td>176.006772</td>\n",
       "      <td>8.652424</td>\n",
       "    </tr>\n",
       "    <tr>\n",
       "      <th>9</th>\n",
       "      <td>10</td>\n",
       "      <td>20.913829</td>\n",
       "      <td>-7.703611</td>\n",
       "      <td>1006.595613</td>\n",
       "      <td>3.615752</td>\n",
       "      <td>388.849854</td>\n",
       "      <td>12.019254</td>\n",
       "    </tr>\n",
       "    <tr>\n",
       "      <th>10</th>\n",
       "      <td>11</td>\n",
       "      <td>12.356183</td>\n",
       "      <td>9.198456</td>\n",
       "      <td>988.803692</td>\n",
       "      <td>0.677302</td>\n",
       "      <td>351.289836</td>\n",
       "      <td>13.823520</td>\n",
       "    </tr>\n",
       "    <tr>\n",
       "      <th>11</th>\n",
       "      <td>12</td>\n",
       "      <td>14.041266</td>\n",
       "      <td>17.412702</td>\n",
       "      <td>1023.496139</td>\n",
       "      <td>0.198269</td>\n",
       "      <td>159.726863</td>\n",
       "      <td>11.395121</td>\n",
       "    </tr>\n",
       "    <tr>\n",
       "      <th>12</th>\n",
       "      <td>13</td>\n",
       "      <td>14.789906</td>\n",
       "      <td>11.394618</td>\n",
       "      <td>1025.230123</td>\n",
       "      <td>0.938305</td>\n",
       "      <td>181.868986</td>\n",
       "      <td>3.165676</td>\n",
       "    </tr>\n",
       "    <tr>\n",
       "      <th>13</th>\n",
       "      <td>14</td>\n",
       "      <td>12.507890</td>\n",
       "      <td>11.346147</td>\n",
       "      <td>994.029079</td>\n",
       "      <td>2.406437</td>\n",
       "      <td>200.303334</td>\n",
       "      <td>15.885857</td>\n",
       "    </tr>\n",
       "    <tr>\n",
       "      <th>14</th>\n",
       "      <td>15</td>\n",
       "      <td>14.298047</td>\n",
       "      <td>1.380829</td>\n",
       "      <td>1013.200653</td>\n",
       "      <td>24.306687</td>\n",
       "      <td>359.074012</td>\n",
       "      <td>6.199799</td>\n",
       "    </tr>\n",
       "    <tr>\n",
       "      <th>15</th>\n",
       "      <td>16</td>\n",
       "      <td>24.559291</td>\n",
       "      <td>6.694602</td>\n",
       "      <td>1015.614174</td>\n",
       "      <td>3.384716</td>\n",
       "      <td>558.162090</td>\n",
       "      <td>8.951398</td>\n",
       "    </tr>\n",
       "    <tr>\n",
       "      <th>16</th>\n",
       "      <td>17</td>\n",
       "      <td>14.453196</td>\n",
       "      <td>1.394469</td>\n",
       "      <td>988.339338</td>\n",
       "      <td>6.489328</td>\n",
       "      <td>408.957265</td>\n",
       "      <td>12.702859</td>\n",
       "    </tr>\n",
       "    <tr>\n",
       "      <th>17</th>\n",
       "      <td>18</td>\n",
       "      <td>13.619291</td>\n",
       "      <td>4.369990</td>\n",
       "      <td>993.013260</td>\n",
       "      <td>0.996193</td>\n",
       "      <td>314.031879</td>\n",
       "      <td>12.715017</td>\n",
       "    </tr>\n",
       "    <tr>\n",
       "      <th>18</th>\n",
       "      <td>19</td>\n",
       "      <td>16.065041</td>\n",
       "      <td>9.954374</td>\n",
       "      <td>990.258454</td>\n",
       "      <td>0.707127</td>\n",
       "      <td>181.423910</td>\n",
       "      <td>11.924201</td>\n",
       "    </tr>\n",
       "    <tr>\n",
       "      <th>19</th>\n",
       "      <td>20</td>\n",
       "      <td>17.119468</td>\n",
       "      <td>11.538648</td>\n",
       "      <td>985.060048</td>\n",
       "      <td>0.065297</td>\n",
       "      <td>367.994539</td>\n",
       "      <td>10.227944</td>\n",
       "    </tr>\n",
       "    <tr>\n",
       "      <th>20</th>\n",
       "      <td>21</td>\n",
       "      <td>17.943766</td>\n",
       "      <td>7.035739</td>\n",
       "      <td>1007.923159</td>\n",
       "      <td>0.036737</td>\n",
       "      <td>404.964190</td>\n",
       "      <td>13.309105</td>\n",
       "    </tr>\n",
       "    <tr>\n",
       "      <th>21</th>\n",
       "      <td>22</td>\n",
       "      <td>11.424650</td>\n",
       "      <td>4.479164</td>\n",
       "      <td>1011.719748</td>\n",
       "      <td>2.626155</td>\n",
       "      <td>287.070199</td>\n",
       "      <td>14.512021</td>\n",
       "    </tr>\n",
       "    <tr>\n",
       "      <th>22</th>\n",
       "      <td>23</td>\n",
       "      <td>8.403137</td>\n",
       "      <td>7.466713</td>\n",
       "      <td>1028.066928</td>\n",
       "      <td>0.000399</td>\n",
       "      <td>229.169159</td>\n",
       "      <td>8.008789</td>\n",
       "    </tr>\n",
       "    <tr>\n",
       "      <th>23</th>\n",
       "      <td>24</td>\n",
       "      <td>8.466834</td>\n",
       "      <td>10.490277</td>\n",
       "      <td>1016.823978</td>\n",
       "      <td>1.049261</td>\n",
       "      <td>217.532250</td>\n",
       "      <td>11.163077</td>\n",
       "    </tr>\n",
       "    <tr>\n",
       "      <th>24</th>\n",
       "      <td>25</td>\n",
       "      <td>11.249266</td>\n",
       "      <td>7.511313</td>\n",
       "      <td>1001.524619</td>\n",
       "      <td>0.735134</td>\n",
       "      <td>354.565082</td>\n",
       "      <td>7.612857</td>\n",
       "    </tr>\n",
       "    <tr>\n",
       "      <th>25</th>\n",
       "      <td>26</td>\n",
       "      <td>2.005541</td>\n",
       "      <td>9.003871</td>\n",
       "      <td>998.578263</td>\n",
       "      <td>0.785110</td>\n",
       "      <td>291.234907</td>\n",
       "      <td>2.811301</td>\n",
       "    </tr>\n",
       "    <tr>\n",
       "      <th>26</th>\n",
       "      <td>27</td>\n",
       "      <td>21.815122</td>\n",
       "      <td>1.906225</td>\n",
       "      <td>1008.020811</td>\n",
       "      <td>2.438392</td>\n",
       "      <td>293.640402</td>\n",
       "      <td>5.890135</td>\n",
       "    </tr>\n",
       "    <tr>\n",
       "      <th>27</th>\n",
       "      <td>28</td>\n",
       "      <td>7.388190</td>\n",
       "      <td>13.551983</td>\n",
       "      <td>1013.932074</td>\n",
       "      <td>1.479803</td>\n",
       "      <td>349.577455</td>\n",
       "      <td>8.678505</td>\n",
       "    </tr>\n",
       "    <tr>\n",
       "      <th>28</th>\n",
       "      <td>29</td>\n",
       "      <td>9.198540</td>\n",
       "      <td>10.140809</td>\n",
       "      <td>1021.038671</td>\n",
       "      <td>0.001600</td>\n",
       "      <td>163.211636</td>\n",
       "      <td>10.004081</td>\n",
       "    </tr>\n",
       "    <tr>\n",
       "      <th>29</th>\n",
       "      <td>30</td>\n",
       "      <td>16.640377</td>\n",
       "      <td>0.903224</td>\n",
       "      <td>999.338504</td>\n",
       "      <td>11.053087</td>\n",
       "      <td>161.090128</td>\n",
       "      <td>18.535469</td>\n",
       "    </tr>\n",
       "    <tr>\n",
       "      <th>...</th>\n",
       "      <td>...</td>\n",
       "      <td>...</td>\n",
       "      <td>...</td>\n",
       "      <td>...</td>\n",
       "      <td>...</td>\n",
       "      <td>...</td>\n",
       "      <td>...</td>\n",
       "    </tr>\n",
       "    <tr>\n",
       "      <th>335</th>\n",
       "      <td>336</td>\n",
       "      <td>12.038333</td>\n",
       "      <td>6.899828</td>\n",
       "      <td>998.701660</td>\n",
       "      <td>7.227191</td>\n",
       "      <td>149.737408</td>\n",
       "      <td>9.091756</td>\n",
       "    </tr>\n",
       "    <tr>\n",
       "      <th>336</th>\n",
       "      <td>337</td>\n",
       "      <td>14.819058</td>\n",
       "      <td>5.019545</td>\n",
       "      <td>1019.277228</td>\n",
       "      <td>14.735604</td>\n",
       "      <td>232.897493</td>\n",
       "      <td>9.999031</td>\n",
       "    </tr>\n",
       "    <tr>\n",
       "      <th>337</th>\n",
       "      <td>338</td>\n",
       "      <td>17.650073</td>\n",
       "      <td>4.178713</td>\n",
       "      <td>1004.619297</td>\n",
       "      <td>10.725919</td>\n",
       "      <td>151.174299</td>\n",
       "      <td>13.295327</td>\n",
       "    </tr>\n",
       "    <tr>\n",
       "      <th>338</th>\n",
       "      <td>339</td>\n",
       "      <td>19.403525</td>\n",
       "      <td>0.787332</td>\n",
       "      <td>1011.428848</td>\n",
       "      <td>0.017301</td>\n",
       "      <td>271.985188</td>\n",
       "      <td>6.428773</td>\n",
       "    </tr>\n",
       "    <tr>\n",
       "      <th>339</th>\n",
       "      <td>340</td>\n",
       "      <td>13.908049</td>\n",
       "      <td>7.586522</td>\n",
       "      <td>992.529045</td>\n",
       "      <td>1.273546</td>\n",
       "      <td>302.328931</td>\n",
       "      <td>13.834240</td>\n",
       "    </tr>\n",
       "    <tr>\n",
       "      <th>340</th>\n",
       "      <td>341</td>\n",
       "      <td>12.703319</td>\n",
       "      <td>4.425636</td>\n",
       "      <td>999.732596</td>\n",
       "      <td>0.274027</td>\n",
       "      <td>331.165505</td>\n",
       "      <td>9.799010</td>\n",
       "    </tr>\n",
       "    <tr>\n",
       "      <th>341</th>\n",
       "      <td>342</td>\n",
       "      <td>15.642078</td>\n",
       "      <td>5.984249</td>\n",
       "      <td>985.892914</td>\n",
       "      <td>4.235506</td>\n",
       "      <td>282.702151</td>\n",
       "      <td>8.754833</td>\n",
       "    </tr>\n",
       "    <tr>\n",
       "      <th>342</th>\n",
       "      <td>343</td>\n",
       "      <td>14.566000</td>\n",
       "      <td>5.902407</td>\n",
       "      <td>1031.973613</td>\n",
       "      <td>0.141494</td>\n",
       "      <td>270.106015</td>\n",
       "      <td>9.742673</td>\n",
       "    </tr>\n",
       "    <tr>\n",
       "      <th>343</th>\n",
       "      <td>344</td>\n",
       "      <td>17.921683</td>\n",
       "      <td>-1.758812</td>\n",
       "      <td>994.153964</td>\n",
       "      <td>0.003715</td>\n",
       "      <td>525.148037</td>\n",
       "      <td>12.296785</td>\n",
       "    </tr>\n",
       "    <tr>\n",
       "      <th>344</th>\n",
       "      <td>345</td>\n",
       "      <td>4.596943</td>\n",
       "      <td>13.439088</td>\n",
       "      <td>1007.953655</td>\n",
       "      <td>0.380987</td>\n",
       "      <td>193.651590</td>\n",
       "      <td>6.353800</td>\n",
       "    </tr>\n",
       "    <tr>\n",
       "      <th>345</th>\n",
       "      <td>346</td>\n",
       "      <td>10.861324</td>\n",
       "      <td>-4.566679</td>\n",
       "      <td>1019.871740</td>\n",
       "      <td>4.388897</td>\n",
       "      <td>173.268290</td>\n",
       "      <td>4.877721</td>\n",
       "    </tr>\n",
       "    <tr>\n",
       "      <th>346</th>\n",
       "      <td>347</td>\n",
       "      <td>19.063144</td>\n",
       "      <td>17.779638</td>\n",
       "      <td>1003.327168</td>\n",
       "      <td>6.081394</td>\n",
       "      <td>263.236919</td>\n",
       "      <td>6.279745</td>\n",
       "    </tr>\n",
       "    <tr>\n",
       "      <th>347</th>\n",
       "      <td>348</td>\n",
       "      <td>16.797438</td>\n",
       "      <td>0.914190</td>\n",
       "      <td>1007.394868</td>\n",
       "      <td>1.619793</td>\n",
       "      <td>156.747441</td>\n",
       "      <td>7.529953</td>\n",
       "    </tr>\n",
       "    <tr>\n",
       "      <th>348</th>\n",
       "      <td>349</td>\n",
       "      <td>16.789503</td>\n",
       "      <td>11.418123</td>\n",
       "      <td>983.864590</td>\n",
       "      <td>1.310349</td>\n",
       "      <td>268.221036</td>\n",
       "      <td>14.277749</td>\n",
       "    </tr>\n",
       "    <tr>\n",
       "      <th>349</th>\n",
       "      <td>350</td>\n",
       "      <td>15.865574</td>\n",
       "      <td>14.731069</td>\n",
       "      <td>980.498262</td>\n",
       "      <td>1.364642</td>\n",
       "      <td>221.199607</td>\n",
       "      <td>10.609257</td>\n",
       "    </tr>\n",
       "    <tr>\n",
       "      <th>350</th>\n",
       "      <td>351</td>\n",
       "      <td>9.941420</td>\n",
       "      <td>-0.556974</td>\n",
       "      <td>1008.890292</td>\n",
       "      <td>1.773537</td>\n",
       "      <td>122.300193</td>\n",
       "      <td>7.247332</td>\n",
       "    </tr>\n",
       "    <tr>\n",
       "      <th>351</th>\n",
       "      <td>352</td>\n",
       "      <td>14.472117</td>\n",
       "      <td>4.946973</td>\n",
       "      <td>988.488728</td>\n",
       "      <td>7.070127</td>\n",
       "      <td>235.725539</td>\n",
       "      <td>15.112809</td>\n",
       "    </tr>\n",
       "    <tr>\n",
       "      <th>352</th>\n",
       "      <td>353</td>\n",
       "      <td>13.653153</td>\n",
       "      <td>8.159146</td>\n",
       "      <td>997.248867</td>\n",
       "      <td>0.021138</td>\n",
       "      <td>157.093120</td>\n",
       "      <td>23.273110</td>\n",
       "    </tr>\n",
       "    <tr>\n",
       "      <th>353</th>\n",
       "      <td>354</td>\n",
       "      <td>6.070162</td>\n",
       "      <td>0.927455</td>\n",
       "      <td>999.954397</td>\n",
       "      <td>0.969140</td>\n",
       "      <td>199.966820</td>\n",
       "      <td>9.647808</td>\n",
       "    </tr>\n",
       "    <tr>\n",
       "      <th>354</th>\n",
       "      <td>355</td>\n",
       "      <td>16.977810</td>\n",
       "      <td>5.450092</td>\n",
       "      <td>1001.645455</td>\n",
       "      <td>0.337456</td>\n",
       "      <td>286.263859</td>\n",
       "      <td>8.504788</td>\n",
       "    </tr>\n",
       "    <tr>\n",
       "      <th>355</th>\n",
       "      <td>356</td>\n",
       "      <td>18.577971</td>\n",
       "      <td>4.090104</td>\n",
       "      <td>1010.758327</td>\n",
       "      <td>0.145464</td>\n",
       "      <td>424.859359</td>\n",
       "      <td>5.885709</td>\n",
       "    </tr>\n",
       "    <tr>\n",
       "      <th>356</th>\n",
       "      <td>357</td>\n",
       "      <td>19.371759</td>\n",
       "      <td>6.265818</td>\n",
       "      <td>1022.846686</td>\n",
       "      <td>0.233129</td>\n",
       "      <td>148.897676</td>\n",
       "      <td>9.569662</td>\n",
       "    </tr>\n",
       "    <tr>\n",
       "      <th>357</th>\n",
       "      <td>358</td>\n",
       "      <td>16.051545</td>\n",
       "      <td>2.694597</td>\n",
       "      <td>990.594536</td>\n",
       "      <td>3.363998</td>\n",
       "      <td>239.876509</td>\n",
       "      <td>9.749026</td>\n",
       "    </tr>\n",
       "    <tr>\n",
       "      <th>358</th>\n",
       "      <td>359</td>\n",
       "      <td>11.747461</td>\n",
       "      <td>13.837298</td>\n",
       "      <td>988.894382</td>\n",
       "      <td>0.037360</td>\n",
       "      <td>199.430695</td>\n",
       "      <td>9.924059</td>\n",
       "    </tr>\n",
       "    <tr>\n",
       "      <th>359</th>\n",
       "      <td>360</td>\n",
       "      <td>11.397795</td>\n",
       "      <td>12.832252</td>\n",
       "      <td>985.283272</td>\n",
       "      <td>0.140677</td>\n",
       "      <td>239.713435</td>\n",
       "      <td>8.649641</td>\n",
       "    </tr>\n",
       "    <tr>\n",
       "      <th>360</th>\n",
       "      <td>361</td>\n",
       "      <td>23.442230</td>\n",
       "      <td>12.837011</td>\n",
       "      <td>1005.045973</td>\n",
       "      <td>1.436483</td>\n",
       "      <td>350.919428</td>\n",
       "      <td>11.192282</td>\n",
       "    </tr>\n",
       "    <tr>\n",
       "      <th>361</th>\n",
       "      <td>362</td>\n",
       "      <td>17.397829</td>\n",
       "      <td>3.496630</td>\n",
       "      <td>1008.192870</td>\n",
       "      <td>2.433125</td>\n",
       "      <td>437.955193</td>\n",
       "      <td>8.964584</td>\n",
       "    </tr>\n",
       "    <tr>\n",
       "      <th>362</th>\n",
       "      <td>363</td>\n",
       "      <td>17.490244</td>\n",
       "      <td>5.268549</td>\n",
       "      <td>1008.647192</td>\n",
       "      <td>0.015577</td>\n",
       "      <td>282.591176</td>\n",
       "      <td>14.557238</td>\n",
       "    </tr>\n",
       "    <tr>\n",
       "      <th>363</th>\n",
       "      <td>364</td>\n",
       "      <td>7.652403</td>\n",
       "      <td>16.820501</td>\n",
       "      <td>1003.778529</td>\n",
       "      <td>2.032853</td>\n",
       "      <td>211.241846</td>\n",
       "      <td>5.298707</td>\n",
       "    </tr>\n",
       "    <tr>\n",
       "      <th>364</th>\n",
       "      <td>365</td>\n",
       "      <td>13.046951</td>\n",
       "      <td>3.355790</td>\n",
       "      <td>1016.065902</td>\n",
       "      <td>0.000005</td>\n",
       "      <td>176.473333</td>\n",
       "      <td>11.728298</td>\n",
       "    </tr>\n",
       "  </tbody>\n",
       "</table>\n",
       "<p>365 rows × 7 columns</p>\n",
       "</div>"
      ],
      "text/plain": [
       "     Day Number  Random Max Temp  Random Min Temp  Random Pressure  \\\n",
       "0             1        17.975778         0.397632      1002.640627   \n",
       "1             2        14.232412         6.486686       989.913224   \n",
       "2             3        18.704578         8.204304      1005.902317   \n",
       "3             4        18.967325         6.617632      1010.906793   \n",
       "4             5        16.262802         6.014919       997.484816   \n",
       "5             6        11.635953         3.304826      1006.210801   \n",
       "6             7        22.803874         2.039253      1012.715914   \n",
       "7             8        13.081555        -0.107058       992.604123   \n",
       "8             9        14.308154         6.184073       993.545900   \n",
       "9            10        20.913829        -7.703611      1006.595613   \n",
       "10           11        12.356183         9.198456       988.803692   \n",
       "11           12        14.041266        17.412702      1023.496139   \n",
       "12           13        14.789906        11.394618      1025.230123   \n",
       "13           14        12.507890        11.346147       994.029079   \n",
       "14           15        14.298047         1.380829      1013.200653   \n",
       "15           16        24.559291         6.694602      1015.614174   \n",
       "16           17        14.453196         1.394469       988.339338   \n",
       "17           18        13.619291         4.369990       993.013260   \n",
       "18           19        16.065041         9.954374       990.258454   \n",
       "19           20        17.119468        11.538648       985.060048   \n",
       "20           21        17.943766         7.035739      1007.923159   \n",
       "21           22        11.424650         4.479164      1011.719748   \n",
       "22           23         8.403137         7.466713      1028.066928   \n",
       "23           24         8.466834        10.490277      1016.823978   \n",
       "24           25        11.249266         7.511313      1001.524619   \n",
       "25           26         2.005541         9.003871       998.578263   \n",
       "26           27        21.815122         1.906225      1008.020811   \n",
       "27           28         7.388190        13.551983      1013.932074   \n",
       "28           29         9.198540        10.140809      1021.038671   \n",
       "29           30        16.640377         0.903224       999.338504   \n",
       "..          ...              ...              ...              ...   \n",
       "335         336        12.038333         6.899828       998.701660   \n",
       "336         337        14.819058         5.019545      1019.277228   \n",
       "337         338        17.650073         4.178713      1004.619297   \n",
       "338         339        19.403525         0.787332      1011.428848   \n",
       "339         340        13.908049         7.586522       992.529045   \n",
       "340         341        12.703319         4.425636       999.732596   \n",
       "341         342        15.642078         5.984249       985.892914   \n",
       "342         343        14.566000         5.902407      1031.973613   \n",
       "343         344        17.921683        -1.758812       994.153964   \n",
       "344         345         4.596943        13.439088      1007.953655   \n",
       "345         346        10.861324        -4.566679      1019.871740   \n",
       "346         347        19.063144        17.779638      1003.327168   \n",
       "347         348        16.797438         0.914190      1007.394868   \n",
       "348         349        16.789503        11.418123       983.864590   \n",
       "349         350        15.865574        14.731069       980.498262   \n",
       "350         351         9.941420        -0.556974      1008.890292   \n",
       "351         352        14.472117         4.946973       988.488728   \n",
       "352         353        13.653153         8.159146       997.248867   \n",
       "353         354         6.070162         0.927455       999.954397   \n",
       "354         355        16.977810         5.450092      1001.645455   \n",
       "355         356        18.577971         4.090104      1010.758327   \n",
       "356         357        19.371759         6.265818      1022.846686   \n",
       "357         358        16.051545         2.694597       990.594536   \n",
       "358         359        11.747461        13.837298       988.894382   \n",
       "359         360        11.397795        12.832252       985.283272   \n",
       "360         361        23.442230        12.837011      1005.045973   \n",
       "361         362        17.397829         3.496630      1008.192870   \n",
       "362         363        17.490244         5.268549      1008.647192   \n",
       "363         364         7.652403        16.820501      1003.778529   \n",
       "364         365        13.046951         3.355790      1016.065902   \n",
       "\n",
       "     Random Rain  Random Wind Direction  Random Wind Speed  \n",
       "0       0.369396             149.363663           8.301087  \n",
       "1       0.584717             581.700805           5.743892  \n",
       "2       2.112722             423.001286           5.975953  \n",
       "3       0.468551             172.804679          22.118091  \n",
       "4      11.508790             313.213154           5.614479  \n",
       "5       4.072095             257.316229           4.837762  \n",
       "6       7.220116             317.531904          10.886260  \n",
       "7       0.001424              92.824898          17.807894  \n",
       "8       6.485894             176.006772           8.652424  \n",
       "9       3.615752             388.849854          12.019254  \n",
       "10      0.677302             351.289836          13.823520  \n",
       "11      0.198269             159.726863          11.395121  \n",
       "12      0.938305             181.868986           3.165676  \n",
       "13      2.406437             200.303334          15.885857  \n",
       "14     24.306687             359.074012           6.199799  \n",
       "15      3.384716             558.162090           8.951398  \n",
       "16      6.489328             408.957265          12.702859  \n",
       "17      0.996193             314.031879          12.715017  \n",
       "18      0.707127             181.423910          11.924201  \n",
       "19      0.065297             367.994539          10.227944  \n",
       "20      0.036737             404.964190          13.309105  \n",
       "21      2.626155             287.070199          14.512021  \n",
       "22      0.000399             229.169159           8.008789  \n",
       "23      1.049261             217.532250          11.163077  \n",
       "24      0.735134             354.565082           7.612857  \n",
       "25      0.785110             291.234907           2.811301  \n",
       "26      2.438392             293.640402           5.890135  \n",
       "27      1.479803             349.577455           8.678505  \n",
       "28      0.001600             163.211636          10.004081  \n",
       "29     11.053087             161.090128          18.535469  \n",
       "..           ...                    ...                ...  \n",
       "335     7.227191             149.737408           9.091756  \n",
       "336    14.735604             232.897493           9.999031  \n",
       "337    10.725919             151.174299          13.295327  \n",
       "338     0.017301             271.985188           6.428773  \n",
       "339     1.273546             302.328931          13.834240  \n",
       "340     0.274027             331.165505           9.799010  \n",
       "341     4.235506             282.702151           8.754833  \n",
       "342     0.141494             270.106015           9.742673  \n",
       "343     0.003715             525.148037          12.296785  \n",
       "344     0.380987             193.651590           6.353800  \n",
       "345     4.388897             173.268290           4.877721  \n",
       "346     6.081394             263.236919           6.279745  \n",
       "347     1.619793             156.747441           7.529953  \n",
       "348     1.310349             268.221036          14.277749  \n",
       "349     1.364642             221.199607          10.609257  \n",
       "350     1.773537             122.300193           7.247332  \n",
       "351     7.070127             235.725539          15.112809  \n",
       "352     0.021138             157.093120          23.273110  \n",
       "353     0.969140             199.966820           9.647808  \n",
       "354     0.337456             286.263859           8.504788  \n",
       "355     0.145464             424.859359           5.885709  \n",
       "356     0.233129             148.897676           9.569662  \n",
       "357     3.363998             239.876509           9.749026  \n",
       "358     0.037360             199.430695           9.924059  \n",
       "359     0.140677             239.713435           8.649641  \n",
       "360     1.436483             350.919428          11.192282  \n",
       "361     2.433125             437.955193           8.964584  \n",
       "362     0.015577             282.591176          14.557238  \n",
       "363     2.032853             211.241846           5.298707  \n",
       "364     0.000005             176.473333          11.728298  \n",
       "\n",
       "[365 rows x 7 columns]"
      ]
     },
     "execution_count": 106,
     "metadata": {},
     "output_type": "execute_result"
    }
   ],
   "source": [
    "RanWeatherData"
   ]
  },
  {
   "cell_type": "markdown",
   "metadata": {},
   "source": [
    "** Comparison of Original Data and Random Generated Data** \n",
    "\n",
    "To compare and contrast the original Cork Airport weather data and the random generated data, I will generate box plots to compare and contrast the data sets. The box plot will allow a standardized way of displaying the distribution of the data based on five descriptive statistics, namely minimum value, first quartile, median value, third quartile, and maximum value. "
   ]
  },
  {
   "cell_type": "code",
   "execution_count": 107,
   "metadata": {},
   "outputs": [
    {
     "data": {
      "text/plain": [
       "([<matplotlib.axis.XTick at 0x211b9c83e80>,\n",
       "  <matplotlib.axis.XTick at 0x211ba5e2c18>],\n",
       " <a list of 2 Text xticklabel objects>)"
      ]
     },
     "execution_count": 107,
     "metadata": {},
     "output_type": "execute_result"
    }
   ],
   "source": [
    "plt.subplot(1,2,1)\n",
    "MaxTempBoxPlot=[RandMaxTemp, MaxTemp]\n",
    "plt.title(\"Max Temperature Comparison\")\n",
    "plt.boxplot(MaxTempBoxPlot)\n",
    "plt.xlabel('Data Points')\n",
    "plt.ylabel('Temperature')\n",
    "plt.xticks([1, 2], ['RandMaxTemp', 'MaxTemp'])"
   ]
  },
  {
   "cell_type": "code",
   "execution_count": 108,
   "metadata": {
    "scrolled": true
   },
   "outputs": [
    {
     "data": {
      "image/png": "[encoded data removed]",
      "text/plain": [
       "<matplotlib.figure.Figure at 0x211ba727dd8>"
      ]
     },
     "metadata": {},
     "output_type": "display_data"
    }
   ],
   "source": [
    "plt.subplot(1,2,2)\n",
    "MinTempBoxPlot=[RandMinTemp, MinTemp]\n",
    "plt.title(\"Min Temperature Comparison\")\n",
    "plt.boxplot(MinTempBoxPlot)\n",
    "plt.xlabel('Data Points')\n",
    "plt.ylabel('Temperature')\n",
    "plt.xticks([1, 2], ['RandMinTemp', 'MinTemp'])\n",
    "plt.show()"
   ]
  },
  {
   "cell_type": "code",
   "execution_count": 109,
   "metadata": {},
   "outputs": [
    {
     "data": {
      "image/png": "[encoded data removed]",
      "text/plain": [
       "<matplotlib.figure.Figure at 0x211b8ef5f28>"
      ]
     },
     "metadata": {},
     "output_type": "display_data"
    }
   ],
   "source": [
    "PressureBoxPlot=[RandPressure, Pressure]\n",
    "plt.title(\"Pressure Comparison\")\n",
    "plt.boxplot(PressureBoxPlot)\n",
    "plt.xlabel('Data Points')\n",
    "plt.ylabel('Pressure')\n",
    "plt.xticks([1, 2], ['Rand Pressure','Pressure cbl Hpa'])\n",
    "plt.show()"
   ]
  },
  {
   "cell_type": "code",
   "execution_count": 110,
   "metadata": {},
   "outputs": [
    {
     "data": {
      "image/png": "[encoded data removed]",
      "text/plain": [
       "<matplotlib.figure.Figure at 0x211b8eece80>"
      ]
     },
     "metadata": {},
     "output_type": "display_data"
    }
   ],
   "source": [
    "RainBoxPlot=[RandRain, Rain]\n",
    "plt.title(\"Rain Comparison\")\n",
    "plt.boxplot(RainBoxPlot)\n",
    "plt.xlabel('Data Points')\n",
    "plt.ylabel('Rain')\n",
    "plt.xticks([1, 2], ['Random Rain','Rain'])\n",
    "plt.show()"
   ]
  },
  {
   "cell_type": "code",
   "execution_count": 111,
   "metadata": {},
   "outputs": [
    {
     "data": {
      "image/png": "[encoded data removed]",
      "text/plain": [
       "<matplotlib.figure.Figure at 0x211b8f8a400>"
      ]
     },
     "metadata": {},
     "output_type": "display_data"
    }
   ],
   "source": [
    "WindSpeedBoxPlot=[RandWindSpeed, WindSpeed]\n",
    "plt.title(\"Wind Speed Comparison\")\n",
    "plt.boxplot(WindSpeedBoxPlot)\n",
    "plt.xlabel('Data Points')\n",
    "plt.ylabel('Wind Speed')\n",
    "plt.xticks([1, 2], ['Random Wind Speed','Wind Speed'])\n",
    "plt.show()"
   ]
  },
  {
   "cell_type": "code",
   "execution_count": 112,
   "metadata": {},
   "outputs": [
    {
     "data": {
      "image/png": "[encoded data removed]",
      "text/plain": [
       "<matplotlib.figure.Figure at 0x211ba519eb8>"
      ]
     },
     "metadata": {},
     "output_type": "display_data"
    }
   ],
   "source": [
    "WindDirectionBoxPlot=[RandWindDir, WindDirection]\n",
    "plt.title(\"Wind Direction Comparison\")\n",
    "plt.boxplot(WindDirectionBoxPlot)\n",
    "plt.xlabel('Data Points')\n",
    "plt.ylabel('Wind Direction')\n",
    "plt.xticks([1, 2], ['Random Wind Direction','Wind Direction'])\n",
    "plt.show()"
   ]
  },
  {
   "cell_type": "markdown",
   "metadata": {
    "collapsed": true
   },
   "source": [
    "**Box Plot Comparison Results**\n",
    "\n",
    "As can be seen from the box plots the random data generated for the majority of the weather variables mimick the distribution of the Cork Airport weather data, except for Wind Direction. Possibly the incorrect distribution for generating the Wind Direction random data was selected and this would explain the differences in the random data generated. As can be seen from the box plot the random data is right skewed while the airport data is left skewed, which indicates opposing distributions."
   ]
  },
  {
   "cell_type": "markdown",
   "metadata": {},
   "source": [
    "**Generation of Scatter Plots**\n",
    "\n",
    "To use PearsonR correlation analysis tool a fundamental requirement is that the data is linear. I will now generate scatter plots for each of the random data weather variables to graphically display the data sets.  "
   ]
  },
  {
   "cell_type": "code",
   "execution_count": 113,
   "metadata": {},
   "outputs": [
    {
     "data": {
      "image/png": "[encoded data removed]",
      "text/plain": [
       "<matplotlib.figure.Figure at 0x211ba519e48>"
      ]
     },
     "metadata": {},
     "output_type": "display_data"
    }
   ],
   "source": [
    "plt.scatter(DayNumber,RandMaxTemp, s=100, marker=(5, 2))\n",
    "plt.title('Scatter Plot of Random Data Max Temperature')\n",
    "plt.xlabel('Day Number')\n",
    "plt.ylabel('Temperature')\n",
    "plt.show()"
   ]
  },
  {
   "cell_type": "code",
   "execution_count": 114,
   "metadata": {},
   "outputs": [
    {
     "data": {
      "image/png": "[encoded data removed]",
      "text/plain": [
       "<matplotlib.figure.Figure at 0x211bb9410f0>"
      ]
     },
     "metadata": {},
     "output_type": "display_data"
    }
   ],
   "source": [
    "plt.scatter(DayNumber,RandMinTemp, s=100, marker=(5, 2))\n",
    "plt.title('Scatter Plot of Random Data Min Temperature')\n",
    "plt.xlabel('Day Number')\n",
    "plt.ylabel('Temperature')\n",
    "plt.show()"
   ]
  },
  {
   "cell_type": "code",
   "execution_count": 115,
   "metadata": {},
   "outputs": [
    {
     "data": {
      "image/png": "[encoded data removed]",
      "text/plain": [
       "<matplotlib.figure.Figure at 0x211bb9f2da0>"
      ]
     },
     "metadata": {},
     "output_type": "display_data"
    }
   ],
   "source": [
    "plt.scatter(DayNumber,RandPressure, s=100, marker=(5, 2))\n",
    "plt.title('Scatter Plot of Random Data Atmospheric Pressure')\n",
    "plt.xlabel('Day Number')\n",
    "plt.ylabel('Pressure cbl Hpa')\n",
    "plt.show()"
   ]
  },
  {
   "cell_type": "code",
   "execution_count": 116,
   "metadata": {},
   "outputs": [
    {
     "data": {
      "image/png": "[encoded data removed]",
      "text/plain": [
       "<matplotlib.figure.Figure at 0x211bba116d8>"
      ]
     },
     "metadata": {},
     "output_type": "display_data"
    }
   ],
   "source": [
    "plt.scatter(DayNumber,RandRain, s=100, marker=(5, 2))\n",
    "plt.title('Scatter Plot of Random Data Percipitation')\n",
    "plt.xlabel('Day Number')\n",
    "plt.ylabel('Rain Fall mm')\n",
    "plt.show()"
   ]
  },
  {
   "cell_type": "code",
   "execution_count": 117,
   "metadata": {},
   "outputs": [
    {
     "data": {
      "image/png": "[encoded data removed]",
      "text/plain": [
       "<matplotlib.figure.Figure at 0x211bba414a8>"
      ]
     },
     "metadata": {},
     "output_type": "display_data"
    }
   ],
   "source": [
    "plt.scatter(DayNumber,RandWindSpeed, s=100, marker=(5, 2))\n",
    "plt.title('Scatter Plot of Random Data Wind Speed')\n",
    "plt.xlabel('Day Number')\n",
    "plt.ylabel('Wind Speed knots')\n",
    "plt.show()"
   ]
  },
  {
   "cell_type": "code",
   "execution_count": 118,
   "metadata": {},
   "outputs": [
    {
     "data": {
      "image/png": "[encoded data removed]",
      "text/plain": [
       "<matplotlib.figure.Figure at 0x211ba727710>"
      ]
     },
     "metadata": {},
     "output_type": "display_data"
    }
   ],
   "source": [
    "plt.scatter(DayNumber,RandWindDir, s=100, marker=(5, 2))\n",
    "plt.title('Scatter Plot of Random Data Wind Direction')\n",
    "plt.xlabel('Day Number')\n",
    "plt.ylabel('Wind Direction degrees')\n",
    "plt.show()"
   ]
  },
  {
   "cell_type": "markdown",
   "metadata": {
    "collapsed": true
   },
   "source": [
    "** Correlation Analysis of Weather Variables**\n",
    "\n",
    "The statistical evaluation of the relationship between two numerical continuous variables is called Correlation Analysis. Every day examples would be a persons height to weight ratio and a persons exam results in relation to study time.\n",
    "\n",
    "For the purpose of this project, below, we are going to perform correlation analysis on the following variables against rain fall to see if there is a relationship between the amount of rain fallen and any of the other weather variables. \n",
    "\n",
    "- Maximum Air Temperature (C)\n",
    "- Minimum Air Temperature (C)\n",
    "- Mean Wind Speed (Knot)\n",
    "- Mean CBL Pressure (hpa) \n",
    "\n",
    "There is a number of different commands that could be used to determine if a correlation exists between rain fall and any of the other variables. These include;\n",
    "\n",
    "- np.corrcoef\n",
    "- stats.pearsonr\n",
    "\n",
    "The correlation coefficient can range in value from -1 to 1. The larger the coefficient value the stronger the relationship between the variables. A perfect linear correlation is indicated by an absolute value of 1. The sign of the coefficient correlation value indicates the direction of the relationship. A positive value indicates both variables tend to increase or decrease together. If one variable increases and the other decreases a negative correlation coefficient is produced.\n",
    "\n",
    "For the purpose of this project the stats.pearsonr command will be utilised. There are a number of assumptions that need to be met before the Pearsons correlation method can be used but for the purpose of the project each varialbe will be analysed using the Pearson method.\n",
    "\n",
    "The correlation coefficient result is outputted in the following for;\n",
    "\n",
    "(x,y)\n",
    "\n",
    "where x if the correlation coefficient and y is the p-value.\n",
    "\n",
    "The significance of the p-value is important. The p-value indicates if the correlation coefficient is significantly different from 0. \n",
    "\n",
    "A coefficient of 0 indicates no linear relationship.\n",
    "\n",
    "If the p-value is less than or equal to the specified alpha level (0.05) it can be concluded that the correlation is significantly different from 0. If the p-value is greater than the alpha level it cannot be concluded that the correlation is significant from 0.\n"
   ]
  },
  {
   "cell_type": "markdown",
   "metadata": {},
   "source": [
    "** Rain vs Pressure **"
   ]
  },
  {
   "cell_type": "code",
   "execution_count": 119,
   "metadata": {},
   "outputs": [
    {
     "data": {
      "text/plain": [
       "(-0.016540622109085641, 0.75280283627090694)"
      ]
     },
     "execution_count": 119,
     "metadata": {},
     "output_type": "execute_result"
    }
   ],
   "source": [
    "stats.pearsonr(RandRain, RandPressure)"
   ]
  },
  {
   "cell_type": "code",
   "execution_count": 120,
   "metadata": {},
   "outputs": [
    {
     "data": {
      "image/png": "[encoded data removed]",
      "text/plain": [
       "<matplotlib.figure.Figure at 0x211ba5e4dd8>"
      ]
     },
     "metadata": {},
     "output_type": "display_data"
    }
   ],
   "source": [
    "plt.scatter(RandRain, RandPressure)\n",
    "plt.show()"
   ]
  },
  {
   "cell_type": "markdown",
   "metadata": {},
   "source": [
    "**Analysis Interpretation**\n",
    "\n",
    "The first value listed -0.01470844785549032 is the Pearson Coefficient number and the second value is the p-value. As the pearson number is close to zero indicates there is no correlation between rain fall and pressure. As the p-value is greater than 0.05 it cannot be concluded that the correlation is different from 0."
   ]
  },
  {
   "cell_type": "markdown",
   "metadata": {},
   "source": [
    "**Rain vs Maximum Temperature**"
   ]
  },
  {
   "cell_type": "code",
   "execution_count": 121,
   "metadata": {},
   "outputs": [
    {
     "data": {
      "text/plain": [
       "(0.084000053980082187, 0.10912314652731617)"
      ]
     },
     "execution_count": 121,
     "metadata": {},
     "output_type": "execute_result"
    }
   ],
   "source": [
    "stats.pearsonr(RandRain, RandMaxTemp)"
   ]
  },
  {
   "cell_type": "code",
   "execution_count": 122,
   "metadata": {},
   "outputs": [
    {
     "data": {
      "image/png": "[encoded data removed]",
      "text/plain": [
       "<matplotlib.figure.Figure at 0x211bb926438>"
      ]
     },
     "metadata": {},
     "output_type": "display_data"
    }
   ],
   "source": [
    "plt.scatter(RandRain, RandMaxTemp)\n",
    "plt.show()"
   ]
  },
  {
   "cell_type": "markdown",
   "metadata": {},
   "source": [
    "**Analysis Interpretation**\n",
    "\n",
    "The first value listed 0.010665510151414662 is the Pearson Coefficient number and the second value is the p-value. As the pearson number is close to zero indicates there is no correlation between rain fall and maximum temperature. As the p-value is greater than 0.05 it cannot be concluded that the correlation is different from 0."
   ]
  },
  {
   "cell_type": "markdown",
   "metadata": {},
   "source": [
    "** Rain vs Minimum Temperature**"
   ]
  },
  {
   "cell_type": "code",
   "execution_count": 123,
   "metadata": {},
   "outputs": [
    {
     "data": {
      "text/plain": [
       "(-0.056038148324620757, 0.28562233235340501)"
      ]
     },
     "execution_count": 123,
     "metadata": {},
     "output_type": "execute_result"
    }
   ],
   "source": [
    "stats.pearsonr(RandRain, RandMinTemp)"
   ]
  },
  {
   "cell_type": "code",
   "execution_count": 124,
   "metadata": {},
   "outputs": [
    {
     "data": {
      "image/png": "[encoded data removed]",
      "text/plain": [
       "<matplotlib.figure.Figure at 0x211ba52a6a0>"
      ]
     },
     "metadata": {},
     "output_type": "display_data"
    }
   ],
   "source": [
    "plt.scatter(RandRain, RandMinTemp)\n",
    "plt.show()"
   ]
  },
  {
   "cell_type": "markdown",
   "metadata": {},
   "source": [
    "**Analysis Interpretation**\n",
    "\n",
    "The first value listed 0.046385372686542081 is the Pearson Coefficient number and the second value is the p-value. As the pearson number is close to zero indicates there is no correlation between rain fall and minimum temperature. As the p-value is greater than 0.05 it cannot be concluded that the correlation is different from 0."
   ]
  },
  {
   "cell_type": "markdown",
   "metadata": {},
   "source": [
    "** Rain vs Wind Speed **"
   ]
  },
  {
   "cell_type": "code",
   "execution_count": 125,
   "metadata": {},
   "outputs": [
    {
     "data": {
      "text/plain": [
       "(0.073666037166579212, 0.1601792083559232)"
      ]
     },
     "execution_count": 125,
     "metadata": {},
     "output_type": "execute_result"
    }
   ],
   "source": [
    "stats.pearsonr(RandRain, RandWindSpeed)"
   ]
  },
  {
   "cell_type": "code",
   "execution_count": 126,
   "metadata": {},
   "outputs": [
    {
     "data": {
      "image/png": "[encoded data removed]",
      "text/plain": [
       "<matplotlib.figure.Figure at 0x211bba88518>"
      ]
     },
     "metadata": {},
     "output_type": "display_data"
    }
   ],
   "source": [
    "plt.scatter(RandRain, RandWindSpeed)\n",
    "plt.show()"
   ]
  },
  {
   "cell_type": "markdown",
   "metadata": {},
   "source": [
    "**Analysis Interpretation**\n",
    "\n",
    "The first value listed -0.061915179999620665 is the Pearson Coefficient number and the second value is the p-value. As the pearson number is close to zero indicates there is no correlation between rain fall and wind speed. As the p-value is greater than 0.05 it cannot be concluded that the correlation is different from 0."
   ]
  },
  {
   "cell_type": "markdown",
   "metadata": {},
   "source": [
    "** Conclusion**\n",
    "\n",
    "As can be seen from the analysis there was no correlation between the amount of rain fall and any of the other weather variables analysed. On review of the results it has been noted that generating random data for weather variables was probably not the most appropriate data set to select due to the variation that can be inherently normal within weather i.e. abnormally warm days in winter, wetter summers than winter and thunder showers with high pressure.\n",
    "\n",
    "Also it is has been noted that some of the selected distributions were not the most appropriate distributions to be selected for generating the random data sets i.e. literature notes a number of suitable distributions for rain fall as well as other variables being left / right screwed when reviewing the real world data, the distributions exhibited the opposite skew.\n",
    "\n",
    "It is hoped that the tools and techniques utilised within this project notebook gives enough evidence of the understanding of the tools, techniques and libraries that can be utilised to generate random data and perform an accurate analysis of sai data.\n",
    "\n"
   ]
  },
  {
   "cell_type": "code",
   "execution_count": null,
   "metadata": {
    "collapsed": true
   },
   "outputs": [],
   "source": []
  }
 ],
 "metadata": {
  "kernelspec": {
   "display_name": "Python 3",
   "language": "python",
   "name": "python3"
  },
  "language_info": {
   "codemirror_mode": {
    "name": "ipython",
    "version": 3
   },
   "file_extension": ".py",
   "mimetype": "text/x-python",
   "name": "python",
   "nbconvert_exporter": "python",
   "pygments_lexer": "ipython3",
   "version": "3.6.3"
  }
 },
 "nbformat": 4,
 "nbformat_minor": 2
}
