{
 "cells": [
  {
   "cell_type": "markdown",
   "metadata": {},
   "source": [
    "## Programming for Data Analysis Project\n",
    "\n"
   ]
  },
  {
   "cell_type": "markdown",
   "metadata": {},
   "source": [
    "** Rainfall in the Muskerry Region of Cork**"
   ]
  },
  {
   "cell_type": "code",
   "execution_count": 1,
   "metadata": {
    "collapsed": true
   },
   "outputs": [],
   "source": [
    "import pandas as pd"
   ]
  },
  {
   "cell_type": "code",
   "execution_count": 7,
   "metadata": {},
   "outputs": [
    {
     "name": "stdout",
     "output_type": "stream",
     "text": [
      "      01-may-1995  1  5.000\n",
      "0     02-may-1995  0    0.0\n",
      "1     03-may-1995  0    0.0\n",
      "2     04-may-1995  0    0.0\n",
      "3     05-may-1995  0    0.0\n",
      "4     06-may-1995  0    0.0\n",
      "5     07-may-1995  0    0.0\n",
      "6     08-may-1995  0    0.0\n",
      "7     09-may-1995  0    2.0\n",
      "8     10-may-1995  0   18.2\n",
      "9     11-may-1995  0    1.0\n",
      "10    12-may-1995  0    0.0\n",
      "11    13-may-1995  0    0.0\n",
      "12    14-may-1995  0    0.0\n",
      "13    15-may-1995  0    3.0\n",
      "14    16-may-1995  0    0.8\n",
      "15    17-may-1995  0    0.0\n",
      "16    18-may-1995  0    0.0\n",
      "17    19-may-1995  4    0.0\n",
      "18    20-may-1995  0    0.9\n",
      "19    21-may-1995  0    1.0\n",
      "20    22-may-1995  0    2.4\n",
      "21    23-may-1995  0    1.0\n",
      "22    24-may-1995  0    6.0\n",
      "23    25-may-1995  0    6.4\n",
      "24    26-may-1995  0    2.5\n",
      "25    27-may-1995  0   16.1\n",
      "26    28-may-1995  0    4.8\n",
      "27    29-may-1995  0    0.8\n",
      "28    30-may-1995  0    0.0\n",
      "29    31-may-1995  0    0.0\n",
      "...           ... ..    ...\n",
      "8218  02-aug-2018  0    0.0\n",
      "8219  03-aug-2018  0    0.0\n",
      "8220  04-aug-2018  0    0.0\n",
      "8221  05-aug-2018  0    0.0\n",
      "8222  06-aug-2018  0    0.0\n",
      "8223  07-aug-2018  0    0.0\n",
      "8224  08-aug-2018  0    0.0\n",
      "8225  09-aug-2018  0    0.0\n",
      "8226  10-aug-2018  0    1.4\n",
      "8227  11-aug-2018  0    4.7\n",
      "8228  12-aug-2018  0   10.4\n",
      "8229  13-aug-2018  0    0.0\n",
      "8230  14-aug-2018  0    0.0\n",
      "8231  15-aug-2018  0    0.4\n",
      "8232  16-aug-2018  0    0.0\n",
      "8233  17-aug-2018  0    0.0\n",
      "8234  18-aug-2018  0    0.5\n",
      "8235  19-aug-2018  0    0.0\n",
      "8236  20-aug-2018  0    0.0\n",
      "8237  21-aug-2018  0    0.4\n",
      "8238  22-aug-2018  0    0.0\n",
      "8239  23-aug-2018  0    0.0\n",
      "8240  24-aug-2018  0    0.0\n",
      "8241  25-aug-2018  0   13.0\n",
      "8242  26-aug-2018  0    0.0\n",
      "8243  27-aug-2018  0    0.0\n",
      "8244  28-aug-2018  0    3.6\n",
      "8245  29-aug-2018  0    0.0\n",
      "8246  30-aug-2018  0    0.5\n",
      "8247  31-aug-2018  0    3.4\n",
      "\n",
      "[8248 rows x 3 columns]\n"
     ]
    }
   ],
   "source": [
    "df = pd.read_csv('C:\\\\Users\\\\Shane\\\\Desktop\\\\GMIT\\\\meteireann\\\\Rainfall.csv')\n",
    "print(df)"
   ]
  },
  {
   "cell_type": "code",
   "execution_count": null,
   "metadata": {
    "collapsed": true
   },
   "outputs": [],
   "source": []
  }
 ],
 "metadata": {
  "kernelspec": {
   "display_name": "Python 3",
   "language": "python",
   "name": "python3"
  },
  "language_info": {
   "codemirror_mode": {
    "name": "ipython",
    "version": 3
   },
   "file_extension": ".py",
   "mimetype": "text/x-python",
   "name": "python",
   "nbconvert_exporter": "python",
   "pygments_lexer": "ipython3",
   "version": "3.6.3"
  }
 },
 "nbformat": 4,
 "nbformat_minor": 2
}
