{
 "cells": [
  {
   "cell_type": "markdown",
   "metadata": {},
   "source": [
    "## Programming for Data Analysis Project\n",
    "\n"
   ]
  },
  {
   "cell_type": "markdown",
   "metadata": {},
   "source": [
    "** Introduction**"
   ]
  },
  {
   "cell_type": "markdown",
   "metadata": {},
   "source": [
    "The weather, the obsession of all Irish adults. From a conversation starter to the dreaded threat of weddings and summer bar-be-cues.\n",
    "\n",
    "Meteireann has the dubious task of trying to give accurate and timely forecasts for the nation, while more often than not being the butt of the joke due to each individual taking a wholistic forecast as a personal gaurantee of weather certainty.\n",
    "\n",
    "The following project is going to analyse the percipitation (Rain Fall) from the Cork Airport weather station in County Cork under the following headings;\n",
    "\n",
    "- Date\n",
    "- Percipitation Amount (mm)\n",
    "- Maximum Air Temperature (C)\n",
    "- Minimum Air Temperature (C)\n",
    "- Mean Wind Speed (Knot)\n",
    "- Wind Direction at Max 10 min Mean (deg)\n",
    "- Mean CBL Pressure (hpa)\n"
   ]
  },
  {
   "cell_type": "markdown",
   "metadata": {},
   "source": [
    "** Aim**\n",
    "\n",
    "The aim of this project is to explore the creation of an accurate localised weather predictor by investigating if known historical weather characterisitics have a dependency and relationship with each other.\n"
   ]
  },
  {
   "cell_type": "markdown",
   "metadata": {},
   "source": [
    "** Method **\n",
    "\n",
    "By analysing historical weather data and its associated characteristics in relation to percipitation amount it is proposed that if the correct weather characteristics and data for the local area are entered into the model i.e. Ballincollig, County Cork, an accurate determination if percipition (rain) is forecast for your locality will be determined.\n",
    "\n",
    "As the Cork Airport weather station is the closest weather station with enough variable data to create a model it was used to gather historical data points.\n",
    "\n",
    "For the purpose of this project random data will be generated using numpy.random to generate a data sets to mimick the characteristics of the variables taken from the Cork Airport weather station. i.e.\n",
    "\n",
    "- Date\n",
    "- Percipitation Amount (mm)\n",
    "- Maximum Air Temperature (C)\n",
    "- Minimum Air Temperature (C)\n",
    "- Mean Wind Speed (Knot)\n",
    "- Wind Direction at Max 10 min Mean (deg)\n",
    "- Mean CBL Pressure (hpa)\n"
   ]
  },
  {
   "cell_type": "code",
   "execution_count": 1,
   "metadata": {
    "collapsed": true
   },
   "outputs": [],
   "source": [
    "import pandas as pd"
   ]
  },
  {
   "cell_type": "code",
   "execution_count": 2,
   "metadata": {
    "collapsed": true
   },
   "outputs": [],
   "source": [
    "import numpy as np"
   ]
  },
  {
   "cell_type": "code",
   "execution_count": 3,
   "metadata": {
    "collapsed": true
   },
   "outputs": [],
   "source": [
    "import matplotlib.pyplot as plt"
   ]
  },
  {
   "cell_type": "code",
   "execution_count": 4,
   "metadata": {
    "collapsed": true
   },
   "outputs": [],
   "source": [
    "from scipy.stats import kurtosis, skew"
   ]
  },
  {
   "cell_type": "code",
   "execution_count": 5,
   "metadata": {},
   "outputs": [
    {
     "name": "stdout",
     "output_type": "stream",
     "text": [
      "          Date  MaxTemp  MinTemp  Rain (mm)  Pressure cbl (Hpa)  \\\n",
      "0    31-Oct-17     12.3     10.0        0.0              1003.7   \n",
      "1    01-Nov-17     12.6      7.8        0.0               998.5   \n",
      "2    02-Nov-17     12.8      7.8        0.2               997.4   \n",
      "3    03-Nov-17     10.0      7.3        0.0               992.5   \n",
      "4    04-Nov-17      9.4      3.4        2.4               991.3   \n",
      "5    05-Nov-17      9.8      4.0        1.1              1000.5   \n",
      "6    06-Nov-17     11.5      5.6       10.6               997.8   \n",
      "7    07-Nov-17      9.7      3.0        2.5               997.2   \n",
      "8    08-Nov-17     10.5      4.0        0.1              1005.2   \n",
      "9    09-Nov-17     12.2      8.7        0.8              1006.8   \n",
      "10   10-Nov-17     12.1      9.2        0.7              1002.6   \n",
      "11   11-Nov-17     14.1      7.3        4.3               995.2   \n",
      "12   12-Nov-17      8.6      2.6        0.0              1002.6   \n",
      "13   13-Nov-17     10.2      2.6        0.0              1007.2   \n",
      "14   14-Nov-17     13.1      9.6        0.3              1003.2   \n",
      "15   15-Nov-17     11.1      8.6        2.3              1002.3   \n",
      "16   16-Nov-17     10.6      4.3        0.2              1005.5   \n",
      "17   17-Nov-17      8.4      3.1        0.3              1009.3   \n",
      "18   18-Nov-17     13.4      7.9        1.6              1005.2   \n",
      "19   19-Nov-17     11.0      7.1        2.0              1000.7   \n",
      "20   20-Nov-17     13.4     11.0        1.7               994.5   \n",
      "21   21-Nov-17     13.1     10.6       14.4               985.5   \n",
      "22   22-Nov-17     12.9      3.0       21.6               970.5   \n",
      "23   23-Nov-17      9.0      1.9        0.1               977.8   \n",
      "24   24-Nov-17      6.4      0.9        2.1               993.0   \n",
      "25   25-Nov-17      5.0      0.6        0.6              1003.2   \n",
      "26   26-Nov-17      9.7      2.3        0.7              1004.3   \n",
      "27   27-Nov-17     10.2      4.3        4.0               998.0   \n",
      "28   28-Nov-17      6.1      1.8        0.1               997.8   \n",
      "29   29-Nov-17      5.2      0.8        0.0              1001.2   \n",
      "..         ...      ...      ...        ...                 ...   \n",
      "336  02-Oct-18     18.1     11.4        0.0              1006.9   \n",
      "337  03-Oct-18     15.5     10.4        0.2              1007.7   \n",
      "338  04-Oct-18     14.9     11.4        2.8              1001.5   \n",
      "339  05-Oct-18     11.4      6.6        0.4               996.6   \n",
      "340  06-Oct-18     11.9      5.0        0.0              1000.8   \n",
      "341  07-Oct-18     13.4      3.1        0.0              1002.3   \n",
      "342  08-Oct-18     13.9     11.6        0.3               996.2   \n",
      "343  09-Oct-18     15.2     12.0        0.0               992.2   \n",
      "344  10-Oct-18     16.9     12.2        0.0               983.2   \n",
      "345  11-Oct-18     14.1     10.1        9.7               972.3   \n",
      "346  12-Oct-18     13.9     10.4       18.3               972.8   \n",
      "347  13-Oct-18     13.2      7.8       18.4               982.3   \n",
      "348  14-Oct-18     12.3      5.6        0.0               990.5   \n",
      "349  15-Oct-18     13.3      5.2        0.0               994.0   \n",
      "350  16-Oct-18     15.5      7.0        1.4               993.5   \n",
      "351  17-Oct-18     13.1      5.8        0.4              1002.6   \n",
      "352  18-Oct-18     12.5      4.6        0.1              1007.9   \n",
      "353  19-Oct-18     13.8      8.1        0.0              1006.4   \n",
      "354  20-Oct-18     13.5     10.1        0.2              1009.5   \n",
      "355  21-Oct-18     13.2      5.8        0.6              1013.2   \n",
      "356  22-Oct-18     12.6      4.5        0.0              1020.9   \n",
      "357  23-Oct-18     15.3      6.5        0.0              1018.3   \n",
      "358  24-Oct-18     12.9      7.3        0.0              1013.0   \n",
      "359  25-Oct-18     13.1      8.3        0.0              1005.5   \n",
      "360  26-Oct-18      9.2      4.0        0.3              1002.3   \n",
      "361  27-Oct-18      6.9      1.2        0.1              1004.9   \n",
      "362  28-Oct-18      8.7      0.3        0.0              1003.1   \n",
      "363  29-Oct-18      8.4      2.6        2.0               989.4   \n",
      "364  30-Oct-18     10.1      4.0        6.0               979.9   \n",
      "365  31-Oct-18     11.2      3.7        0.4               983.0   \n",
      "\n",
      "     WindSpeed (Knots)  Wind Direction (deg)  \n",
      "0                  9.2                   220  \n",
      "1                  3.8                   180  \n",
      "2                  4.1                   340  \n",
      "3                  3.1                   260  \n",
      "4                 10.2                   300  \n",
      "5                  7.8                   320  \n",
      "6                 12.5                   200  \n",
      "7                  9.1                   330  \n",
      "8                  5.9                   300  \n",
      "9                  9.9                   310  \n",
      "10                11.8                   300  \n",
      "11                13.0                   280  \n",
      "12                11.8                   330  \n",
      "13                 6.6                   230  \n",
      "14                 6.1                   230  \n",
      "15                 5.4                   200  \n",
      "16                 8.2                   330  \n",
      "17                 3.5                   220  \n",
      "18                 6.5                   260  \n",
      "19                 8.1                   210  \n",
      "20                10.9                   230  \n",
      "21                 9.9                   220  \n",
      "22                13.5                   200  \n",
      "23                 9.2                   240  \n",
      "24                 7.6                   330  \n",
      "25                 9.8                   300  \n",
      "26                10.2                   240  \n",
      "27                11.8                   240  \n",
      "28                11.0                   340  \n",
      "29                11.5                   340  \n",
      "..                 ...                   ...  \n",
      "336               10.6                   300  \n",
      "337                6.5                   220  \n",
      "338                7.7                   200  \n",
      "339               10.8                   330  \n",
      "340                9.0                   350  \n",
      "341                9.5                   230  \n",
      "342               15.5                   210  \n",
      "343               14.6                   210  \n",
      "344               16.8                   140  \n",
      "345               13.8                   140  \n",
      "346               13.9                   150  \n",
      "347                7.9                   320  \n",
      "348                4.1                   300  \n",
      "349                6.0                    30  \n",
      "350                8.2                   200  \n",
      "351                8.0                   350  \n",
      "352                5.3                   340  \n",
      "353                5.1                   220  \n",
      "354                6.4                   210  \n",
      "355               11.8                   320  \n",
      "356                7.3                   340  \n",
      "357               10.0                   330  \n",
      "358               13.1                   330  \n",
      "359                9.2                   330  \n",
      "360               13.5                   330  \n",
      "361               12.5                   360  \n",
      "362                9.0                   330  \n",
      "363                8.3                   140  \n",
      "364                4.6                   160  \n",
      "365                4.5                   220  \n",
      "\n",
      "[366 rows x 7 columns]\n"
     ]
    }
   ],
   "source": [
    "df = pd.read_csv('C://Users//Shane//Desktop//GMIT//meteireann//CorkAirportDataone.txt')\n",
    "print(df)"
   ]
  },
  {
   "cell_type": "markdown",
   "metadata": {},
   "source": [
    "** Summary Descriptive Statistics for the Data Frame**\n",
    "\n",
    "To generate random data to match the characteristics of the cork airport weather data I first need to determine the descriptive statistics for the data set. To generate a randm data set that closely aligns to the cork airport data set I am going to calculate the following statistical parameters.\n",
    "\n",
    "- Mean\n",
    "- Standard Deviation (std)\n",
    "- Skewness\n",
    "- Kurtosis"
   ]
  },
  {
   "cell_type": "code",
   "execution_count": 6,
   "metadata": {},
   "outputs": [
    {
     "name": "stdout",
     "output_type": "stream",
     "text": [
      "Cork Airport Data Mean Results\n"
     ]
    },
    {
     "data": {
      "text/plain": [
       "MaxTemp                  13.301366\n",
       "MinTemp                   6.671858\n",
       "Rain (mm)                 2.960929\n",
       "Pressure cbl (Hpa)      995.120765\n",
       "WindSpeed (Knots)         9.370219\n",
       "Wind Direction (deg)    228.415301\n",
       "dtype: float64"
      ]
     },
     "execution_count": 6,
     "metadata": {},
     "output_type": "execute_result"
    }
   ],
   "source": [
    "print (\"Cork Airport Data Mean Results\")\n",
    "df.mean()"
   ]
  },
  {
   "cell_type": "code",
   "execution_count": 7,
   "metadata": {},
   "outputs": [
    {
     "name": "stdout",
     "output_type": "stream",
     "text": [
      "Cork Airport Data Standard Deviation Results\n"
     ]
    },
    {
     "data": {
      "text/plain": [
       "MaxTemp                  5.517347\n",
       "MinTemp                  4.669434\n",
       "Rain (mm)                5.256508\n",
       "Pressure cbl (Hpa)      11.382705\n",
       "WindSpeed (Knots)        3.611673\n",
       "Wind Direction (deg)    89.321351\n",
       "dtype: float64"
      ]
     },
     "execution_count": 7,
     "metadata": {},
     "output_type": "execute_result"
    }
   ],
   "source": [
    "print (\"Cork Airport Data Standard Deviation Results\")\n",
    "df.std()"
   ]
  },
  {
   "cell_type": "code",
   "execution_count": 8,
   "metadata": {},
   "outputs": [
    {
     "name": "stdout",
     "output_type": "stream",
     "text": [
      "Cork Airport Data Skewness Results\n"
     ]
    },
    {
     "data": {
      "text/plain": [
       "MaxTemp                 0.175570\n",
       "MinTemp                -0.028819\n",
       "Rain (mm)               2.597616\n",
       "Pressure cbl (Hpa)     -0.594056\n",
       "WindSpeed (Knots)       0.694846\n",
       "Wind Direction (deg)   -0.609418\n",
       "dtype: float64"
      ]
     },
     "execution_count": 8,
     "metadata": {},
     "output_type": "execute_result"
    }
   ],
   "source": [
    "print (\"Cork Airport Data Skewness Results\")\n",
    "df.skew()"
   ]
  },
  {
   "cell_type": "code",
   "execution_count": 9,
   "metadata": {},
   "outputs": [
    {
     "name": "stdout",
     "output_type": "stream",
     "text": [
      "Cork Airport Data Kurtosis Results\n"
     ]
    },
    {
     "data": {
      "text/plain": [
       "MaxTemp                -0.538643\n",
       "MinTemp                -0.809285\n",
       "Rain (mm)               7.324231\n",
       "Pressure cbl (Hpa)      0.033814\n",
       "WindSpeed (Knots)       0.133744\n",
       "Wind Direction (deg)   -0.338251\n",
       "dtype: float64"
      ]
     },
     "execution_count": 9,
     "metadata": {},
     "output_type": "execute_result"
    }
   ],
   "source": [
    "print (\"Cork Airport Data Kurtosis Results\")\n",
    "df.kurtosis()"
   ]
  },
  {
   "cell_type": "code",
   "execution_count": 33,
   "metadata": {},
   "outputs": [
    {
     "name": "stdout",
     "output_type": "stream",
     "text": [
      "Cork Airport Data Min Results\n"
     ]
    },
    {
     "data": {
      "text/plain": [
       "Date                    01-Apr-18\n",
       "MaxTemp                      -1.8\n",
       "MinTemp                        -7\n",
       "Rain (mm)                       0\n",
       "Pressure cbl (Hpa)          963.3\n",
       "WindSpeed (Knots)             2.8\n",
       "Wind Direction (deg)            0\n",
       "dtype: object"
      ]
     },
     "execution_count": 33,
     "metadata": {},
     "output_type": "execute_result"
    }
   ],
   "source": [
    "print (\"Cork Airport Data Min Results\")\n",
    "df.min()"
   ]
  },
  {
   "cell_type": "code",
   "execution_count": 35,
   "metadata": {},
   "outputs": [
    {
     "name": "stdout",
     "output_type": "stream",
     "text": [
      "Cork Airport Data Max Results\n"
     ]
    },
    {
     "data": {
      "text/plain": [
       "Date                    31-Oct-18\n",
       "MaxTemp                      26.7\n",
       "MinTemp                      16.5\n",
       "Rain (mm)                      31\n",
       "Pressure cbl (Hpa)         1020.9\n",
       "WindSpeed (Knots)            23.8\n",
       "Wind Direction (deg)          360\n",
       "dtype: object"
      ]
     },
     "execution_count": 35,
     "metadata": {},
     "output_type": "execute_result"
    }
   ],
   "source": [
    "print (\"Cork Airport Data Max Results\")\n",
    "df.max()"
   ]
  },
  {
   "cell_type": "code",
   "execution_count": 31,
   "metadata": {},
   "outputs": [
    {
     "name": "stdout",
     "output_type": "stream",
     "text": [
      "Cork Airport Data Median Results\n"
     ]
    },
    {
     "data": {
      "text/plain": [
       "MaxTemp                  12.60\n",
       "MinTemp                   6.75\n",
       "Rain (mm)                 0.40\n",
       "Pressure cbl (Hpa)      996.85\n",
       "WindSpeed (Knots)         8.90\n",
       "Wind Direction (deg)    230.00\n",
       "dtype: float64"
      ]
     },
     "execution_count": 31,
     "metadata": {},
     "output_type": "execute_result"
    }
   ],
   "source": [
    "print (\"Cork Airport Data Median Results\")\n",
    "df.median()"
   ]
  },
  {
   "cell_type": "code",
   "execution_count": 12,
   "metadata": {},
   "outputs": [
    {
     "data": {
      "image/png": "[encoded data removed]",
      "text/plain": [
       "<matplotlib.figure.Figure at 0x26846904860>"
      ]
     },
     "metadata": {},
     "output_type": "display_data"
    }
   ],
   "source": [
    "plt.hist(df.loc[:,\"MinTemp\"])\n",
    "plt.title(\"Cork Airport Min Temperature\")\n",
    "plt.xlabel(\"Qty\")\n",
    "plt.ylabel(\"Temperature\")\n",
    "plt.show()"
   ]
  },
  {
   "cell_type": "markdown",
   "metadata": {},
   "source": [
    "** Defining Each Column Within the Cork Airport Data Frame**\n",
    "\n",
    "To compare the data and graphs of the Cork airport data and the randomly generated data I will define each column within the data frame so it can be graphed. I will use the iloc function to define each column of data so they can be plotted on as subplots on bar chart graphs."
   ]
  },
  {
   "cell_type": "code",
   "execution_count": 13,
   "metadata": {},
   "outputs": [
    {
     "data": {
      "text/plain": [
       "Text(0,0.5,'Temperature')"
      ]
     },
     "execution_count": 13,
     "metadata": {},
     "output_type": "execute_result"
    }
   ],
   "source": [
    "plt.subplot(2,3,1)\n",
    "MaxTemp=df.iloc[0:365,1]\n",
    "plt.hist(MaxTemp)\n",
    "plt.title(\"MaxTemp\")\n",
    "plt.xlabel(\"Qty\")\n",
    "plt.ylabel(\"Temperature\")"
   ]
  },
  {
   "cell_type": "code",
   "execution_count": 14,
   "metadata": {},
   "outputs": [
    {
     "data": {
      "text/plain": [
       "Text(0,0.5,'Temperature')"
      ]
     },
     "execution_count": 14,
     "metadata": {},
     "output_type": "execute_result"
    }
   ],
   "source": [
    "plt.subplot(2,3,2)\n",
    "MinTemp=df.iloc[0:365,2]\n",
    "plt.hist(MinTemp)\n",
    "plt.title(\"MinTemp\")\n",
    "plt.xlabel(\"Qty\")\n",
    "plt.ylabel(\"Temperature\")"
   ]
  },
  {
   "cell_type": "code",
   "execution_count": 15,
   "metadata": {},
   "outputs": [
    {
     "data": {
      "text/plain": [
       "Text(0,0.5,'Volume')"
      ]
     },
     "execution_count": 15,
     "metadata": {},
     "output_type": "execute_result"
    }
   ],
   "source": [
    "plt.subplot(2,3,3)\n",
    "Rain=df.iloc[0:365,3]\n",
    "plt.hist(Rain)\n",
    "plt.title(\"Percipitation (mm)\")\n",
    "plt.xlabel(\"Qty\")\n",
    "plt.ylabel(\"Volume\")"
   ]
  },
  {
   "cell_type": "code",
   "execution_count": 16,
   "metadata": {},
   "outputs": [
    {
     "data": {
      "text/plain": [
       "Text(0,0.5,'Pressure')"
      ]
     },
     "execution_count": 16,
     "metadata": {},
     "output_type": "execute_result"
    }
   ],
   "source": [
    "plt.subplot(2,3,4)\n",
    "Pressure=df.iloc[0:365,4]\n",
    "plt.hist(Pressure)\n",
    "plt.title(\"Pressure (Hpa)\")\n",
    "plt.xlabel(\"Qty\")\n",
    "plt.ylabel(\"Pressure\")"
   ]
  },
  {
   "cell_type": "code",
   "execution_count": 17,
   "metadata": {},
   "outputs": [
    {
     "data": {
      "text/plain": [
       "Text(0,0.5,'Speed Knots')"
      ]
     },
     "execution_count": 17,
     "metadata": {},
     "output_type": "execute_result"
    }
   ],
   "source": [
    "plt.subplot(2,3,5)\n",
    "WindSpeed=df.iloc[0:365,5]\n",
    "plt.hist(WindSpeed)\n",
    "plt.title(\"Wind Speed (knots)\")\n",
    "plt.xlabel(\"Qty\")\n",
    "plt.ylabel(\"Speed Knots\")"
   ]
  },
  {
   "cell_type": "code",
   "execution_count": 18,
   "metadata": {},
   "outputs": [
    {
     "data": {
      "text/plain": [
       "Text(0,0.5,'Wind Direction (deg)')"
      ]
     },
     "execution_count": 18,
     "metadata": {},
     "output_type": "execute_result"
    }
   ],
   "source": [
    "plt.subplot(2,3,6)\n",
    "WindDirection=df.iloc[0:365,6]\n",
    "plt.hist(WindDirection)\n",
    "plt.title(\"Wind Direction (deg)\")\n",
    "plt.xlabel(\"Qty\")\n",
    "plt.ylabel(\"Wind Direction (deg)\")"
   ]
  },
  {
   "cell_type": "code",
   "execution_count": 19,
   "metadata": {},
   "outputs": [
    {
     "data": {
      "image/png": "[encoded data removed]",
      "text/plain": [
       "<matplotlib.figure.Figure at 0x268455acbe0>"
      ]
     },
     "metadata": {},
     "output_type": "display_data"
    }
   ],
   "source": [
    "plt.show()"
   ]
  },
  {
   "cell_type": "markdown",
   "metadata": {
    "collapsed": true
   },
   "source": [
    "** Generatation of Random Data to Simulation the Cork Airport Weather Data**\n",
    "\n"
   ]
  },
  {
   "cell_type": "code",
   "execution_count": 20,
   "metadata": {
    "collapsed": true
   },
   "outputs": [],
   "source": [
    "s = np.random.logistic(995.120765, 11.382705, 365)"
   ]
  },
  {
   "cell_type": "code",
   "execution_count": 21,
   "metadata": {},
   "outputs": [
    {
     "data": {
      "image/png": "[encoded data removed]",
      "text/plain": [
       "<matplotlib.figure.Figure at 0x268468aef60>"
      ]
     },
     "metadata": {},
     "output_type": "display_data"
    }
   ],
   "source": [
    "plt.hist(s)\n",
    "plt.show()"
   ]
  },
  {
   "cell_type": "code",
   "execution_count": 22,
   "metadata": {},
   "outputs": [
    {
     "data": {
      "image/png": "[encoded data removed]",
      "text/plain": [
       "<matplotlib.figure.Figure at 0x268453e3588>"
      ]
     },
     "metadata": {},
     "output_type": "display_data"
    }
   ],
   "source": [
    "RandMaxTemp = 5.517347*np.random.standard_normal(365) +13.301366\n",
    "plt.hist(RandMaxTemp)\n",
    "plt.show()"
   ]
  },
  {
   "cell_type": "code",
   "execution_count": 23,
   "metadata": {},
   "outputs": [
    {
     "data": {
      "text/plain": [
       "array([ 17.94944885,   7.67358291,  17.79762744,  14.2131726 ,\n",
       "        20.10086875,   9.77514363,   7.92465776,  21.09376082,\n",
       "        13.37463987,  18.29686698,  17.20670057,   8.79661564,\n",
       "         5.68650307,   7.62110893,  10.95565087,   8.61172705,\n",
       "        19.10412541,   8.66875282,  11.16682235,  15.57194403,\n",
       "         6.82790222,   8.34726634,  16.45455685,   9.35222257,\n",
       "         3.41071181,  14.12774305,  10.57415473,   8.48325386,\n",
       "        14.16515083,  14.14087508,  20.03925871,  12.80233853,\n",
       "         7.06717729,  11.76378336,  17.34036626,  13.08841612,\n",
       "        -0.07258331,  12.54407933,   9.15646899,  13.02501643,\n",
       "        19.49090268,   5.73367934,  18.91579895,  15.40862344,\n",
       "         0.44579318,   9.75859305,   9.06468545,  13.28569814,\n",
       "        13.24665514,  21.86186628,  10.72440164,  13.54497754,\n",
       "        21.20724668,   2.36879967,  12.29154708,  11.74771433,\n",
       "        20.20462123,   9.39224949,   7.23760346,  17.58006679,\n",
       "        15.74845854,  18.04789767,  12.54430594,   4.6331487 ,\n",
       "        19.7277052 ,  12.70354611,   7.14411055,  16.32315297,\n",
       "         6.7038327 ,   1.44496429,   4.80108234,  20.09656402,\n",
       "        14.9863417 ,  15.84184329,  28.38111076,  15.43747957,\n",
       "        14.21157145,   9.44350324,  16.7528695 ,  21.84705948,\n",
       "        18.31683666,  15.19704073,  -0.16026066,  19.85060769,\n",
       "        23.3118018 ,  14.04488998,  13.41461227,  15.78726659,\n",
       "         8.17561396,   2.06239639,  11.00220703,  14.6168871 ,\n",
       "         9.5587556 ,   2.97763498,  24.86734854,  26.02122338,\n",
       "         6.5711253 ,  21.12660945,   8.52513519,  12.65230417,\n",
       "        11.93485984,  20.72142802,  26.40064095,   9.16101751,\n",
       "        11.1952366 ,  17.45482558,  22.4379695 ,  20.7699669 ,\n",
       "        18.2234691 ,  15.78633951,  18.61705495,  11.99185611,\n",
       "         8.85301423,   9.7281305 ,  12.63497854,  12.70738047,\n",
       "        24.66419772,   6.77168618,   9.69815712,  15.05390403,\n",
       "        19.38843579,  10.54334886,  18.42756801,  18.91831802,\n",
       "        18.97102861,  20.8846708 ,  26.07859519,   9.19870068,\n",
       "        13.49958627,  12.24422204,   8.00915995,  13.23322961,\n",
       "         5.80896848,   4.07924893,  17.14495463,   8.51681515,\n",
       "        10.2031625 ,  15.65400621,   9.34662589,   8.29459812,\n",
       "        14.71059403,  12.15829041,  21.30289948,  11.67011624,\n",
       "        19.05757369,  11.51433204,   8.27052843,  12.97294296,\n",
       "         7.97189198,   7.35062585,  11.60874849,  20.81959835,\n",
       "        13.40419624,  -2.73182857,  22.22375964,  11.68420761,\n",
       "         7.02491399,   1.46922673,   3.77572022,   9.20142446,\n",
       "        15.64547171,  21.84506502,  16.61670534,   8.14277423,\n",
       "         8.15406059,  13.8145702 ,   9.86366376,  15.21647637,\n",
       "         9.02861952,   3.38056452,   9.34737936,  10.19904874,\n",
       "        25.46629913,  18.84291288,  13.34558412,  16.90730008,\n",
       "        17.42155534,  17.95633633,  18.10264458,  11.47719136,\n",
       "        18.22051866,  20.24667893,   4.109722  ,  13.73091891,\n",
       "        10.5556724 ,  16.40694908,  18.910073  ,  10.14431738,\n",
       "        16.98107379,  10.35192154,  12.98701917,  15.22596076,\n",
       "        13.17402931,  16.50737276,  10.99332762,  18.83860267,\n",
       "        15.51020489,  17.11018469,  24.25476692,  15.04265141,\n",
       "        12.66087994,  10.83160949,  12.54324157,   9.66166077,\n",
       "        13.76145924,   0.88354188,  11.97412089,  10.13079378,\n",
       "         8.44630303,   8.31550873,  20.28796532,  17.35238245,\n",
       "         9.99059417,  17.28518702,   4.55377059,  17.45745664,\n",
       "        10.23103983,  11.2260854 ,  13.91512948,   9.46667998,\n",
       "        -0.93728992,  13.43845156,  11.37902911,  11.4395318 ,\n",
       "        12.59190347,   7.86882365,  12.55652476,  14.93828232,\n",
       "        13.50532306,  12.02985864,   5.22704239,  18.65918743,\n",
       "        24.87702434,  10.65865042,  16.70651958,  15.28962296,\n",
       "        20.62796655,   9.40571502,  14.1059022 ,  14.20777848,\n",
       "        12.93646297,  20.44977823,  23.82650403,  15.2817265 ,\n",
       "        10.6073471 ,  10.87752304,  14.93954039,  21.27640304,\n",
       "        10.12056048,  17.42355746,   5.14898413,   8.70131359,\n",
       "         2.66498099,  13.30935835,  23.26064165,  12.77544948,\n",
       "        24.00723962,  11.01296547,  16.44894692,  20.0170562 ,\n",
       "        13.83121258,   8.88474999,  18.16026789,  15.738892  ,\n",
       "        20.76889173,  14.86392953,  12.19702887,  15.70655076,\n",
       "        14.81453301,  10.43077449,  17.62339646,  12.94866509,\n",
       "        10.31191054,  17.77878051,   3.2389454 ,  15.41367059,\n",
       "        14.41812495,  10.05871771,   9.86719   ,  15.24215347,\n",
       "        15.1007812 ,  24.58122021,  17.84065722,  17.3823938 ,\n",
       "        20.45919842,  14.32239446,  20.94747278,  11.30923541,\n",
       "        22.94119978,   6.23209247,  20.46880286,  11.7640714 ,\n",
       "        22.61704398,  19.96301558,  10.2474025 ,  24.12897413,\n",
       "         5.96552906,  11.17178549,  19.68971645,  10.3405503 ,\n",
       "         9.44268064,  16.65445092,  13.84957653,  15.19972814,\n",
       "        11.2745512 ,  10.22656139,  16.30093999,   4.32128724,\n",
       "        17.49568575,  11.06964925,  14.16838736,  15.92141558,\n",
       "        20.04330647,   6.46192685,   3.48710552,  12.15498746,\n",
       "        17.00567   ,  12.13269672,   3.83783462,  11.43801541,\n",
       "        21.14458733,  28.20244418,  11.7159767 ,   9.97980851,\n",
       "        12.29888162,  26.39747111,  12.50359444,  21.99752915,\n",
       "        16.75699241,  16.73783489,  18.30356877,   9.78221753,\n",
       "         6.38642657,   6.05651834,  15.04881392,  15.44089312,\n",
       "        11.4977039 ,  13.29896004,   4.54319764,  26.39226671,\n",
       "        15.60249155,   1.36337175,  10.87542478,  18.07367662,\n",
       "        17.14904793,   8.68056291,  15.59880084,  14.89999637,\n",
       "        22.25181804,   6.9934741 ,  12.32080591,  12.94915734,\n",
       "        21.19987854,  15.87854975,  20.69969834,  19.00794049,\n",
       "         9.21322418,  17.16338078,  18.16896505,  21.36101895,\n",
       "        17.53462947,  20.82857478,   5.70410187,  14.30796879,  10.87037201])"
      ]
     },
     "execution_count": 23,
     "metadata": {},
     "output_type": "execute_result"
    }
   ],
   "source": [
    "RandMaxTemp"
   ]
  },
  {
   "cell_type": "code",
   "execution_count": 50,
   "metadata": {},
   "outputs": [],
   "source": [
    "RandWindSpeed = np.random.gumbel(8.9, 3.611673, 365)"
   ]
  },
  {
   "cell_type": "code",
   "execution_count": 51,
   "metadata": {},
   "outputs": [
    {
     "data": {
      "image/png": "[encoded data removed]",
      "text/plain": [
       "<matplotlib.figure.Figure at 0x268475915c0>"
      ]
     },
     "metadata": {},
     "output_type": "display_data"
    }
   ],
   "source": [
    "plt.hist(RandWindSpeed)\n",
    "plt.show()"
   ]
  },
  {
   "cell_type": "code",
   "execution_count": 43,
   "metadata": {},
   "outputs": [
    {
     "data": {
      "image/png": "[encoded data removed]",
      "text/plain": [
       "<matplotlib.figure.Figure at 0x268473c7eb8>"
      ]
     },
     "metadata": {},
     "output_type": "display_data"
    }
   ],
   "source": [
    "RandRain = np.random.gumbel(0.4, 5.256508, 365)\n",
    "plt.hist(RandRain)\n",
    "plt.show()"
   ]
  },
  {
   "cell_type": "code",
   "execution_count": null,
   "metadata": {
    "collapsed": true
   },
   "outputs": [],
   "source": []
  }
 ],
 "metadata": {
  "kernelspec": {
   "display_name": "Python 3",
   "language": "python",
   "name": "python3"
  }
 },
 "nbformat": 4,
 "nbformat_minor": 2
}
