{
 "cells": [
  {
   "cell_type": "markdown",
   "metadata": {},
   "source": [
    "## Programming for Data Analysis Project\n",
    "\n"
   ]
  },
  {
   "cell_type": "markdown",
   "metadata": {},
   "source": [
    "** Introduction**"
   ]
  },
  {
   "cell_type": "markdown",
   "metadata": {},
   "source": [
    "The weather, the obsession of all Irish adults. From a conversation starter to the dreaded threat of weddings and summer bar-be-cues.\n",
    "\n",
    "Meteireann has the dubious task of trying to give accurate and timely forecasts for the nation, while more often than not being the butt of the joke due to each individual taking a wholistic forecast as a personal gaurantee of weather certainty.\n",
    "\n",
    "The following project is going to analyse the percipitation (Rain Fall) from the Cork Airport weather station in County Cork under the following headings;\n",
    "\n",
    "- Date\n",
    "- Percipitation Amount (mm)\n",
    "- Maximum Air Temperature (C)\n",
    "- Minimum Air Temperature (C)\n",
    "- Mean Wind Speed (Knot)\n",
    "- Wind Direction at Max 10 min Mean (deg)\n",
    "- Mean CBL Pressure (hpa)\n"
   ]
  },
  {
   "cell_type": "markdown",
   "metadata": {},
   "source": [
    "** Aim**\n",
    "\n",
    "The aim of this project is to explore the creation of an accurate localised weather predictor by investigating if known historical weather characterisitics have a dependency and relationship with each other.\n"
   ]
  },
  {
   "cell_type": "markdown",
   "metadata": {},
   "source": [
    "** Method **\n",
    "\n",
    "By analysing historical weather data and its associated characteristics in relation to percipitation amount it is proposed that if the correct weather characteristics and data for the local area are entered into the model i.e. Ballincollig, County Cork, an accurate determination if percipition (rain) is forecast for your locality will be determined.\n",
    "\n",
    "As the Cork Airport weather station is the closest weather station with enough variable data to create a model it was used to gather historical data points.\n",
    "\n",
    "For the purpose of this project random data will be generated using numpy.random to generate a data sets to mimick the characteristics of the variables taken from the Cork Airport weather station. i.e.\n",
    "\n",
    "- Date\n",
    "- Percipitation Amount (mm)\n",
    "- Maximum Air Temperature (C)\n",
    "- Minimum Air Temperature (C)\n",
    "- Mean Wind Speed (Knot)\n",
    "- Wind Direction at Max 10 min Mean (deg)\n",
    "- Mean CBL Pressure (hpa)\n"
   ]
  },
  {
   "cell_type": "code",
   "execution_count": 1,
   "metadata": {
    "collapsed": true
   },
   "outputs": [],
   "source": [
    "import pandas as pd"
   ]
  },
  {
   "cell_type": "code",
   "execution_count": 2,
   "metadata": {
    "collapsed": true
   },
   "outputs": [],
   "source": [
    "import numpy as np"
   ]
  },
  {
   "cell_type": "code",
   "execution_count": 3,
   "metadata": {
    "collapsed": true
   },
   "outputs": [],
   "source": [
    "import matplotlib.pyplot as plt"
   ]
  },
  {
   "cell_type": "code",
   "execution_count": 4,
   "metadata": {
    "collapsed": true
   },
   "outputs": [],
   "source": [
    "from scipy.stats import kurtosis, skew"
   ]
  },
  {
   "cell_type": "code",
   "execution_count": 5,
   "metadata": {},
   "outputs": [
    {
     "name": "stdout",
     "output_type": "stream",
     "text": [
      "          Date  MaxTemp  MinTemp  Rain (mm)  Pressure cbl (Hpa)  \\\n",
      "0    31-Oct-17     12.3     10.0        0.0              1003.7   \n",
      "1    01-Nov-17     12.6      7.8        0.0               998.5   \n",
      "2    02-Nov-17     12.8      7.8        0.2               997.4   \n",
      "3    03-Nov-17     10.0      7.3        0.0               992.5   \n",
      "4    04-Nov-17      9.4      3.4        2.4               991.3   \n",
      "5    05-Nov-17      9.8      4.0        1.1              1000.5   \n",
      "6    06-Nov-17     11.5      5.6       10.6               997.8   \n",
      "7    07-Nov-17      9.7      3.0        2.5               997.2   \n",
      "8    08-Nov-17     10.5      4.0        0.1              1005.2   \n",
      "9    09-Nov-17     12.2      8.7        0.8              1006.8   \n",
      "10   10-Nov-17     12.1      9.2        0.7              1002.6   \n",
      "11   11-Nov-17     14.1      7.3        4.3               995.2   \n",
      "12   12-Nov-17      8.6      2.6        0.0              1002.6   \n",
      "13   13-Nov-17     10.2      2.6        0.0              1007.2   \n",
      "14   14-Nov-17     13.1      9.6        0.3              1003.2   \n",
      "15   15-Nov-17     11.1      8.6        2.3              1002.3   \n",
      "16   16-Nov-17     10.6      4.3        0.2              1005.5   \n",
      "17   17-Nov-17      8.4      3.1        0.3              1009.3   \n",
      "18   18-Nov-17     13.4      7.9        1.6              1005.2   \n",
      "19   19-Nov-17     11.0      7.1        2.0              1000.7   \n",
      "20   20-Nov-17     13.4     11.0        1.7               994.5   \n",
      "21   21-Nov-17     13.1     10.6       14.4               985.5   \n",
      "22   22-Nov-17     12.9      3.0       21.6               970.5   \n",
      "23   23-Nov-17      9.0      1.9        0.1               977.8   \n",
      "24   24-Nov-17      6.4      0.9        2.1               993.0   \n",
      "25   25-Nov-17      5.0      0.6        0.6              1003.2   \n",
      "26   26-Nov-17      9.7      2.3        0.7              1004.3   \n",
      "27   27-Nov-17     10.2      4.3        4.0               998.0   \n",
      "28   28-Nov-17      6.1      1.8        0.1               997.8   \n",
      "29   29-Nov-17      5.2      0.8        0.0              1001.2   \n",
      "..         ...      ...      ...        ...                 ...   \n",
      "336  02-Oct-18     18.1     11.4        0.0              1006.9   \n",
      "337  03-Oct-18     15.5     10.4        0.2              1007.7   \n",
      "338  04-Oct-18     14.9     11.4        2.8              1001.5   \n",
      "339  05-Oct-18     11.4      6.6        0.4               996.6   \n",
      "340  06-Oct-18     11.9      5.0        0.0              1000.8   \n",
      "341  07-Oct-18     13.4      3.1        0.0              1002.3   \n",
      "342  08-Oct-18     13.9     11.6        0.3               996.2   \n",
      "343  09-Oct-18     15.2     12.0        0.0               992.2   \n",
      "344  10-Oct-18     16.9     12.2        0.0               983.2   \n",
      "345  11-Oct-18     14.1     10.1        9.7               972.3   \n",
      "346  12-Oct-18     13.9     10.4       18.3               972.8   \n",
      "347  13-Oct-18     13.2      7.8       18.4               982.3   \n",
      "348  14-Oct-18     12.3      5.6        0.0               990.5   \n",
      "349  15-Oct-18     13.3      5.2        0.0               994.0   \n",
      "350  16-Oct-18     15.5      7.0        1.4               993.5   \n",
      "351  17-Oct-18     13.1      5.8        0.4              1002.6   \n",
      "352  18-Oct-18     12.5      4.6        0.1              1007.9   \n",
      "353  19-Oct-18     13.8      8.1        0.0              1006.4   \n",
      "354  20-Oct-18     13.5     10.1        0.2              1009.5   \n",
      "355  21-Oct-18     13.2      5.8        0.6              1013.2   \n",
      "356  22-Oct-18     12.6      4.5        0.0              1020.9   \n",
      "357  23-Oct-18     15.3      6.5        0.0              1018.3   \n",
      "358  24-Oct-18     12.9      7.3        0.0              1013.0   \n",
      "359  25-Oct-18     13.1      8.3        0.0              1005.5   \n",
      "360  26-Oct-18      9.2      4.0        0.3              1002.3   \n",
      "361  27-Oct-18      6.9      1.2        0.1              1004.9   \n",
      "362  28-Oct-18      8.7      0.3        0.0              1003.1   \n",
      "363  29-Oct-18      8.4      2.6        2.0               989.4   \n",
      "364  30-Oct-18     10.1      4.0        6.0               979.9   \n",
      "365  31-Oct-18     11.2      3.7        0.4               983.0   \n",
      "\n",
      "     WindSpeed (Knots)  Wind Direction (deg)  \n",
      "0                  9.2                   220  \n",
      "1                  3.8                   180  \n",
      "2                  4.1                   340  \n",
      "3                  3.1                   260  \n",
      "4                 10.2                   300  \n",
      "5                  7.8                   320  \n",
      "6                 12.5                   200  \n",
      "7                  9.1                   330  \n",
      "8                  5.9                   300  \n",
      "9                  9.9                   310  \n",
      "10                11.8                   300  \n",
      "11                13.0                   280  \n",
      "12                11.8                   330  \n",
      "13                 6.6                   230  \n",
      "14                 6.1                   230  \n",
      "15                 5.4                   200  \n",
      "16                 8.2                   330  \n",
      "17                 3.5                   220  \n",
      "18                 6.5                   260  \n",
      "19                 8.1                   210  \n",
      "20                10.9                   230  \n",
      "21                 9.9                   220  \n",
      "22                13.5                   200  \n",
      "23                 9.2                   240  \n",
      "24                 7.6                   330  \n",
      "25                 9.8                   300  \n",
      "26                10.2                   240  \n",
      "27                11.8                   240  \n",
      "28                11.0                   340  \n",
      "29                11.5                   340  \n",
      "..                 ...                   ...  \n",
      "336               10.6                   300  \n",
      "337                6.5                   220  \n",
      "338                7.7                   200  \n",
      "339               10.8                   330  \n",
      "340                9.0                   350  \n",
      "341                9.5                   230  \n",
      "342               15.5                   210  \n",
      "343               14.6                   210  \n",
      "344               16.8                   140  \n",
      "345               13.8                   140  \n",
      "346               13.9                   150  \n",
      "347                7.9                   320  \n",
      "348                4.1                   300  \n",
      "349                6.0                    30  \n",
      "350                8.2                   200  \n",
      "351                8.0                   350  \n",
      "352                5.3                   340  \n",
      "353                5.1                   220  \n",
      "354                6.4                   210  \n",
      "355               11.8                   320  \n",
      "356                7.3                   340  \n",
      "357               10.0                   330  \n",
      "358               13.1                   330  \n",
      "359                9.2                   330  \n",
      "360               13.5                   330  \n",
      "361               12.5                   360  \n",
      "362                9.0                   330  \n",
      "363                8.3                   140  \n",
      "364                4.6                   160  \n",
      "365                4.5                   220  \n",
      "\n",
      "[366 rows x 7 columns]\n"
     ]
    }
   ],
   "source": [
    "df = pd.read_csv('C://Users//Shane//Desktop//GMIT//meteireann//CorkAirportDataone.txt')\n",
    "print(df)"
   ]
  },
  {
   "cell_type": "markdown",
   "metadata": {},
   "source": [
    "** Summary Descriptive Statistics for the Data Frame**\n",
    "\n",
    "To generate random data to match the characteristics of the cork airport weather data I first need to determine the descriptive statistics for the data set. To generate a randm data set that closely aligns to the cork airport data set I am going to calculate the following statistical parameters.\n",
    "\n",
    "- Mean\n",
    "- Standard Deviation (std)\n",
    "- Skewness\n",
    "- Kurtosis"
   ]
  },
  {
   "cell_type": "code",
   "execution_count": 6,
   "metadata": {},
   "outputs": [
    {
     "name": "stdout",
     "output_type": "stream",
     "text": [
      "Cork Airport Data Mean Results\n"
     ]
    },
    {
     "data": {
      "text/plain": [
       "MaxTemp                  13.301366\n",
       "MinTemp                   6.671858\n",
       "Rain (mm)                 2.960929\n",
       "Pressure cbl (Hpa)      995.120765\n",
       "WindSpeed (Knots)         9.370219\n",
       "Wind Direction (deg)    228.415301\n",
       "dtype: float64"
      ]
     },
     "execution_count": 6,
     "metadata": {},
     "output_type": "execute_result"
    }
   ],
   "source": [
    "print (\"Cork Airport Data Mean Results\")\n",
    "df.mean()"
   ]
  },
  {
   "cell_type": "code",
   "execution_count": 7,
   "metadata": {},
   "outputs": [
    {
     "name": "stdout",
     "output_type": "stream",
     "text": [
      "Cork Airport Data Standard Deviation Results\n"
     ]
    },
    {
     "data": {
      "text/plain": [
       "MaxTemp                  5.517347\n",
       "MinTemp                  4.669434\n",
       "Rain (mm)                5.256508\n",
       "Pressure cbl (Hpa)      11.382705\n",
       "WindSpeed (Knots)        3.611673\n",
       "Wind Direction (deg)    89.321351\n",
       "dtype: float64"
      ]
     },
     "execution_count": 7,
     "metadata": {},
     "output_type": "execute_result"
    }
   ],
   "source": [
    "print (\"Cork Airport Data Standard Deviation Results\")\n",
    "df.std()"
   ]
  },
  {
   "cell_type": "code",
   "execution_count": 8,
   "metadata": {},
   "outputs": [
    {
     "name": "stdout",
     "output_type": "stream",
     "text": [
      "Cork Airport Data Skewness Results\n"
     ]
    },
    {
     "data": {
      "text/plain": [
       "MaxTemp                 0.175570\n",
       "MinTemp                -0.028819\n",
       "Rain (mm)               2.597616\n",
       "Pressure cbl (Hpa)     -0.594056\n",
       "WindSpeed (Knots)       0.694846\n",
       "Wind Direction (deg)   -0.609418\n",
       "dtype: float64"
      ]
     },
     "execution_count": 8,
     "metadata": {},
     "output_type": "execute_result"
    }
   ],
   "source": [
    "print (\"Cork Airport Data Skewness Results\")\n",
    "df.skew()"
   ]
  },
  {
   "cell_type": "code",
   "execution_count": 9,
   "metadata": {},
   "outputs": [
    {
     "name": "stdout",
     "output_type": "stream",
     "text": [
      "Cork Airport Data Kurtosis Results\n"
     ]
    },
    {
     "data": {
      "text/plain": [
       "MaxTemp                -0.538643\n",
       "MinTemp                -0.809285\n",
       "Rain (mm)               7.324231\n",
       "Pressure cbl (Hpa)      0.033814\n",
       "WindSpeed (Knots)       0.133744\n",
       "Wind Direction (deg)   -0.338251\n",
       "dtype: float64"
      ]
     },
     "execution_count": 9,
     "metadata": {},
     "output_type": "execute_result"
    }
   ],
   "source": [
    "print (\"Cork Airport Data Kurtosis Results\")\n",
    "df.kurtosis()"
   ]
  },
  {
   "cell_type": "code",
   "execution_count": 10,
   "metadata": {},
   "outputs": [
    {
     "data": {
      "text/plain": [
       "Date                    01-Apr-18\n",
       "MaxTemp                      -1.8\n",
       "MinTemp                        -7\n",
       "Rain (mm)                       0\n",
       "Pressure cbl (Hpa)          963.3\n",
       "WindSpeed (Knots)             2.8\n",
       "Wind Direction (deg)            0\n",
       "dtype: object"
      ]
     },
     "execution_count": 10,
     "metadata": {},
     "output_type": "execute_result"
    }
   ],
   "source": [
    "df.min()"
   ]
  },
  {
   "cell_type": "code",
   "execution_count": 11,
   "metadata": {},
   "outputs": [
    {
     "data": {
      "text/plain": [
       "Date                    31-Oct-18\n",
       "MaxTemp                      26.7\n",
       "MinTemp                      16.5\n",
       "Rain (mm)                      31\n",
       "Pressure cbl (Hpa)         1020.9\n",
       "WindSpeed (Knots)            23.8\n",
       "Wind Direction (deg)          360\n",
       "dtype: object"
      ]
     },
     "execution_count": 11,
     "metadata": {},
     "output_type": "execute_result"
    }
   ],
   "source": [
    "df.max()"
   ]
  },
  {
   "cell_type": "code",
   "execution_count": 12,
   "metadata": {},
   "outputs": [
    {
     "data": {
      "image/png": "[encoded data removed]",
      "text/plain": [
       "<matplotlib.figure.Figure at 0x295ce18e898>"
      ]
     },
     "metadata": {},
     "output_type": "display_data"
    }
   ],
   "source": [
    "plt.hist(df.loc[:,\"MinTemp\"])\n",
    "plt.title(\"Cork Airport Min Temperature\")\n",
    "plt.xlabel(\"Qty\")\n",
    "plt.ylabel(\"Temperature\")\n",
    "plt.show()"
   ]
  },
  {
   "cell_type": "markdown",
   "metadata": {},
   "source": [
    "** Defining Each Column Within the Cork Airport Data Frame**\n",
    "\n",
    "To compare the data and graphs of the Cork airport data and the randomly generated data I will define each column within the data frame so it can be graphed. I will use the iloc function to define each column of data so they can be plotted on as subplots on bar chart graphs."
   ]
  },
  {
   "cell_type": "code",
   "execution_count": 13,
   "metadata": {},
   "outputs": [
    {
     "data": {
      "text/plain": [
       "Text(0,0.5,'Temperature')"
      ]
     },
     "execution_count": 13,
     "metadata": {},
     "output_type": "execute_result"
    }
   ],
   "source": [
    "plt.subplot(2,3,1)\n",
    "MaxTemp=df.iloc[0:365,1]\n",
    "plt.hist(MaxTemp)\n",
    "plt.title(\"MaxTemp\")\n",
    "plt.xlabel(\"Qty\")\n",
    "plt.ylabel(\"Temperature\")"
   ]
  },
  {
   "cell_type": "code",
   "execution_count": 14,
   "metadata": {},
   "outputs": [
    {
     "data": {
      "text/plain": [
       "Text(0,0.5,'Temperature')"
      ]
     },
     "execution_count": 14,
     "metadata": {},
     "output_type": "execute_result"
    }
   ],
   "source": [
    "plt.subplot(2,3,2)\n",
    "MinTemp=df.iloc[0:365,2]\n",
    "plt.hist(MinTemp)\n",
    "plt.title(\"MinTemp\")\n",
    "plt.xlabel(\"Qty\")\n",
    "plt.ylabel(\"Temperature\")"
   ]
  },
  {
   "cell_type": "code",
   "execution_count": 15,
   "metadata": {},
   "outputs": [
    {
     "data": {
      "text/plain": [
       "Text(0,0.5,'Volume')"
      ]
     },
     "execution_count": 15,
     "metadata": {},
     "output_type": "execute_result"
    }
   ],
   "source": [
    "plt.subplot(2,3,3)\n",
    "Rain=df.iloc[0:365,3]\n",
    "plt.hist(Rain)\n",
    "plt.title(\"Percipitation (mm)\")\n",
    "plt.xlabel(\"Qty\")\n",
    "plt.ylabel(\"Volume\")"
   ]
  },
  {
   "cell_type": "code",
   "execution_count": 16,
   "metadata": {},
   "outputs": [
    {
     "data": {
      "text/plain": [
       "Text(0,0.5,'Pressure')"
      ]
     },
     "execution_count": 16,
     "metadata": {},
     "output_type": "execute_result"
    }
   ],
   "source": [
    "plt.subplot(2,3,4)\n",
    "Pressure=df.iloc[0:365,4]\n",
    "plt.hist(Pressure)\n",
    "plt.title(\"Pressure (Hpa)\")\n",
    "plt.xlabel(\"Qty\")\n",
    "plt.ylabel(\"Pressure\")"
   ]
  },
  {
   "cell_type": "code",
   "execution_count": 17,
   "metadata": {},
   "outputs": [
    {
     "data": {
      "text/plain": [
       "Text(0,0.5,'Speed Knots')"
      ]
     },
     "execution_count": 17,
     "metadata": {},
     "output_type": "execute_result"
    }
   ],
   "source": [
    "plt.subplot(2,3,5)\n",
    "WindSpeed=df.iloc[0:365,5]\n",
    "plt.hist(WindSpeed)\n",
    "plt.title(\"Wind Speed (knots)\")\n",
    "plt.xlabel(\"Qty\")\n",
    "plt.ylabel(\"Speed Knots\")"
   ]
  },
  {
   "cell_type": "code",
   "execution_count": 18,
   "metadata": {},
   "outputs": [
    {
     "data": {
      "text/plain": [
       "Text(0,0.5,'Wind Direction (deg)')"
      ]
     },
     "execution_count": 18,
     "metadata": {},
     "output_type": "execute_result"
    }
   ],
   "source": [
    "plt.subplot(2,3,6)\n",
    "WindDirection=df.iloc[0:365,6]\n",
    "plt.hist(WindDirection)\n",
    "plt.title(\"Wind Direction (deg)\")\n",
    "plt.xlabel(\"Qty\")\n",
    "plt.ylabel(\"Wind Direction (deg)\")"
   ]
  },
  {
   "cell_type": "code",
   "execution_count": 19,
   "metadata": {},
   "outputs": [
    {
     "data": {
      "image/png": "[encoded data removed]",
      "text/plain": [
       "<matplotlib.figure.Figure at 0x295ce2d0ba8>"
      ]
     },
     "metadata": {},
     "output_type": "display_data"
    }
   ],
   "source": [
    "plt.show()"
   ]
  },
  {
   "cell_type": "markdown",
   "metadata": {
    "collapsed": true
   },
   "source": [
    "** Generatation of Random Data to Simulation the Cork Airport Weather Data**\n",
    "\n"
   ]
  },
  {
   "cell_type": "code",
   "execution_count": 20,
   "metadata": {
    "collapsed": true
   },
   "outputs": [],
   "source": [
    "s = np.random.logistic(995.120765, 11.382705, 365)"
   ]
  },
  {
   "cell_type": "code",
   "execution_count": 23,
   "metadata": {},
   "outputs": [
    {
     "data": {
      "image/png": "[encoded data removed]",
      "text/plain": [
       "<matplotlib.figure.Figure at 0x295cf638128>"
      ]
     },
     "metadata": {},
     "output_type": "display_data"
    }
   ],
   "source": [
    "plt.hist(s)\n",
    "plt.show()"
   ]
  },
  {
   "cell_type": "code",
   "execution_count": 26,
   "metadata": {},
   "outputs": [
    {
     "data": {
      "image/png": "[encoded data removed]",
      "text/plain": [
       "<matplotlib.figure.Figure at 0x295cfec6208>"
      ]
     },
     "metadata": {},
     "output_type": "display_data"
    }
   ],
   "source": [
    "RandMaxTemp = 5.517347*np.random.standard_normal(365) +13.301366\n",
    "plt.hist(RandMaxTemp)\n",
    "plt.show()"
   ]
  },
  {
   "cell_type": "code",
   "execution_count": 27,
   "metadata": {},
   "outputs": [
    {
     "data": {
      "text/plain": [
       "array([  1.75890559e+01,   1.14663789e+01,   1.67538154e+01,\n",
       "         1.06449786e+01,   6.73549769e+00,   7.91041976e+00,\n",
       "         1.90575912e+01,   7.68287730e+00,   2.52571648e+00,\n",
       "         2.66390504e+00,   1.55287198e+01,   1.73203179e+01,\n",
       "         2.85443895e+00,   1.48918241e+01,   1.55630488e+01,\n",
       "         5.68367139e+00,   1.52774302e+01,   2.44230023e+01,\n",
       "         1.47249178e+01,   1.69582366e+01,   1.69430828e+01,\n",
       "         1.09068988e+01,   1.89734065e+01,   9.95560109e+00,\n",
       "         1.49234919e+01,   1.80884585e+01,   1.76532021e+01,\n",
       "         7.89328016e+00,   1.24872868e+01,   1.63506456e+01,\n",
       "         1.41381976e+01,   9.91755207e+00,   2.12944527e+01,\n",
       "         1.02872468e+01,   1.64039462e+01,   8.53654228e+00,\n",
       "         8.44669942e-01,   1.61314458e+01,   1.14104826e+01,\n",
       "         1.37345530e+01,   1.30390274e+01,   1.25446824e+01,\n",
       "         1.87515356e+01,   3.99944234e+00,   1.47739685e+01,\n",
       "         1.42417672e+01,   1.60565289e+01,   1.64037141e+01,\n",
       "         9.64123743e-02,  -1.77805974e-01,   1.68930615e+01,\n",
       "         2.11395618e+01,   1.52270616e+01,   1.75988004e+01,\n",
       "         1.20159270e+01,   1.31352192e+01,   5.38006934e+00,\n",
       "         1.38345762e+01,   1.35939840e+01,   1.56871911e+01,\n",
       "         1.33363500e+01,   1.71894627e+01,   2.21768429e+01,\n",
       "         1.70164417e+01,   1.69879018e+01,   1.17804447e+01,\n",
       "         1.34780626e+01,   5.41185019e+00,   2.71172921e+01,\n",
       "         1.10888016e+01,   9.89424769e+00,   9.24260724e+00,\n",
       "         1.41220940e+01,   1.80414590e+01,   2.53615718e+01,\n",
       "         4.87214201e+00,   2.03317626e+01,   1.35412503e+01,\n",
       "         1.76396408e+01,   2.04877346e+01,   1.41033829e+01,\n",
       "         1.13393554e+01,   7.26824581e+00,   1.47200352e+01,\n",
       "         1.09228466e+01,   1.36975949e+01,   1.33141155e+01,\n",
       "         1.40587162e+01,   7.29547290e+00,   1.90920536e+01,\n",
       "         1.82920230e+01,   1.13573279e+01,   7.99625133e+00,\n",
       "         1.23536841e+01,   1.02649194e+01,   1.49387566e+01,\n",
       "         1.08343239e+01,   9.52918692e+00,   1.08780378e+01,\n",
       "         1.11110335e+01,   2.28514510e+01,   1.29480671e+01,\n",
       "         1.31132568e+01,   1.89540029e+01,   2.12229816e+01,\n",
       "         6.46586758e+00,   1.19988705e+01,   7.69292326e+00,\n",
       "         1.12737768e+01,   1.00921517e+01,   1.18885830e+01,\n",
       "         7.56668086e+00,   1.71082199e+01,   9.31227211e+00,\n",
       "         2.06815442e+01,   1.29298252e+01,   1.85814347e+01,\n",
       "         2.05145028e+01,   1.40118938e+01,   1.38143374e+01,\n",
       "         1.96745389e+01,   1.07058460e+01,   1.77176677e+01,\n",
       "         1.10085600e+01,   1.41128573e+01,   3.38090164e+00,\n",
       "         1.62193941e+01,   4.40951825e+00,   1.60680493e+01,\n",
       "         1.10034302e+01,   1.12558791e+01,   2.25999023e+01,\n",
       "         3.12953815e+00,   1.99658137e+01,   2.57005962e+01,\n",
       "         1.27331159e+01,   7.96120773e+00,   1.70919491e+01,\n",
       "         1.45661119e+01,   6.38016855e+00,   7.44905578e+00,\n",
       "         1.29348477e+01,   1.22175167e+01,   1.63623749e+01,\n",
       "         2.10814182e+01,   1.36339456e+01,   1.86620919e+01,\n",
       "         1.76168085e+01,   9.13748556e+00,   5.98462957e+00,\n",
       "         1.24702440e+01,   3.09155324e+00,   5.11142556e+00,\n",
       "         4.96794341e+00,   1.85985441e+01,   1.99813947e+01,\n",
       "         6.23175917e+00,   1.88294380e+01,   9.20370392e+00,\n",
       "         1.15506402e+01,   1.50248312e+01,   1.34687279e+01,\n",
       "         6.98078965e+00,   1.77287190e+01,   8.08817586e+00,\n",
       "         8.50517854e+00,   1.16763276e+01,   7.60260164e-01,\n",
       "         1.25756775e+01,   7.59696748e+00,   1.57904241e+01,\n",
       "         1.60674430e+01,   9.09044772e+00,   2.05744102e+01,\n",
       "         4.47079677e+00,   1.42591760e+01,   1.25220962e+01,\n",
       "         1.17071722e+01,   7.19402133e+00,   1.01191990e+01,\n",
       "         1.81548606e+01,   1.80999604e+01,   1.98563188e+01,\n",
       "         2.55522310e+01,   1.25027907e+01,   1.44160096e+01,\n",
       "         8.12782914e+00,   1.81709001e+01,   1.44714538e+01,\n",
       "         1.17484065e+01,   1.27105437e+01,   1.14286669e+01,\n",
       "         1.91949792e+01,   1.05758321e+01,   1.33128976e+01,\n",
       "         1.14791096e+01,   6.16153011e+00,   2.13814620e+01,\n",
       "         1.41292285e+01,   6.52361612e+00,   1.38071951e-02,\n",
       "         1.44182299e+01,   8.85075002e+00,   2.50746723e+01,\n",
       "         1.12401886e+01,   8.88882718e+00,   1.16538667e+01,\n",
       "         1.92451628e+01,   2.77392260e+01,   1.06038435e+01,\n",
       "         2.29319571e+01,   1.39253580e+01,   1.64620150e+01,\n",
       "         1.62858820e+01,   8.21992226e+00,   1.05306831e+01,\n",
       "         2.46408955e+01,   7.69759656e+00,   1.60759920e+01,\n",
       "         1.90070848e+01,   1.45389506e+01,   7.51964939e+00,\n",
       "         9.68820125e+00,   1.57633060e+01,   2.30868314e+01,\n",
       "         1.78863224e+01,   1.85769723e+01,   9.85407307e+00,\n",
       "         1.98927267e+01,   1.13666800e+01,   2.17409506e+01,\n",
       "         1.33207711e+01,   8.64460050e+00,   2.00409291e+01,\n",
       "         1.20875525e+01,   1.34077562e+01,   1.85124995e+01,\n",
       "         1.13304131e+01,   1.94410160e+01,   2.13401735e+01,\n",
       "         1.25945618e+01,   1.79862300e+01,   1.32226735e+01,\n",
       "         6.06294066e+00,   1.52670341e+01,   1.34355173e+01,\n",
       "         1.33742961e+01,   1.34643954e+01,   1.52090070e+01,\n",
       "         1.37173417e+01,   1.25344678e+01,   1.16121995e+01,\n",
       "         1.02341984e+01,   1.11231909e+01,   1.54982442e+01,\n",
       "         1.96999846e+01,   1.27888738e+01,   9.85676293e+00,\n",
       "         8.97000683e+00,   7.19157226e+00,   1.17709963e+01,\n",
       "         6.30507125e+00,   1.42994591e+01,   5.82468487e+00,\n",
       "         1.61491549e+01,   1.24931456e+01,   1.87826366e+01,\n",
       "         2.11732688e+01,   6.43560717e+00,   1.07777556e+01,\n",
       "         2.26131928e+01,   5.23089200e+00,   1.05701005e+01,\n",
       "         1.16221462e+01,   8.22763409e+00,   5.39575710e+00,\n",
       "         1.37925266e+01,   1.31509225e+01,   1.82067344e+01,\n",
       "         1.55615706e+01,   5.68182992e+00,   1.44966710e+01,\n",
       "         1.47454961e+01,   1.23606866e+01,   1.83065275e+01,\n",
       "         2.03829165e+01,   8.58318359e+00,   1.73381222e+01,\n",
       "         1.06786788e+01,   1.18039288e+01,   6.68721043e+00,\n",
       "         1.19078456e+01,   8.29483337e+00,   9.51353801e+00,\n",
       "         2.07974278e+01,   1.45026535e+01,   1.92546898e+01,\n",
       "         1.49766692e+01,   1.35317115e+01,   6.10203814e+00,\n",
       "         2.18452649e+01,   1.71259672e+01,   1.43323353e+01,\n",
       "         5.20315552e+00,   1.42564661e+01,   9.35676183e+00,\n",
       "         1.28278049e+01,   6.76672281e+00,   1.57007746e+01,\n",
       "         1.21887398e+01,   7.21395689e+00,   1.79454889e+01,\n",
       "         1.29867006e+01,   1.29874961e+01,   2.13207274e+01,\n",
       "         1.25609609e+01,   1.62609828e+01,   3.45700729e+00,\n",
       "         2.10445295e+01,   1.40276615e+01,   8.46797447e+00,\n",
       "        -4.81634302e+00,   1.32066121e+01,   2.43436272e+01,\n",
       "         1.41545329e+01,   3.01543408e+00,   8.79343447e+00,\n",
       "         1.91286363e+01,   1.97063901e+01,   1.09926596e+01,\n",
       "         1.95691086e+01,   1.18175413e+01,   1.43730190e+01,\n",
       "         1.21124462e+01,   1.18128419e+01,   2.35288280e+01,\n",
       "         1.36575442e+01,   6.91249727e+00,   2.04315137e+01,\n",
       "         2.02565013e+01,   1.20376724e+01,   1.14701844e+01,\n",
       "         1.17762898e+01,   1.74871272e+01,   1.68346538e+01,\n",
       "         1.44940668e+01,   1.30308258e+01,   3.38263453e+01,\n",
       "         2.18086459e+01,   8.29025698e+00,   4.54466225e+00,\n",
       "         1.42750066e+01,   9.87711911e+00,   1.52768351e+01,\n",
       "         1.78920473e+01,   1.79455701e+01,   1.68676198e-01,\n",
       "         7.49880259e+00,   6.94309509e-01,   2.31583065e+01,\n",
       "         1.47239622e+01,   8.08807062e+00,   2.05541625e+01,\n",
       "         6.89539079e+00,   1.26243171e+01])"
      ]
     },
     "execution_count": 27,
     "metadata": {},
     "output_type": "execute_result"
    }
   ],
   "source": [
    "RandMaxTemp"
   ]
  },
  {
   "cell_type": "code",
   "execution_count": 34,
   "metadata": {},
   "outputs": [
    {
     "ename": "AttributeError",
     "evalue": "module 'numpy.random' has no attribute 'loglogisitic'",
     "output_type": "error",
     "traceback": [
      "\u001b[1;31m---------------------------------------------------------------------------\u001b[0m",
      "\u001b[1;31mAttributeError\u001b[0m                            Traceback (most recent call last)",
      "\u001b[1;32m<ipython-input-34-9ddab664f87c>\u001b[0m in \u001b[0;36m<module>\u001b[1;34m()\u001b[0m\n\u001b[1;32m----> 1\u001b[1;33m \u001b[0ms\u001b[0m \u001b[1;33m=\u001b[0m \u001b[0mnp\u001b[0m\u001b[1;33m.\u001b[0m\u001b[0mrandom\u001b[0m\u001b[1;33m.\u001b[0m\u001b[0mloglogisitic\u001b[0m\u001b[1;33m(\u001b[0m\u001b[1;36m2.960929\u001b[0m\u001b[1;33m,\u001b[0m \u001b[1;36m5.256508\u001b[0m\u001b[1;33m,\u001b[0m \u001b[1;36m365\u001b[0m\u001b[1;33m)\u001b[0m\u001b[1;33m\u001b[0m\u001b[0m\n\u001b[0m\u001b[0;32m      2\u001b[0m \u001b[0mplt\u001b[0m\u001b[1;33m.\u001b[0m\u001b[0mhist\u001b[0m\u001b[1;33m(\u001b[0m\u001b[0ms\u001b[0m\u001b[1;33m)\u001b[0m\u001b[1;33m\u001b[0m\u001b[0m\n\u001b[0;32m      3\u001b[0m \u001b[0mplt\u001b[0m\u001b[1;33m.\u001b[0m\u001b[0mshow\u001b[0m\u001b[1;33m(\u001b[0m\u001b[1;33m)\u001b[0m\u001b[1;33m\u001b[0m\u001b[0m\n",
      "\u001b[1;31mAttributeError\u001b[0m: module 'numpy.random' has no attribute 'loglogisitic'"
     ]
    }
   ],
   "source": [
    "s = np.random.loglogisitic(2.960929, 5.256508, 365)\n",
    "plt.hist(s)\n",
    "plt.show()"
   ]
  },
  {
   "cell_type": "code",
   "execution_count": 29,
   "metadata": {},
   "outputs": [
    {
     "data": {
      "text/plain": [
       "array([  1.33712911e+00,   4.97503053e-01,   7.34479379e+00,\n",
       "         3.15815443e-04,   5.94093633e+01,   9.66601719e+02,\n",
       "         2.22299098e-01,   4.36243426e+01,   4.10162411e+02,\n",
       "         2.07783611e+02,   4.41778182e+02,   1.03209595e+03,\n",
       "         5.59318216e+02,   3.14595089e+07,   4.08464609e+02,\n",
       "         2.12416966e+00,   9.92391965e+00,   5.13646167e+00,\n",
       "         1.73487091e+03,   7.55547558e-03,   4.36871846e+04,\n",
       "         5.40922865e+01,   1.93067100e+00,   1.83017555e+00,\n",
       "         1.68450243e+02,   7.06060110e+01,   3.64851194e+07,\n",
       "         1.27670933e+00,   2.20418692e+00,   3.12044355e+01,\n",
       "         1.11993779e+02,   1.22567441e+03,   7.71897638e-01,\n",
       "         1.86847743e+00,   1.72088506e+01,   2.45315090e+02,\n",
       "         1.41367972e+05,   1.29766184e+02,   5.64751557e+05,\n",
       "         4.10260895e-02,   1.10415382e+01,   5.50358477e-03,\n",
       "         8.14805763e-01,   7.19844090e+01,   6.39532222e+01,\n",
       "         8.04557969e+04,   6.76198840e-02,   1.33168848e-01,\n",
       "         2.15237017e+04,   1.72722736e+00,   5.46037175e-03,\n",
       "         1.30313776e-01,   4.29047878e-01,   8.90746033e+00,\n",
       "         1.65033370e+06,   4.23582698e-01,   9.01668513e+00,\n",
       "         1.31670188e+00,   2.53666993e+01,   6.10501064e-01,\n",
       "         6.86032268e+00,   2.83938521e+04,   9.48423013e+01,\n",
       "         2.19344775e+00,   1.92675643e+00,   2.62442073e+02,\n",
       "         1.35323718e-02,   1.12112605e+04,   1.52910084e-01,\n",
       "         1.55830526e-01,   1.36140349e+00,   5.29143736e-01,\n",
       "         3.66699746e+00,   6.32375883e+00,   2.75858675e-01,\n",
       "         2.89442759e-02,   1.62989345e+01,   9.74466893e-01,\n",
       "         8.62936275e+02,   8.53336236e+00,   1.80842457e+04,\n",
       "         1.04901276e+03,   3.39615839e+00,   7.00111601e+02,\n",
       "         1.58690165e+03,   1.49509182e+02,   4.01476760e-01,\n",
       "         3.32419900e+01,   6.25225041e-02,   8.69571141e+00,\n",
       "         3.86484480e+01,   7.27240786e+02,   4.29249092e+00,\n",
       "         3.14987839e+03,   2.12569805e-02,   4.81688342e-02,\n",
       "         5.56356075e-03,   7.92496912e-01,   2.70064926e+00,\n",
       "         2.37593002e+03,   3.50869956e+02,   3.81514686e-01,\n",
       "         2.35234883e-01,   1.49572381e+01,   2.24025754e+04,\n",
       "         3.68092845e-02,   3.07804597e+01,   7.40382385e+03,\n",
       "         3.69303856e-03,   3.33635270e+00,   1.19092587e-01,\n",
       "         2.39126136e+03,   1.13199383e-03,   2.28555360e+03,\n",
       "         4.86190987e+05,   9.34903972e+00,   7.77736799e+01,\n",
       "         2.99656031e-02,   3.06453532e-01,   7.77037937e+00,\n",
       "         3.36583247e+01,   2.46419053e+02,   4.66772389e+00,\n",
       "         7.87395512e+01,   4.76646176e-04,   2.41924907e-02,\n",
       "         1.28892123e+04,   9.76501422e-01,   2.14992356e+02,\n",
       "         2.49641745e-01,   3.57343231e+00,   8.25294971e+02,\n",
       "         2.01907075e+03,   1.14089744e-02,   5.49711883e+02,\n",
       "         5.05233720e-05,   6.32446040e-04,   9.25225167e-01,\n",
       "         3.76727141e+07,   2.23829693e+00,   5.95069647e+00,\n",
       "         1.05663919e+04,   2.06840734e+00,   8.31335420e-02,\n",
       "         3.00552900e-04,   1.71694895e+05,   4.11030177e+02,\n",
       "         2.30832064e+05,   7.35988294e-03,   1.62029602e+02,\n",
       "         6.52294243e-02,   7.41214012e+00,   4.83808188e+01,\n",
       "         5.17350958e+01,   1.93185770e+03,   3.24312372e+00,\n",
       "         3.45909198e+01,   4.21836856e+01,   5.45114540e+00,\n",
       "         1.29405433e+03,   1.69046072e+00,   8.49814159e-01,\n",
       "         2.46340973e-02,   2.97130530e+06,   5.62045342e+03,\n",
       "         3.79125616e+01,   6.48042877e-06,   5.91285390e+00,\n",
       "         7.88768076e-02,   5.50389389e-02,   5.37361176e+00,\n",
       "         6.21185788e+00,   9.62072303e+03,   1.81501432e+02,\n",
       "         1.32222797e+00,   4.96630554e+07,   8.79733814e+01,\n",
       "         1.52921801e-01,   6.62359663e+00,   2.39509579e+02,\n",
       "         2.34203620e+01,   9.23602193e+02,   5.49690204e-04,\n",
       "         1.19695305e-03,   1.40813791e+04,   1.69510061e+01,\n",
       "         1.89647694e-02,   8.61024386e+00,   6.06201193e+02,\n",
       "         6.19779092e+00,   6.82450540e-01,   6.67499267e+00,\n",
       "         8.07595254e+02,   2.42319882e+04,   4.34315021e-02,\n",
       "         5.16076688e+01,   1.88816563e+03,   6.53630769e+03,\n",
       "         4.10368271e+01,   3.08997331e+00,   4.37772122e+00,\n",
       "         1.59990432e+04,   1.37624000e+02,   6.81889603e-01,\n",
       "         3.75332860e-01,   2.30185035e+02,   1.90079974e+01,\n",
       "         5.70302886e+00,   2.15751689e+05,   2.32307990e+01,\n",
       "         4.12116744e+00,   7.97765664e+02,   2.14652660e+01,\n",
       "         3.28224390e-01,   1.24328152e-02,   2.93493844e+03,\n",
       "         2.19030424e+02,   1.01223190e-01,   5.38622906e-01,\n",
       "         9.60487817e+02,   3.23676990e-04,   1.98833720e+02,\n",
       "         1.56041335e+04,   1.93465071e+03,   3.91736547e-06,\n",
       "         2.99685999e+00,   2.53544193e+00,   8.76267253e+01,\n",
       "         1.63761256e-01,   1.30869126e+04,   2.79878483e+01,\n",
       "         1.21433164e+00,   1.68177863e+00,   7.83551470e+01,\n",
       "         8.64615570e-01,   1.79313103e-01,   9.18446825e-01,\n",
       "         2.28299038e+01,   4.05920300e+01,   4.63819055e-01,\n",
       "         6.10453118e+04,   2.36911180e+01,   2.73529656e-03,\n",
       "         1.16479786e+01,   4.83631817e+03,   4.93753667e+00,\n",
       "         5.71941680e+01,   7.69413525e+00,   2.51457846e+02,\n",
       "         2.06755790e+02,   2.71071613e+02,   1.10755398e-01,\n",
       "         7.61995996e-03,   1.42840147e+04,   7.27047247e-01,\n",
       "         3.89238401e+02,   9.78979015e+04,   1.39476709e+02,\n",
       "         5.50259649e+03,   6.54574107e+01,   2.83245247e-04,\n",
       "         8.30861260e+00,   6.22483840e-01,   9.44186038e+00,\n",
       "         5.65295362e+00,   2.96448554e+04,   1.19658375e+03,\n",
       "         1.12994839e+03,   4.84818024e+01,   3.71279018e-03,\n",
       "         1.79752019e+04,   8.62507156e+01,   9.70993518e+05,\n",
       "         1.01419415e+01,   3.28919459e+02,   2.02534247e+03,\n",
       "         1.16534751e+03,   1.32052987e+04,   5.54324777e-02,\n",
       "         2.84140242e-01,   1.45029502e+00,   3.92579857e+00,\n",
       "         5.22334036e-03,   2.34985602e+05,   1.04592574e+07,\n",
       "         2.06158299e+02,   7.04150683e+03,   5.51768313e-04,\n",
       "         2.13876421e+02,   7.64263107e+02,   2.09350106e+03,\n",
       "         4.31362329e+04,   5.36634440e+02,   2.14179584e+01,\n",
       "         3.31848639e+01,   1.70739831e+01,   2.01378914e+03,\n",
       "         4.53870827e-01,   3.23895775e-01,   3.01542579e+04,\n",
       "         3.27333666e+05,   6.87560342e+03,   3.79134915e+06,\n",
       "         3.75698797e+02,   3.64476067e+02,   6.05212229e+02,\n",
       "         2.53022448e+03,   3.71719502e+01,   2.17787425e-01,\n",
       "         1.61930723e+04,   5.09401862e+07,   5.88829455e+02,\n",
       "         5.14000627e+00,   1.44170272e+05,   5.54969201e-01,\n",
       "         9.95872218e-03,   1.27715395e+00,   1.81715465e+03,\n",
       "         1.20504919e+03,   8.54257041e-01,   7.94776813e+00,\n",
       "         2.22375551e+01,   2.68857623e+00,   8.81546682e+04,\n",
       "         1.06840176e+01,   1.03451557e-02,   2.43816595e+01,\n",
       "         1.41483808e+01,   3.70099518e+03,   2.81708737e+02,\n",
       "         2.35363807e+04,   5.40429099e+02,   2.60523147e+03,\n",
       "         3.39415193e+04,   3.03802098e-02,   5.31998191e+02,\n",
       "         1.58616708e+01,   3.79770317e+03,   1.38222754e-01,\n",
       "         2.14819655e+02,   1.54084399e+00,   1.86144026e+00,\n",
       "         3.19820890e+03,   2.67124070e+01,   6.04996417e+04,\n",
       "         2.41591857e+03,   2.47037442e+03,   3.27981081e-02,\n",
       "         3.77486523e+03,   8.28254474e+00,   2.20772776e+02,\n",
       "         8.08751291e-01,   2.08947364e+02,   5.67254927e+01,\n",
       "         1.02101442e+02,   1.38907294e-02,   1.68584692e+00,\n",
       "         3.44623754e-02,   7.31556338e+00,   3.93016716e-01,\n",
       "         2.73266228e+05,   1.11861809e-02,   1.43728492e+02,\n",
       "         1.42086145e+04,   2.72648974e+01])"
      ]
     },
     "execution_count": 29,
     "metadata": {},
     "output_type": "execute_result"
    }
   ],
   "source": [
    "s"
   ]
  },
  {
   "cell_type": "code",
   "execution_count": null,
   "metadata": {
    "collapsed": true
   },
   "outputs": [],
   "source": []
  }
 ],
 "metadata": {
  "kernelspec": {
   "display_name": "Python 3",
   "language": "python",
   "name": "python3"
  },
  "language_info": {
   "codemirror_mode": {
    "name": "ipython",
    "version": 3
   },
   "file_extension": ".py",
   "mimetype": "text/x-python",
   "name": "python",
   "nbconvert_exporter": "python",
   "pygments_lexer": "ipython3",
   "version": "3.6.3"
  }
 },
 "nbformat": 4,
 "nbformat_minor": 2
}
