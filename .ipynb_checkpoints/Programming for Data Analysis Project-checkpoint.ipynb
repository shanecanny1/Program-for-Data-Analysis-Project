{
 "cells": [
  {
   "cell_type": "markdown",
   "metadata": {},
   "source": [
    "## Programming for Data Analysis Project\n",
    "\n"
   ]
  },
  {
   "cell_type": "markdown",
   "metadata": {},
   "source": [
    "** Introduction**"
   ]
  },
  {
   "cell_type": "markdown",
   "metadata": {},
   "source": [
    "The weather, the obsession of all Irish adults. From a conversation starter to the dreaded threat of weddings and summer bar-be-cues.\n",
    "\n",
    "Meteireann has the dubious task of trying to give accurate and timely forecasts for the nation, while more often than not being the butt of the joke due to each individual taking a wholistic forecast as a personal gaurantee of weather certainty.\n",
    "\n",
    "The following project is going to analyse the percipitation (Rain Fall) from the Cork Airport weather station in County Cork under the following headings;\n",
    "\n",
    "- Date\n",
    "- Percipitation Amount (mm)\n",
    "- Maximum Air Temperature (C)\n",
    "- Minimum Air Temperature (C)\n",
    "- Mean Wind Speed (Knot)\n",
    "- Wind Direction at Max 10 min Mean (deg)\n",
    "- Mean CBL Pressure (hpa)\n"
   ]
  },
  {
   "cell_type": "markdown",
   "metadata": {},
   "source": [
    "** Aim**\n",
    "\n",
    "The aim of this project is to explore the creation of an accurate localised weather predictor by investigating if known historical weather characterisitics have a dependency and relationship with each other.\n"
   ]
  },
  {
   "cell_type": "markdown",
   "metadata": {},
   "source": [
    "** Method **\n",
    "\n",
    "By analysing historical weather data and its associated characteristics in relation to percipitation amount it is proposed that if the correct weather characteristics and data for the local area are entered into the model i.e. Ballincollig, County Cork, an accurate determination if percipition (rain) is forecast for your locality will be determined.\n",
    "\n",
    "As the Cork Airport weather station is the closest weather station with enough variable data to create a model it was used to gather historical data points.\n",
    "\n",
    "For the purpose of this project random data will be generated using numpy.random to generate a data sets to mimick the characteristics of the variables taken from the Cork Airport weather station. i.e.\n",
    "\n",
    "- Date\n",
    "- Percipitation Amount (mm)\n",
    "- Maximum Air Temperature (C)\n",
    "- Minimum Air Temperature (C)\n",
    "- Mean Wind Speed (Knot)\n",
    "- Wind Direction at Max 10 min Mean (deg)\n",
    "- Mean CBL Pressure (hpa)\n"
   ]
  },
  {
   "cell_type": "code",
   "execution_count": 1,
   "metadata": {
    "collapsed": true
   },
   "outputs": [],
   "source": [
    "import pandas as pd"
   ]
  },
  {
   "cell_type": "code",
   "execution_count": 2,
   "metadata": {
    "collapsed": true
   },
   "outputs": [],
   "source": [
    "import numpy as np"
   ]
  },
  {
   "cell_type": "code",
   "execution_count": 3,
   "metadata": {
    "collapsed": true
   },
   "outputs": [],
   "source": [
    "import matplotlib.pyplot as plt"
   ]
  },
  {
   "cell_type": "code",
   "execution_count": 4,
   "metadata": {
    "collapsed": true
   },
   "outputs": [],
   "source": [
    "from scipy.stats import kurtosis, skew"
   ]
  },
  {
   "cell_type": "markdown",
   "metadata": {},
   "source": [
    "**Definition of the Data Frame**\n",
    "\n",
    "To provide clarity when further analysis is conducted and to be able to differentiate between the original and random data sets we will define the original Cork airport data frame as \"CorkAirportData\""
   ]
  },
  {
   "cell_type": "code",
   "execution_count": 5,
   "metadata": {
    "collapsed": true
   },
   "outputs": [],
   "source": [
    "CorkAirportData = pd.read_csv('C://Users//Shane//Desktop//GMIT//meteireann//CorkAirportDataone.txt')"
   ]
  },
  {
   "cell_type": "code",
   "execution_count": 6,
   "metadata": {},
   "outputs": [
    {
     "data": {
      "text/html": [
       "<div>\n",
       "<style>\n",
       "    .dataframe thead tr:only-child th {\n",
       "        text-align: right;\n",
       "    }\n",
       "\n",
       "    .dataframe thead th {\n",
       "        text-align: left;\n",
       "    }\n",
       "\n",
       "    .dataframe tbody tr th {\n",
       "        vertical-align: top;\n",
       "    }\n",
       "</style>\n",
       "<table border=\"1\" class=\"dataframe\">\n",
       "  <thead>\n",
       "    <tr style=\"text-align: right;\">\n",
       "      <th></th>\n",
       "      <th>Date</th>\n",
       "      <th>MaxTemp</th>\n",
       "      <th>MinTemp</th>\n",
       "      <th>Rain mm</th>\n",
       "      <th>Pressure cbl Hpa</th>\n",
       "      <th>WindSpeed Knots</th>\n",
       "      <th>Wind Direction deg</th>\n",
       "    </tr>\n",
       "  </thead>\n",
       "  <tbody>\n",
       "    <tr>\n",
       "      <th>0</th>\n",
       "      <td>31-Oct-17</td>\n",
       "      <td>12.3</td>\n",
       "      <td>10.0</td>\n",
       "      <td>0.0</td>\n",
       "      <td>1003.7</td>\n",
       "      <td>9.2</td>\n",
       "      <td>220</td>\n",
       "    </tr>\n",
       "    <tr>\n",
       "      <th>1</th>\n",
       "      <td>01-Nov-17</td>\n",
       "      <td>12.6</td>\n",
       "      <td>7.8</td>\n",
       "      <td>0.0</td>\n",
       "      <td>998.5</td>\n",
       "      <td>3.8</td>\n",
       "      <td>180</td>\n",
       "    </tr>\n",
       "    <tr>\n",
       "      <th>2</th>\n",
       "      <td>02-Nov-17</td>\n",
       "      <td>12.8</td>\n",
       "      <td>7.8</td>\n",
       "      <td>0.2</td>\n",
       "      <td>997.4</td>\n",
       "      <td>4.1</td>\n",
       "      <td>340</td>\n",
       "    </tr>\n",
       "    <tr>\n",
       "      <th>3</th>\n",
       "      <td>03-Nov-17</td>\n",
       "      <td>10.0</td>\n",
       "      <td>7.3</td>\n",
       "      <td>0.0</td>\n",
       "      <td>992.5</td>\n",
       "      <td>3.1</td>\n",
       "      <td>260</td>\n",
       "    </tr>\n",
       "    <tr>\n",
       "      <th>4</th>\n",
       "      <td>04-Nov-17</td>\n",
       "      <td>9.4</td>\n",
       "      <td>3.4</td>\n",
       "      <td>2.4</td>\n",
       "      <td>991.3</td>\n",
       "      <td>10.2</td>\n",
       "      <td>300</td>\n",
       "    </tr>\n",
       "    <tr>\n",
       "      <th>5</th>\n",
       "      <td>05-Nov-17</td>\n",
       "      <td>9.8</td>\n",
       "      <td>4.0</td>\n",
       "      <td>1.1</td>\n",
       "      <td>1000.5</td>\n",
       "      <td>7.8</td>\n",
       "      <td>320</td>\n",
       "    </tr>\n",
       "    <tr>\n",
       "      <th>6</th>\n",
       "      <td>06-Nov-17</td>\n",
       "      <td>11.5</td>\n",
       "      <td>5.6</td>\n",
       "      <td>10.6</td>\n",
       "      <td>997.8</td>\n",
       "      <td>12.5</td>\n",
       "      <td>200</td>\n",
       "    </tr>\n",
       "    <tr>\n",
       "      <th>7</th>\n",
       "      <td>07-Nov-17</td>\n",
       "      <td>9.7</td>\n",
       "      <td>3.0</td>\n",
       "      <td>2.5</td>\n",
       "      <td>997.2</td>\n",
       "      <td>9.1</td>\n",
       "      <td>330</td>\n",
       "    </tr>\n",
       "    <tr>\n",
       "      <th>8</th>\n",
       "      <td>08-Nov-17</td>\n",
       "      <td>10.5</td>\n",
       "      <td>4.0</td>\n",
       "      <td>0.1</td>\n",
       "      <td>1005.2</td>\n",
       "      <td>5.9</td>\n",
       "      <td>300</td>\n",
       "    </tr>\n",
       "    <tr>\n",
       "      <th>9</th>\n",
       "      <td>09-Nov-17</td>\n",
       "      <td>12.2</td>\n",
       "      <td>8.7</td>\n",
       "      <td>0.8</td>\n",
       "      <td>1006.8</td>\n",
       "      <td>9.9</td>\n",
       "      <td>310</td>\n",
       "    </tr>\n",
       "    <tr>\n",
       "      <th>10</th>\n",
       "      <td>10-Nov-17</td>\n",
       "      <td>12.1</td>\n",
       "      <td>9.2</td>\n",
       "      <td>0.7</td>\n",
       "      <td>1002.6</td>\n",
       "      <td>11.8</td>\n",
       "      <td>300</td>\n",
       "    </tr>\n",
       "    <tr>\n",
       "      <th>11</th>\n",
       "      <td>11-Nov-17</td>\n",
       "      <td>14.1</td>\n",
       "      <td>7.3</td>\n",
       "      <td>4.3</td>\n",
       "      <td>995.2</td>\n",
       "      <td>13.0</td>\n",
       "      <td>280</td>\n",
       "    </tr>\n",
       "    <tr>\n",
       "      <th>12</th>\n",
       "      <td>12-Nov-17</td>\n",
       "      <td>8.6</td>\n",
       "      <td>2.6</td>\n",
       "      <td>0.0</td>\n",
       "      <td>1002.6</td>\n",
       "      <td>11.8</td>\n",
       "      <td>330</td>\n",
       "    </tr>\n",
       "    <tr>\n",
       "      <th>13</th>\n",
       "      <td>13-Nov-17</td>\n",
       "      <td>10.2</td>\n",
       "      <td>2.6</td>\n",
       "      <td>0.0</td>\n",
       "      <td>1007.2</td>\n",
       "      <td>6.6</td>\n",
       "      <td>230</td>\n",
       "    </tr>\n",
       "    <tr>\n",
       "      <th>14</th>\n",
       "      <td>14-Nov-17</td>\n",
       "      <td>13.1</td>\n",
       "      <td>9.6</td>\n",
       "      <td>0.3</td>\n",
       "      <td>1003.2</td>\n",
       "      <td>6.1</td>\n",
       "      <td>230</td>\n",
       "    </tr>\n",
       "    <tr>\n",
       "      <th>15</th>\n",
       "      <td>15-Nov-17</td>\n",
       "      <td>11.1</td>\n",
       "      <td>8.6</td>\n",
       "      <td>2.3</td>\n",
       "      <td>1002.3</td>\n",
       "      <td>5.4</td>\n",
       "      <td>200</td>\n",
       "    </tr>\n",
       "    <tr>\n",
       "      <th>16</th>\n",
       "      <td>16-Nov-17</td>\n",
       "      <td>10.6</td>\n",
       "      <td>4.3</td>\n",
       "      <td>0.2</td>\n",
       "      <td>1005.5</td>\n",
       "      <td>8.2</td>\n",
       "      <td>330</td>\n",
       "    </tr>\n",
       "    <tr>\n",
       "      <th>17</th>\n",
       "      <td>17-Nov-17</td>\n",
       "      <td>8.4</td>\n",
       "      <td>3.1</td>\n",
       "      <td>0.3</td>\n",
       "      <td>1009.3</td>\n",
       "      <td>3.5</td>\n",
       "      <td>220</td>\n",
       "    </tr>\n",
       "    <tr>\n",
       "      <th>18</th>\n",
       "      <td>18-Nov-17</td>\n",
       "      <td>13.4</td>\n",
       "      <td>7.9</td>\n",
       "      <td>1.6</td>\n",
       "      <td>1005.2</td>\n",
       "      <td>6.5</td>\n",
       "      <td>260</td>\n",
       "    </tr>\n",
       "    <tr>\n",
       "      <th>19</th>\n",
       "      <td>19-Nov-17</td>\n",
       "      <td>11.0</td>\n",
       "      <td>7.1</td>\n",
       "      <td>2.0</td>\n",
       "      <td>1000.7</td>\n",
       "      <td>8.1</td>\n",
       "      <td>210</td>\n",
       "    </tr>\n",
       "    <tr>\n",
       "      <th>20</th>\n",
       "      <td>20-Nov-17</td>\n",
       "      <td>13.4</td>\n",
       "      <td>11.0</td>\n",
       "      <td>1.7</td>\n",
       "      <td>994.5</td>\n",
       "      <td>10.9</td>\n",
       "      <td>230</td>\n",
       "    </tr>\n",
       "    <tr>\n",
       "      <th>21</th>\n",
       "      <td>21-Nov-17</td>\n",
       "      <td>13.1</td>\n",
       "      <td>10.6</td>\n",
       "      <td>14.4</td>\n",
       "      <td>985.5</td>\n",
       "      <td>9.9</td>\n",
       "      <td>220</td>\n",
       "    </tr>\n",
       "    <tr>\n",
       "      <th>22</th>\n",
       "      <td>22-Nov-17</td>\n",
       "      <td>12.9</td>\n",
       "      <td>3.0</td>\n",
       "      <td>21.6</td>\n",
       "      <td>970.5</td>\n",
       "      <td>13.5</td>\n",
       "      <td>200</td>\n",
       "    </tr>\n",
       "    <tr>\n",
       "      <th>23</th>\n",
       "      <td>23-Nov-17</td>\n",
       "      <td>9.0</td>\n",
       "      <td>1.9</td>\n",
       "      <td>0.1</td>\n",
       "      <td>977.8</td>\n",
       "      <td>9.2</td>\n",
       "      <td>240</td>\n",
       "    </tr>\n",
       "    <tr>\n",
       "      <th>24</th>\n",
       "      <td>24-Nov-17</td>\n",
       "      <td>6.4</td>\n",
       "      <td>0.9</td>\n",
       "      <td>2.1</td>\n",
       "      <td>993.0</td>\n",
       "      <td>7.6</td>\n",
       "      <td>330</td>\n",
       "    </tr>\n",
       "    <tr>\n",
       "      <th>25</th>\n",
       "      <td>25-Nov-17</td>\n",
       "      <td>5.0</td>\n",
       "      <td>0.6</td>\n",
       "      <td>0.6</td>\n",
       "      <td>1003.2</td>\n",
       "      <td>9.8</td>\n",
       "      <td>300</td>\n",
       "    </tr>\n",
       "    <tr>\n",
       "      <th>26</th>\n",
       "      <td>26-Nov-17</td>\n",
       "      <td>9.7</td>\n",
       "      <td>2.3</td>\n",
       "      <td>0.7</td>\n",
       "      <td>1004.3</td>\n",
       "      <td>10.2</td>\n",
       "      <td>240</td>\n",
       "    </tr>\n",
       "    <tr>\n",
       "      <th>27</th>\n",
       "      <td>27-Nov-17</td>\n",
       "      <td>10.2</td>\n",
       "      <td>4.3</td>\n",
       "      <td>4.0</td>\n",
       "      <td>998.0</td>\n",
       "      <td>11.8</td>\n",
       "      <td>240</td>\n",
       "    </tr>\n",
       "    <tr>\n",
       "      <th>28</th>\n",
       "      <td>28-Nov-17</td>\n",
       "      <td>6.1</td>\n",
       "      <td>1.8</td>\n",
       "      <td>0.1</td>\n",
       "      <td>997.8</td>\n",
       "      <td>11.0</td>\n",
       "      <td>340</td>\n",
       "    </tr>\n",
       "    <tr>\n",
       "      <th>29</th>\n",
       "      <td>29-Nov-17</td>\n",
       "      <td>5.2</td>\n",
       "      <td>0.8</td>\n",
       "      <td>0.0</td>\n",
       "      <td>1001.2</td>\n",
       "      <td>11.5</td>\n",
       "      <td>340</td>\n",
       "    </tr>\n",
       "    <tr>\n",
       "      <th>...</th>\n",
       "      <td>...</td>\n",
       "      <td>...</td>\n",
       "      <td>...</td>\n",
       "      <td>...</td>\n",
       "      <td>...</td>\n",
       "      <td>...</td>\n",
       "      <td>...</td>\n",
       "    </tr>\n",
       "    <tr>\n",
       "      <th>336</th>\n",
       "      <td>02-Oct-18</td>\n",
       "      <td>18.1</td>\n",
       "      <td>11.4</td>\n",
       "      <td>0.0</td>\n",
       "      <td>1006.9</td>\n",
       "      <td>10.6</td>\n",
       "      <td>300</td>\n",
       "    </tr>\n",
       "    <tr>\n",
       "      <th>337</th>\n",
       "      <td>03-Oct-18</td>\n",
       "      <td>15.5</td>\n",
       "      <td>10.4</td>\n",
       "      <td>0.2</td>\n",
       "      <td>1007.7</td>\n",
       "      <td>6.5</td>\n",
       "      <td>220</td>\n",
       "    </tr>\n",
       "    <tr>\n",
       "      <th>338</th>\n",
       "      <td>04-Oct-18</td>\n",
       "      <td>14.9</td>\n",
       "      <td>11.4</td>\n",
       "      <td>2.8</td>\n",
       "      <td>1001.5</td>\n",
       "      <td>7.7</td>\n",
       "      <td>200</td>\n",
       "    </tr>\n",
       "    <tr>\n",
       "      <th>339</th>\n",
       "      <td>05-Oct-18</td>\n",
       "      <td>11.4</td>\n",
       "      <td>6.6</td>\n",
       "      <td>0.4</td>\n",
       "      <td>996.6</td>\n",
       "      <td>10.8</td>\n",
       "      <td>330</td>\n",
       "    </tr>\n",
       "    <tr>\n",
       "      <th>340</th>\n",
       "      <td>06-Oct-18</td>\n",
       "      <td>11.9</td>\n",
       "      <td>5.0</td>\n",
       "      <td>0.0</td>\n",
       "      <td>1000.8</td>\n",
       "      <td>9.0</td>\n",
       "      <td>350</td>\n",
       "    </tr>\n",
       "    <tr>\n",
       "      <th>341</th>\n",
       "      <td>07-Oct-18</td>\n",
       "      <td>13.4</td>\n",
       "      <td>3.1</td>\n",
       "      <td>0.0</td>\n",
       "      <td>1002.3</td>\n",
       "      <td>9.5</td>\n",
       "      <td>230</td>\n",
       "    </tr>\n",
       "    <tr>\n",
       "      <th>342</th>\n",
       "      <td>08-Oct-18</td>\n",
       "      <td>13.9</td>\n",
       "      <td>11.6</td>\n",
       "      <td>0.3</td>\n",
       "      <td>996.2</td>\n",
       "      <td>15.5</td>\n",
       "      <td>210</td>\n",
       "    </tr>\n",
       "    <tr>\n",
       "      <th>343</th>\n",
       "      <td>09-Oct-18</td>\n",
       "      <td>15.2</td>\n",
       "      <td>12.0</td>\n",
       "      <td>0.0</td>\n",
       "      <td>992.2</td>\n",
       "      <td>14.6</td>\n",
       "      <td>210</td>\n",
       "    </tr>\n",
       "    <tr>\n",
       "      <th>344</th>\n",
       "      <td>10-Oct-18</td>\n",
       "      <td>16.9</td>\n",
       "      <td>12.2</td>\n",
       "      <td>0.0</td>\n",
       "      <td>983.2</td>\n",
       "      <td>16.8</td>\n",
       "      <td>140</td>\n",
       "    </tr>\n",
       "    <tr>\n",
       "      <th>345</th>\n",
       "      <td>11-Oct-18</td>\n",
       "      <td>14.1</td>\n",
       "      <td>10.1</td>\n",
       "      <td>9.7</td>\n",
       "      <td>972.3</td>\n",
       "      <td>13.8</td>\n",
       "      <td>140</td>\n",
       "    </tr>\n",
       "    <tr>\n",
       "      <th>346</th>\n",
       "      <td>12-Oct-18</td>\n",
       "      <td>13.9</td>\n",
       "      <td>10.4</td>\n",
       "      <td>18.3</td>\n",
       "      <td>972.8</td>\n",
       "      <td>13.9</td>\n",
       "      <td>150</td>\n",
       "    </tr>\n",
       "    <tr>\n",
       "      <th>347</th>\n",
       "      <td>13-Oct-18</td>\n",
       "      <td>13.2</td>\n",
       "      <td>7.8</td>\n",
       "      <td>18.4</td>\n",
       "      <td>982.3</td>\n",
       "      <td>7.9</td>\n",
       "      <td>320</td>\n",
       "    </tr>\n",
       "    <tr>\n",
       "      <th>348</th>\n",
       "      <td>14-Oct-18</td>\n",
       "      <td>12.3</td>\n",
       "      <td>5.6</td>\n",
       "      <td>0.0</td>\n",
       "      <td>990.5</td>\n",
       "      <td>4.1</td>\n",
       "      <td>300</td>\n",
       "    </tr>\n",
       "    <tr>\n",
       "      <th>349</th>\n",
       "      <td>15-Oct-18</td>\n",
       "      <td>13.3</td>\n",
       "      <td>5.2</td>\n",
       "      <td>0.0</td>\n",
       "      <td>994.0</td>\n",
       "      <td>6.0</td>\n",
       "      <td>30</td>\n",
       "    </tr>\n",
       "    <tr>\n",
       "      <th>350</th>\n",
       "      <td>16-Oct-18</td>\n",
       "      <td>15.5</td>\n",
       "      <td>7.0</td>\n",
       "      <td>1.4</td>\n",
       "      <td>993.5</td>\n",
       "      <td>8.2</td>\n",
       "      <td>200</td>\n",
       "    </tr>\n",
       "    <tr>\n",
       "      <th>351</th>\n",
       "      <td>17-Oct-18</td>\n",
       "      <td>13.1</td>\n",
       "      <td>5.8</td>\n",
       "      <td>0.4</td>\n",
       "      <td>1002.6</td>\n",
       "      <td>8.0</td>\n",
       "      <td>350</td>\n",
       "    </tr>\n",
       "    <tr>\n",
       "      <th>352</th>\n",
       "      <td>18-Oct-18</td>\n",
       "      <td>12.5</td>\n",
       "      <td>4.6</td>\n",
       "      <td>0.1</td>\n",
       "      <td>1007.9</td>\n",
       "      <td>5.3</td>\n",
       "      <td>340</td>\n",
       "    </tr>\n",
       "    <tr>\n",
       "      <th>353</th>\n",
       "      <td>19-Oct-18</td>\n",
       "      <td>13.8</td>\n",
       "      <td>8.1</td>\n",
       "      <td>0.0</td>\n",
       "      <td>1006.4</td>\n",
       "      <td>5.1</td>\n",
       "      <td>220</td>\n",
       "    </tr>\n",
       "    <tr>\n",
       "      <th>354</th>\n",
       "      <td>20-Oct-18</td>\n",
       "      <td>13.5</td>\n",
       "      <td>10.1</td>\n",
       "      <td>0.2</td>\n",
       "      <td>1009.5</td>\n",
       "      <td>6.4</td>\n",
       "      <td>210</td>\n",
       "    </tr>\n",
       "    <tr>\n",
       "      <th>355</th>\n",
       "      <td>21-Oct-18</td>\n",
       "      <td>13.2</td>\n",
       "      <td>5.8</td>\n",
       "      <td>0.6</td>\n",
       "      <td>1013.2</td>\n",
       "      <td>11.8</td>\n",
       "      <td>320</td>\n",
       "    </tr>\n",
       "    <tr>\n",
       "      <th>356</th>\n",
       "      <td>22-Oct-18</td>\n",
       "      <td>12.6</td>\n",
       "      <td>4.5</td>\n",
       "      <td>0.0</td>\n",
       "      <td>1020.9</td>\n",
       "      <td>7.3</td>\n",
       "      <td>340</td>\n",
       "    </tr>\n",
       "    <tr>\n",
       "      <th>357</th>\n",
       "      <td>23-Oct-18</td>\n",
       "      <td>15.3</td>\n",
       "      <td>6.5</td>\n",
       "      <td>0.0</td>\n",
       "      <td>1018.3</td>\n",
       "      <td>10.0</td>\n",
       "      <td>330</td>\n",
       "    </tr>\n",
       "    <tr>\n",
       "      <th>358</th>\n",
       "      <td>24-Oct-18</td>\n",
       "      <td>12.9</td>\n",
       "      <td>7.3</td>\n",
       "      <td>0.0</td>\n",
       "      <td>1013.0</td>\n",
       "      <td>13.1</td>\n",
       "      <td>330</td>\n",
       "    </tr>\n",
       "    <tr>\n",
       "      <th>359</th>\n",
       "      <td>25-Oct-18</td>\n",
       "      <td>13.1</td>\n",
       "      <td>8.3</td>\n",
       "      <td>0.0</td>\n",
       "      <td>1005.5</td>\n",
       "      <td>9.2</td>\n",
       "      <td>330</td>\n",
       "    </tr>\n",
       "    <tr>\n",
       "      <th>360</th>\n",
       "      <td>26-Oct-18</td>\n",
       "      <td>9.2</td>\n",
       "      <td>4.0</td>\n",
       "      <td>0.3</td>\n",
       "      <td>1002.3</td>\n",
       "      <td>13.5</td>\n",
       "      <td>330</td>\n",
       "    </tr>\n",
       "    <tr>\n",
       "      <th>361</th>\n",
       "      <td>27-Oct-18</td>\n",
       "      <td>6.9</td>\n",
       "      <td>1.2</td>\n",
       "      <td>0.1</td>\n",
       "      <td>1004.9</td>\n",
       "      <td>12.5</td>\n",
       "      <td>360</td>\n",
       "    </tr>\n",
       "    <tr>\n",
       "      <th>362</th>\n",
       "      <td>28-Oct-18</td>\n",
       "      <td>8.7</td>\n",
       "      <td>0.3</td>\n",
       "      <td>0.0</td>\n",
       "      <td>1003.1</td>\n",
       "      <td>9.0</td>\n",
       "      <td>330</td>\n",
       "    </tr>\n",
       "    <tr>\n",
       "      <th>363</th>\n",
       "      <td>29-Oct-18</td>\n",
       "      <td>8.4</td>\n",
       "      <td>2.6</td>\n",
       "      <td>2.0</td>\n",
       "      <td>989.4</td>\n",
       "      <td>8.3</td>\n",
       "      <td>140</td>\n",
       "    </tr>\n",
       "    <tr>\n",
       "      <th>364</th>\n",
       "      <td>30-Oct-18</td>\n",
       "      <td>10.1</td>\n",
       "      <td>4.0</td>\n",
       "      <td>6.0</td>\n",
       "      <td>979.9</td>\n",
       "      <td>4.6</td>\n",
       "      <td>160</td>\n",
       "    </tr>\n",
       "    <tr>\n",
       "      <th>365</th>\n",
       "      <td>31-Oct-18</td>\n",
       "      <td>11.2</td>\n",
       "      <td>3.7</td>\n",
       "      <td>0.4</td>\n",
       "      <td>983.0</td>\n",
       "      <td>4.5</td>\n",
       "      <td>220</td>\n",
       "    </tr>\n",
       "  </tbody>\n",
       "</table>\n",
       "<p>366 rows × 7 columns</p>\n",
       "</div>"
      ],
      "text/plain": [
       "          Date  MaxTemp  MinTemp  Rain mm  Pressure cbl Hpa  WindSpeed Knots  \\\n",
       "0    31-Oct-17     12.3     10.0      0.0            1003.7              9.2   \n",
       "1    01-Nov-17     12.6      7.8      0.0             998.5              3.8   \n",
       "2    02-Nov-17     12.8      7.8      0.2             997.4              4.1   \n",
       "3    03-Nov-17     10.0      7.3      0.0             992.5              3.1   \n",
       "4    04-Nov-17      9.4      3.4      2.4             991.3             10.2   \n",
       "5    05-Nov-17      9.8      4.0      1.1            1000.5              7.8   \n",
       "6    06-Nov-17     11.5      5.6     10.6             997.8             12.5   \n",
       "7    07-Nov-17      9.7      3.0      2.5             997.2              9.1   \n",
       "8    08-Nov-17     10.5      4.0      0.1            1005.2              5.9   \n",
       "9    09-Nov-17     12.2      8.7      0.8            1006.8              9.9   \n",
       "10   10-Nov-17     12.1      9.2      0.7            1002.6             11.8   \n",
       "11   11-Nov-17     14.1      7.3      4.3             995.2             13.0   \n",
       "12   12-Nov-17      8.6      2.6      0.0            1002.6             11.8   \n",
       "13   13-Nov-17     10.2      2.6      0.0            1007.2              6.6   \n",
       "14   14-Nov-17     13.1      9.6      0.3            1003.2              6.1   \n",
       "15   15-Nov-17     11.1      8.6      2.3            1002.3              5.4   \n",
       "16   16-Nov-17     10.6      4.3      0.2            1005.5              8.2   \n",
       "17   17-Nov-17      8.4      3.1      0.3            1009.3              3.5   \n",
       "18   18-Nov-17     13.4      7.9      1.6            1005.2              6.5   \n",
       "19   19-Nov-17     11.0      7.1      2.0            1000.7              8.1   \n",
       "20   20-Nov-17     13.4     11.0      1.7             994.5             10.9   \n",
       "21   21-Nov-17     13.1     10.6     14.4             985.5              9.9   \n",
       "22   22-Nov-17     12.9      3.0     21.6             970.5             13.5   \n",
       "23   23-Nov-17      9.0      1.9      0.1             977.8              9.2   \n",
       "24   24-Nov-17      6.4      0.9      2.1             993.0              7.6   \n",
       "25   25-Nov-17      5.0      0.6      0.6            1003.2              9.8   \n",
       "26   26-Nov-17      9.7      2.3      0.7            1004.3             10.2   \n",
       "27   27-Nov-17     10.2      4.3      4.0             998.0             11.8   \n",
       "28   28-Nov-17      6.1      1.8      0.1             997.8             11.0   \n",
       "29   29-Nov-17      5.2      0.8      0.0            1001.2             11.5   \n",
       "..         ...      ...      ...      ...               ...              ...   \n",
       "336  02-Oct-18     18.1     11.4      0.0            1006.9             10.6   \n",
       "337  03-Oct-18     15.5     10.4      0.2            1007.7              6.5   \n",
       "338  04-Oct-18     14.9     11.4      2.8            1001.5              7.7   \n",
       "339  05-Oct-18     11.4      6.6      0.4             996.6             10.8   \n",
       "340  06-Oct-18     11.9      5.0      0.0            1000.8              9.0   \n",
       "341  07-Oct-18     13.4      3.1      0.0            1002.3              9.5   \n",
       "342  08-Oct-18     13.9     11.6      0.3             996.2             15.5   \n",
       "343  09-Oct-18     15.2     12.0      0.0             992.2             14.6   \n",
       "344  10-Oct-18     16.9     12.2      0.0             983.2             16.8   \n",
       "345  11-Oct-18     14.1     10.1      9.7             972.3             13.8   \n",
       "346  12-Oct-18     13.9     10.4     18.3             972.8             13.9   \n",
       "347  13-Oct-18     13.2      7.8     18.4             982.3              7.9   \n",
       "348  14-Oct-18     12.3      5.6      0.0             990.5              4.1   \n",
       "349  15-Oct-18     13.3      5.2      0.0             994.0              6.0   \n",
       "350  16-Oct-18     15.5      7.0      1.4             993.5              8.2   \n",
       "351  17-Oct-18     13.1      5.8      0.4            1002.6              8.0   \n",
       "352  18-Oct-18     12.5      4.6      0.1            1007.9              5.3   \n",
       "353  19-Oct-18     13.8      8.1      0.0            1006.4              5.1   \n",
       "354  20-Oct-18     13.5     10.1      0.2            1009.5              6.4   \n",
       "355  21-Oct-18     13.2      5.8      0.6            1013.2             11.8   \n",
       "356  22-Oct-18     12.6      4.5      0.0            1020.9              7.3   \n",
       "357  23-Oct-18     15.3      6.5      0.0            1018.3             10.0   \n",
       "358  24-Oct-18     12.9      7.3      0.0            1013.0             13.1   \n",
       "359  25-Oct-18     13.1      8.3      0.0            1005.5              9.2   \n",
       "360  26-Oct-18      9.2      4.0      0.3            1002.3             13.5   \n",
       "361  27-Oct-18      6.9      1.2      0.1            1004.9             12.5   \n",
       "362  28-Oct-18      8.7      0.3      0.0            1003.1              9.0   \n",
       "363  29-Oct-18      8.4      2.6      2.0             989.4              8.3   \n",
       "364  30-Oct-18     10.1      4.0      6.0             979.9              4.6   \n",
       "365  31-Oct-18     11.2      3.7      0.4             983.0              4.5   \n",
       "\n",
       "     Wind Direction deg  \n",
       "0                   220  \n",
       "1                   180  \n",
       "2                   340  \n",
       "3                   260  \n",
       "4                   300  \n",
       "5                   320  \n",
       "6                   200  \n",
       "7                   330  \n",
       "8                   300  \n",
       "9                   310  \n",
       "10                  300  \n",
       "11                  280  \n",
       "12                  330  \n",
       "13                  230  \n",
       "14                  230  \n",
       "15                  200  \n",
       "16                  330  \n",
       "17                  220  \n",
       "18                  260  \n",
       "19                  210  \n",
       "20                  230  \n",
       "21                  220  \n",
       "22                  200  \n",
       "23                  240  \n",
       "24                  330  \n",
       "25                  300  \n",
       "26                  240  \n",
       "27                  240  \n",
       "28                  340  \n",
       "29                  340  \n",
       "..                  ...  \n",
       "336                 300  \n",
       "337                 220  \n",
       "338                 200  \n",
       "339                 330  \n",
       "340                 350  \n",
       "341                 230  \n",
       "342                 210  \n",
       "343                 210  \n",
       "344                 140  \n",
       "345                 140  \n",
       "346                 150  \n",
       "347                 320  \n",
       "348                 300  \n",
       "349                  30  \n",
       "350                 200  \n",
       "351                 350  \n",
       "352                 340  \n",
       "353                 220  \n",
       "354                 210  \n",
       "355                 320  \n",
       "356                 340  \n",
       "357                 330  \n",
       "358                 330  \n",
       "359                 330  \n",
       "360                 330  \n",
       "361                 360  \n",
       "362                 330  \n",
       "363                 140  \n",
       "364                 160  \n",
       "365                 220  \n",
       "\n",
       "[366 rows x 7 columns]"
      ]
     },
     "execution_count": 6,
     "metadata": {},
     "output_type": "execute_result"
    }
   ],
   "source": [
    "CorkAirportData"
   ]
  },
  {
   "cell_type": "markdown",
   "metadata": {},
   "source": [
    "** Summary Descriptive Statistics for the Data Frame**\n",
    "\n",
    "To generate random data to match the characteristics of the cork airport weather data I first need to determine the descriptive statistics for the data set. To generate a randm data set that closely aligns to the cork airport data set I am going to calculate the following statistical parameters.\n",
    "\n",
    "- Mean\n",
    "- Standard Deviation (std)\n",
    "- Skewness\n",
    "- Kurtosis"
   ]
  },
  {
   "cell_type": "code",
   "execution_count": 7,
   "metadata": {},
   "outputs": [
    {
     "data": {
      "text/plain": [
       "MaxTemp                13.301366\n",
       "MinTemp                 6.671858\n",
       "Rain mm                 2.960929\n",
       "Pressure cbl Hpa      995.120765\n",
       "WindSpeed Knots         9.370219\n",
       "Wind Direction deg    228.415301\n",
       "dtype: float64"
      ]
     },
     "execution_count": 7,
     "metadata": {},
     "output_type": "execute_result"
    }
   ],
   "source": [
    "\"Mean Data\"\n",
    "CorkAirportData.mean()"
   ]
  },
  {
   "cell_type": "code",
   "execution_count": 8,
   "metadata": {},
   "outputs": [
    {
     "data": {
      "text/plain": [
       "MaxTemp                5.517347\n",
       "MinTemp                4.669434\n",
       "Rain mm                5.256508\n",
       "Pressure cbl Hpa      11.382705\n",
       "WindSpeed Knots        3.611673\n",
       "Wind Direction deg    89.321351\n",
       "dtype: float64"
      ]
     },
     "execution_count": 8,
     "metadata": {},
     "output_type": "execute_result"
    }
   ],
   "source": [
    "CorkAirportData.std()"
   ]
  },
  {
   "cell_type": "code",
   "execution_count": 9,
   "metadata": {},
   "outputs": [
    {
     "data": {
      "text/plain": [
       "MaxTemp               0.175570\n",
       "MinTemp              -0.028819\n",
       "Rain mm               2.597616\n",
       "Pressure cbl Hpa     -0.594056\n",
       "WindSpeed Knots       0.694846\n",
       "Wind Direction deg   -0.609418\n",
       "dtype: float64"
      ]
     },
     "execution_count": 9,
     "metadata": {},
     "output_type": "execute_result"
    }
   ],
   "source": [
    "CorkAirportData.skew()"
   ]
  },
  {
   "cell_type": "code",
   "execution_count": 10,
   "metadata": {},
   "outputs": [
    {
     "data": {
      "text/plain": [
       "MaxTemp              -0.538643\n",
       "MinTemp              -0.809285\n",
       "Rain mm               7.324231\n",
       "Pressure cbl Hpa      0.033814\n",
       "WindSpeed Knots       0.133744\n",
       "Wind Direction deg   -0.338251\n",
       "dtype: float64"
      ]
     },
     "execution_count": 10,
     "metadata": {},
     "output_type": "execute_result"
    }
   ],
   "source": [
    "CorkAirportData.kurtosis()"
   ]
  },
  {
   "cell_type": "code",
   "execution_count": 11,
   "metadata": {},
   "outputs": [
    {
     "data": {
      "text/plain": [
       "Date                  01-Apr-18\n",
       "MaxTemp                    -1.8\n",
       "MinTemp                      -7\n",
       "Rain mm                       0\n",
       "Pressure cbl Hpa          963.3\n",
       "WindSpeed Knots             2.8\n",
       "Wind Direction deg            0\n",
       "dtype: object"
      ]
     },
     "execution_count": 11,
     "metadata": {},
     "output_type": "execute_result"
    }
   ],
   "source": [
    "CorkAirportData.min()"
   ]
  },
  {
   "cell_type": "code",
   "execution_count": 12,
   "metadata": {},
   "outputs": [
    {
     "data": {
      "text/plain": [
       "Date                  31-Oct-18\n",
       "MaxTemp                    26.7\n",
       "MinTemp                    16.5\n",
       "Rain mm                      31\n",
       "Pressure cbl Hpa         1020.9\n",
       "WindSpeed Knots            23.8\n",
       "Wind Direction deg          360\n",
       "dtype: object"
      ]
     },
     "execution_count": 12,
     "metadata": {},
     "output_type": "execute_result"
    }
   ],
   "source": [
    "CorkAirportData.max()"
   ]
  },
  {
   "cell_type": "code",
   "execution_count": 13,
   "metadata": {},
   "outputs": [
    {
     "data": {
      "text/plain": [
       "MaxTemp                12.60\n",
       "MinTemp                 6.75\n",
       "Rain mm                 0.40\n",
       "Pressure cbl Hpa      996.85\n",
       "WindSpeed Knots         8.90\n",
       "Wind Direction deg    230.00\n",
       "dtype: float64"
      ]
     },
     "execution_count": 13,
     "metadata": {},
     "output_type": "execute_result"
    }
   ],
   "source": [
    "CorkAirportData.median()"
   ]
  },
  {
   "cell_type": "markdown",
   "metadata": {},
   "source": [
    "** Defining Each Column Within the Cork Airport Data Frame**\n",
    "\n",
    "To compare the data and graphs of the Cork airport data and the randomly generated data I will define each column within the data frame so it can be graphed. I will use the iloc function to define each column of data so they can be plotted on as subplots on bar chart graphs."
   ]
  },
  {
   "cell_type": "code",
   "execution_count": 14,
   "metadata": {},
   "outputs": [
    {
     "data": {
      "text/plain": [
       "Text(0,0.5,'Temperature')"
      ]
     },
     "execution_count": 14,
     "metadata": {},
     "output_type": "execute_result"
    }
   ],
   "source": [
    "plt.subplot(2,3,1)\n",
    "MaxTemp=CorkAirportData.iloc[0:365,1]\n",
    "plt.hist(MaxTemp)\n",
    "plt.title(\"MaxTemp\")\n",
    "plt.xlabel(\"Qty\")\n",
    "plt.ylabel(\"Temperature\")"
   ]
  },
  {
   "cell_type": "code",
   "execution_count": 15,
   "metadata": {},
   "outputs": [
    {
     "data": {
      "text/plain": [
       "Text(0,0.5,'Temperature')"
      ]
     },
     "execution_count": 15,
     "metadata": {},
     "output_type": "execute_result"
    }
   ],
   "source": [
    "plt.subplot(2,3,2)\n",
    "MinTemp=CorkAirportData.iloc[0:365,2]\n",
    "plt.hist(MinTemp)\n",
    "plt.title(\"MinTemp\")\n",
    "plt.xlabel(\"Qty\")\n",
    "plt.ylabel(\"Temperature\")"
   ]
  },
  {
   "cell_type": "code",
   "execution_count": 16,
   "metadata": {},
   "outputs": [
    {
     "data": {
      "text/plain": [
       "Text(0,0.5,'Volume')"
      ]
     },
     "execution_count": 16,
     "metadata": {},
     "output_type": "execute_result"
    }
   ],
   "source": [
    "plt.subplot(2,3,3)\n",
    "Rain=CorkAirportData.iloc[0:365,3]\n",
    "plt.hist(Rain)\n",
    "plt.title(\"Percipitation (mm)\")\n",
    "plt.xlabel(\"Qty\")\n",
    "plt.ylabel(\"Volume\")"
   ]
  },
  {
   "cell_type": "code",
   "execution_count": 17,
   "metadata": {},
   "outputs": [
    {
     "data": {
      "text/plain": [
       "Text(0,0.5,'Pressure')"
      ]
     },
     "execution_count": 17,
     "metadata": {},
     "output_type": "execute_result"
    }
   ],
   "source": [
    "plt.subplot(2,3,4)\n",
    "Pressure=CorkAirportData.iloc[0:365,4]\n",
    "plt.hist(Pressure)\n",
    "plt.title(\"Pressure (Hpa)\")\n",
    "plt.xlabel(\"Qty\")\n",
    "plt.ylabel(\"Pressure\")"
   ]
  },
  {
   "cell_type": "code",
   "execution_count": 18,
   "metadata": {},
   "outputs": [
    {
     "data": {
      "text/plain": [
       "Text(0,0.5,'Speed Knots')"
      ]
     },
     "execution_count": 18,
     "metadata": {},
     "output_type": "execute_result"
    }
   ],
   "source": [
    "plt.subplot(2,3,5)\n",
    "WindSpeed=CorkAirportData.iloc[0:365,5]\n",
    "plt.hist(WindSpeed)\n",
    "plt.title(\"Wind Speed (knots)\")\n",
    "plt.xlabel(\"Qty\")\n",
    "plt.ylabel(\"Speed Knots\")"
   ]
  },
  {
   "cell_type": "code",
   "execution_count": 19,
   "metadata": {},
   "outputs": [
    {
     "data": {
      "text/plain": [
       "Text(0,0.5,'Wind Direction (deg)')"
      ]
     },
     "execution_count": 19,
     "metadata": {},
     "output_type": "execute_result"
    }
   ],
   "source": [
    "plt.subplot(2,3,6)\n",
    "WindDirection=CorkAirportData.iloc[0:365,6]\n",
    "plt.hist(WindDirection)\n",
    "plt.title(\"Wind Direction (deg)\")\n",
    "plt.xlabel(\"Qty\")\n",
    "plt.ylabel(\"Wind Direction (deg)\")"
   ]
  },
  {
   "cell_type": "code",
   "execution_count": 20,
   "metadata": {},
   "outputs": [
    {
     "data": {
      "image/png": "[encoded data removed]",
      "text/plain": [
       "<matplotlib.figure.Figure at 0x1cae6d70cf8>"
      ]
     },
     "metadata": {},
     "output_type": "display_data"
    }
   ],
   "source": [
    "plt.show()"
   ]
  },
  {
   "cell_type": "markdown",
   "metadata": {
    "collapsed": true
   },
   "source": [
    "** Generatation of Random Data to Simulation the Cork Airport Weather Data**\n",
    "\n",
    "To analyse the data and to determine if there is any dependancies between the variables and rainfall, random data will be generated who's distributions approximate the real world weather data from Cork Airport. Below we detail the distributions assigned to each of the weather variables selected and a brief justification for selecting the specific distribution for each variable.\n",
    "    \n",
    "       Weather Variable         Designation        Selected Distribution\n",
    "     - Max Temperature          RandMaxTemp        Normal Distribution\n",
    "     - Min Temperature          RandMinTemp        Normal Distribution\n",
    "     - Percipitation            RandRain           Gamma Distribution\n",
    "     - Pressure                 RandPressure       Gumbel Distribution\n",
    "     - Wind Speed               RandWindSpeed      Gumbel Distribution\n",
    "     - Wind Direction           RandWindDir        Gumbel Distribtion\n",
    "     \n",
    "As the original data visually illustrated the Max and Min temperatures displayed an approximation to the normal distribution the random data for Max and Min temperatures will be generated following the normal distribution.\n",
    "\n",
    "On review of literature it was discovered a number of distributions can be used to model percipitation amounts. As the original data set was right skewed the Gamma distribution was selected to model the random data for percipitation (Rain Fall)\n",
    "\n",
    "All other variables display extreme values and for this reason the Gumbel distributions were selected for them.\n",
    "     "
   ]
  },
  {
   "cell_type": "markdown",
   "metadata": {},
   "source": [
    "**RandMaxTemp**"
   ]
  },
  {
   "cell_type": "code",
   "execution_count": 21,
   "metadata": {},
   "outputs": [
    {
     "data": {
      "text/plain": [
       "Text(0,0.5,'Temperature')"
      ]
     },
     "execution_count": 21,
     "metadata": {},
     "output_type": "execute_result"
    }
   ],
   "source": [
    "RandMaxTemp=np.random.normal(13.301366,5.517347,365)\n",
    "plt.subplot(2,3,1)\n",
    "plt.hist(RandMaxTemp)\n",
    "plt.title(\"Daily Max Temperature\")\n",
    "plt.xlabel(\"Qty\")\n",
    "plt.ylabel(\"Temperature\")"
   ]
  },
  {
   "cell_type": "markdown",
   "metadata": {},
   "source": [
    "**RandMinTemp**"
   ]
  },
  {
   "cell_type": "code",
   "execution_count": 22,
   "metadata": {},
   "outputs": [
    {
     "data": {
      "text/plain": [
       "Text(0,0.5,'Temperature')"
      ]
     },
     "execution_count": 22,
     "metadata": {},
     "output_type": "execute_result"
    }
   ],
   "source": [
    "RandMinTemp=np.random.normal(6.671858,4.669434,365)\n",
    "plt.subplot(2,3,2)\n",
    "plt.hist(RandMinTemp)\n",
    "plt.title(\"Daily Min Temperature\")\n",
    "plt.xlabel(\"Qty\")\n",
    "plt.ylabel(\"Temperature\")"
   ]
  },
  {
   "cell_type": "markdown",
   "metadata": {},
   "source": [
    "**RandRain**"
   ]
  },
  {
   "cell_type": "code",
   "execution_count": 23,
   "metadata": {},
   "outputs": [
    {
     "data": {
      "text/plain": [
       "Text(0,0.5,'Rain mm')"
      ]
     },
     "execution_count": 23,
     "metadata": {},
     "output_type": "execute_result"
    }
   ],
   "source": [
    "RandRain = np.random.gamma(0.4, 5.256508, 365)\n",
    "plt.subplot(2,3,3)\n",
    "plt.hist(RandRain)\n",
    "plt.title(\"Daily Rain Fall\")\n",
    "plt.xlabel(\"Amount\")\n",
    "plt.ylabel(\"Rain mm\")"
   ]
  },
  {
   "cell_type": "markdown",
   "metadata": {},
   "source": [
    "**RandPressure**"
   ]
  },
  {
   "cell_type": "code",
   "execution_count": 24,
   "metadata": {},
   "outputs": [
    {
     "data": {
      "text/plain": [
       "Text(0,0.5,'Pressure Frequency Hpa')"
      ]
     },
     "execution_count": 24,
     "metadata": {},
     "output_type": "execute_result"
    }
   ],
   "source": [
    "RandPressure = np.random.gumbel(996.85, 11.382705, 365)\n",
    "plt.subplot(2,3,4)\n",
    "plt.hist(RandPressure)\n",
    "plt.title(\"Daily Pressure\")\n",
    "plt.xlabel(\"Pressure\")\n",
    "plt.ylabel(\"Pressure Frequency Hpa\")"
   ]
  },
  {
   "cell_type": "markdown",
   "metadata": {},
   "source": [
    "**RandWindSpeed**"
   ]
  },
  {
   "cell_type": "code",
   "execution_count": 25,
   "metadata": {},
   "outputs": [
    {
     "data": {
      "text/plain": [
       "Text(0,0.5,'Wind Speed Frequency Knots')"
      ]
     },
     "execution_count": 25,
     "metadata": {},
     "output_type": "execute_result"
    }
   ],
   "source": [
    "RandWindSpeed = np.random.gumbel(8.9, 3.611673, 365)\n",
    "plt.subplot(2,3,5)\n",
    "plt.hist(RandWindSpeed)\n",
    "plt.title(\"Daily Wind Speed\")\n",
    "plt.xlabel(\"Wind Speed\")\n",
    "plt.ylabel(\"Wind Speed Frequency Knots\")"
   ]
  },
  {
   "cell_type": "markdown",
   "metadata": {},
   "source": [
    "**RandWindDir**"
   ]
  },
  {
   "cell_type": "code",
   "execution_count": 26,
   "metadata": {},
   "outputs": [
    {
     "data": {
      "text/plain": [
       "Text(0,0.5,'Wind Direction Degs')"
      ]
     },
     "execution_count": 26,
     "metadata": {},
     "output_type": "execute_result"
    }
   ],
   "source": [
    "RandWindDir = np.random.gumbel(230, 89.321351, 365)\n",
    "plt.subplot(2,3,6)\n",
    "plt.hist(RandWindDir)\n",
    "plt.title(\"Daily Wind Direction\")\n",
    "plt.xlabel(\"Wind Direction\")\n",
    "plt.ylabel(\"Wind Direction Degs\")"
   ]
  },
  {
   "cell_type": "code",
   "execution_count": 27,
   "metadata": {},
   "outputs": [
    {
     "data": {
      "image/png": "[encoded data removed]",
      "text/plain": [
       "<matplotlib.figure.Figure at 0x1cae6e25c50>"
      ]
     },
     "metadata": {},
     "output_type": "display_data"
    }
   ],
   "source": [
    "plt.show()"
   ]
  },
  {
   "cell_type": "code",
   "execution_count": 28,
   "metadata": {
    "collapsed": true
   },
   "outputs": [],
   "source": [
    "## Including a range of integers for use in the scatter plots for an \"X\" value\n",
    "DayNumber = range(1,366)"
   ]
  },
  {
   "cell_type": "markdown",
   "metadata": {},
   "source": [
    "**Random Data, Data Frame Creation**\n",
    "\n",
    "Now that we have created random data to simulate the real world weather data from Cork airport, we will create a data from to store our results.\n",
    "\n",
    "I will define and name the data frame RanWeatherData to differenciate from the original data set from Cork airport."
   ]
  },
  {
   "cell_type": "code",
   "execution_count": 29,
   "metadata": {
    "collapsed": true
   },
   "outputs": [],
   "source": [
    "RanWeatherData = pd.DataFrame({\"Day Number\": DayNumber,\"Random Max Temp\":RandMaxTemp, \"Random Min Temp\": RandMinTemp, \"Random Rain\": RandRain, \"Random Pressure\": RandPressure, \"Random Wind Speed\": RandWindSpeed, \"Random Wind Direction\": RandWindDir})"
   ]
  },
  {
   "cell_type": "code",
   "execution_count": 30,
   "metadata": {},
   "outputs": [
    {
     "data": {
      "text/html": [
       "<div>\n",
       "<style>\n",
       "    .dataframe thead tr:only-child th {\n",
       "        text-align: right;\n",
       "    }\n",
       "\n",
       "    .dataframe thead th {\n",
       "        text-align: left;\n",
       "    }\n",
       "\n",
       "    .dataframe tbody tr th {\n",
       "        vertical-align: top;\n",
       "    }\n",
       "</style>\n",
       "<table border=\"1\" class=\"dataframe\">\n",
       "  <thead>\n",
       "    <tr style=\"text-align: right;\">\n",
       "      <th></th>\n",
       "      <th>Day Number</th>\n",
       "      <th>Random Max Temp</th>\n",
       "      <th>Random Min Temp</th>\n",
       "      <th>Random Pressure</th>\n",
       "      <th>Random Rain</th>\n",
       "      <th>Random Wind Direction</th>\n",
       "      <th>Random Wind Speed</th>\n",
       "    </tr>\n",
       "  </thead>\n",
       "  <tbody>\n",
       "    <tr>\n",
       "      <th>0</th>\n",
       "      <td>1</td>\n",
       "      <td>10.006840</td>\n",
       "      <td>8.259516</td>\n",
       "      <td>1001.917212</td>\n",
       "      <td>0.174020</td>\n",
       "      <td>137.084894</td>\n",
       "      <td>12.337876</td>\n",
       "    </tr>\n",
       "    <tr>\n",
       "      <th>1</th>\n",
       "      <td>2</td>\n",
       "      <td>17.260469</td>\n",
       "      <td>16.264606</td>\n",
       "      <td>1000.016955</td>\n",
       "      <td>0.140278</td>\n",
       "      <td>391.593792</td>\n",
       "      <td>9.141546</td>\n",
       "    </tr>\n",
       "    <tr>\n",
       "      <th>2</th>\n",
       "      <td>3</td>\n",
       "      <td>18.442055</td>\n",
       "      <td>5.107283</td>\n",
       "      <td>991.657144</td>\n",
       "      <td>0.933054</td>\n",
       "      <td>380.479330</td>\n",
       "      <td>11.224560</td>\n",
       "    </tr>\n",
       "    <tr>\n",
       "      <th>3</th>\n",
       "      <td>4</td>\n",
       "      <td>13.863504</td>\n",
       "      <td>2.863556</td>\n",
       "      <td>1000.318122</td>\n",
       "      <td>0.487911</td>\n",
       "      <td>632.641260</td>\n",
       "      <td>10.790332</td>\n",
       "    </tr>\n",
       "    <tr>\n",
       "      <th>4</th>\n",
       "      <td>5</td>\n",
       "      <td>8.721183</td>\n",
       "      <td>7.526364</td>\n",
       "      <td>1045.677031</td>\n",
       "      <td>20.585539</td>\n",
       "      <td>201.721966</td>\n",
       "      <td>8.848819</td>\n",
       "    </tr>\n",
       "    <tr>\n",
       "      <th>5</th>\n",
       "      <td>6</td>\n",
       "      <td>17.402319</td>\n",
       "      <td>2.146681</td>\n",
       "      <td>1008.043184</td>\n",
       "      <td>0.050123</td>\n",
       "      <td>307.997715</td>\n",
       "      <td>6.983785</td>\n",
       "    </tr>\n",
       "    <tr>\n",
       "      <th>6</th>\n",
       "      <td>7</td>\n",
       "      <td>13.435829</td>\n",
       "      <td>10.744185</td>\n",
       "      <td>998.148648</td>\n",
       "      <td>4.195544</td>\n",
       "      <td>107.774952</td>\n",
       "      <td>6.091636</td>\n",
       "    </tr>\n",
       "    <tr>\n",
       "      <th>7</th>\n",
       "      <td>8</td>\n",
       "      <td>9.638052</td>\n",
       "      <td>4.891087</td>\n",
       "      <td>993.253670</td>\n",
       "      <td>0.987120</td>\n",
       "      <td>192.538886</td>\n",
       "      <td>8.491684</td>\n",
       "    </tr>\n",
       "    <tr>\n",
       "      <th>8</th>\n",
       "      <td>9</td>\n",
       "      <td>5.860839</td>\n",
       "      <td>8.305114</td>\n",
       "      <td>1000.650117</td>\n",
       "      <td>0.790870</td>\n",
       "      <td>154.547747</td>\n",
       "      <td>7.132900</td>\n",
       "    </tr>\n",
       "    <tr>\n",
       "      <th>9</th>\n",
       "      <td>10</td>\n",
       "      <td>15.731019</td>\n",
       "      <td>4.991316</td>\n",
       "      <td>994.164746</td>\n",
       "      <td>0.068375</td>\n",
       "      <td>142.945243</td>\n",
       "      <td>5.036113</td>\n",
       "    </tr>\n",
       "    <tr>\n",
       "      <th>10</th>\n",
       "      <td>11</td>\n",
       "      <td>16.835595</td>\n",
       "      <td>12.003484</td>\n",
       "      <td>1027.072976</td>\n",
       "      <td>0.023385</td>\n",
       "      <td>408.725384</td>\n",
       "      <td>9.483093</td>\n",
       "    </tr>\n",
       "    <tr>\n",
       "      <th>11</th>\n",
       "      <td>12</td>\n",
       "      <td>20.903636</td>\n",
       "      <td>5.200234</td>\n",
       "      <td>996.213444</td>\n",
       "      <td>0.030929</td>\n",
       "      <td>277.238220</td>\n",
       "      <td>4.153274</td>\n",
       "    </tr>\n",
       "    <tr>\n",
       "      <th>12</th>\n",
       "      <td>13</td>\n",
       "      <td>-0.027709</td>\n",
       "      <td>2.866478</td>\n",
       "      <td>1007.962981</td>\n",
       "      <td>9.275881</td>\n",
       "      <td>247.970464</td>\n",
       "      <td>15.576606</td>\n",
       "    </tr>\n",
       "    <tr>\n",
       "      <th>13</th>\n",
       "      <td>14</td>\n",
       "      <td>19.691266</td>\n",
       "      <td>-3.836039</td>\n",
       "      <td>1021.386007</td>\n",
       "      <td>2.629155</td>\n",
       "      <td>345.433256</td>\n",
       "      <td>9.347524</td>\n",
       "    </tr>\n",
       "    <tr>\n",
       "      <th>14</th>\n",
       "      <td>15</td>\n",
       "      <td>14.064923</td>\n",
       "      <td>10.684143</td>\n",
       "      <td>991.168753</td>\n",
       "      <td>0.191111</td>\n",
       "      <td>169.134549</td>\n",
       "      <td>16.668729</td>\n",
       "    </tr>\n",
       "    <tr>\n",
       "      <th>15</th>\n",
       "      <td>16</td>\n",
       "      <td>1.812909</td>\n",
       "      <td>18.689022</td>\n",
       "      <td>993.256206</td>\n",
       "      <td>1.371923</td>\n",
       "      <td>193.694142</td>\n",
       "      <td>11.045935</td>\n",
       "    </tr>\n",
       "    <tr>\n",
       "      <th>16</th>\n",
       "      <td>17</td>\n",
       "      <td>9.954701</td>\n",
       "      <td>5.761961</td>\n",
       "      <td>1043.172002</td>\n",
       "      <td>2.321061</td>\n",
       "      <td>256.489452</td>\n",
       "      <td>6.284064</td>\n",
       "    </tr>\n",
       "    <tr>\n",
       "      <th>17</th>\n",
       "      <td>18</td>\n",
       "      <td>13.856302</td>\n",
       "      <td>15.128364</td>\n",
       "      <td>997.471384</td>\n",
       "      <td>0.173074</td>\n",
       "      <td>794.679586</td>\n",
       "      <td>6.454948</td>\n",
       "    </tr>\n",
       "    <tr>\n",
       "      <th>18</th>\n",
       "      <td>19</td>\n",
       "      <td>11.364537</td>\n",
       "      <td>7.331614</td>\n",
       "      <td>1008.996936</td>\n",
       "      <td>4.563225</td>\n",
       "      <td>301.163323</td>\n",
       "      <td>12.008610</td>\n",
       "    </tr>\n",
       "    <tr>\n",
       "      <th>19</th>\n",
       "      <td>20</td>\n",
       "      <td>0.018116</td>\n",
       "      <td>2.784221</td>\n",
       "      <td>992.622119</td>\n",
       "      <td>1.169336</td>\n",
       "      <td>225.268472</td>\n",
       "      <td>9.758319</td>\n",
       "    </tr>\n",
       "    <tr>\n",
       "      <th>20</th>\n",
       "      <td>21</td>\n",
       "      <td>13.391032</td>\n",
       "      <td>0.202437</td>\n",
       "      <td>993.778211</td>\n",
       "      <td>0.012236</td>\n",
       "      <td>291.232431</td>\n",
       "      <td>6.723374</td>\n",
       "    </tr>\n",
       "    <tr>\n",
       "      <th>21</th>\n",
       "      <td>22</td>\n",
       "      <td>21.738952</td>\n",
       "      <td>18.308343</td>\n",
       "      <td>1002.391901</td>\n",
       "      <td>0.433491</td>\n",
       "      <td>209.870292</td>\n",
       "      <td>12.192852</td>\n",
       "    </tr>\n",
       "    <tr>\n",
       "      <th>22</th>\n",
       "      <td>23</td>\n",
       "      <td>14.114700</td>\n",
       "      <td>8.943537</td>\n",
       "      <td>1012.894509</td>\n",
       "      <td>1.696190</td>\n",
       "      <td>151.467448</td>\n",
       "      <td>11.072296</td>\n",
       "    </tr>\n",
       "    <tr>\n",
       "      <th>23</th>\n",
       "      <td>24</td>\n",
       "      <td>14.412805</td>\n",
       "      <td>2.704506</td>\n",
       "      <td>982.140226</td>\n",
       "      <td>4.612110</td>\n",
       "      <td>275.871941</td>\n",
       "      <td>6.794073</td>\n",
       "    </tr>\n",
       "    <tr>\n",
       "      <th>24</th>\n",
       "      <td>25</td>\n",
       "      <td>9.354280</td>\n",
       "      <td>1.788597</td>\n",
       "      <td>998.681597</td>\n",
       "      <td>0.001046</td>\n",
       "      <td>243.095825</td>\n",
       "      <td>17.567031</td>\n",
       "    </tr>\n",
       "    <tr>\n",
       "      <th>25</th>\n",
       "      <td>26</td>\n",
       "      <td>13.536548</td>\n",
       "      <td>3.817347</td>\n",
       "      <td>991.970161</td>\n",
       "      <td>2.627658</td>\n",
       "      <td>160.111684</td>\n",
       "      <td>7.878054</td>\n",
       "    </tr>\n",
       "    <tr>\n",
       "      <th>26</th>\n",
       "      <td>27</td>\n",
       "      <td>10.672460</td>\n",
       "      <td>13.408356</td>\n",
       "      <td>1026.741505</td>\n",
       "      <td>0.904929</td>\n",
       "      <td>221.256166</td>\n",
       "      <td>6.795633</td>\n",
       "    </tr>\n",
       "    <tr>\n",
       "      <th>27</th>\n",
       "      <td>28</td>\n",
       "      <td>10.397928</td>\n",
       "      <td>9.760897</td>\n",
       "      <td>1012.722476</td>\n",
       "      <td>0.001002</td>\n",
       "      <td>378.017480</td>\n",
       "      <td>19.306947</td>\n",
       "    </tr>\n",
       "    <tr>\n",
       "      <th>28</th>\n",
       "      <td>29</td>\n",
       "      <td>8.158850</td>\n",
       "      <td>0.127498</td>\n",
       "      <td>1009.725511</td>\n",
       "      <td>4.135391</td>\n",
       "      <td>135.024037</td>\n",
       "      <td>19.545608</td>\n",
       "    </tr>\n",
       "    <tr>\n",
       "      <th>29</th>\n",
       "      <td>30</td>\n",
       "      <td>13.707928</td>\n",
       "      <td>4.332857</td>\n",
       "      <td>1030.351517</td>\n",
       "      <td>0.486380</td>\n",
       "      <td>281.201819</td>\n",
       "      <td>7.103724</td>\n",
       "    </tr>\n",
       "    <tr>\n",
       "      <th>...</th>\n",
       "      <td>...</td>\n",
       "      <td>...</td>\n",
       "      <td>...</td>\n",
       "      <td>...</td>\n",
       "      <td>...</td>\n",
       "      <td>...</td>\n",
       "      <td>...</td>\n",
       "    </tr>\n",
       "    <tr>\n",
       "      <th>335</th>\n",
       "      <td>336</td>\n",
       "      <td>11.211153</td>\n",
       "      <td>2.424124</td>\n",
       "      <td>992.291224</td>\n",
       "      <td>27.886386</td>\n",
       "      <td>232.598145</td>\n",
       "      <td>8.100069</td>\n",
       "    </tr>\n",
       "    <tr>\n",
       "      <th>336</th>\n",
       "      <td>337</td>\n",
       "      <td>10.287907</td>\n",
       "      <td>17.245320</td>\n",
       "      <td>997.948078</td>\n",
       "      <td>0.260296</td>\n",
       "      <td>244.583695</td>\n",
       "      <td>15.403849</td>\n",
       "    </tr>\n",
       "    <tr>\n",
       "      <th>337</th>\n",
       "      <td>338</td>\n",
       "      <td>17.214495</td>\n",
       "      <td>6.609307</td>\n",
       "      <td>1003.008355</td>\n",
       "      <td>0.261012</td>\n",
       "      <td>312.775272</td>\n",
       "      <td>6.389350</td>\n",
       "    </tr>\n",
       "    <tr>\n",
       "      <th>338</th>\n",
       "      <td>339</td>\n",
       "      <td>7.098134</td>\n",
       "      <td>6.726908</td>\n",
       "      <td>1012.414970</td>\n",
       "      <td>4.404230</td>\n",
       "      <td>228.092834</td>\n",
       "      <td>11.029640</td>\n",
       "    </tr>\n",
       "    <tr>\n",
       "      <th>339</th>\n",
       "      <td>340</td>\n",
       "      <td>14.850350</td>\n",
       "      <td>3.290829</td>\n",
       "      <td>991.872426</td>\n",
       "      <td>1.702386</td>\n",
       "      <td>509.296572</td>\n",
       "      <td>10.807627</td>\n",
       "    </tr>\n",
       "    <tr>\n",
       "      <th>340</th>\n",
       "      <td>341</td>\n",
       "      <td>24.377793</td>\n",
       "      <td>7.683145</td>\n",
       "      <td>998.201507</td>\n",
       "      <td>1.133547</td>\n",
       "      <td>297.760913</td>\n",
       "      <td>13.644432</td>\n",
       "    </tr>\n",
       "    <tr>\n",
       "      <th>341</th>\n",
       "      <td>342</td>\n",
       "      <td>15.164752</td>\n",
       "      <td>8.860564</td>\n",
       "      <td>992.149357</td>\n",
       "      <td>0.022472</td>\n",
       "      <td>679.351244</td>\n",
       "      <td>8.673922</td>\n",
       "    </tr>\n",
       "    <tr>\n",
       "      <th>342</th>\n",
       "      <td>343</td>\n",
       "      <td>16.759658</td>\n",
       "      <td>8.262172</td>\n",
       "      <td>997.026864</td>\n",
       "      <td>0.466676</td>\n",
       "      <td>159.435530</td>\n",
       "      <td>20.559226</td>\n",
       "    </tr>\n",
       "    <tr>\n",
       "      <th>343</th>\n",
       "      <td>344</td>\n",
       "      <td>18.876677</td>\n",
       "      <td>4.134255</td>\n",
       "      <td>989.333592</td>\n",
       "      <td>1.129286</td>\n",
       "      <td>144.264796</td>\n",
       "      <td>21.414864</td>\n",
       "    </tr>\n",
       "    <tr>\n",
       "      <th>344</th>\n",
       "      <td>345</td>\n",
       "      <td>10.367277</td>\n",
       "      <td>5.520010</td>\n",
       "      <td>1051.327745</td>\n",
       "      <td>0.130300</td>\n",
       "      <td>180.941081</td>\n",
       "      <td>7.582451</td>\n",
       "    </tr>\n",
       "    <tr>\n",
       "      <th>345</th>\n",
       "      <td>346</td>\n",
       "      <td>14.788086</td>\n",
       "      <td>3.492273</td>\n",
       "      <td>989.794833</td>\n",
       "      <td>0.265670</td>\n",
       "      <td>289.991496</td>\n",
       "      <td>8.889239</td>\n",
       "    </tr>\n",
       "    <tr>\n",
       "      <th>346</th>\n",
       "      <td>347</td>\n",
       "      <td>16.034440</td>\n",
       "      <td>18.723201</td>\n",
       "      <td>999.907658</td>\n",
       "      <td>6.853553</td>\n",
       "      <td>195.151960</td>\n",
       "      <td>9.900759</td>\n",
       "    </tr>\n",
       "    <tr>\n",
       "      <th>347</th>\n",
       "      <td>348</td>\n",
       "      <td>16.080743</td>\n",
       "      <td>-0.730484</td>\n",
       "      <td>994.734350</td>\n",
       "      <td>1.363160</td>\n",
       "      <td>132.245307</td>\n",
       "      <td>10.127676</td>\n",
       "    </tr>\n",
       "    <tr>\n",
       "      <th>348</th>\n",
       "      <td>349</td>\n",
       "      <td>8.882729</td>\n",
       "      <td>-2.008210</td>\n",
       "      <td>992.004725</td>\n",
       "      <td>4.043084</td>\n",
       "      <td>173.343051</td>\n",
       "      <td>7.578274</td>\n",
       "    </tr>\n",
       "    <tr>\n",
       "      <th>349</th>\n",
       "      <td>350</td>\n",
       "      <td>25.149492</td>\n",
       "      <td>16.355324</td>\n",
       "      <td>992.661652</td>\n",
       "      <td>0.743126</td>\n",
       "      <td>160.758150</td>\n",
       "      <td>9.619499</td>\n",
       "    </tr>\n",
       "    <tr>\n",
       "      <th>350</th>\n",
       "      <td>351</td>\n",
       "      <td>11.998867</td>\n",
       "      <td>3.476706</td>\n",
       "      <td>992.313608</td>\n",
       "      <td>2.190178</td>\n",
       "      <td>101.658872</td>\n",
       "      <td>9.941575</td>\n",
       "    </tr>\n",
       "    <tr>\n",
       "      <th>351</th>\n",
       "      <td>352</td>\n",
       "      <td>10.026417</td>\n",
       "      <td>10.723927</td>\n",
       "      <td>1019.851932</td>\n",
       "      <td>0.122423</td>\n",
       "      <td>341.830965</td>\n",
       "      <td>9.311957</td>\n",
       "    </tr>\n",
       "    <tr>\n",
       "      <th>352</th>\n",
       "      <td>353</td>\n",
       "      <td>16.712841</td>\n",
       "      <td>8.246427</td>\n",
       "      <td>998.409478</td>\n",
       "      <td>2.107481</td>\n",
       "      <td>364.353743</td>\n",
       "      <td>9.172705</td>\n",
       "    </tr>\n",
       "    <tr>\n",
       "      <th>353</th>\n",
       "      <td>354</td>\n",
       "      <td>17.237263</td>\n",
       "      <td>11.702635</td>\n",
       "      <td>1017.256072</td>\n",
       "      <td>1.243045</td>\n",
       "      <td>214.178216</td>\n",
       "      <td>9.872816</td>\n",
       "    </tr>\n",
       "    <tr>\n",
       "      <th>354</th>\n",
       "      <td>355</td>\n",
       "      <td>17.840926</td>\n",
       "      <td>16.176558</td>\n",
       "      <td>999.143888</td>\n",
       "      <td>0.053437</td>\n",
       "      <td>227.431802</td>\n",
       "      <td>8.346739</td>\n",
       "    </tr>\n",
       "    <tr>\n",
       "      <th>355</th>\n",
       "      <td>356</td>\n",
       "      <td>2.572297</td>\n",
       "      <td>5.244053</td>\n",
       "      <td>1003.939183</td>\n",
       "      <td>6.439914</td>\n",
       "      <td>331.351549</td>\n",
       "      <td>8.094132</td>\n",
       "    </tr>\n",
       "    <tr>\n",
       "      <th>356</th>\n",
       "      <td>357</td>\n",
       "      <td>7.582370</td>\n",
       "      <td>8.875634</td>\n",
       "      <td>987.368274</td>\n",
       "      <td>2.467862</td>\n",
       "      <td>252.166138</td>\n",
       "      <td>16.576509</td>\n",
       "    </tr>\n",
       "    <tr>\n",
       "      <th>357</th>\n",
       "      <td>358</td>\n",
       "      <td>8.767003</td>\n",
       "      <td>7.859455</td>\n",
       "      <td>983.970552</td>\n",
       "      <td>1.316466</td>\n",
       "      <td>77.776018</td>\n",
       "      <td>8.315025</td>\n",
       "    </tr>\n",
       "    <tr>\n",
       "      <th>358</th>\n",
       "      <td>359</td>\n",
       "      <td>3.819552</td>\n",
       "      <td>6.428235</td>\n",
       "      <td>993.757552</td>\n",
       "      <td>2.213105</td>\n",
       "      <td>126.098313</td>\n",
       "      <td>11.212338</td>\n",
       "    </tr>\n",
       "    <tr>\n",
       "      <th>359</th>\n",
       "      <td>360</td>\n",
       "      <td>4.683210</td>\n",
       "      <td>8.553249</td>\n",
       "      <td>984.097676</td>\n",
       "      <td>3.616739</td>\n",
       "      <td>230.748470</td>\n",
       "      <td>10.502938</td>\n",
       "    </tr>\n",
       "    <tr>\n",
       "      <th>360</th>\n",
       "      <td>361</td>\n",
       "      <td>16.584841</td>\n",
       "      <td>4.721485</td>\n",
       "      <td>995.528546</td>\n",
       "      <td>0.229400</td>\n",
       "      <td>104.759522</td>\n",
       "      <td>24.567638</td>\n",
       "    </tr>\n",
       "    <tr>\n",
       "      <th>361</th>\n",
       "      <td>362</td>\n",
       "      <td>6.201861</td>\n",
       "      <td>7.453412</td>\n",
       "      <td>987.021935</td>\n",
       "      <td>0.011411</td>\n",
       "      <td>164.733185</td>\n",
       "      <td>8.828501</td>\n",
       "    </tr>\n",
       "    <tr>\n",
       "      <th>362</th>\n",
       "      <td>363</td>\n",
       "      <td>12.546406</td>\n",
       "      <td>5.204980</td>\n",
       "      <td>1007.367381</td>\n",
       "      <td>2.262951</td>\n",
       "      <td>276.671249</td>\n",
       "      <td>6.146593</td>\n",
       "    </tr>\n",
       "    <tr>\n",
       "      <th>363</th>\n",
       "      <td>364</td>\n",
       "      <td>14.155032</td>\n",
       "      <td>4.292505</td>\n",
       "      <td>1012.029457</td>\n",
       "      <td>1.689374</td>\n",
       "      <td>126.054700</td>\n",
       "      <td>15.403845</td>\n",
       "    </tr>\n",
       "    <tr>\n",
       "      <th>364</th>\n",
       "      <td>365</td>\n",
       "      <td>24.852163</td>\n",
       "      <td>7.983024</td>\n",
       "      <td>989.700758</td>\n",
       "      <td>0.092473</td>\n",
       "      <td>320.749265</td>\n",
       "      <td>19.323744</td>\n",
       "    </tr>\n",
       "  </tbody>\n",
       "</table>\n",
       "<p>365 rows × 7 columns</p>\n",
       "</div>"
      ],
      "text/plain": [
       "     Day Number  Random Max Temp  Random Min Temp  Random Pressure  \\\n",
       "0             1        10.006840         8.259516      1001.917212   \n",
       "1             2        17.260469        16.264606      1000.016955   \n",
       "2             3        18.442055         5.107283       991.657144   \n",
       "3             4        13.863504         2.863556      1000.318122   \n",
       "4             5         8.721183         7.526364      1045.677031   \n",
       "5             6        17.402319         2.146681      1008.043184   \n",
       "6             7        13.435829        10.744185       998.148648   \n",
       "7             8         9.638052         4.891087       993.253670   \n",
       "8             9         5.860839         8.305114      1000.650117   \n",
       "9            10        15.731019         4.991316       994.164746   \n",
       "10           11        16.835595        12.003484      1027.072976   \n",
       "11           12        20.903636         5.200234       996.213444   \n",
       "12           13        -0.027709         2.866478      1007.962981   \n",
       "13           14        19.691266        -3.836039      1021.386007   \n",
       "14           15        14.064923        10.684143       991.168753   \n",
       "15           16         1.812909        18.689022       993.256206   \n",
       "16           17         9.954701         5.761961      1043.172002   \n",
       "17           18        13.856302        15.128364       997.471384   \n",
       "18           19        11.364537         7.331614      1008.996936   \n",
       "19           20         0.018116         2.784221       992.622119   \n",
       "20           21        13.391032         0.202437       993.778211   \n",
       "21           22        21.738952        18.308343      1002.391901   \n",
       "22           23        14.114700         8.943537      1012.894509   \n",
       "23           24        14.412805         2.704506       982.140226   \n",
       "24           25         9.354280         1.788597       998.681597   \n",
       "25           26        13.536548         3.817347       991.970161   \n",
       "26           27        10.672460        13.408356      1026.741505   \n",
       "27           28        10.397928         9.760897      1012.722476   \n",
       "28           29         8.158850         0.127498      1009.725511   \n",
       "29           30        13.707928         4.332857      1030.351517   \n",
       "..          ...              ...              ...              ...   \n",
       "335         336        11.211153         2.424124       992.291224   \n",
       "336         337        10.287907        17.245320       997.948078   \n",
       "337         338        17.214495         6.609307      1003.008355   \n",
       "338         339         7.098134         6.726908      1012.414970   \n",
       "339         340        14.850350         3.290829       991.872426   \n",
       "340         341        24.377793         7.683145       998.201507   \n",
       "341         342        15.164752         8.860564       992.149357   \n",
       "342         343        16.759658         8.262172       997.026864   \n",
       "343         344        18.876677         4.134255       989.333592   \n",
       "344         345        10.367277         5.520010      1051.327745   \n",
       "345         346        14.788086         3.492273       989.794833   \n",
       "346         347        16.034440        18.723201       999.907658   \n",
       "347         348        16.080743        -0.730484       994.734350   \n",
       "348         349         8.882729        -2.008210       992.004725   \n",
       "349         350        25.149492        16.355324       992.661652   \n",
       "350         351        11.998867         3.476706       992.313608   \n",
       "351         352        10.026417        10.723927      1019.851932   \n",
       "352         353        16.712841         8.246427       998.409478   \n",
       "353         354        17.237263        11.702635      1017.256072   \n",
       "354         355        17.840926        16.176558       999.143888   \n",
       "355         356         2.572297         5.244053      1003.939183   \n",
       "356         357         7.582370         8.875634       987.368274   \n",
       "357         358         8.767003         7.859455       983.970552   \n",
       "358         359         3.819552         6.428235       993.757552   \n",
       "359         360         4.683210         8.553249       984.097676   \n",
       "360         361        16.584841         4.721485       995.528546   \n",
       "361         362         6.201861         7.453412       987.021935   \n",
       "362         363        12.546406         5.204980      1007.367381   \n",
       "363         364        14.155032         4.292505      1012.029457   \n",
       "364         365        24.852163         7.983024       989.700758   \n",
       "\n",
       "     Random Rain  Random Wind Direction  Random Wind Speed  \n",
       "0       0.174020             137.084894          12.337876  \n",
       "1       0.140278             391.593792           9.141546  \n",
       "2       0.933054             380.479330          11.224560  \n",
       "3       0.487911             632.641260          10.790332  \n",
       "4      20.585539             201.721966           8.848819  \n",
       "5       0.050123             307.997715           6.983785  \n",
       "6       4.195544             107.774952           6.091636  \n",
       "7       0.987120             192.538886           8.491684  \n",
       "8       0.790870             154.547747           7.132900  \n",
       "9       0.068375             142.945243           5.036113  \n",
       "10      0.023385             408.725384           9.483093  \n",
       "11      0.030929             277.238220           4.153274  \n",
       "12      9.275881             247.970464          15.576606  \n",
       "13      2.629155             345.433256           9.347524  \n",
       "14      0.191111             169.134549          16.668729  \n",
       "15      1.371923             193.694142          11.045935  \n",
       "16      2.321061             256.489452           6.284064  \n",
       "17      0.173074             794.679586           6.454948  \n",
       "18      4.563225             301.163323          12.008610  \n",
       "19      1.169336             225.268472           9.758319  \n",
       "20      0.012236             291.232431           6.723374  \n",
       "21      0.433491             209.870292          12.192852  \n",
       "22      1.696190             151.467448          11.072296  \n",
       "23      4.612110             275.871941           6.794073  \n",
       "24      0.001046             243.095825          17.567031  \n",
       "25      2.627658             160.111684           7.878054  \n",
       "26      0.904929             221.256166           6.795633  \n",
       "27      0.001002             378.017480          19.306947  \n",
       "28      4.135391             135.024037          19.545608  \n",
       "29      0.486380             281.201819           7.103724  \n",
       "..           ...                    ...                ...  \n",
       "335    27.886386             232.598145           8.100069  \n",
       "336     0.260296             244.583695          15.403849  \n",
       "337     0.261012             312.775272           6.389350  \n",
       "338     4.404230             228.092834          11.029640  \n",
       "339     1.702386             509.296572          10.807627  \n",
       "340     1.133547             297.760913          13.644432  \n",
       "341     0.022472             679.351244           8.673922  \n",
       "342     0.466676             159.435530          20.559226  \n",
       "343     1.129286             144.264796          21.414864  \n",
       "344     0.130300             180.941081           7.582451  \n",
       "345     0.265670             289.991496           8.889239  \n",
       "346     6.853553             195.151960           9.900759  \n",
       "347     1.363160             132.245307          10.127676  \n",
       "348     4.043084             173.343051           7.578274  \n",
       "349     0.743126             160.758150           9.619499  \n",
       "350     2.190178             101.658872           9.941575  \n",
       "351     0.122423             341.830965           9.311957  \n",
       "352     2.107481             364.353743           9.172705  \n",
       "353     1.243045             214.178216           9.872816  \n",
       "354     0.053437             227.431802           8.346739  \n",
       "355     6.439914             331.351549           8.094132  \n",
       "356     2.467862             252.166138          16.576509  \n",
       "357     1.316466              77.776018           8.315025  \n",
       "358     2.213105             126.098313          11.212338  \n",
       "359     3.616739             230.748470          10.502938  \n",
       "360     0.229400             104.759522          24.567638  \n",
       "361     0.011411             164.733185           8.828501  \n",
       "362     2.262951             276.671249           6.146593  \n",
       "363     1.689374             126.054700          15.403845  \n",
       "364     0.092473             320.749265          19.323744  \n",
       "\n",
       "[365 rows x 7 columns]"
      ]
     },
     "execution_count": 30,
     "metadata": {},
     "output_type": "execute_result"
    }
   ],
   "source": [
    "RanWeatherData"
   ]
  },
  {
   "cell_type": "markdown",
   "metadata": {},
   "source": [
    "** Comparison of Original Data and Random Generated Data** \n",
    "\n",
    "To compare and contrast the original Cork Airport weather data and the random generated data, I will generate box plots to compare and contrast the data sets. The box plot will allow a standardized way of displaying the distribution of the data based on five descriptive statistics, namely minimum value, first quartile, median value, third quartile, and maximum value. "
   ]
  },
  {
   "cell_type": "code",
   "execution_count": 31,
   "metadata": {},
   "outputs": [
    {
     "data": {
      "text/plain": [
       "([<matplotlib.axis.XTick at 0x1cae7550198>,\n",
       "  <matplotlib.axis.XTick at 0x1cae70774e0>],\n",
       " <a list of 2 Text xticklabel objects>)"
      ]
     },
     "execution_count": 31,
     "metadata": {},
     "output_type": "execute_result"
    }
   ],
   "source": [
    "plt.subplot(1,2,1)\n",
    "MaxTempBoxPlot=[RandMaxTemp, MaxTemp]\n",
    "plt.title(\"Max Temperature Comparison\")\n",
    "plt.boxplot(MaxTempBoxPlot)\n",
    "plt.xlabel('Data Points')\n",
    "plt.ylabel('Temperature')\n",
    "plt.xticks([1, 2], ['RandMaxTemp', 'MaxTemp'])"
   ]
  },
  {
   "cell_type": "code",
   "execution_count": 32,
   "metadata": {
    "scrolled": true
   },
   "outputs": [
    {
     "data": {
      "image/png": "[encoded data removed]",
      "text/plain": [
       "<matplotlib.figure.Figure at 0x1cae75225c0>"
      ]
     },
     "metadata": {},
     "output_type": "display_data"
    }
   ],
   "source": [
    "plt.subplot(1,2,2)\n",
    "MinTempBoxPlot=[RandMinTemp, MinTemp]\n",
    "plt.title(\"Min Temperature Comparison\")\n",
    "plt.boxplot(MinTempBoxPlot)\n",
    "plt.xlabel('Data Points')\n",
    "plt.ylabel('Temperature')\n",
    "plt.xticks([1, 2], ['RandMinTemp', 'MinTemp'])\n",
    "plt.show()"
   ]
  },
  {
   "cell_type": "code",
   "execution_count": 33,
   "metadata": {},
   "outputs": [
    {
     "data": {
      "image/png": "[encoded data removed]",
      "text/plain": [
       "<matplotlib.figure.Figure at 0x1cae761d358>"
      ]
     },
     "metadata": {},
     "output_type": "display_data"
    }
   ],
   "source": [
    "PressureBoxPlot=[RandPressure, Pressure]\n",
    "plt.title(\"Pressure Comparison\")\n",
    "plt.boxplot(PressureBoxPlot)\n",
    "plt.xlabel('Data Points')\n",
    "plt.ylabel('Pressure')\n",
    "plt.xticks([1, 2], ['Rand Pressure','Pressure cbl Hpa'])\n",
    "plt.show()"
   ]
  },
  {
   "cell_type": "code",
   "execution_count": 34,
   "metadata": {},
   "outputs": [
    {
     "data": {
      "image/png": "[encoded data removed]",
      "text/plain": [
       "<matplotlib.figure.Figure at 0x1cae763a828>"
      ]
     },
     "metadata": {},
     "output_type": "display_data"
    }
   ],
   "source": [
    "RainBoxPlot=[RandRain, Rain]\n",
    "plt.title(\"Rain Comparison\")\n",
    "plt.boxplot(RainBoxPlot)\n",
    "plt.xlabel('Data Points')\n",
    "plt.ylabel('Rain')\n",
    "plt.xticks([1, 2], ['Random Rain','Rain'])\n",
    "plt.show()"
   ]
  },
  {
   "cell_type": "code",
   "execution_count": 35,
   "metadata": {},
   "outputs": [
    {
     "data": {
      "image/png": "[encoded data removed]",
      "text/plain": [
       "<matplotlib.figure.Figure at 0x1cae7710780>"
      ]
     },
     "metadata": {},
     "output_type": "display_data"
    }
   ],
   "source": [
    "WindSpeedBoxPlot=[RandWindSpeed, WindSpeed]\n",
    "plt.title(\"Wind Speed Comparison\")\n",
    "plt.boxplot(WindSpeedBoxPlot)\n",
    "plt.xlabel('Data Points')\n",
    "plt.ylabel('Wind Speed')\n",
    "plt.xticks([1, 2], ['Random Wind Speed','Wind Speed'])\n",
    "plt.show()"
   ]
  },
  {
   "cell_type": "code",
   "execution_count": 36,
   "metadata": {},
   "outputs": [
    {
     "data": {
      "image/png": "[encoded data removed]",
      "text/plain": [
       "<matplotlib.figure.Figure at 0x1cae77102e8>"
      ]
     },
     "metadata": {},
     "output_type": "display_data"
    }
   ],
   "source": [
    "WindDirectionBoxPlot=[RandWindDir, WindDirection]\n",
    "plt.title(\"Wind Direction Comparison\")\n",
    "plt.boxplot(WindDirectionBoxPlot)\n",
    "plt.xlabel('Data Points')\n",
    "plt.ylabel('Wind Direction')\n",
    "plt.xticks([1, 2], ['Random Wind Direction','Wind Direction'])\n",
    "plt.show()"
   ]
  },
  {
   "cell_type": "markdown",
   "metadata": {
    "collapsed": true
   },
   "source": [
    "**Box Plot Comparison Results**\n",
    "\n",
    "As can be seen from the box plots the random data generated for the majority of the weather variables mimick the distribution of the Cork Airport weather data, except for Wind Direction. Possibly the incorrect distribution for generating the Wind Direction random data was selected and this would explain the differences in the random data generated. As can be seen from the box plot the random data is right skewed while the airport data is left skewed, which indicates opposing distributions."
   ]
  },
  {
   "cell_type": "markdown",
   "metadata": {},
   "source": [
    "**Generation of Scatter Plots**\n",
    "\n",
    "To use PearsonR correlation analysis tool a fundamental requirement is that the data is linear. I will now generate scatter plots for each of the random data weather variables to graphically display the data sets.  "
   ]
  },
  {
   "cell_type": "code",
   "execution_count": 37,
   "metadata": {},
   "outputs": [
    {
     "data": {
      "image/png": "[encoded data removed]",
      "text/plain": [
       "<matplotlib.figure.Figure at 0x1cae77f85c0>"
      ]
     },
     "metadata": {},
     "output_type": "display_data"
    }
   ],
   "source": [
    "plt.scatter(DayNumber,RandMaxTemp, s=100, marker=(5, 2))\n",
    "plt.title('Scatter Plot of Random Data Max Temperature')\n",
    "plt.xlabel('Day Number')\n",
    "plt.ylabel('Temperature')\n",
    "plt.show()"
   ]
  },
  {
   "cell_type": "code",
   "execution_count": 38,
   "metadata": {},
   "outputs": [
    {
     "data": {
      "image/png": "[encoded data removed]",
      "text/plain": [
       "<matplotlib.figure.Figure at 0x1cae7870ba8>"
      ]
     },
     "metadata": {},
     "output_type": "display_data"
    }
   ],
   "source": [
    "plt.scatter(DayNumber,RandMinTemp, s=100, marker=(5, 2))\n",
    "plt.title('Scatter Plot of Random Data Min Temperature')\n",
    "plt.xlabel('Day Number')\n",
    "plt.ylabel('Temperature')\n",
    "plt.show()"
   ]
  },
  {
   "cell_type": "code",
   "execution_count": 39,
   "metadata": {},
   "outputs": [
    {
     "data": {
      "image/png": "[encoded data removed]",
      "text/plain": [
       "<matplotlib.figure.Figure at 0x1cae78d75c0>"
      ]
     },
     "metadata": {},
     "output_type": "display_data"
    }
   ],
   "source": [
    "plt.scatter(DayNumber,RandPressure, s=100, marker=(5, 2))\n",
    "plt.title('Scatter Plot of Random Data Atmospheric Pressure')\n",
    "plt.xlabel('Day Number')\n",
    "plt.ylabel('Pressure cbl Hpa')\n",
    "plt.show()"
   ]
  },
  {
   "cell_type": "code",
   "execution_count": 40,
   "metadata": {},
   "outputs": [
    {
     "data": {
      "image/png": "[encoded data removed]",
      "text/plain": [
       "<matplotlib.figure.Figure at 0x1cae78afd68>"
      ]
     },
     "metadata": {},
     "output_type": "display_data"
    }
   ],
   "source": [
    "plt.scatter(DayNumber,RandRain, s=100, marker=(5, 2))\n",
    "plt.title('Scatter Plot of Random Data Percipitation')\n",
    "plt.xlabel('Day Number')\n",
    "plt.ylabel('Rain Fall mm')\n",
    "plt.show()"
   ]
  },
  {
   "cell_type": "code",
   "execution_count": 41,
   "metadata": {},
   "outputs": [
    {
     "data": {
      "image/png": "[encoded data removed]",
      "text/plain": [
       "<matplotlib.figure.Figure at 0x1cae7915860>"
      ]
     },
     "metadata": {},
     "output_type": "display_data"
    }
   ],
   "source": [
    "plt.scatter(DayNumber,RandWindSpeed, s=100, marker=(5, 2))\n",
    "plt.title('Scatter Plot of Random Data Wind Speed')\n",
    "plt.xlabel('Day Number')\n",
    "plt.ylabel('Wind Speed knots')\n",
    "plt.show()"
   ]
  },
  {
   "cell_type": "code",
   "execution_count": 42,
   "metadata": {},
   "outputs": [
    {
     "data": {
      "image/png": "[encoded data removed]",
      "text/plain": [
       "<matplotlib.figure.Figure at 0x1cae7464898>"
      ]
     },
     "metadata": {},
     "output_type": "display_data"
    }
   ],
   "source": [
    "plt.scatter(DayNumber,RandWindDir, s=100, marker=(5, 2))\n",
    "plt.title('Scatter Plot of Random Data Wind Direction')\n",
    "plt.xlabel('Day Number')\n",
    "plt.ylabel('Wind Direction degrees')\n",
    "plt.show()"
   ]
  },
  {
   "cell_type": "code",
   "execution_count": null,
   "metadata": {
    "collapsed": true
   },
   "outputs": [],
   "source": []
  }
 ],
 "metadata": {
  "kernelspec": {
   "display_name": "Python 3",
   "language": "python",
   "name": "python3"
  },
  "language_info": {
   "codemirror_mode": {
    "name": "ipython",
    "version": 3
   },
   "file_extension": ".py",
   "mimetype": "text/x-python",
   "name": "python",
   "nbconvert_exporter": "python",
   "pygments_lexer": "ipython3",
   "version": "3.6.3"
  }
 },
 "nbformat": 4,
 "nbformat_minor": 2
}
