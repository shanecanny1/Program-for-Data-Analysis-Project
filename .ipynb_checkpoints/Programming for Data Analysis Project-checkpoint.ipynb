{
 "cells": [
  {
   "cell_type": "markdown",
   "metadata": {},
   "source": [
    "## Programming for Data Analysis Project\n",
    "\n"
   ]
  },
  {
   "cell_type": "markdown",
   "metadata": {},
   "source": [
    "** Introduction**"
   ]
  },
  {
   "cell_type": "markdown",
   "metadata": {},
   "source": [
    "The weather, the obsession of all Irish adults. From a conversation starter to the dreaded threat of weddings and summer bar-be-cues.\n",
    "\n",
    "Meteireann has the dubious task of trying to give accurate and timely forecasts for the nation, while more often than not being the butt of the joke due to each individual taking a wholistic forecast as a personal gaurantee of weather certainty.\n",
    "\n",
    "The following project is going to analyse the percipitation (Rain Fall) from the Cork Airport weather station in County Cork under the following headings;\n",
    "\n",
    "- Date\n",
    "- Percipitation Amount (mm)\n",
    "- Maximum Air Temperature (C)\n",
    "- Minimum Air Temperature (C)\n",
    "- Mean Wind Speed (Knot)\n",
    "- Wind Direction at Max 10 min Mean (deg)\n",
    "- Mean CBL Pressure (hpa)\n"
   ]
  },
  {
   "cell_type": "markdown",
   "metadata": {},
   "source": [
    "** Aim**\n",
    "\n",
    "The aim of this project is to explore the creation of an accurate localised weather predictor by investigating if known historical weather characterisitics have a dependency and relationship with each other.\n"
   ]
  },
  {
   "cell_type": "markdown",
   "metadata": {},
   "source": [
    "** Method **\n",
    "\n",
    "By analysing historical weather data and its associated characteristics in relation to percipitation amount it is proposed that if the correct weather characteristics and data for the local area are entered into the model i.e. Ballincollig, County Cork, an accurate determination if percipition (rain) is forecast for your locality will be determined.\n",
    "\n",
    "As the Cork Airport weather station is the closest weather station with enough variable data to create a model it was used to gather historical data points.\n",
    "\n",
    "For the purpose of this project random data will be generated using numpy.random to generate a data sets to mimick the characteristics of the variables taken from the Cork Airport weather station. i.e.\n",
    "\n",
    "- Date\n",
    "- Percipitation Amount (mm)\n",
    "- Maximum Air Temperature (C)\n",
    "- Minimum Air Temperature (C)\n",
    "- Mean Wind Speed (Knot)\n",
    "- Wind Direction at Max 10 min Mean (deg)\n",
    "- Mean CBL Pressure (hpa)\n"
   ]
  },
  {
   "cell_type": "code",
   "execution_count": 69,
   "metadata": {
    "collapsed": true
   },
   "outputs": [],
   "source": [
    "import pandas as pd"
   ]
  },
  {
   "cell_type": "code",
   "execution_count": 70,
   "metadata": {
    "collapsed": true
   },
   "outputs": [],
   "source": [
    "import numpy as np"
   ]
  },
  {
   "cell_type": "code",
   "execution_count": 71,
   "metadata": {
    "collapsed": true
   },
   "outputs": [],
   "source": [
    "import matplotlib.pyplot as plt"
   ]
  },
  {
   "cell_type": "code",
   "execution_count": 72,
   "metadata": {
    "collapsed": true
   },
   "outputs": [],
   "source": [
    "from scipy.stats import kurtosis, skew"
   ]
  },
  {
   "cell_type": "markdown",
   "metadata": {},
   "source": [
    "**Definition of the Data Frame**\n",
    "\n",
    "To provide clarity when further analysis is conducted and to be able to differentiate between the original and random data sets we will define the original Cork airport data frame as \"CorkAirportData\""
   ]
  },
  {
   "cell_type": "code",
   "execution_count": 77,
   "metadata": {},
   "outputs": [],
   "source": [
    "CorkAirportData = pd.read_csv('C://Users//Shane//Desktop//GMIT//meteireann//CorkAirportDataone.txt')"
   ]
  },
  {
   "cell_type": "code",
   "execution_count": 78,
   "metadata": {},
   "outputs": [
    {
     "data": {
      "text/html": [
       "<div>\n",
       "<style>\n",
       "    .dataframe thead tr:only-child th {\n",
       "        text-align: right;\n",
       "    }\n",
       "\n",
       "    .dataframe thead th {\n",
       "        text-align: left;\n",
       "    }\n",
       "\n",
       "    .dataframe tbody tr th {\n",
       "        vertical-align: top;\n",
       "    }\n",
       "</style>\n",
       "<table border=\"1\" class=\"dataframe\">\n",
       "  <thead>\n",
       "    <tr style=\"text-align: right;\">\n",
       "      <th></th>\n",
       "      <th>Date</th>\n",
       "      <th>MaxTemp</th>\n",
       "      <th>MinTemp</th>\n",
       "      <th>Rain mm</th>\n",
       "      <th>Pressure cbl Hpa</th>\n",
       "      <th>WindSpeed Knots</th>\n",
       "      <th>Wind Direction deg</th>\n",
       "    </tr>\n",
       "  </thead>\n",
       "  <tbody>\n",
       "    <tr>\n",
       "      <th>0</th>\n",
       "      <td>31-Oct-17</td>\n",
       "      <td>12.3</td>\n",
       "      <td>10.0</td>\n",
       "      <td>0.0</td>\n",
       "      <td>1003.7</td>\n",
       "      <td>9.2</td>\n",
       "      <td>220</td>\n",
       "    </tr>\n",
       "    <tr>\n",
       "      <th>1</th>\n",
       "      <td>01-Nov-17</td>\n",
       "      <td>12.6</td>\n",
       "      <td>7.8</td>\n",
       "      <td>0.0</td>\n",
       "      <td>998.5</td>\n",
       "      <td>3.8</td>\n",
       "      <td>180</td>\n",
       "    </tr>\n",
       "    <tr>\n",
       "      <th>2</th>\n",
       "      <td>02-Nov-17</td>\n",
       "      <td>12.8</td>\n",
       "      <td>7.8</td>\n",
       "      <td>0.2</td>\n",
       "      <td>997.4</td>\n",
       "      <td>4.1</td>\n",
       "      <td>340</td>\n",
       "    </tr>\n",
       "    <tr>\n",
       "      <th>3</th>\n",
       "      <td>03-Nov-17</td>\n",
       "      <td>10.0</td>\n",
       "      <td>7.3</td>\n",
       "      <td>0.0</td>\n",
       "      <td>992.5</td>\n",
       "      <td>3.1</td>\n",
       "      <td>260</td>\n",
       "    </tr>\n",
       "    <tr>\n",
       "      <th>4</th>\n",
       "      <td>04-Nov-17</td>\n",
       "      <td>9.4</td>\n",
       "      <td>3.4</td>\n",
       "      <td>2.4</td>\n",
       "      <td>991.3</td>\n",
       "      <td>10.2</td>\n",
       "      <td>300</td>\n",
       "    </tr>\n",
       "    <tr>\n",
       "      <th>5</th>\n",
       "      <td>05-Nov-17</td>\n",
       "      <td>9.8</td>\n",
       "      <td>4.0</td>\n",
       "      <td>1.1</td>\n",
       "      <td>1000.5</td>\n",
       "      <td>7.8</td>\n",
       "      <td>320</td>\n",
       "    </tr>\n",
       "    <tr>\n",
       "      <th>6</th>\n",
       "      <td>06-Nov-17</td>\n",
       "      <td>11.5</td>\n",
       "      <td>5.6</td>\n",
       "      <td>10.6</td>\n",
       "      <td>997.8</td>\n",
       "      <td>12.5</td>\n",
       "      <td>200</td>\n",
       "    </tr>\n",
       "    <tr>\n",
       "      <th>7</th>\n",
       "      <td>07-Nov-17</td>\n",
       "      <td>9.7</td>\n",
       "      <td>3.0</td>\n",
       "      <td>2.5</td>\n",
       "      <td>997.2</td>\n",
       "      <td>9.1</td>\n",
       "      <td>330</td>\n",
       "    </tr>\n",
       "    <tr>\n",
       "      <th>8</th>\n",
       "      <td>08-Nov-17</td>\n",
       "      <td>10.5</td>\n",
       "      <td>4.0</td>\n",
       "      <td>0.1</td>\n",
       "      <td>1005.2</td>\n",
       "      <td>5.9</td>\n",
       "      <td>300</td>\n",
       "    </tr>\n",
       "    <tr>\n",
       "      <th>9</th>\n",
       "      <td>09-Nov-17</td>\n",
       "      <td>12.2</td>\n",
       "      <td>8.7</td>\n",
       "      <td>0.8</td>\n",
       "      <td>1006.8</td>\n",
       "      <td>9.9</td>\n",
       "      <td>310</td>\n",
       "    </tr>\n",
       "    <tr>\n",
       "      <th>10</th>\n",
       "      <td>10-Nov-17</td>\n",
       "      <td>12.1</td>\n",
       "      <td>9.2</td>\n",
       "      <td>0.7</td>\n",
       "      <td>1002.6</td>\n",
       "      <td>11.8</td>\n",
       "      <td>300</td>\n",
       "    </tr>\n",
       "    <tr>\n",
       "      <th>11</th>\n",
       "      <td>11-Nov-17</td>\n",
       "      <td>14.1</td>\n",
       "      <td>7.3</td>\n",
       "      <td>4.3</td>\n",
       "      <td>995.2</td>\n",
       "      <td>13.0</td>\n",
       "      <td>280</td>\n",
       "    </tr>\n",
       "    <tr>\n",
       "      <th>12</th>\n",
       "      <td>12-Nov-17</td>\n",
       "      <td>8.6</td>\n",
       "      <td>2.6</td>\n",
       "      <td>0.0</td>\n",
       "      <td>1002.6</td>\n",
       "      <td>11.8</td>\n",
       "      <td>330</td>\n",
       "    </tr>\n",
       "    <tr>\n",
       "      <th>13</th>\n",
       "      <td>13-Nov-17</td>\n",
       "      <td>10.2</td>\n",
       "      <td>2.6</td>\n",
       "      <td>0.0</td>\n",
       "      <td>1007.2</td>\n",
       "      <td>6.6</td>\n",
       "      <td>230</td>\n",
       "    </tr>\n",
       "    <tr>\n",
       "      <th>14</th>\n",
       "      <td>14-Nov-17</td>\n",
       "      <td>13.1</td>\n",
       "      <td>9.6</td>\n",
       "      <td>0.3</td>\n",
       "      <td>1003.2</td>\n",
       "      <td>6.1</td>\n",
       "      <td>230</td>\n",
       "    </tr>\n",
       "    <tr>\n",
       "      <th>15</th>\n",
       "      <td>15-Nov-17</td>\n",
       "      <td>11.1</td>\n",
       "      <td>8.6</td>\n",
       "      <td>2.3</td>\n",
       "      <td>1002.3</td>\n",
       "      <td>5.4</td>\n",
       "      <td>200</td>\n",
       "    </tr>\n",
       "    <tr>\n",
       "      <th>16</th>\n",
       "      <td>16-Nov-17</td>\n",
       "      <td>10.6</td>\n",
       "      <td>4.3</td>\n",
       "      <td>0.2</td>\n",
       "      <td>1005.5</td>\n",
       "      <td>8.2</td>\n",
       "      <td>330</td>\n",
       "    </tr>\n",
       "    <tr>\n",
       "      <th>17</th>\n",
       "      <td>17-Nov-17</td>\n",
       "      <td>8.4</td>\n",
       "      <td>3.1</td>\n",
       "      <td>0.3</td>\n",
       "      <td>1009.3</td>\n",
       "      <td>3.5</td>\n",
       "      <td>220</td>\n",
       "    </tr>\n",
       "    <tr>\n",
       "      <th>18</th>\n",
       "      <td>18-Nov-17</td>\n",
       "      <td>13.4</td>\n",
       "      <td>7.9</td>\n",
       "      <td>1.6</td>\n",
       "      <td>1005.2</td>\n",
       "      <td>6.5</td>\n",
       "      <td>260</td>\n",
       "    </tr>\n",
       "    <tr>\n",
       "      <th>19</th>\n",
       "      <td>19-Nov-17</td>\n",
       "      <td>11.0</td>\n",
       "      <td>7.1</td>\n",
       "      <td>2.0</td>\n",
       "      <td>1000.7</td>\n",
       "      <td>8.1</td>\n",
       "      <td>210</td>\n",
       "    </tr>\n",
       "    <tr>\n",
       "      <th>20</th>\n",
       "      <td>20-Nov-17</td>\n",
       "      <td>13.4</td>\n",
       "      <td>11.0</td>\n",
       "      <td>1.7</td>\n",
       "      <td>994.5</td>\n",
       "      <td>10.9</td>\n",
       "      <td>230</td>\n",
       "    </tr>\n",
       "    <tr>\n",
       "      <th>21</th>\n",
       "      <td>21-Nov-17</td>\n",
       "      <td>13.1</td>\n",
       "      <td>10.6</td>\n",
       "      <td>14.4</td>\n",
       "      <td>985.5</td>\n",
       "      <td>9.9</td>\n",
       "      <td>220</td>\n",
       "    </tr>\n",
       "    <tr>\n",
       "      <th>22</th>\n",
       "      <td>22-Nov-17</td>\n",
       "      <td>12.9</td>\n",
       "      <td>3.0</td>\n",
       "      <td>21.6</td>\n",
       "      <td>970.5</td>\n",
       "      <td>13.5</td>\n",
       "      <td>200</td>\n",
       "    </tr>\n",
       "    <tr>\n",
       "      <th>23</th>\n",
       "      <td>23-Nov-17</td>\n",
       "      <td>9.0</td>\n",
       "      <td>1.9</td>\n",
       "      <td>0.1</td>\n",
       "      <td>977.8</td>\n",
       "      <td>9.2</td>\n",
       "      <td>240</td>\n",
       "    </tr>\n",
       "    <tr>\n",
       "      <th>24</th>\n",
       "      <td>24-Nov-17</td>\n",
       "      <td>6.4</td>\n",
       "      <td>0.9</td>\n",
       "      <td>2.1</td>\n",
       "      <td>993.0</td>\n",
       "      <td>7.6</td>\n",
       "      <td>330</td>\n",
       "    </tr>\n",
       "    <tr>\n",
       "      <th>25</th>\n",
       "      <td>25-Nov-17</td>\n",
       "      <td>5.0</td>\n",
       "      <td>0.6</td>\n",
       "      <td>0.6</td>\n",
       "      <td>1003.2</td>\n",
       "      <td>9.8</td>\n",
       "      <td>300</td>\n",
       "    </tr>\n",
       "    <tr>\n",
       "      <th>26</th>\n",
       "      <td>26-Nov-17</td>\n",
       "      <td>9.7</td>\n",
       "      <td>2.3</td>\n",
       "      <td>0.7</td>\n",
       "      <td>1004.3</td>\n",
       "      <td>10.2</td>\n",
       "      <td>240</td>\n",
       "    </tr>\n",
       "    <tr>\n",
       "      <th>27</th>\n",
       "      <td>27-Nov-17</td>\n",
       "      <td>10.2</td>\n",
       "      <td>4.3</td>\n",
       "      <td>4.0</td>\n",
       "      <td>998.0</td>\n",
       "      <td>11.8</td>\n",
       "      <td>240</td>\n",
       "    </tr>\n",
       "    <tr>\n",
       "      <th>28</th>\n",
       "      <td>28-Nov-17</td>\n",
       "      <td>6.1</td>\n",
       "      <td>1.8</td>\n",
       "      <td>0.1</td>\n",
       "      <td>997.8</td>\n",
       "      <td>11.0</td>\n",
       "      <td>340</td>\n",
       "    </tr>\n",
       "    <tr>\n",
       "      <th>29</th>\n",
       "      <td>29-Nov-17</td>\n",
       "      <td>5.2</td>\n",
       "      <td>0.8</td>\n",
       "      <td>0.0</td>\n",
       "      <td>1001.2</td>\n",
       "      <td>11.5</td>\n",
       "      <td>340</td>\n",
       "    </tr>\n",
       "    <tr>\n",
       "      <th>...</th>\n",
       "      <td>...</td>\n",
       "      <td>...</td>\n",
       "      <td>...</td>\n",
       "      <td>...</td>\n",
       "      <td>...</td>\n",
       "      <td>...</td>\n",
       "      <td>...</td>\n",
       "    </tr>\n",
       "    <tr>\n",
       "      <th>336</th>\n",
       "      <td>02-Oct-18</td>\n",
       "      <td>18.1</td>\n",
       "      <td>11.4</td>\n",
       "      <td>0.0</td>\n",
       "      <td>1006.9</td>\n",
       "      <td>10.6</td>\n",
       "      <td>300</td>\n",
       "    </tr>\n",
       "    <tr>\n",
       "      <th>337</th>\n",
       "      <td>03-Oct-18</td>\n",
       "      <td>15.5</td>\n",
       "      <td>10.4</td>\n",
       "      <td>0.2</td>\n",
       "      <td>1007.7</td>\n",
       "      <td>6.5</td>\n",
       "      <td>220</td>\n",
       "    </tr>\n",
       "    <tr>\n",
       "      <th>338</th>\n",
       "      <td>04-Oct-18</td>\n",
       "      <td>14.9</td>\n",
       "      <td>11.4</td>\n",
       "      <td>2.8</td>\n",
       "      <td>1001.5</td>\n",
       "      <td>7.7</td>\n",
       "      <td>200</td>\n",
       "    </tr>\n",
       "    <tr>\n",
       "      <th>339</th>\n",
       "      <td>05-Oct-18</td>\n",
       "      <td>11.4</td>\n",
       "      <td>6.6</td>\n",
       "      <td>0.4</td>\n",
       "      <td>996.6</td>\n",
       "      <td>10.8</td>\n",
       "      <td>330</td>\n",
       "    </tr>\n",
       "    <tr>\n",
       "      <th>340</th>\n",
       "      <td>06-Oct-18</td>\n",
       "      <td>11.9</td>\n",
       "      <td>5.0</td>\n",
       "      <td>0.0</td>\n",
       "      <td>1000.8</td>\n",
       "      <td>9.0</td>\n",
       "      <td>350</td>\n",
       "    </tr>\n",
       "    <tr>\n",
       "      <th>341</th>\n",
       "      <td>07-Oct-18</td>\n",
       "      <td>13.4</td>\n",
       "      <td>3.1</td>\n",
       "      <td>0.0</td>\n",
       "      <td>1002.3</td>\n",
       "      <td>9.5</td>\n",
       "      <td>230</td>\n",
       "    </tr>\n",
       "    <tr>\n",
       "      <th>342</th>\n",
       "      <td>08-Oct-18</td>\n",
       "      <td>13.9</td>\n",
       "      <td>11.6</td>\n",
       "      <td>0.3</td>\n",
       "      <td>996.2</td>\n",
       "      <td>15.5</td>\n",
       "      <td>210</td>\n",
       "    </tr>\n",
       "    <tr>\n",
       "      <th>343</th>\n",
       "      <td>09-Oct-18</td>\n",
       "      <td>15.2</td>\n",
       "      <td>12.0</td>\n",
       "      <td>0.0</td>\n",
       "      <td>992.2</td>\n",
       "      <td>14.6</td>\n",
       "      <td>210</td>\n",
       "    </tr>\n",
       "    <tr>\n",
       "      <th>344</th>\n",
       "      <td>10-Oct-18</td>\n",
       "      <td>16.9</td>\n",
       "      <td>12.2</td>\n",
       "      <td>0.0</td>\n",
       "      <td>983.2</td>\n",
       "      <td>16.8</td>\n",
       "      <td>140</td>\n",
       "    </tr>\n",
       "    <tr>\n",
       "      <th>345</th>\n",
       "      <td>11-Oct-18</td>\n",
       "      <td>14.1</td>\n",
       "      <td>10.1</td>\n",
       "      <td>9.7</td>\n",
       "      <td>972.3</td>\n",
       "      <td>13.8</td>\n",
       "      <td>140</td>\n",
       "    </tr>\n",
       "    <tr>\n",
       "      <th>346</th>\n",
       "      <td>12-Oct-18</td>\n",
       "      <td>13.9</td>\n",
       "      <td>10.4</td>\n",
       "      <td>18.3</td>\n",
       "      <td>972.8</td>\n",
       "      <td>13.9</td>\n",
       "      <td>150</td>\n",
       "    </tr>\n",
       "    <tr>\n",
       "      <th>347</th>\n",
       "      <td>13-Oct-18</td>\n",
       "      <td>13.2</td>\n",
       "      <td>7.8</td>\n",
       "      <td>18.4</td>\n",
       "      <td>982.3</td>\n",
       "      <td>7.9</td>\n",
       "      <td>320</td>\n",
       "    </tr>\n",
       "    <tr>\n",
       "      <th>348</th>\n",
       "      <td>14-Oct-18</td>\n",
       "      <td>12.3</td>\n",
       "      <td>5.6</td>\n",
       "      <td>0.0</td>\n",
       "      <td>990.5</td>\n",
       "      <td>4.1</td>\n",
       "      <td>300</td>\n",
       "    </tr>\n",
       "    <tr>\n",
       "      <th>349</th>\n",
       "      <td>15-Oct-18</td>\n",
       "      <td>13.3</td>\n",
       "      <td>5.2</td>\n",
       "      <td>0.0</td>\n",
       "      <td>994.0</td>\n",
       "      <td>6.0</td>\n",
       "      <td>30</td>\n",
       "    </tr>\n",
       "    <tr>\n",
       "      <th>350</th>\n",
       "      <td>16-Oct-18</td>\n",
       "      <td>15.5</td>\n",
       "      <td>7.0</td>\n",
       "      <td>1.4</td>\n",
       "      <td>993.5</td>\n",
       "      <td>8.2</td>\n",
       "      <td>200</td>\n",
       "    </tr>\n",
       "    <tr>\n",
       "      <th>351</th>\n",
       "      <td>17-Oct-18</td>\n",
       "      <td>13.1</td>\n",
       "      <td>5.8</td>\n",
       "      <td>0.4</td>\n",
       "      <td>1002.6</td>\n",
       "      <td>8.0</td>\n",
       "      <td>350</td>\n",
       "    </tr>\n",
       "    <tr>\n",
       "      <th>352</th>\n",
       "      <td>18-Oct-18</td>\n",
       "      <td>12.5</td>\n",
       "      <td>4.6</td>\n",
       "      <td>0.1</td>\n",
       "      <td>1007.9</td>\n",
       "      <td>5.3</td>\n",
       "      <td>340</td>\n",
       "    </tr>\n",
       "    <tr>\n",
       "      <th>353</th>\n",
       "      <td>19-Oct-18</td>\n",
       "      <td>13.8</td>\n",
       "      <td>8.1</td>\n",
       "      <td>0.0</td>\n",
       "      <td>1006.4</td>\n",
       "      <td>5.1</td>\n",
       "      <td>220</td>\n",
       "    </tr>\n",
       "    <tr>\n",
       "      <th>354</th>\n",
       "      <td>20-Oct-18</td>\n",
       "      <td>13.5</td>\n",
       "      <td>10.1</td>\n",
       "      <td>0.2</td>\n",
       "      <td>1009.5</td>\n",
       "      <td>6.4</td>\n",
       "      <td>210</td>\n",
       "    </tr>\n",
       "    <tr>\n",
       "      <th>355</th>\n",
       "      <td>21-Oct-18</td>\n",
       "      <td>13.2</td>\n",
       "      <td>5.8</td>\n",
       "      <td>0.6</td>\n",
       "      <td>1013.2</td>\n",
       "      <td>11.8</td>\n",
       "      <td>320</td>\n",
       "    </tr>\n",
       "    <tr>\n",
       "      <th>356</th>\n",
       "      <td>22-Oct-18</td>\n",
       "      <td>12.6</td>\n",
       "      <td>4.5</td>\n",
       "      <td>0.0</td>\n",
       "      <td>1020.9</td>\n",
       "      <td>7.3</td>\n",
       "      <td>340</td>\n",
       "    </tr>\n",
       "    <tr>\n",
       "      <th>357</th>\n",
       "      <td>23-Oct-18</td>\n",
       "      <td>15.3</td>\n",
       "      <td>6.5</td>\n",
       "      <td>0.0</td>\n",
       "      <td>1018.3</td>\n",
       "      <td>10.0</td>\n",
       "      <td>330</td>\n",
       "    </tr>\n",
       "    <tr>\n",
       "      <th>358</th>\n",
       "      <td>24-Oct-18</td>\n",
       "      <td>12.9</td>\n",
       "      <td>7.3</td>\n",
       "      <td>0.0</td>\n",
       "      <td>1013.0</td>\n",
       "      <td>13.1</td>\n",
       "      <td>330</td>\n",
       "    </tr>\n",
       "    <tr>\n",
       "      <th>359</th>\n",
       "      <td>25-Oct-18</td>\n",
       "      <td>13.1</td>\n",
       "      <td>8.3</td>\n",
       "      <td>0.0</td>\n",
       "      <td>1005.5</td>\n",
       "      <td>9.2</td>\n",
       "      <td>330</td>\n",
       "    </tr>\n",
       "    <tr>\n",
       "      <th>360</th>\n",
       "      <td>26-Oct-18</td>\n",
       "      <td>9.2</td>\n",
       "      <td>4.0</td>\n",
       "      <td>0.3</td>\n",
       "      <td>1002.3</td>\n",
       "      <td>13.5</td>\n",
       "      <td>330</td>\n",
       "    </tr>\n",
       "    <tr>\n",
       "      <th>361</th>\n",
       "      <td>27-Oct-18</td>\n",
       "      <td>6.9</td>\n",
       "      <td>1.2</td>\n",
       "      <td>0.1</td>\n",
       "      <td>1004.9</td>\n",
       "      <td>12.5</td>\n",
       "      <td>360</td>\n",
       "    </tr>\n",
       "    <tr>\n",
       "      <th>362</th>\n",
       "      <td>28-Oct-18</td>\n",
       "      <td>8.7</td>\n",
       "      <td>0.3</td>\n",
       "      <td>0.0</td>\n",
       "      <td>1003.1</td>\n",
       "      <td>9.0</td>\n",
       "      <td>330</td>\n",
       "    </tr>\n",
       "    <tr>\n",
       "      <th>363</th>\n",
       "      <td>29-Oct-18</td>\n",
       "      <td>8.4</td>\n",
       "      <td>2.6</td>\n",
       "      <td>2.0</td>\n",
       "      <td>989.4</td>\n",
       "      <td>8.3</td>\n",
       "      <td>140</td>\n",
       "    </tr>\n",
       "    <tr>\n",
       "      <th>364</th>\n",
       "      <td>30-Oct-18</td>\n",
       "      <td>10.1</td>\n",
       "      <td>4.0</td>\n",
       "      <td>6.0</td>\n",
       "      <td>979.9</td>\n",
       "      <td>4.6</td>\n",
       "      <td>160</td>\n",
       "    </tr>\n",
       "    <tr>\n",
       "      <th>365</th>\n",
       "      <td>31-Oct-18</td>\n",
       "      <td>11.2</td>\n",
       "      <td>3.7</td>\n",
       "      <td>0.4</td>\n",
       "      <td>983.0</td>\n",
       "      <td>4.5</td>\n",
       "      <td>220</td>\n",
       "    </tr>\n",
       "  </tbody>\n",
       "</table>\n",
       "<p>366 rows × 7 columns</p>\n",
       "</div>"
      ],
      "text/plain": [
       "          Date  MaxTemp  MinTemp  Rain mm  Pressure cbl Hpa  WindSpeed Knots  \\\n",
       "0    31-Oct-17     12.3     10.0      0.0            1003.7              9.2   \n",
       "1    01-Nov-17     12.6      7.8      0.0             998.5              3.8   \n",
       "2    02-Nov-17     12.8      7.8      0.2             997.4              4.1   \n",
       "3    03-Nov-17     10.0      7.3      0.0             992.5              3.1   \n",
       "4    04-Nov-17      9.4      3.4      2.4             991.3             10.2   \n",
       "5    05-Nov-17      9.8      4.0      1.1            1000.5              7.8   \n",
       "6    06-Nov-17     11.5      5.6     10.6             997.8             12.5   \n",
       "7    07-Nov-17      9.7      3.0      2.5             997.2              9.1   \n",
       "8    08-Nov-17     10.5      4.0      0.1            1005.2              5.9   \n",
       "9    09-Nov-17     12.2      8.7      0.8            1006.8              9.9   \n",
       "10   10-Nov-17     12.1      9.2      0.7            1002.6             11.8   \n",
       "11   11-Nov-17     14.1      7.3      4.3             995.2             13.0   \n",
       "12   12-Nov-17      8.6      2.6      0.0            1002.6             11.8   \n",
       "13   13-Nov-17     10.2      2.6      0.0            1007.2              6.6   \n",
       "14   14-Nov-17     13.1      9.6      0.3            1003.2              6.1   \n",
       "15   15-Nov-17     11.1      8.6      2.3            1002.3              5.4   \n",
       "16   16-Nov-17     10.6      4.3      0.2            1005.5              8.2   \n",
       "17   17-Nov-17      8.4      3.1      0.3            1009.3              3.5   \n",
       "18   18-Nov-17     13.4      7.9      1.6            1005.2              6.5   \n",
       "19   19-Nov-17     11.0      7.1      2.0            1000.7              8.1   \n",
       "20   20-Nov-17     13.4     11.0      1.7             994.5             10.9   \n",
       "21   21-Nov-17     13.1     10.6     14.4             985.5              9.9   \n",
       "22   22-Nov-17     12.9      3.0     21.6             970.5             13.5   \n",
       "23   23-Nov-17      9.0      1.9      0.1             977.8              9.2   \n",
       "24   24-Nov-17      6.4      0.9      2.1             993.0              7.6   \n",
       "25   25-Nov-17      5.0      0.6      0.6            1003.2              9.8   \n",
       "26   26-Nov-17      9.7      2.3      0.7            1004.3             10.2   \n",
       "27   27-Nov-17     10.2      4.3      4.0             998.0             11.8   \n",
       "28   28-Nov-17      6.1      1.8      0.1             997.8             11.0   \n",
       "29   29-Nov-17      5.2      0.8      0.0            1001.2             11.5   \n",
       "..         ...      ...      ...      ...               ...              ...   \n",
       "336  02-Oct-18     18.1     11.4      0.0            1006.9             10.6   \n",
       "337  03-Oct-18     15.5     10.4      0.2            1007.7              6.5   \n",
       "338  04-Oct-18     14.9     11.4      2.8            1001.5              7.7   \n",
       "339  05-Oct-18     11.4      6.6      0.4             996.6             10.8   \n",
       "340  06-Oct-18     11.9      5.0      0.0            1000.8              9.0   \n",
       "341  07-Oct-18     13.4      3.1      0.0            1002.3              9.5   \n",
       "342  08-Oct-18     13.9     11.6      0.3             996.2             15.5   \n",
       "343  09-Oct-18     15.2     12.0      0.0             992.2             14.6   \n",
       "344  10-Oct-18     16.9     12.2      0.0             983.2             16.8   \n",
       "345  11-Oct-18     14.1     10.1      9.7             972.3             13.8   \n",
       "346  12-Oct-18     13.9     10.4     18.3             972.8             13.9   \n",
       "347  13-Oct-18     13.2      7.8     18.4             982.3              7.9   \n",
       "348  14-Oct-18     12.3      5.6      0.0             990.5              4.1   \n",
       "349  15-Oct-18     13.3      5.2      0.0             994.0              6.0   \n",
       "350  16-Oct-18     15.5      7.0      1.4             993.5              8.2   \n",
       "351  17-Oct-18     13.1      5.8      0.4            1002.6              8.0   \n",
       "352  18-Oct-18     12.5      4.6      0.1            1007.9              5.3   \n",
       "353  19-Oct-18     13.8      8.1      0.0            1006.4              5.1   \n",
       "354  20-Oct-18     13.5     10.1      0.2            1009.5              6.4   \n",
       "355  21-Oct-18     13.2      5.8      0.6            1013.2             11.8   \n",
       "356  22-Oct-18     12.6      4.5      0.0            1020.9              7.3   \n",
       "357  23-Oct-18     15.3      6.5      0.0            1018.3             10.0   \n",
       "358  24-Oct-18     12.9      7.3      0.0            1013.0             13.1   \n",
       "359  25-Oct-18     13.1      8.3      0.0            1005.5              9.2   \n",
       "360  26-Oct-18      9.2      4.0      0.3            1002.3             13.5   \n",
       "361  27-Oct-18      6.9      1.2      0.1            1004.9             12.5   \n",
       "362  28-Oct-18      8.7      0.3      0.0            1003.1              9.0   \n",
       "363  29-Oct-18      8.4      2.6      2.0             989.4              8.3   \n",
       "364  30-Oct-18     10.1      4.0      6.0             979.9              4.6   \n",
       "365  31-Oct-18     11.2      3.7      0.4             983.0              4.5   \n",
       "\n",
       "     Wind Direction deg  \n",
       "0                   220  \n",
       "1                   180  \n",
       "2                   340  \n",
       "3                   260  \n",
       "4                   300  \n",
       "5                   320  \n",
       "6                   200  \n",
       "7                   330  \n",
       "8                   300  \n",
       "9                   310  \n",
       "10                  300  \n",
       "11                  280  \n",
       "12                  330  \n",
       "13                  230  \n",
       "14                  230  \n",
       "15                  200  \n",
       "16                  330  \n",
       "17                  220  \n",
       "18                  260  \n",
       "19                  210  \n",
       "20                  230  \n",
       "21                  220  \n",
       "22                  200  \n",
       "23                  240  \n",
       "24                  330  \n",
       "25                  300  \n",
       "26                  240  \n",
       "27                  240  \n",
       "28                  340  \n",
       "29                  340  \n",
       "..                  ...  \n",
       "336                 300  \n",
       "337                 220  \n",
       "338                 200  \n",
       "339                 330  \n",
       "340                 350  \n",
       "341                 230  \n",
       "342                 210  \n",
       "343                 210  \n",
       "344                 140  \n",
       "345                 140  \n",
       "346                 150  \n",
       "347                 320  \n",
       "348                 300  \n",
       "349                  30  \n",
       "350                 200  \n",
       "351                 350  \n",
       "352                 340  \n",
       "353                 220  \n",
       "354                 210  \n",
       "355                 320  \n",
       "356                 340  \n",
       "357                 330  \n",
       "358                 330  \n",
       "359                 330  \n",
       "360                 330  \n",
       "361                 360  \n",
       "362                 330  \n",
       "363                 140  \n",
       "364                 160  \n",
       "365                 220  \n",
       "\n",
       "[366 rows x 7 columns]"
      ]
     },
     "execution_count": 78,
     "metadata": {},
     "output_type": "execute_result"
    }
   ],
   "source": [
    "CorkAirportData"
   ]
  },
  {
   "cell_type": "markdown",
   "metadata": {},
   "source": [
    "** Summary Descriptive Statistics for the Data Frame**\n",
    "\n",
    "To generate random data to match the characteristics of the cork airport weather data I first need to determine the descriptive statistics for the data set. To generate a randm data set that closely aligns to the cork airport data set I am going to calculate the following statistical parameters.\n",
    "\n",
    "- Mean\n",
    "- Standard Deviation (std)\n",
    "- Skewness\n",
    "- Kurtosis"
   ]
  },
  {
   "cell_type": "code",
   "execution_count": 95,
   "metadata": {},
   "outputs": [
    {
     "data": {
      "text/plain": [
       "MaxTemp                13.301366\n",
       "MinTemp                 6.671858\n",
       "Rain mm                 2.960929\n",
       "Pressure cbl Hpa      995.120765\n",
       "WindSpeed Knots         9.370219\n",
       "Wind Direction deg    228.415301\n",
       "dtype: float64"
      ]
     },
     "execution_count": 95,
     "metadata": {},
     "output_type": "execute_result"
    }
   ],
   "source": [
    "\"Mean Data\"\n",
    "CorkAirportData.mean()"
   ]
  },
  {
   "cell_type": "code",
   "execution_count": 117,
   "metadata": {},
   "outputs": [
    {
     "data": {
      "text/plain": [
       "MaxTemp                5.517347\n",
       "MinTemp                4.669434\n",
       "Rain mm                5.256508\n",
       "Pressure cbl Hpa      11.382705\n",
       "WindSpeed Knots        3.611673\n",
       "Wind Direction deg    89.321351\n",
       "dtype: float64"
      ]
     },
     "execution_count": 117,
     "metadata": {},
     "output_type": "execute_result"
    }
   ],
   "source": [
    "CorkAirportData.std()"
   ]
  },
  {
   "cell_type": "code",
   "execution_count": 118,
   "metadata": {},
   "outputs": [
    {
     "data": {
      "text/plain": [
       "MaxTemp               0.175570\n",
       "MinTemp              -0.028819\n",
       "Rain mm               2.597616\n",
       "Pressure cbl Hpa     -0.594056\n",
       "WindSpeed Knots       0.694846\n",
       "Wind Direction deg   -0.609418\n",
       "dtype: float64"
      ]
     },
     "execution_count": 118,
     "metadata": {},
     "output_type": "execute_result"
    }
   ],
   "source": [
    "CorkAirportData.skew()"
   ]
  },
  {
   "cell_type": "code",
   "execution_count": 119,
   "metadata": {},
   "outputs": [
    {
     "data": {
      "text/plain": [
       "MaxTemp              -0.538643\n",
       "MinTemp              -0.809285\n",
       "Rain mm               7.324231\n",
       "Pressure cbl Hpa      0.033814\n",
       "WindSpeed Knots       0.133744\n",
       "Wind Direction deg   -0.338251\n",
       "dtype: float64"
      ]
     },
     "execution_count": 119,
     "metadata": {},
     "output_type": "execute_result"
    }
   ],
   "source": [
    "CorkAirportData.kurtosis()"
   ]
  },
  {
   "cell_type": "code",
   "execution_count": 120,
   "metadata": {},
   "outputs": [
    {
     "data": {
      "text/plain": [
       "Date                  01-Apr-18\n",
       "MaxTemp                    -1.8\n",
       "MinTemp                      -7\n",
       "Rain mm                       0\n",
       "Pressure cbl Hpa          963.3\n",
       "WindSpeed Knots             2.8\n",
       "Wind Direction deg            0\n",
       "dtype: object"
      ]
     },
     "execution_count": 120,
     "metadata": {},
     "output_type": "execute_result"
    }
   ],
   "source": [
    "CorkAirportData.min()"
   ]
  },
  {
   "cell_type": "code",
   "execution_count": 121,
   "metadata": {},
   "outputs": [
    {
     "data": {
      "text/plain": [
       "Date                  31-Oct-18\n",
       "MaxTemp                    26.7\n",
       "MinTemp                    16.5\n",
       "Rain mm                      31\n",
       "Pressure cbl Hpa         1020.9\n",
       "WindSpeed Knots            23.8\n",
       "Wind Direction deg          360\n",
       "dtype: object"
      ]
     },
     "execution_count": 121,
     "metadata": {},
     "output_type": "execute_result"
    }
   ],
   "source": [
    "CorkAirportData.max()"
   ]
  },
  {
   "cell_type": "code",
   "execution_count": 96,
   "metadata": {},
   "outputs": [
    {
     "data": {
      "text/plain": [
       "MaxTemp                12.60\n",
       "MinTemp                 6.75\n",
       "Rain mm                 0.40\n",
       "Pressure cbl Hpa      996.85\n",
       "WindSpeed Knots         8.90\n",
       "Wind Direction deg    230.00\n",
       "dtype: float64"
      ]
     },
     "execution_count": 96,
     "metadata": {},
     "output_type": "execute_result"
    }
   ],
   "source": [
    "CorkAirportData.median()"
   ]
  },
  {
   "cell_type": "markdown",
   "metadata": {},
   "source": [
    "** Defining Each Column Within the Cork Airport Data Frame**\n",
    "\n",
    "To compare the data and graphs of the Cork airport data and the randomly generated data I will define each column within the data frame so it can be graphed. I will use the iloc function to define each column of data so they can be plotted on as subplots on bar chart graphs."
   ]
  },
  {
   "cell_type": "code",
   "execution_count": 97,
   "metadata": {},
   "outputs": [
    {
     "data": {
      "text/plain": [
       "Text(0,0.5,'Temperature')"
      ]
     },
     "execution_count": 97,
     "metadata": {},
     "output_type": "execute_result"
    }
   ],
   "source": [
    "plt.subplot(2,3,1)\n",
    "MaxTemp=CorkAirportData.iloc[0:365,1]\n",
    "plt.hist(MaxTemp)\n",
    "plt.title(\"MaxTemp\")\n",
    "plt.xlabel(\"Qty\")\n",
    "plt.ylabel(\"Temperature\")"
   ]
  },
  {
   "cell_type": "code",
   "execution_count": 98,
   "metadata": {},
   "outputs": [
    {
     "data": {
      "text/plain": [
       "Text(0,0.5,'Temperature')"
      ]
     },
     "execution_count": 98,
     "metadata": {},
     "output_type": "execute_result"
    }
   ],
   "source": [
    "plt.subplot(2,3,2)\n",
    "MinTemp=CorkAirportData.iloc[0:365,2]\n",
    "plt.hist(MinTemp)\n",
    "plt.title(\"MinTemp\")\n",
    "plt.xlabel(\"Qty\")\n",
    "plt.ylabel(\"Temperature\")"
   ]
  },
  {
   "cell_type": "code",
   "execution_count": 99,
   "metadata": {},
   "outputs": [
    {
     "data": {
      "text/plain": [
       "Text(0,0.5,'Volume')"
      ]
     },
     "execution_count": 99,
     "metadata": {},
     "output_type": "execute_result"
    }
   ],
   "source": [
    "plt.subplot(2,3,3)\n",
    "Rain=CorkAirportData.iloc[0:365,3]\n",
    "plt.hist(Rain)\n",
    "plt.title(\"Percipitation (mm)\")\n",
    "plt.xlabel(\"Qty\")\n",
    "plt.ylabel(\"Volume\")"
   ]
  },
  {
   "cell_type": "code",
   "execution_count": 100,
   "metadata": {},
   "outputs": [
    {
     "data": {
      "text/plain": [
       "Text(0,0.5,'Pressure')"
      ]
     },
     "execution_count": 100,
     "metadata": {},
     "output_type": "execute_result"
    }
   ],
   "source": [
    "plt.subplot(2,3,4)\n",
    "Pressure=CorkAirportData.iloc[0:365,4]\n",
    "plt.hist(Pressure)\n",
    "plt.title(\"Pressure (Hpa)\")\n",
    "plt.xlabel(\"Qty\")\n",
    "plt.ylabel(\"Pressure\")"
   ]
  },
  {
   "cell_type": "code",
   "execution_count": 101,
   "metadata": {},
   "outputs": [
    {
     "data": {
      "text/plain": [
       "Text(0,0.5,'Speed Knots')"
      ]
     },
     "execution_count": 101,
     "metadata": {},
     "output_type": "execute_result"
    }
   ],
   "source": [
    "plt.subplot(2,3,5)\n",
    "WindSpeed=CorkAirportData.iloc[0:365,5]\n",
    "plt.hist(WindSpeed)\n",
    "plt.title(\"Wind Speed (knots)\")\n",
    "plt.xlabel(\"Qty\")\n",
    "plt.ylabel(\"Speed Knots\")"
   ]
  },
  {
   "cell_type": "code",
   "execution_count": 102,
   "metadata": {},
   "outputs": [
    {
     "data": {
      "text/plain": [
       "Text(0,0.5,'Wind Direction (deg)')"
      ]
     },
     "execution_count": 102,
     "metadata": {},
     "output_type": "execute_result"
    }
   ],
   "source": [
    "plt.subplot(2,3,6)\n",
    "WindDirection=CorkAirportData.iloc[0:365,6]\n",
    "plt.hist(WindDirection)\n",
    "plt.title(\"Wind Direction (deg)\")\n",
    "plt.xlabel(\"Qty\")\n",
    "plt.ylabel(\"Wind Direction (deg)\")"
   ]
  },
  {
   "cell_type": "code",
   "execution_count": 103,
   "metadata": {},
   "outputs": [
    {
     "data": {
      "image/png": "[encoded data removed]",
      "text/plain": [
       "<matplotlib.figure.Figure at 0x1a9ce22b668>"
      ]
     },
     "metadata": {},
     "output_type": "display_data"
    }
   ],
   "source": [
    "plt.show()"
   ]
  },
  {
   "cell_type": "markdown",
   "metadata": {
    "collapsed": true
   },
   "source": [
    "** Generatation of Random Data to Simulation the Cork Airport Weather Data**\n",
    "\n",
    "To analyse the data and to determine if there is any dependancies between the variables and rainfall, random data will be generated who's distributions approximate the real world weather data from Cork Airport. Below we detail the distributions assigned to each of the weather variables selected and a brief justification for selecting the specific distribution for each variable.\n",
    "    \n",
    "       Weather Variable         Designation        Selected Distribution\n",
    "     - Max Temperature          RandMaxTemp        Normal Distribution\n",
    "     - Min Temperature          RandMinTemp        Normal Distribution\n",
    "     - Percipitation            RandRain           Gamma Distribution\n",
    "     - Pressure                 RandPressure       Gumbel Distribution\n",
    "     - Wind Speed               RandWindSpeed      Gumbel Distribution\n",
    "     - Wind Direction           RandWindDir        Gumbel Distribtion\n",
    "     \n",
    "As the original data visually illustrated the Max and Min temperatures displayed an approximation to the normal distribution the random data for Max and Min temperatures will be generated following the normal distribution.\n",
    "\n",
    "On review of literature it was discovered a number of distributions can be used to model percipitation amounts. As the original data set was right skewed the Gamma distribution was selected to model the random data for percipitation (Rain Fall)\n",
    "\n",
    "All other variables display extreme values and for this reason the Gumbel distributions were selected for them.\n",
    "     "
   ]
  },
  {
   "cell_type": "markdown",
   "metadata": {},
   "source": [
    "**RandMaxTemp**"
   ]
  },
  {
   "cell_type": "code",
   "execution_count": 104,
   "metadata": {},
   "outputs": [
    {
     "data": {
      "text/plain": [
       "Text(0,0.5,'Temperature')"
      ]
     },
     "execution_count": 104,
     "metadata": {},
     "output_type": "execute_result"
    }
   ],
   "source": [
    "RandMaxTemp=np.random.normal(13.301366,5.517347,365)\n",
    "plt.subplot(2,3,1)\n",
    "plt.hist(RandMaxTemp)\n",
    "plt.title(\"Daily Max Temperature\")\n",
    "plt.xlabel(\"Qty\")\n",
    "plt.ylabel(\"Temperature\")"
   ]
  },
  {
   "cell_type": "markdown",
   "metadata": {},
   "source": [
    "**RandMinTemp**"
   ]
  },
  {
   "cell_type": "code",
   "execution_count": 105,
   "metadata": {},
   "outputs": [
    {
     "data": {
      "text/plain": [
       "Text(0,0.5,'Temperature')"
      ]
     },
     "execution_count": 105,
     "metadata": {},
     "output_type": "execute_result"
    }
   ],
   "source": [
    "RandMinTemp=np.random.normal(6.671858,4.669434,365)\n",
    "plt.subplot(2,3,2)\n",
    "plt.hist(RandMinTemp)\n",
    "plt.title(\"Daily Min Temperature\")\n",
    "plt.xlabel(\"Qty\")\n",
    "plt.ylabel(\"Temperature\")"
   ]
  },
  {
   "cell_type": "markdown",
   "metadata": {},
   "source": [
    "**RandRain**"
   ]
  },
  {
   "cell_type": "code",
   "execution_count": 106,
   "metadata": {},
   "outputs": [
    {
     "data": {
      "text/plain": [
       "Text(0,0.5,'Rain mm')"
      ]
     },
     "execution_count": 106,
     "metadata": {},
     "output_type": "execute_result"
    }
   ],
   "source": [
    "RandRain = np.random.gamma(0.4, 5.256508, 365)\n",
    "plt.subplot(2,3,3)\n",
    "plt.hist(RandRain)\n",
    "plt.title(\"Daily Rain Fall\")\n",
    "plt.xlabel(\"Amount\")\n",
    "plt.ylabel(\"Rain mm\")"
   ]
  },
  {
   "cell_type": "markdown",
   "metadata": {},
   "source": [
    "**RandPressure**"
   ]
  },
  {
   "cell_type": "code",
   "execution_count": 107,
   "metadata": {},
   "outputs": [
    {
     "data": {
      "text/plain": [
       "Text(0,0.5,'Pressure Frequency Hpa')"
      ]
     },
     "execution_count": 107,
     "metadata": {},
     "output_type": "execute_result"
    }
   ],
   "source": [
    "RandPressure = np.random.gumbel(996.85, 11.382705, 365)\n",
    "plt.subplot(2,3,4)\n",
    "plt.hist(RandPressure)\n",
    "plt.title(\"Daily Pressure\")\n",
    "plt.xlabel(\"Pressure\")\n",
    "plt.ylabel(\"Pressure Frequency Hpa\")"
   ]
  },
  {
   "cell_type": "markdown",
   "metadata": {},
   "source": [
    "**RandWindSpeed**"
   ]
  },
  {
   "cell_type": "code",
   "execution_count": 108,
   "metadata": {},
   "outputs": [
    {
     "data": {
      "text/plain": [
       "Text(0,0.5,'Wind Speed Frequency Knots')"
      ]
     },
     "execution_count": 108,
     "metadata": {},
     "output_type": "execute_result"
    }
   ],
   "source": [
    "RandWindSpeed = np.random.gumbel(8.9, 3.611673, 365)\n",
    "plt.subplot(2,3,5)\n",
    "plt.hist(RandWindSpeed)\n",
    "plt.title(\"Daily Wind Speed\")\n",
    "plt.xlabel(\"Wind Speed\")\n",
    "plt.ylabel(\"Wind Speed Frequency Knots\")"
   ]
  },
  {
   "cell_type": "markdown",
   "metadata": {},
   "source": [
    "**RandWindDir**"
   ]
  },
  {
   "cell_type": "code",
   "execution_count": 109,
   "metadata": {},
   "outputs": [
    {
     "data": {
      "text/plain": [
       "Text(0,0.5,'Wind Direction Degs')"
      ]
     },
     "execution_count": 109,
     "metadata": {},
     "output_type": "execute_result"
    }
   ],
   "source": [
    "RandWindDir = np.random.gumbel(230, 89.321351, 365)\n",
    "plt.subplot(2,3,6)\n",
    "plt.hist(RandWindDir)\n",
    "plt.title(\"Daily Wind Direction\")\n",
    "plt.xlabel(\"Wind Direction\")\n",
    "plt.ylabel(\"Wind Direction Degs\")"
   ]
  },
  {
   "cell_type": "code",
   "execution_count": 110,
   "metadata": {},
   "outputs": [
    {
     "data": {
      "image/png": "[encoded data removed]",
      "text/plain": [
       "<matplotlib.figure.Figure at 0x1a9cf9de128>"
      ]
     },
     "metadata": {},
     "output_type": "display_data"
    }
   ],
   "source": [
    "plt.show()"
   ]
  },
  {
   "cell_type": "code",
   "execution_count": 165,
   "metadata": {},
   "outputs": [],
   "source": [
    "## Including a range of integers for use in the scatter plots for an \"X\" value\n",
    "DayNumber = range(1,366)"
   ]
  },
  {
   "cell_type": "markdown",
   "metadata": {},
   "source": [
    "**Random Data, Data Frame Creation**\n",
    "\n",
    "Now that we have created random data to simulate the real world weather data from Cork airport, we will create a data from to store our results.\n",
    "\n",
    "I will define and name the data frame RanWeatherData to differenciate from the original data set from Cork airport."
   ]
  },
  {
   "cell_type": "code",
   "execution_count": 166,
   "metadata": {},
   "outputs": [],
   "source": [
    "RanWeatherData = pd.DataFrame({\"Day Number\": DayNumber,\"Random Max Temp\":RandMaxTemp, \"Random Min Temp\": RandMinTemp, \"Random Rain\": RandRain, \"Random Pressure\": RandPressure, \"Random Wind Speed\": RandWindSpeed, \"Random Wind Direction\": RandWindDir})"
   ]
  },
  {
   "cell_type": "code",
   "execution_count": 167,
   "metadata": {},
   "outputs": [
    {
     "data": {
      "text/html": [
       "<div>\n",
       "<style>\n",
       "    .dataframe thead tr:only-child th {\n",
       "        text-align: right;\n",
       "    }\n",
       "\n",
       "    .dataframe thead th {\n",
       "        text-align: left;\n",
       "    }\n",
       "\n",
       "    .dataframe tbody tr th {\n",
       "        vertical-align: top;\n",
       "    }\n",
       "</style>\n",
       "<table border=\"1\" class=\"dataframe\">\n",
       "  <thead>\n",
       "    <tr style=\"text-align: right;\">\n",
       "      <th></th>\n",
       "      <th>Day Number</th>\n",
       "      <th>Random Max Temp</th>\n",
       "      <th>Random Min Temp</th>\n",
       "      <th>Random Pressure</th>\n",
       "      <th>Random Rain</th>\n",
       "      <th>Random Wind Direction</th>\n",
       "      <th>Random Wind Speed</th>\n",
       "    </tr>\n",
       "  </thead>\n",
       "  <tbody>\n",
       "    <tr>\n",
       "      <th>0</th>\n",
       "      <td>1</td>\n",
       "      <td>13.361178</td>\n",
       "      <td>4.658699</td>\n",
       "      <td>992.485365</td>\n",
       "      <td>0.667397</td>\n",
       "      <td>321.034362</td>\n",
       "      <td>10.831947</td>\n",
       "    </tr>\n",
       "    <tr>\n",
       "      <th>1</th>\n",
       "      <td>2</td>\n",
       "      <td>21.438557</td>\n",
       "      <td>12.925705</td>\n",
       "      <td>989.227462</td>\n",
       "      <td>0.092059</td>\n",
       "      <td>273.448309</td>\n",
       "      <td>16.167063</td>\n",
       "    </tr>\n",
       "    <tr>\n",
       "      <th>2</th>\n",
       "      <td>3</td>\n",
       "      <td>13.727728</td>\n",
       "      <td>8.685920</td>\n",
       "      <td>985.669024</td>\n",
       "      <td>3.571561</td>\n",
       "      <td>313.952621</td>\n",
       "      <td>8.491384</td>\n",
       "    </tr>\n",
       "    <tr>\n",
       "      <th>3</th>\n",
       "      <td>4</td>\n",
       "      <td>20.787628</td>\n",
       "      <td>0.088256</td>\n",
       "      <td>1005.852216</td>\n",
       "      <td>2.596469</td>\n",
       "      <td>410.741271</td>\n",
       "      <td>5.723512</td>\n",
       "    </tr>\n",
       "    <tr>\n",
       "      <th>4</th>\n",
       "      <td>5</td>\n",
       "      <td>11.737331</td>\n",
       "      <td>4.209960</td>\n",
       "      <td>1018.183490</td>\n",
       "      <td>0.251314</td>\n",
       "      <td>248.560535</td>\n",
       "      <td>14.377352</td>\n",
       "    </tr>\n",
       "    <tr>\n",
       "      <th>5</th>\n",
       "      <td>6</td>\n",
       "      <td>19.962357</td>\n",
       "      <td>0.862272</td>\n",
       "      <td>1010.213205</td>\n",
       "      <td>6.951821</td>\n",
       "      <td>328.300729</td>\n",
       "      <td>7.962686</td>\n",
       "    </tr>\n",
       "    <tr>\n",
       "      <th>6</th>\n",
       "      <td>7</td>\n",
       "      <td>6.630355</td>\n",
       "      <td>2.533897</td>\n",
       "      <td>992.187382</td>\n",
       "      <td>0.000386</td>\n",
       "      <td>164.100055</td>\n",
       "      <td>9.082028</td>\n",
       "    </tr>\n",
       "    <tr>\n",
       "      <th>7</th>\n",
       "      <td>8</td>\n",
       "      <td>10.346620</td>\n",
       "      <td>8.847590</td>\n",
       "      <td>993.888944</td>\n",
       "      <td>0.158048</td>\n",
       "      <td>166.038594</td>\n",
       "      <td>8.271086</td>\n",
       "    </tr>\n",
       "    <tr>\n",
       "      <th>8</th>\n",
       "      <td>9</td>\n",
       "      <td>9.948896</td>\n",
       "      <td>9.477847</td>\n",
       "      <td>1005.506668</td>\n",
       "      <td>1.950126</td>\n",
       "      <td>206.115368</td>\n",
       "      <td>14.334113</td>\n",
       "    </tr>\n",
       "    <tr>\n",
       "      <th>9</th>\n",
       "      <td>10</td>\n",
       "      <td>21.738710</td>\n",
       "      <td>3.645334</td>\n",
       "      <td>992.129018</td>\n",
       "      <td>0.750514</td>\n",
       "      <td>288.276483</td>\n",
       "      <td>10.072179</td>\n",
       "    </tr>\n",
       "    <tr>\n",
       "      <th>10</th>\n",
       "      <td>11</td>\n",
       "      <td>17.277853</td>\n",
       "      <td>5.561305</td>\n",
       "      <td>985.632815</td>\n",
       "      <td>0.182843</td>\n",
       "      <td>191.489999</td>\n",
       "      <td>5.141189</td>\n",
       "    </tr>\n",
       "    <tr>\n",
       "      <th>11</th>\n",
       "      <td>12</td>\n",
       "      <td>17.225641</td>\n",
       "      <td>11.233443</td>\n",
       "      <td>1016.860849</td>\n",
       "      <td>0.332008</td>\n",
       "      <td>345.377090</td>\n",
       "      <td>8.262313</td>\n",
       "    </tr>\n",
       "    <tr>\n",
       "      <th>12</th>\n",
       "      <td>13</td>\n",
       "      <td>10.764632</td>\n",
       "      <td>12.176368</td>\n",
       "      <td>1013.237739</td>\n",
       "      <td>0.754894</td>\n",
       "      <td>166.809415</td>\n",
       "      <td>10.015400</td>\n",
       "    </tr>\n",
       "    <tr>\n",
       "      <th>13</th>\n",
       "      <td>14</td>\n",
       "      <td>18.647760</td>\n",
       "      <td>6.024572</td>\n",
       "      <td>1008.675844</td>\n",
       "      <td>0.002996</td>\n",
       "      <td>309.222303</td>\n",
       "      <td>15.305197</td>\n",
       "    </tr>\n",
       "    <tr>\n",
       "      <th>14</th>\n",
       "      <td>15</td>\n",
       "      <td>24.154103</td>\n",
       "      <td>3.964369</td>\n",
       "      <td>990.516784</td>\n",
       "      <td>0.000191</td>\n",
       "      <td>246.862583</td>\n",
       "      <td>10.138683</td>\n",
       "    </tr>\n",
       "    <tr>\n",
       "      <th>15</th>\n",
       "      <td>16</td>\n",
       "      <td>8.493322</td>\n",
       "      <td>12.358953</td>\n",
       "      <td>989.178424</td>\n",
       "      <td>1.673805</td>\n",
       "      <td>208.166935</td>\n",
       "      <td>7.454457</td>\n",
       "    </tr>\n",
       "    <tr>\n",
       "      <th>16</th>\n",
       "      <td>17</td>\n",
       "      <td>17.016191</td>\n",
       "      <td>2.322483</td>\n",
       "      <td>984.078690</td>\n",
       "      <td>8.721732</td>\n",
       "      <td>267.730651</td>\n",
       "      <td>5.525752</td>\n",
       "    </tr>\n",
       "    <tr>\n",
       "      <th>17</th>\n",
       "      <td>18</td>\n",
       "      <td>13.852629</td>\n",
       "      <td>8.761401</td>\n",
       "      <td>988.571533</td>\n",
       "      <td>3.579700</td>\n",
       "      <td>137.452328</td>\n",
       "      <td>10.593379</td>\n",
       "    </tr>\n",
       "    <tr>\n",
       "      <th>18</th>\n",
       "      <td>19</td>\n",
       "      <td>6.705753</td>\n",
       "      <td>3.011302</td>\n",
       "      <td>1000.164892</td>\n",
       "      <td>0.695381</td>\n",
       "      <td>129.008507</td>\n",
       "      <td>10.821044</td>\n",
       "    </tr>\n",
       "    <tr>\n",
       "      <th>19</th>\n",
       "      <td>20</td>\n",
       "      <td>3.656136</td>\n",
       "      <td>-0.056217</td>\n",
       "      <td>993.001018</td>\n",
       "      <td>6.199119</td>\n",
       "      <td>140.048747</td>\n",
       "      <td>11.133904</td>\n",
       "    </tr>\n",
       "    <tr>\n",
       "      <th>20</th>\n",
       "      <td>21</td>\n",
       "      <td>12.898191</td>\n",
       "      <td>3.801726</td>\n",
       "      <td>992.358175</td>\n",
       "      <td>1.686095</td>\n",
       "      <td>487.764272</td>\n",
       "      <td>5.498528</td>\n",
       "    </tr>\n",
       "    <tr>\n",
       "      <th>21</th>\n",
       "      <td>22</td>\n",
       "      <td>9.775726</td>\n",
       "      <td>1.082852</td>\n",
       "      <td>1006.701257</td>\n",
       "      <td>4.365972</td>\n",
       "      <td>154.981546</td>\n",
       "      <td>10.954248</td>\n",
       "    </tr>\n",
       "    <tr>\n",
       "      <th>22</th>\n",
       "      <td>23</td>\n",
       "      <td>7.136640</td>\n",
       "      <td>8.125287</td>\n",
       "      <td>989.955736</td>\n",
       "      <td>0.264935</td>\n",
       "      <td>172.048105</td>\n",
       "      <td>9.791152</td>\n",
       "    </tr>\n",
       "    <tr>\n",
       "      <th>23</th>\n",
       "      <td>24</td>\n",
       "      <td>6.333286</td>\n",
       "      <td>1.642893</td>\n",
       "      <td>1007.709385</td>\n",
       "      <td>0.006084</td>\n",
       "      <td>620.151044</td>\n",
       "      <td>5.319258</td>\n",
       "    </tr>\n",
       "    <tr>\n",
       "      <th>24</th>\n",
       "      <td>25</td>\n",
       "      <td>15.507845</td>\n",
       "      <td>11.159421</td>\n",
       "      <td>981.618345</td>\n",
       "      <td>10.685671</td>\n",
       "      <td>209.231842</td>\n",
       "      <td>12.871860</td>\n",
       "    </tr>\n",
       "    <tr>\n",
       "      <th>25</th>\n",
       "      <td>26</td>\n",
       "      <td>9.252953</td>\n",
       "      <td>9.422713</td>\n",
       "      <td>1011.605698</td>\n",
       "      <td>0.030670</td>\n",
       "      <td>243.927109</td>\n",
       "      <td>10.486763</td>\n",
       "    </tr>\n",
       "    <tr>\n",
       "      <th>26</th>\n",
       "      <td>27</td>\n",
       "      <td>6.489007</td>\n",
       "      <td>15.458190</td>\n",
       "      <td>1002.682106</td>\n",
       "      <td>0.273791</td>\n",
       "      <td>200.279340</td>\n",
       "      <td>10.904706</td>\n",
       "    </tr>\n",
       "    <tr>\n",
       "      <th>27</th>\n",
       "      <td>28</td>\n",
       "      <td>15.589959</td>\n",
       "      <td>11.734773</td>\n",
       "      <td>1013.300043</td>\n",
       "      <td>0.000041</td>\n",
       "      <td>272.461475</td>\n",
       "      <td>12.428801</td>\n",
       "    </tr>\n",
       "    <tr>\n",
       "      <th>28</th>\n",
       "      <td>29</td>\n",
       "      <td>13.755579</td>\n",
       "      <td>11.081204</td>\n",
       "      <td>1005.882199</td>\n",
       "      <td>0.070512</td>\n",
       "      <td>204.802750</td>\n",
       "      <td>8.872199</td>\n",
       "    </tr>\n",
       "    <tr>\n",
       "      <th>29</th>\n",
       "      <td>30</td>\n",
       "      <td>6.761694</td>\n",
       "      <td>0.068548</td>\n",
       "      <td>1003.151195</td>\n",
       "      <td>0.006503</td>\n",
       "      <td>242.108015</td>\n",
       "      <td>14.543163</td>\n",
       "    </tr>\n",
       "    <tr>\n",
       "      <th>...</th>\n",
       "      <td>...</td>\n",
       "      <td>...</td>\n",
       "      <td>...</td>\n",
       "      <td>...</td>\n",
       "      <td>...</td>\n",
       "      <td>...</td>\n",
       "      <td>...</td>\n",
       "    </tr>\n",
       "    <tr>\n",
       "      <th>335</th>\n",
       "      <td>336</td>\n",
       "      <td>7.273542</td>\n",
       "      <td>9.794749</td>\n",
       "      <td>992.226640</td>\n",
       "      <td>1.448020</td>\n",
       "      <td>406.670959</td>\n",
       "      <td>8.538945</td>\n",
       "    </tr>\n",
       "    <tr>\n",
       "      <th>336</th>\n",
       "      <td>337</td>\n",
       "      <td>10.625797</td>\n",
       "      <td>13.123224</td>\n",
       "      <td>998.301311</td>\n",
       "      <td>3.437448</td>\n",
       "      <td>288.919823</td>\n",
       "      <td>11.317709</td>\n",
       "    </tr>\n",
       "    <tr>\n",
       "      <th>337</th>\n",
       "      <td>338</td>\n",
       "      <td>11.130979</td>\n",
       "      <td>12.626478</td>\n",
       "      <td>1018.193434</td>\n",
       "      <td>0.311361</td>\n",
       "      <td>309.442306</td>\n",
       "      <td>13.569926</td>\n",
       "    </tr>\n",
       "    <tr>\n",
       "      <th>338</th>\n",
       "      <td>339</td>\n",
       "      <td>18.957538</td>\n",
       "      <td>3.362587</td>\n",
       "      <td>979.795338</td>\n",
       "      <td>3.219255</td>\n",
       "      <td>266.502673</td>\n",
       "      <td>5.788109</td>\n",
       "    </tr>\n",
       "    <tr>\n",
       "      <th>339</th>\n",
       "      <td>340</td>\n",
       "      <td>8.811802</td>\n",
       "      <td>15.057886</td>\n",
       "      <td>1011.052811</td>\n",
       "      <td>4.155818</td>\n",
       "      <td>439.413766</td>\n",
       "      <td>21.003942</td>\n",
       "    </tr>\n",
       "    <tr>\n",
       "      <th>340</th>\n",
       "      <td>341</td>\n",
       "      <td>14.924253</td>\n",
       "      <td>7.950624</td>\n",
       "      <td>988.894261</td>\n",
       "      <td>1.248872</td>\n",
       "      <td>359.771494</td>\n",
       "      <td>15.635949</td>\n",
       "    </tr>\n",
       "    <tr>\n",
       "      <th>341</th>\n",
       "      <td>342</td>\n",
       "      <td>16.736040</td>\n",
       "      <td>7.898179</td>\n",
       "      <td>994.291167</td>\n",
       "      <td>0.513032</td>\n",
       "      <td>161.858152</td>\n",
       "      <td>13.571770</td>\n",
       "    </tr>\n",
       "    <tr>\n",
       "      <th>342</th>\n",
       "      <td>343</td>\n",
       "      <td>26.005771</td>\n",
       "      <td>10.404659</td>\n",
       "      <td>1021.735830</td>\n",
       "      <td>4.815779</td>\n",
       "      <td>474.806177</td>\n",
       "      <td>7.492845</td>\n",
       "    </tr>\n",
       "    <tr>\n",
       "      <th>343</th>\n",
       "      <td>344</td>\n",
       "      <td>10.627240</td>\n",
       "      <td>10.113505</td>\n",
       "      <td>1015.195008</td>\n",
       "      <td>1.870903</td>\n",
       "      <td>540.238730</td>\n",
       "      <td>7.394107</td>\n",
       "    </tr>\n",
       "    <tr>\n",
       "      <th>344</th>\n",
       "      <td>345</td>\n",
       "      <td>21.174191</td>\n",
       "      <td>4.697989</td>\n",
       "      <td>998.827089</td>\n",
       "      <td>8.626419</td>\n",
       "      <td>305.138100</td>\n",
       "      <td>9.560330</td>\n",
       "    </tr>\n",
       "    <tr>\n",
       "      <th>345</th>\n",
       "      <td>346</td>\n",
       "      <td>17.283848</td>\n",
       "      <td>6.464266</td>\n",
       "      <td>978.764912</td>\n",
       "      <td>0.427297</td>\n",
       "      <td>90.252306</td>\n",
       "      <td>10.463259</td>\n",
       "    </tr>\n",
       "    <tr>\n",
       "      <th>346</th>\n",
       "      <td>347</td>\n",
       "      <td>12.014794</td>\n",
       "      <td>9.801599</td>\n",
       "      <td>1034.198767</td>\n",
       "      <td>6.009779</td>\n",
       "      <td>494.643406</td>\n",
       "      <td>10.411948</td>\n",
       "    </tr>\n",
       "    <tr>\n",
       "      <th>347</th>\n",
       "      <td>348</td>\n",
       "      <td>8.203107</td>\n",
       "      <td>14.461145</td>\n",
       "      <td>997.939192</td>\n",
       "      <td>4.007447</td>\n",
       "      <td>243.982131</td>\n",
       "      <td>8.106998</td>\n",
       "    </tr>\n",
       "    <tr>\n",
       "      <th>348</th>\n",
       "      <td>349</td>\n",
       "      <td>9.308962</td>\n",
       "      <td>10.813136</td>\n",
       "      <td>1015.708237</td>\n",
       "      <td>0.108324</td>\n",
       "      <td>244.505511</td>\n",
       "      <td>13.787726</td>\n",
       "    </tr>\n",
       "    <tr>\n",
       "      <th>349</th>\n",
       "      <td>350</td>\n",
       "      <td>11.555056</td>\n",
       "      <td>14.686507</td>\n",
       "      <td>1008.777409</td>\n",
       "      <td>14.315203</td>\n",
       "      <td>262.807067</td>\n",
       "      <td>6.635612</td>\n",
       "    </tr>\n",
       "    <tr>\n",
       "      <th>350</th>\n",
       "      <td>351</td>\n",
       "      <td>10.065984</td>\n",
       "      <td>8.115149</td>\n",
       "      <td>982.370217</td>\n",
       "      <td>0.882697</td>\n",
       "      <td>319.153326</td>\n",
       "      <td>10.232505</td>\n",
       "    </tr>\n",
       "    <tr>\n",
       "      <th>351</th>\n",
       "      <td>352</td>\n",
       "      <td>9.721223</td>\n",
       "      <td>5.314038</td>\n",
       "      <td>987.762592</td>\n",
       "      <td>0.206342</td>\n",
       "      <td>272.302347</td>\n",
       "      <td>4.772054</td>\n",
       "    </tr>\n",
       "    <tr>\n",
       "      <th>352</th>\n",
       "      <td>353</td>\n",
       "      <td>13.281294</td>\n",
       "      <td>9.227413</td>\n",
       "      <td>1015.706539</td>\n",
       "      <td>0.032998</td>\n",
       "      <td>291.730183</td>\n",
       "      <td>8.347318</td>\n",
       "    </tr>\n",
       "    <tr>\n",
       "      <th>353</th>\n",
       "      <td>354</td>\n",
       "      <td>23.161363</td>\n",
       "      <td>5.408568</td>\n",
       "      <td>1005.412278</td>\n",
       "      <td>0.648917</td>\n",
       "      <td>261.374606</td>\n",
       "      <td>16.460054</td>\n",
       "    </tr>\n",
       "    <tr>\n",
       "      <th>354</th>\n",
       "      <td>355</td>\n",
       "      <td>10.348876</td>\n",
       "      <td>4.271994</td>\n",
       "      <td>993.555307</td>\n",
       "      <td>1.886971</td>\n",
       "      <td>160.270312</td>\n",
       "      <td>19.751770</td>\n",
       "    </tr>\n",
       "    <tr>\n",
       "      <th>355</th>\n",
       "      <td>356</td>\n",
       "      <td>12.927201</td>\n",
       "      <td>9.185478</td>\n",
       "      <td>1016.118295</td>\n",
       "      <td>0.030513</td>\n",
       "      <td>386.712537</td>\n",
       "      <td>5.606485</td>\n",
       "    </tr>\n",
       "    <tr>\n",
       "      <th>356</th>\n",
       "      <td>357</td>\n",
       "      <td>12.270402</td>\n",
       "      <td>5.749460</td>\n",
       "      <td>1000.986819</td>\n",
       "      <td>0.369760</td>\n",
       "      <td>194.782513</td>\n",
       "      <td>16.135169</td>\n",
       "    </tr>\n",
       "    <tr>\n",
       "      <th>357</th>\n",
       "      <td>358</td>\n",
       "      <td>13.131097</td>\n",
       "      <td>6.451548</td>\n",
       "      <td>1008.437516</td>\n",
       "      <td>0.510692</td>\n",
       "      <td>113.932277</td>\n",
       "      <td>8.772179</td>\n",
       "    </tr>\n",
       "    <tr>\n",
       "      <th>358</th>\n",
       "      <td>359</td>\n",
       "      <td>8.422593</td>\n",
       "      <td>10.712308</td>\n",
       "      <td>1009.630398</td>\n",
       "      <td>1.521043</td>\n",
       "      <td>174.797802</td>\n",
       "      <td>12.416492</td>\n",
       "    </tr>\n",
       "    <tr>\n",
       "      <th>359</th>\n",
       "      <td>360</td>\n",
       "      <td>18.700213</td>\n",
       "      <td>8.043156</td>\n",
       "      <td>990.646941</td>\n",
       "      <td>0.025295</td>\n",
       "      <td>383.084491</td>\n",
       "      <td>6.887900</td>\n",
       "    </tr>\n",
       "    <tr>\n",
       "      <th>360</th>\n",
       "      <td>361</td>\n",
       "      <td>10.156428</td>\n",
       "      <td>6.414879</td>\n",
       "      <td>1002.152271</td>\n",
       "      <td>5.339491</td>\n",
       "      <td>467.212166</td>\n",
       "      <td>13.143501</td>\n",
       "    </tr>\n",
       "    <tr>\n",
       "      <th>361</th>\n",
       "      <td>362</td>\n",
       "      <td>12.664625</td>\n",
       "      <td>3.891118</td>\n",
       "      <td>989.188102</td>\n",
       "      <td>8.328665</td>\n",
       "      <td>227.633884</td>\n",
       "      <td>14.625197</td>\n",
       "    </tr>\n",
       "    <tr>\n",
       "      <th>362</th>\n",
       "      <td>363</td>\n",
       "      <td>8.775697</td>\n",
       "      <td>4.869548</td>\n",
       "      <td>1001.767246</td>\n",
       "      <td>1.396518</td>\n",
       "      <td>235.820663</td>\n",
       "      <td>15.999634</td>\n",
       "    </tr>\n",
       "    <tr>\n",
       "      <th>363</th>\n",
       "      <td>364</td>\n",
       "      <td>8.165053</td>\n",
       "      <td>11.579055</td>\n",
       "      <td>1009.305094</td>\n",
       "      <td>0.280685</td>\n",
       "      <td>216.865317</td>\n",
       "      <td>6.932299</td>\n",
       "    </tr>\n",
       "    <tr>\n",
       "      <th>364</th>\n",
       "      <td>365</td>\n",
       "      <td>13.649797</td>\n",
       "      <td>0.388470</td>\n",
       "      <td>1018.618615</td>\n",
       "      <td>4.061312</td>\n",
       "      <td>171.522467</td>\n",
       "      <td>18.004751</td>\n",
       "    </tr>\n",
       "  </tbody>\n",
       "</table>\n",
       "<p>365 rows × 7 columns</p>\n",
       "</div>"
      ],
      "text/plain": [
       "     Day Number  Random Max Temp  Random Min Temp  Random Pressure  \\\n",
       "0             1        13.361178         4.658699       992.485365   \n",
       "1             2        21.438557        12.925705       989.227462   \n",
       "2             3        13.727728         8.685920       985.669024   \n",
       "3             4        20.787628         0.088256      1005.852216   \n",
       "4             5        11.737331         4.209960      1018.183490   \n",
       "5             6        19.962357         0.862272      1010.213205   \n",
       "6             7         6.630355         2.533897       992.187382   \n",
       "7             8        10.346620         8.847590       993.888944   \n",
       "8             9         9.948896         9.477847      1005.506668   \n",
       "9            10        21.738710         3.645334       992.129018   \n",
       "10           11        17.277853         5.561305       985.632815   \n",
       "11           12        17.225641        11.233443      1016.860849   \n",
       "12           13        10.764632        12.176368      1013.237739   \n",
       "13           14        18.647760         6.024572      1008.675844   \n",
       "14           15        24.154103         3.964369       990.516784   \n",
       "15           16         8.493322        12.358953       989.178424   \n",
       "16           17        17.016191         2.322483       984.078690   \n",
       "17           18        13.852629         8.761401       988.571533   \n",
       "18           19         6.705753         3.011302      1000.164892   \n",
       "19           20         3.656136        -0.056217       993.001018   \n",
       "20           21        12.898191         3.801726       992.358175   \n",
       "21           22         9.775726         1.082852      1006.701257   \n",
       "22           23         7.136640         8.125287       989.955736   \n",
       "23           24         6.333286         1.642893      1007.709385   \n",
       "24           25        15.507845        11.159421       981.618345   \n",
       "25           26         9.252953         9.422713      1011.605698   \n",
       "26           27         6.489007        15.458190      1002.682106   \n",
       "27           28        15.589959        11.734773      1013.300043   \n",
       "28           29        13.755579        11.081204      1005.882199   \n",
       "29           30         6.761694         0.068548      1003.151195   \n",
       "..          ...              ...              ...              ...   \n",
       "335         336         7.273542         9.794749       992.226640   \n",
       "336         337        10.625797        13.123224       998.301311   \n",
       "337         338        11.130979        12.626478      1018.193434   \n",
       "338         339        18.957538         3.362587       979.795338   \n",
       "339         340         8.811802        15.057886      1011.052811   \n",
       "340         341        14.924253         7.950624       988.894261   \n",
       "341         342        16.736040         7.898179       994.291167   \n",
       "342         343        26.005771        10.404659      1021.735830   \n",
       "343         344        10.627240        10.113505      1015.195008   \n",
       "344         345        21.174191         4.697989       998.827089   \n",
       "345         346        17.283848         6.464266       978.764912   \n",
       "346         347        12.014794         9.801599      1034.198767   \n",
       "347         348         8.203107        14.461145       997.939192   \n",
       "348         349         9.308962        10.813136      1015.708237   \n",
       "349         350        11.555056        14.686507      1008.777409   \n",
       "350         351        10.065984         8.115149       982.370217   \n",
       "351         352         9.721223         5.314038       987.762592   \n",
       "352         353        13.281294         9.227413      1015.706539   \n",
       "353         354        23.161363         5.408568      1005.412278   \n",
       "354         355        10.348876         4.271994       993.555307   \n",
       "355         356        12.927201         9.185478      1016.118295   \n",
       "356         357        12.270402         5.749460      1000.986819   \n",
       "357         358        13.131097         6.451548      1008.437516   \n",
       "358         359         8.422593        10.712308      1009.630398   \n",
       "359         360        18.700213         8.043156       990.646941   \n",
       "360         361        10.156428         6.414879      1002.152271   \n",
       "361         362        12.664625         3.891118       989.188102   \n",
       "362         363         8.775697         4.869548      1001.767246   \n",
       "363         364         8.165053        11.579055      1009.305094   \n",
       "364         365        13.649797         0.388470      1018.618615   \n",
       "\n",
       "     Random Rain  Random Wind Direction  Random Wind Speed  \n",
       "0       0.667397             321.034362          10.831947  \n",
       "1       0.092059             273.448309          16.167063  \n",
       "2       3.571561             313.952621           8.491384  \n",
       "3       2.596469             410.741271           5.723512  \n",
       "4       0.251314             248.560535          14.377352  \n",
       "5       6.951821             328.300729           7.962686  \n",
       "6       0.000386             164.100055           9.082028  \n",
       "7       0.158048             166.038594           8.271086  \n",
       "8       1.950126             206.115368          14.334113  \n",
       "9       0.750514             288.276483          10.072179  \n",
       "10      0.182843             191.489999           5.141189  \n",
       "11      0.332008             345.377090           8.262313  \n",
       "12      0.754894             166.809415          10.015400  \n",
       "13      0.002996             309.222303          15.305197  \n",
       "14      0.000191             246.862583          10.138683  \n",
       "15      1.673805             208.166935           7.454457  \n",
       "16      8.721732             267.730651           5.525752  \n",
       "17      3.579700             137.452328          10.593379  \n",
       "18      0.695381             129.008507          10.821044  \n",
       "19      6.199119             140.048747          11.133904  \n",
       "20      1.686095             487.764272           5.498528  \n",
       "21      4.365972             154.981546          10.954248  \n",
       "22      0.264935             172.048105           9.791152  \n",
       "23      0.006084             620.151044           5.319258  \n",
       "24     10.685671             209.231842          12.871860  \n",
       "25      0.030670             243.927109          10.486763  \n",
       "26      0.273791             200.279340          10.904706  \n",
       "27      0.000041             272.461475          12.428801  \n",
       "28      0.070512             204.802750           8.872199  \n",
       "29      0.006503             242.108015          14.543163  \n",
       "..           ...                    ...                ...  \n",
       "335     1.448020             406.670959           8.538945  \n",
       "336     3.437448             288.919823          11.317709  \n",
       "337     0.311361             309.442306          13.569926  \n",
       "338     3.219255             266.502673           5.788109  \n",
       "339     4.155818             439.413766          21.003942  \n",
       "340     1.248872             359.771494          15.635949  \n",
       "341     0.513032             161.858152          13.571770  \n",
       "342     4.815779             474.806177           7.492845  \n",
       "343     1.870903             540.238730           7.394107  \n",
       "344     8.626419             305.138100           9.560330  \n",
       "345     0.427297              90.252306          10.463259  \n",
       "346     6.009779             494.643406          10.411948  \n",
       "347     4.007447             243.982131           8.106998  \n",
       "348     0.108324             244.505511          13.787726  \n",
       "349    14.315203             262.807067           6.635612  \n",
       "350     0.882697             319.153326          10.232505  \n",
       "351     0.206342             272.302347           4.772054  \n",
       "352     0.032998             291.730183           8.347318  \n",
       "353     0.648917             261.374606          16.460054  \n",
       "354     1.886971             160.270312          19.751770  \n",
       "355     0.030513             386.712537           5.606485  \n",
       "356     0.369760             194.782513          16.135169  \n",
       "357     0.510692             113.932277           8.772179  \n",
       "358     1.521043             174.797802          12.416492  \n",
       "359     0.025295             383.084491           6.887900  \n",
       "360     5.339491             467.212166          13.143501  \n",
       "361     8.328665             227.633884          14.625197  \n",
       "362     1.396518             235.820663          15.999634  \n",
       "363     0.280685             216.865317           6.932299  \n",
       "364     4.061312             171.522467          18.004751  \n",
       "\n",
       "[365 rows x 7 columns]"
      ]
     },
     "execution_count": 167,
     "metadata": {},
     "output_type": "execute_result"
    }
   ],
   "source": [
    "RanWeatherData"
   ]
  },
  {
   "cell_type": "markdown",
   "metadata": {},
   "source": [
    "** Comparison of Original Data and Random Generated Data** \n",
    "\n",
    "To compare and contrast the original Cork Airport weather data and the random generated data, I will generate box plots to compare and contrast the data sets. The box plot will allow a standardized way of displaying the distribution of the data based on five descriptive statistics, namely minimum value, first quartile, median value, third quartile, and maximum value. "
   ]
  },
  {
   "cell_type": "code",
   "execution_count": 113,
   "metadata": {},
   "outputs": [
    {
     "data": {
      "text/plain": [
       "([<matplotlib.axis.XTick at 0x1a9d011f908>,\n",
       "  <matplotlib.axis.XTick at 0x1a9d00b0a20>],\n",
       " <a list of 2 Text xticklabel objects>)"
      ]
     },
     "execution_count": 113,
     "metadata": {},
     "output_type": "execute_result"
    }
   ],
   "source": [
    "plt.subplot(1,2,1)\n",
    "MaxTempBoxPlot=[RandMaxTemp, MaxTemp]\n",
    "plt.title(\"Max Temperature Comparison\")\n",
    "plt.boxplot(MaxTempBoxPlot)\n",
    "plt.xlabel('Data Points')\n",
    "plt.ylabel('Temperature')\n",
    "plt.xticks([1, 2], ['RandMaxTemp', 'MaxTemp'])"
   ]
  },
  {
   "cell_type": "code",
   "execution_count": 114,
   "metadata": {
    "scrolled": true
   },
   "outputs": [
    {
     "data": {
      "image/png": "[encoded data removed]",
      "text/plain": [
       "<matplotlib.figure.Figure at 0x1a9d0098ef0>"
      ]
     },
     "metadata": {},
     "output_type": "display_data"
    }
   ],
   "source": [
    "plt.subplot(1,2,2)\n",
    "MinTempBoxPlot=[RandMinTemp, MinTemp]\n",
    "plt.title(\"Min Temperature Comparison\")\n",
    "plt.boxplot(MinTempBoxPlot)\n",
    "plt.xlabel('Data Points')\n",
    "plt.ylabel('Temperature')\n",
    "plt.xticks([1, 2], ['RandMinTemp', 'MinTemp'])\n",
    "plt.show()"
   ]
  },
  {
   "cell_type": "code",
   "execution_count": 127,
   "metadata": {},
   "outputs": [
    {
     "data": {
      "image/png": "[encoded data removed]",
      "text/plain": [
       "<matplotlib.figure.Figure at 0x1a9d01f36a0>"
      ]
     },
     "metadata": {},
     "output_type": "display_data"
    }
   ],
   "source": [
    "PressureBoxPlot=[RandPressure, Pressure]\n",
    "plt.title(\"Pressure Comparison\")\n",
    "plt.boxplot(PressureBoxPlot)\n",
    "plt.xlabel('Data Points')\n",
    "plt.ylabel('Pressure')\n",
    "plt.xticks([1, 2], ['Rand Pressure','Pressure cbl Hpa'])\n",
    "plt.show()"
   ]
  },
  {
   "cell_type": "code",
   "execution_count": 128,
   "metadata": {},
   "outputs": [
    {
     "data": {
      "image/png": "[encoded data removed]",
      "text/plain": [
       "<matplotlib.figure.Figure at 0x1a9d01dfa20>"
      ]
     },
     "metadata": {},
     "output_type": "display_data"
    }
   ],
   "source": [
    "RainBoxPlot=[RandRain, Rain]\n",
    "plt.title(\"Rain Comparison\")\n",
    "plt.boxplot(RainBoxPlot)\n",
    "plt.xlabel('Data Points')\n",
    "plt.ylabel('Rain')\n",
    "plt.xticks([1, 2], ['Random Rain','Rain'])\n",
    "plt.show()"
   ]
  },
  {
   "cell_type": "code",
   "execution_count": 131,
   "metadata": {},
   "outputs": [
    {
     "data": {
      "image/png": "[encoded data removed]",
      "text/plain": [
       "<matplotlib.figure.Figure at 0x1a9d02b5240>"
      ]
     },
     "metadata": {},
     "output_type": "display_data"
    }
   ],
   "source": [
    "WindSpeedBoxPlot=[RandWindSpeed, WindSpeed]\n",
    "plt.title(\"Wind Speed Comparison\")\n",
    "plt.boxplot(WindSpeedBoxPlot)\n",
    "plt.xlabel('Data Points')\n",
    "plt.ylabel('Wind Speed')\n",
    "plt.xticks([1, 2], ['Random Wind Speed','Wind Speed'])\n",
    "plt.show()"
   ]
  },
  {
   "cell_type": "code",
   "execution_count": 132,
   "metadata": {},
   "outputs": [
    {
     "data": {
      "image/png": "[encoded data removed]",
      "text/plain": [
       "<matplotlib.figure.Figure at 0x1a9d01f7c50>"
      ]
     },
     "metadata": {},
     "output_type": "display_data"
    }
   ],
   "source": [
    "WindDirectionBoxPlot=[RandWindDir, WindDirection]\n",
    "plt.title(\"Wind Direction Comparison\")\n",
    "plt.boxplot(WindDirectionBoxPlot)\n",
    "plt.xlabel('Data Points')\n",
    "plt.ylabel('Wind Direction')\n",
    "plt.xticks([1, 2], ['Random Wind Direction','Wind Direction'])\n",
    "plt.show()"
   ]
  },
  {
   "cell_type": "markdown",
   "metadata": {
    "collapsed": true
   },
   "source": [
    "**Box Plot Comparison Results**\n",
    "\n",
    "As can be seen from the box plots the random data generated for the majority of the weather variables mimick the distribution of the Cork Airport weather data, except for Wind Direction. Possibly the incorrect distribution for generating the Wind Direction random data was selected and this would explain the differences in the random data generated. As can be seen from the box plot the random data is right skewed while the airport data is left skewed, which indicates opposing distributions."
   ]
  },
  {
   "cell_type": "markdown",
   "metadata": {},
   "source": [
    "**Generation of Scatter Plots**\n",
    "\n",
    "To use PearsonR correlation analysis tool a fundamental requirement is that the data is linear. I will now generate scatter plots for each of the random data weather variables to graphically display the data sets.  "
   ]
  },
  {
   "cell_type": "code",
   "execution_count": 172,
   "metadata": {},
   "outputs": [
    {
     "data": {
      "image/png": "[encoded data removed]",
      "text/plain": [
       "<matplotlib.figure.Figure at 0x1a9d03b8e10>"
      ]
     },
     "metadata": {},
     "output_type": "display_data"
    }
   ],
   "source": [
    "plt.scatter(DayNumber,RandMaxTemp, s=100, marker=(5, 2))\n",
    "plt.title('Scatter Plot of Random Data Max Temperature')\n",
    "plt.xlabel('Day Number')\n",
    "plt.ylabel('Temperature')\n",
    "plt.show()"
   ]
  },
  {
   "cell_type": "code",
   "execution_count": 171,
   "metadata": {},
   "outputs": [
    {
     "data": {
      "image/png": "[encoded data removed]",
      "text/plain": [
       "<matplotlib.figure.Figure at 0x1a9d03a24a8>"
      ]
     },
     "metadata": {},
     "output_type": "display_data"
    }
   ],
   "source": [
    "plt.scatter(DayNumber,RandMinTemp, s=100, marker=(5, 2))\n",
    "plt.title('Scatter Plot of Random Data Min Temperature')\n",
    "plt.xlabel('Day Number')\n",
    "plt.ylabel('Temperature')\n",
    "plt.show()"
   ]
  },
  {
   "cell_type": "code",
   "execution_count": 173,
   "metadata": {},
   "outputs": [
    {
     "data": {
      "image/png": "[encoded data removed]",
      "text/plain": [
       "<matplotlib.figure.Figure at 0x1a9d024ec88>"
      ]
     },
     "metadata": {},
     "output_type": "display_data"
    }
   ],
   "source": [
    "plt.scatter(DayNumber,RandPressure, s=100, marker=(5, 2))\n",
    "plt.title('Scatter Plot of Random Data Atmospheric Pressure')\n",
    "plt.xlabel('Day Number')\n",
    "plt.ylabel('Pressure cbl Hpa')\n",
    "plt.show()"
   ]
  },
  {
   "cell_type": "code",
   "execution_count": 174,
   "metadata": {},
   "outputs": [
    {
     "data": {
      "image/png": "[encoded data removed]",
      "text/plain": [
       "<matplotlib.figure.Figure at 0x1a9d02ebc88>"
      ]
     },
     "metadata": {},
     "output_type": "display_data"
    }
   ],
   "source": [
    "plt.scatter(DayNumber,RandRain, s=100, marker=(5, 2))\n",
    "plt.title('Scatter Plot of Random Data Percipitation')\n",
    "plt.xlabel('Day Number')\n",
    "plt.ylabel('Rain Fall mm')\n",
    "plt.show()"
   ]
  },
  {
   "cell_type": "code",
   "execution_count": 175,
   "metadata": {},
   "outputs": [
    {
     "data": {
      "image/png": "[encoded data removed]",
      "text/plain": [
       "<matplotlib.figure.Figure at 0x1a9d0337198>"
      ]
     },
     "metadata": {},
     "output_type": "display_data"
    }
   ],
   "source": [
    "plt.scatter(DayNumber,RandWindSpeed, s=100, marker=(5, 2))\n",
    "plt.title('Scatter Plot of Random Data Wind Speed')\n",
    "plt.xlabel('Day Number')\n",
    "plt.ylabel('Wind Speed knots')\n",
    "plt.show()"
   ]
  },
  {
   "cell_type": "code",
   "execution_count": 176,
   "metadata": {},
   "outputs": [
    {
     "data": {
      "image/png": "[encoded data removed]",
      "text/plain": [
       "<matplotlib.figure.Figure at 0x1a9d0590518>"
      ]
     },
     "metadata": {},
     "output_type": "display_data"
    }
   ],
   "source": [
    "plt.scatter(DayNumber,RandWindDir, s=100, marker=(5, 2))\n",
    "plt.title('Scatter Plot of Random Data Wind Direction')\n",
    "plt.xlabel('Day Number')\n",
    "plt.ylabel('Wind Direction degrees')\n",
    "plt.show()"
   ]
  },
  {
   "cell_type": "code",
   "execution_count": null,
   "metadata": {
    "collapsed": true
   },
   "outputs": [],
   "source": []
  }
 ],
 "metadata": {
  "kernelspec": {
   "display_name": "Python 3",
   "language": "python",
   "name": "python3"
  },
  "language_info": {
   "codemirror_mode": {
    "name": "ipython",
    "version": 3
   },
   "file_extension": ".py",
   "mimetype": "text/x-python",
   "name": "python",
   "nbconvert_exporter": "python",
   "pygments_lexer": "ipython3",
   "version": "3.6.3"
  }
 },
 "nbformat": 4,
 "nbformat_minor": 2
}
