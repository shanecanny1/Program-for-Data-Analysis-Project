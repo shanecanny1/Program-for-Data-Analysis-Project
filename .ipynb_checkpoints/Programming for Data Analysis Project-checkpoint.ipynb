{
 "cells": [
  {
   "cell_type": "markdown",
   "metadata": {},
   "source": [
    "## Programming for Data Analysis Project\n",
    "\n"
   ]
  },
  {
   "cell_type": "markdown",
   "metadata": {},
   "source": [
    "** Introduction**"
   ]
  },
  {
   "cell_type": "markdown",
   "metadata": {},
   "source": [
    "The weather, the obsession of all Irish adults. From a conversation starter to the dreaded threat of weddings and summer bar-be-cues.\n",
    "\n",
    "Meteireann has the dubious task of trying to give accurate and timely forecasts for the nation, while more often than not being the butt of the joke due to each individual taking a wholistic forecast as a personal gaurantee of weather certainty.\n",
    "\n",
    "The following project is going to analyse the percipitation (Rain Fall) from the Cork Airport weather station in County Cork under the following headings;\n",
    "\n",
    "- Date\n",
    "- Percipitation Amount (mm)\n",
    "- Maximum Air Temperature (C)\n",
    "- Minimum Air Temperature (C)\n",
    "- Mean Wind Speed (Knot)\n",
    "- Wind Direction at Max 10 min Mean (deg)\n",
    "- Mean CBL Pressure (hpa)\n"
   ]
  },
  {
   "cell_type": "markdown",
   "metadata": {},
   "source": [
    "** Aim**\n",
    "\n",
    "The aim of this project is to explore the creation of an accurate localised weather predictor by investigating if known historical weather characterisitics have a dependency and relationship with each other.\n"
   ]
  },
  {
   "cell_type": "markdown",
   "metadata": {},
   "source": [
    "** Method **\n",
    "\n",
    "By analysing historical weather data and its associated characteristics in relation to percipitation amount it is proposed that if the correct weather characteristics and data for the local area are entered into the model i.e. Ballincollig, County Cork, an accurate determination if percipition (rain) is forecast for your locality will be determined.\n",
    "\n",
    "As the Cork Airport weather station is the closest weather station with enough variable data to create a model it was used to gather historical data points.\n",
    "\n",
    "For the purpose of this project random data will be generated using numpy.random to generate a data sets to mimick the characteristics of the variables taken from the Cork Airport weather station. i.e.\n",
    "\n",
    "- Date\n",
    "- Percipitation Amount (mm)\n",
    "- Maximum Air Temperature (C)\n",
    "- Minimum Air Temperature (C)\n",
    "- Mean Wind Speed (Knot)\n",
    "- Wind Direction at Max 10 min Mean (deg)\n",
    "- Mean CBL Pressure (hpa)\n"
   ]
  },
  {
   "cell_type": "code",
   "execution_count": 91,
   "metadata": {
    "collapsed": true
   },
   "outputs": [],
   "source": [
    "import pandas as pd"
   ]
  },
  {
   "cell_type": "code",
   "execution_count": 92,
   "metadata": {
    "collapsed": true
   },
   "outputs": [],
   "source": [
    "import numpy as np"
   ]
  },
  {
   "cell_type": "code",
   "execution_count": 93,
   "metadata": {
    "collapsed": true
   },
   "outputs": [],
   "source": [
    "import matplotlib.pyplot as plt"
   ]
  },
  {
   "cell_type": "code",
   "execution_count": 94,
   "metadata": {
    "collapsed": true
   },
   "outputs": [],
   "source": [
    "from scipy.stats import kurtosis, skew"
   ]
  },
  {
   "cell_type": "code",
   "execution_count": 95,
   "metadata": {},
   "outputs": [
    {
     "name": "stdout",
     "output_type": "stream",
     "text": [
      "          Date  MaxTemp  MinTemp  Rain (mm)  Pressure cbl (Hpa)  \\\n",
      "0    31-Oct-17     12.3     10.0        0.0              1003.7   \n",
      "1    01-Nov-17     12.6      7.8        0.0               998.5   \n",
      "2    02-Nov-17     12.8      7.8        0.2               997.4   \n",
      "3    03-Nov-17     10.0      7.3        0.0               992.5   \n",
      "4    04-Nov-17      9.4      3.4        2.4               991.3   \n",
      "5    05-Nov-17      9.8      4.0        1.1              1000.5   \n",
      "6    06-Nov-17     11.5      5.6       10.6               997.8   \n",
      "7    07-Nov-17      9.7      3.0        2.5               997.2   \n",
      "8    08-Nov-17     10.5      4.0        0.1              1005.2   \n",
      "9    09-Nov-17     12.2      8.7        0.8              1006.8   \n",
      "10   10-Nov-17     12.1      9.2        0.7              1002.6   \n",
      "11   11-Nov-17     14.1      7.3        4.3               995.2   \n",
      "12   12-Nov-17      8.6      2.6        0.0              1002.6   \n",
      "13   13-Nov-17     10.2      2.6        0.0              1007.2   \n",
      "14   14-Nov-17     13.1      9.6        0.3              1003.2   \n",
      "15   15-Nov-17     11.1      8.6        2.3              1002.3   \n",
      "16   16-Nov-17     10.6      4.3        0.2              1005.5   \n",
      "17   17-Nov-17      8.4      3.1        0.3              1009.3   \n",
      "18   18-Nov-17     13.4      7.9        1.6              1005.2   \n",
      "19   19-Nov-17     11.0      7.1        2.0              1000.7   \n",
      "20   20-Nov-17     13.4     11.0        1.7               994.5   \n",
      "21   21-Nov-17     13.1     10.6       14.4               985.5   \n",
      "22   22-Nov-17     12.9      3.0       21.6               970.5   \n",
      "23   23-Nov-17      9.0      1.9        0.1               977.8   \n",
      "24   24-Nov-17      6.4      0.9        2.1               993.0   \n",
      "25   25-Nov-17      5.0      0.6        0.6              1003.2   \n",
      "26   26-Nov-17      9.7      2.3        0.7              1004.3   \n",
      "27   27-Nov-17     10.2      4.3        4.0               998.0   \n",
      "28   28-Nov-17      6.1      1.8        0.1               997.8   \n",
      "29   29-Nov-17      5.2      0.8        0.0              1001.2   \n",
      "..         ...      ...      ...        ...                 ...   \n",
      "336  02-Oct-18     18.1     11.4        0.0              1006.9   \n",
      "337  03-Oct-18     15.5     10.4        0.2              1007.7   \n",
      "338  04-Oct-18     14.9     11.4        2.8              1001.5   \n",
      "339  05-Oct-18     11.4      6.6        0.4               996.6   \n",
      "340  06-Oct-18     11.9      5.0        0.0              1000.8   \n",
      "341  07-Oct-18     13.4      3.1        0.0              1002.3   \n",
      "342  08-Oct-18     13.9     11.6        0.3               996.2   \n",
      "343  09-Oct-18     15.2     12.0        0.0               992.2   \n",
      "344  10-Oct-18     16.9     12.2        0.0               983.2   \n",
      "345  11-Oct-18     14.1     10.1        9.7               972.3   \n",
      "346  12-Oct-18     13.9     10.4       18.3               972.8   \n",
      "347  13-Oct-18     13.2      7.8       18.4               982.3   \n",
      "348  14-Oct-18     12.3      5.6        0.0               990.5   \n",
      "349  15-Oct-18     13.3      5.2        0.0               994.0   \n",
      "350  16-Oct-18     15.5      7.0        1.4               993.5   \n",
      "351  17-Oct-18     13.1      5.8        0.4              1002.6   \n",
      "352  18-Oct-18     12.5      4.6        0.1              1007.9   \n",
      "353  19-Oct-18     13.8      8.1        0.0              1006.4   \n",
      "354  20-Oct-18     13.5     10.1        0.2              1009.5   \n",
      "355  21-Oct-18     13.2      5.8        0.6              1013.2   \n",
      "356  22-Oct-18     12.6      4.5        0.0              1020.9   \n",
      "357  23-Oct-18     15.3      6.5        0.0              1018.3   \n",
      "358  24-Oct-18     12.9      7.3        0.0              1013.0   \n",
      "359  25-Oct-18     13.1      8.3        0.0              1005.5   \n",
      "360  26-Oct-18      9.2      4.0        0.3              1002.3   \n",
      "361  27-Oct-18      6.9      1.2        0.1              1004.9   \n",
      "362  28-Oct-18      8.7      0.3        0.0              1003.1   \n",
      "363  29-Oct-18      8.4      2.6        2.0               989.4   \n",
      "364  30-Oct-18     10.1      4.0        6.0               979.9   \n",
      "365  31-Oct-18     11.2      3.7        0.4               983.0   \n",
      "\n",
      "     WindSpeed (Knots)  Wind Direction (deg)  \n",
      "0                  9.2                   220  \n",
      "1                  3.8                   180  \n",
      "2                  4.1                   340  \n",
      "3                  3.1                   260  \n",
      "4                 10.2                   300  \n",
      "5                  7.8                   320  \n",
      "6                 12.5                   200  \n",
      "7                  9.1                   330  \n",
      "8                  5.9                   300  \n",
      "9                  9.9                   310  \n",
      "10                11.8                   300  \n",
      "11                13.0                   280  \n",
      "12                11.8                   330  \n",
      "13                 6.6                   230  \n",
      "14                 6.1                   230  \n",
      "15                 5.4                   200  \n",
      "16                 8.2                   330  \n",
      "17                 3.5                   220  \n",
      "18                 6.5                   260  \n",
      "19                 8.1                   210  \n",
      "20                10.9                   230  \n",
      "21                 9.9                   220  \n",
      "22                13.5                   200  \n",
      "23                 9.2                   240  \n",
      "24                 7.6                   330  \n",
      "25                 9.8                   300  \n",
      "26                10.2                   240  \n",
      "27                11.8                   240  \n",
      "28                11.0                   340  \n",
      "29                11.5                   340  \n",
      "..                 ...                   ...  \n",
      "336               10.6                   300  \n",
      "337                6.5                   220  \n",
      "338                7.7                   200  \n",
      "339               10.8                   330  \n",
      "340                9.0                   350  \n",
      "341                9.5                   230  \n",
      "342               15.5                   210  \n",
      "343               14.6                   210  \n",
      "344               16.8                   140  \n",
      "345               13.8                   140  \n",
      "346               13.9                   150  \n",
      "347                7.9                   320  \n",
      "348                4.1                   300  \n",
      "349                6.0                    30  \n",
      "350                8.2                   200  \n",
      "351                8.0                   350  \n",
      "352                5.3                   340  \n",
      "353                5.1                   220  \n",
      "354                6.4                   210  \n",
      "355               11.8                   320  \n",
      "356                7.3                   340  \n",
      "357               10.0                   330  \n",
      "358               13.1                   330  \n",
      "359                9.2                   330  \n",
      "360               13.5                   330  \n",
      "361               12.5                   360  \n",
      "362                9.0                   330  \n",
      "363                8.3                   140  \n",
      "364                4.6                   160  \n",
      "365                4.5                   220  \n",
      "\n",
      "[366 rows x 7 columns]\n"
     ]
    }
   ],
   "source": [
    "df = pd.read_csv('C://Users//Shane//Desktop//GMIT//meteireann//CorkAirportDataone.txt')\n",
    "print(df)"
   ]
  },
  {
   "cell_type": "markdown",
   "metadata": {},
   "source": [
    "** Summary Descriptive Statistics for the Data Frame**\n",
    "\n",
    "To generate random data to match the characteristics of the cork airport weather data I first need to determine the descriptive statistics for the data set. To generate a randm data set that closely aligns to the cork airport data set I am going to calculate the following statistical parameters.\n",
    "\n",
    "- Mean\n",
    "- Standard Deviation (std)\n",
    "- Skewness\n",
    "- Kurtosis"
   ]
  },
  {
   "cell_type": "code",
   "execution_count": 96,
   "metadata": {},
   "outputs": [
    {
     "name": "stdout",
     "output_type": "stream",
     "text": [
      "Cork Airport Data Mean Results\n"
     ]
    },
    {
     "data": {
      "text/plain": [
       "MaxTemp                  13.301366\n",
       "MinTemp                   6.671858\n",
       "Rain (mm)                 2.960929\n",
       "Pressure cbl (Hpa)      995.120765\n",
       "WindSpeed (Knots)         9.370219\n",
       "Wind Direction (deg)    228.415301\n",
       "dtype: float64"
      ]
     },
     "execution_count": 96,
     "metadata": {},
     "output_type": "execute_result"
    }
   ],
   "source": [
    "print (\"Cork Airport Data Mean Results\")\n",
    "df.mean()"
   ]
  },
  {
   "cell_type": "code",
   "execution_count": 97,
   "metadata": {},
   "outputs": [
    {
     "name": "stdout",
     "output_type": "stream",
     "text": [
      "Cork Airport Data Standard Deviation Results\n"
     ]
    },
    {
     "data": {
      "text/plain": [
       "MaxTemp                  5.517347\n",
       "MinTemp                  4.669434\n",
       "Rain (mm)                5.256508\n",
       "Pressure cbl (Hpa)      11.382705\n",
       "WindSpeed (Knots)        3.611673\n",
       "Wind Direction (deg)    89.321351\n",
       "dtype: float64"
      ]
     },
     "execution_count": 97,
     "metadata": {},
     "output_type": "execute_result"
    }
   ],
   "source": [
    "print (\"Cork Airport Data Standard Deviation Results\")\n",
    "df.std()"
   ]
  },
  {
   "cell_type": "code",
   "execution_count": 98,
   "metadata": {},
   "outputs": [
    {
     "name": "stdout",
     "output_type": "stream",
     "text": [
      "Cork Airport Data Skewness Results\n"
     ]
    },
    {
     "data": {
      "text/plain": [
       "MaxTemp                 0.175570\n",
       "MinTemp                -0.028819\n",
       "Rain (mm)               2.597616\n",
       "Pressure cbl (Hpa)     -0.594056\n",
       "WindSpeed (Knots)       0.694846\n",
       "Wind Direction (deg)   -0.609418\n",
       "dtype: float64"
      ]
     },
     "execution_count": 98,
     "metadata": {},
     "output_type": "execute_result"
    }
   ],
   "source": [
    "print (\"Cork Airport Data Skewness Results\")\n",
    "df.skew()"
   ]
  },
  {
   "cell_type": "code",
   "execution_count": 99,
   "metadata": {},
   "outputs": [
    {
     "name": "stdout",
     "output_type": "stream",
     "text": [
      "Cork Airport Data Kurtosis Results\n"
     ]
    },
    {
     "data": {
      "text/plain": [
       "MaxTemp                -0.538643\n",
       "MinTemp                -0.809285\n",
       "Rain (mm)               7.324231\n",
       "Pressure cbl (Hpa)      0.033814\n",
       "WindSpeed (Knots)       0.133744\n",
       "Wind Direction (deg)   -0.338251\n",
       "dtype: float64"
      ]
     },
     "execution_count": 99,
     "metadata": {},
     "output_type": "execute_result"
    }
   ],
   "source": [
    "print (\"Cork Airport Data Kurtosis Results\")\n",
    "df.kurtosis()"
   ]
  },
  {
   "cell_type": "code",
   "execution_count": 100,
   "metadata": {},
   "outputs": [
    {
     "name": "stdout",
     "output_type": "stream",
     "text": [
      "Cork Airport Data Min Results\n"
     ]
    },
    {
     "data": {
      "text/plain": [
       "Date                    01-Apr-18\n",
       "MaxTemp                      -1.8\n",
       "MinTemp                        -7\n",
       "Rain (mm)                       0\n",
       "Pressure cbl (Hpa)          963.3\n",
       "WindSpeed (Knots)             2.8\n",
       "Wind Direction (deg)            0\n",
       "dtype: object"
      ]
     },
     "execution_count": 100,
     "metadata": {},
     "output_type": "execute_result"
    }
   ],
   "source": [
    "print (\"Cork Airport Data Min Results\")\n",
    "df.min()"
   ]
  },
  {
   "cell_type": "code",
   "execution_count": 101,
   "metadata": {},
   "outputs": [
    {
     "name": "stdout",
     "output_type": "stream",
     "text": [
      "Cork Airport Data Max Results\n"
     ]
    },
    {
     "data": {
      "text/plain": [
       "Date                    31-Oct-18\n",
       "MaxTemp                      26.7\n",
       "MinTemp                      16.5\n",
       "Rain (mm)                      31\n",
       "Pressure cbl (Hpa)         1020.9\n",
       "WindSpeed (Knots)            23.8\n",
       "Wind Direction (deg)          360\n",
       "dtype: object"
      ]
     },
     "execution_count": 101,
     "metadata": {},
     "output_type": "execute_result"
    }
   ],
   "source": [
    "print (\"Cork Airport Data Max Results\")\n",
    "df.max()"
   ]
  },
  {
   "cell_type": "code",
   "execution_count": 102,
   "metadata": {},
   "outputs": [
    {
     "name": "stdout",
     "output_type": "stream",
     "text": [
      "Cork Airport Data Median Results\n"
     ]
    },
    {
     "data": {
      "text/plain": [
       "MaxTemp                  12.60\n",
       "MinTemp                   6.75\n",
       "Rain (mm)                 0.40\n",
       "Pressure cbl (Hpa)      996.85\n",
       "WindSpeed (Knots)         8.90\n",
       "Wind Direction (deg)    230.00\n",
       "dtype: float64"
      ]
     },
     "execution_count": 102,
     "metadata": {},
     "output_type": "execute_result"
    }
   ],
   "source": [
    "print (\"Cork Airport Data Median Results\")\n",
    "df.median()"
   ]
  },
  {
   "cell_type": "code",
   "execution_count": 103,
   "metadata": {},
   "outputs": [
    {
     "data": {
      "image/png": "[encoded data removed]",
      "text/plain": [
       "<matplotlib.figure.Figure at 0x207ca383cc0>"
      ]
     },
     "metadata": {},
     "output_type": "display_data"
    }
   ],
   "source": [
    "plt.hist(df.loc[:,\"MinTemp\"])\n",
    "plt.title(\"Cork Airport Min Temperature\")\n",
    "plt.xlabel(\"Qty\")\n",
    "plt.ylabel(\"Temperature\")\n",
    "plt.show()"
   ]
  },
  {
   "cell_type": "markdown",
   "metadata": {},
   "source": [
    "** Defining Each Column Within the Cork Airport Data Frame**\n",
    "\n",
    "To compare the data and graphs of the Cork airport data and the randomly generated data I will define each column within the data frame so it can be graphed. I will use the iloc function to define each column of data so they can be plotted on as subplots on bar chart graphs."
   ]
  },
  {
   "cell_type": "code",
   "execution_count": 104,
   "metadata": {},
   "outputs": [
    {
     "data": {
      "text/plain": [
       "Text(0,0.5,'Temperature')"
      ]
     },
     "execution_count": 104,
     "metadata": {},
     "output_type": "execute_result"
    }
   ],
   "source": [
    "plt.subplot(2,3,1)\n",
    "MaxTemp=df.iloc[0:365,1]\n",
    "plt.hist(MaxTemp)\n",
    "plt.title(\"MaxTemp\")\n",
    "plt.xlabel(\"Qty\")\n",
    "plt.ylabel(\"Temperature\")"
   ]
  },
  {
   "cell_type": "code",
   "execution_count": 105,
   "metadata": {},
   "outputs": [
    {
     "data": {
      "text/plain": [
       "Text(0,0.5,'Temperature')"
      ]
     },
     "execution_count": 105,
     "metadata": {},
     "output_type": "execute_result"
    }
   ],
   "source": [
    "plt.subplot(2,3,2)\n",
    "MinTemp=df.iloc[0:365,2]\n",
    "plt.hist(MinTemp)\n",
    "plt.title(\"MinTemp\")\n",
    "plt.xlabel(\"Qty\")\n",
    "plt.ylabel(\"Temperature\")"
   ]
  },
  {
   "cell_type": "code",
   "execution_count": 106,
   "metadata": {},
   "outputs": [
    {
     "data": {
      "text/plain": [
       "Text(0,0.5,'Volume')"
      ]
     },
     "execution_count": 106,
     "metadata": {},
     "output_type": "execute_result"
    }
   ],
   "source": [
    "plt.subplot(2,3,3)\n",
    "Rain=df.iloc[0:365,3]\n",
    "plt.hist(Rain)\n",
    "plt.title(\"Percipitation (mm)\")\n",
    "plt.xlabel(\"Qty\")\n",
    "plt.ylabel(\"Volume\")"
   ]
  },
  {
   "cell_type": "code",
   "execution_count": 107,
   "metadata": {},
   "outputs": [
    {
     "data": {
      "text/plain": [
       "Text(0,0.5,'Pressure')"
      ]
     },
     "execution_count": 107,
     "metadata": {},
     "output_type": "execute_result"
    }
   ],
   "source": [
    "plt.subplot(2,3,4)\n",
    "Pressure=df.iloc[0:365,4]\n",
    "plt.hist(Pressure)\n",
    "plt.title(\"Pressure (Hpa)\")\n",
    "plt.xlabel(\"Qty\")\n",
    "plt.ylabel(\"Pressure\")"
   ]
  },
  {
   "cell_type": "code",
   "execution_count": 108,
   "metadata": {},
   "outputs": [
    {
     "data": {
      "text/plain": [
       "Text(0,0.5,'Speed Knots')"
      ]
     },
     "execution_count": 108,
     "metadata": {},
     "output_type": "execute_result"
    }
   ],
   "source": [
    "plt.subplot(2,3,5)\n",
    "WindSpeed=df.iloc[0:365,5]\n",
    "plt.hist(WindSpeed)\n",
    "plt.title(\"Wind Speed (knots)\")\n",
    "plt.xlabel(\"Qty\")\n",
    "plt.ylabel(\"Speed Knots\")"
   ]
  },
  {
   "cell_type": "code",
   "execution_count": 109,
   "metadata": {},
   "outputs": [
    {
     "data": {
      "text/plain": [
       "Text(0,0.5,'Wind Direction (deg)')"
      ]
     },
     "execution_count": 109,
     "metadata": {},
     "output_type": "execute_result"
    }
   ],
   "source": [
    "plt.subplot(2,3,6)\n",
    "WindDirection=df.iloc[0:365,6]\n",
    "plt.hist(WindDirection)\n",
    "plt.title(\"Wind Direction (deg)\")\n",
    "plt.xlabel(\"Qty\")\n",
    "plt.ylabel(\"Wind Direction (deg)\")"
   ]
  },
  {
   "cell_type": "code",
   "execution_count": 110,
   "metadata": {},
   "outputs": [
    {
     "data": {
      "image/png": "[encoded data removed]",
      "text/plain": [
       "<matplotlib.figure.Figure at 0x207c9ef7470>"
      ]
     },
     "metadata": {},
     "output_type": "display_data"
    }
   ],
   "source": [
    "plt.show()"
   ]
  },
  {
   "cell_type": "markdown",
   "metadata": {
    "collapsed": true
   },
   "source": [
    "** Generatation of Random Data to Simulation the Cork Airport Weather Data**\n",
    "\n",
    "To analyse the data and to determine if there is any dependancies between the variables and rainfall random data will be generated who's distributions approximate the real world weather data from Cork Airport. Below we detail the distributions assigned to each of the weather variables selected and a brief justification for selecting the specific distribution for each variable.\n",
    "    \n",
    "       Weather Variable         Designation        Selected Distribution\n",
    "     - Max Temperature          RandMaxTemp        Normal Distribution\n",
    "     - Min Temperature          RandMinTemp        Normal Distribution\n",
    "     - Percipitation            RandRain           Gamma Distribution\n",
    "     - Pressure                 RandPressure       Gumbel Distribution\n",
    "     - Wind Speed               RandWindSpeed      Gumbel Distribution\n",
    "     - Wind Direction           RandWindDir        Gumbel Distribtion\n",
    "     \n",
    "As the original data visually illustrated the Max and Min temperatures displayed an approximation to the normal distribution the random data for Max and Min temperatures will be generated following the normal distribution.\n",
    "\n",
    "On review of literature it was discovered a number of distributions can be used to model percipitation amounts. As the original data set was right skewed the Gamma distribution was selected to model the random data for percipitation (Rain Fall)\n",
    "\n",
    "All other variables display extreme values and for this reason the Gumbel distributions were selected for them.\n",
    "     "
   ]
  },
  {
   "cell_type": "markdown",
   "metadata": {},
   "source": [
    "**RandMaxTemp**"
   ]
  },
  {
   "cell_type": "code",
   "execution_count": 111,
   "metadata": {},
   "outputs": [
    {
     "data": {
      "text/plain": [
       "Text(0,0.5,'Temperature')"
      ]
     },
     "execution_count": 111,
     "metadata": {},
     "output_type": "execute_result"
    }
   ],
   "source": [
    "RandMaxTemp=np.random.normal(13.301366,5.517347,365)\n",
    "plt.subplot(2,3,1)\n",
    "plt.hist(RandMaxTemp)\n",
    "plt.title(\"Daily Max Temperature\")\n",
    "plt.xlabel(\"Qty\")\n",
    "plt.ylabel(\"Temperature\")"
   ]
  },
  {
   "cell_type": "markdown",
   "metadata": {},
   "source": [
    "**RandMinTemp**"
   ]
  },
  {
   "cell_type": "code",
   "execution_count": 112,
   "metadata": {},
   "outputs": [
    {
     "data": {
      "text/plain": [
       "Text(0,0.5,'Temperature')"
      ]
     },
     "execution_count": 112,
     "metadata": {},
     "output_type": "execute_result"
    }
   ],
   "source": [
    "RandMinTemp=np.random.normal(6.671858,4.669434,365)\n",
    "plt.subplot(2,3,2)\n",
    "plt.hist(RandMinTemp)\n",
    "plt.title(\"Daily Min Temperature\")\n",
    "plt.xlabel(\"Qty\")\n",
    "plt.ylabel(\"Temperature\")"
   ]
  },
  {
   "cell_type": "markdown",
   "metadata": {},
   "source": [
    "**RandRain**"
   ]
  },
  {
   "cell_type": "code",
   "execution_count": 113,
   "metadata": {},
   "outputs": [
    {
     "data": {
      "text/plain": [
       "Text(0,0.5,'Rain mm')"
      ]
     },
     "execution_count": 113,
     "metadata": {},
     "output_type": "execute_result"
    }
   ],
   "source": [
    "RandRain = np.random.gamma(0.4, 5.256508, 365)\n",
    "plt.subplot(2,3,3)\n",
    "plt.hist(RandRain)\n",
    "plt.title(\"Daily Rain Fall\")\n",
    "plt.xlabel(\"Amount\")\n",
    "plt.ylabel(\"Rain mm\")"
   ]
  },
  {
   "cell_type": "markdown",
   "metadata": {},
   "source": [
    "**RandPressure**"
   ]
  },
  {
   "cell_type": "code",
   "execution_count": 114,
   "metadata": {},
   "outputs": [
    {
     "data": {
      "text/plain": [
       "Text(0,0.5,'Pressure Frequency Hpa')"
      ]
     },
     "execution_count": 114,
     "metadata": {},
     "output_type": "execute_result"
    }
   ],
   "source": [
    "RandPressure = np.random.gumbel(996.85, 11.382705, 365)\n",
    "plt.subplot(2,3,4)\n",
    "plt.hist(RandPressure)\n",
    "plt.title(\"Daily Pressure\")\n",
    "plt.xlabel(\"Pressure\")\n",
    "plt.ylabel(\"Pressure Frequency Hpa\")"
   ]
  },
  {
   "cell_type": "markdown",
   "metadata": {},
   "source": [
    "**RandWindSpeed**"
   ]
  },
  {
   "cell_type": "code",
   "execution_count": 115,
   "metadata": {},
   "outputs": [
    {
     "data": {
      "text/plain": [
       "Text(0,0.5,'Wind Speed Frequency Knots')"
      ]
     },
     "execution_count": 115,
     "metadata": {},
     "output_type": "execute_result"
    }
   ],
   "source": [
    "RandWindSpeed = np.random.gumbel(8.9, 3.611673, 365)\n",
    "plt.subplot(2,3,5)\n",
    "plt.hist(RandWindSpeed)\n",
    "plt.title(\"Daily Wind Speed\")\n",
    "plt.xlabel(\"Wind Speed\")\n",
    "plt.ylabel(\"Wind Speed Frequency Knots\")"
   ]
  },
  {
   "cell_type": "markdown",
   "metadata": {},
   "source": [
    "**RandWindDir**"
   ]
  },
  {
   "cell_type": "code",
   "execution_count": 116,
   "metadata": {},
   "outputs": [
    {
     "data": {
      "text/plain": [
       "Text(0,0.5,'Wind Direction Degs')"
      ]
     },
     "execution_count": 116,
     "metadata": {},
     "output_type": "execute_result"
    }
   ],
   "source": [
    "RandWindDir = np.random.gumbel(230, 89.321351, 365)\n",
    "plt.subplot(2,3,6)\n",
    "plt.hist(RandWindDir)\n",
    "plt.title(\"Daily Wind Direction\")\n",
    "plt.xlabel(\"Wind Direction\")\n",
    "plt.ylabel(\"Wind Direction Degs\")"
   ]
  },
  {
   "cell_type": "code",
   "execution_count": 117,
   "metadata": {},
   "outputs": [
    {
     "data": {
      "image/png": "[encoded data removed]",
      "text/plain": [
       "<matplotlib.figure.Figure at 0x207c9bfbc88>"
      ]
     },
     "metadata": {},
     "output_type": "display_data"
    }
   ],
   "source": [
    "plt.show()"
   ]
  },
  {
   "cell_type": "code",
   "execution_count": null,
   "metadata": {
    "collapsed": true
   },
   "outputs": [],
   "source": []
  }
 ],
 "metadata": {
  "kernelspec": {
   "display_name": "Python 3",
   "language": "python",
   "name": "python3"
  },
  "language_info": {
   "codemirror_mode": {
    "name": "ipython",
    "version": 3
   },
   "file_extension": ".py",
   "mimetype": "text/x-python",
   "name": "python",
   "nbconvert_exporter": "python",
   "pygments_lexer": "ipython3",
   "version": "3.6.3"
  }
 },
 "nbformat": 4,
 "nbformat_minor": 2
}
