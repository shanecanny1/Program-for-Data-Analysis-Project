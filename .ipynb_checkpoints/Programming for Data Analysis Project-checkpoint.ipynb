{
 "cells": [
  {
   "cell_type": "markdown",
   "metadata": {},
   "source": [
    "## Programming for Data Analysis Project\n",
    "\n"
   ]
  },
  {
   "cell_type": "markdown",
   "metadata": {},
   "source": [
    "** Introduction**"
   ]
  },
  {
   "cell_type": "markdown",
   "metadata": {},
   "source": [
    "The weather, the obsession of all Irish adults. From a conversation starter to the dreaded threat of weddings and summer bar-be-cues.\n",
    "\n",
    "Meteireann has the dubious task of trying to give accurate and timely forecasts for the nation, while more often than not being the butt of the joke due to each individual taking a wholistic forecast as a personal gaurantee of weather certainty.\n",
    "\n",
    "The following project is going to analyse the percipitation (Rain Fall) from the Cork Airport weather station in County Cork under the following headings;\n",
    "\n",
    "- Date\n",
    "- Percipitation Amount (mm)\n",
    "- Maximum Air Temperature (C)\n",
    "- Minimum Air Temperature (C)\n",
    "- Mean Wind Speed (Knot)\n",
    "- Wind Direction at Max 10 min Mean (deg)\n",
    "- Mean CBL Pressure (hpa)\n"
   ]
  },
  {
   "cell_type": "markdown",
   "metadata": {},
   "source": [
    "** Aim**\n",
    "\n",
    "The aim of this project is to explore the creation of an accurate localised weather predictor by investigating if known historical weather characterisitics have a dependency and relationship with each other.\n"
   ]
  },
  {
   "cell_type": "markdown",
   "metadata": {},
   "source": [
    "** Method **\n",
    "\n",
    "By analysing historical weather data and its associated characteristics in relation to percipitation amount it is proposed that if the correct weather characteristics and data for the local area are entered into the model i.e. Ballincollig, County Cork, an accurate determination if percipition (rain) is forecast for your locality will be determined.\n",
    "\n",
    "As the Cork Airport weather station is the closest weather station with enough variable data to create a model it was used to gather historical data points.\n",
    "\n",
    "For the purpose of this project random data will be generated using numpy.random to generate a data sets to mimick the characteristics of the variables taken from the Cork Airport weather station. i.e.\n",
    "\n",
    "- Date\n",
    "- Percipitation Amount (mm)\n",
    "- Maximum Air Temperature (C)\n",
    "- Minimum Air Temperature (C)\n",
    "- Mean Wind Speed (Knot)\n",
    "- Wind Direction at Max 10 min Mean (deg)\n",
    "- Mean CBL Pressure (hpa)\n"
   ]
  },
  {
   "cell_type": "code",
   "execution_count": 52,
   "metadata": {
    "collapsed": true
   },
   "outputs": [],
   "source": [
    "##Importing pandas library\n",
    "import pandas as pd"
   ]
  },
  {
   "cell_type": "code",
   "execution_count": 53,
   "metadata": {
    "collapsed": true
   },
   "outputs": [],
   "source": [
    "##Importing numpy library\n",
    "import numpy as np"
   ]
  },
  {
   "cell_type": "code",
   "execution_count": 54,
   "metadata": {
    "collapsed": true
   },
   "outputs": [],
   "source": [
    "##Importing matplotlib library\n",
    "import matplotlib.pyplot as plt"
   ]
  },
  {
   "cell_type": "code",
   "execution_count": 55,
   "metadata": {
    "collapsed": true
   },
   "outputs": [],
   "source": [
    "##Importing scipy library\n",
    "from scipy import stats"
   ]
  },
  {
   "cell_type": "code",
   "execution_count": 56,
   "metadata": {
    "collapsed": true
   },
   "outputs": [],
   "source": [
    "##Importing scipy stats library\n",
    "from scipy.stats import kurtosis, skew"
   ]
  },
  {
   "cell_type": "code",
   "execution_count": 57,
   "metadata": {
    "collapsed": true
   },
   "outputs": [],
   "source": [
    "## Required to prevent warning in relation to repeat label use in Matplotlib\n",
    "import warnings\n",
    "import matplotlib.cbook\n",
    "warnings.filterwarnings(\"ignore\",category=matplotlib.cbook.mplDeprecation)"
   ]
  },
  {
   "cell_type": "markdown",
   "metadata": {},
   "source": [
    "**Definition of the Data Frame**\n",
    "\n",
    "To provide clarity when further analysis is conducted and to be able to differentiate between the original and random data sets we will define the original Cork airport data frame as \"CorkAirportData\""
   ]
  },
  {
   "cell_type": "code",
   "execution_count": 58,
   "metadata": {
    "collapsed": true
   },
   "outputs": [],
   "source": [
    "## Assigning the WeatherData Frame for Cork Airort Data as \"CorkAirportData\"\n",
    "CorkAirportData = pd.read_csv('C://Users//Shane//Desktop//GMIT//meteireann//CorkAirportDataone.txt')"
   ]
  },
  {
   "cell_type": "code",
   "execution_count": 59,
   "metadata": {},
   "outputs": [
    {
     "data": {
      "text/html": [
       "<div>\n",
       "<style>\n",
       "    .dataframe thead tr:only-child th {\n",
       "        text-align: right;\n",
       "    }\n",
       "\n",
       "    .dataframe thead th {\n",
       "        text-align: left;\n",
       "    }\n",
       "\n",
       "    .dataframe tbody tr th {\n",
       "        vertical-align: top;\n",
       "    }\n",
       "</style>\n",
       "<table border=\"1\" class=\"dataframe\">\n",
       "  <thead>\n",
       "    <tr style=\"text-align: right;\">\n",
       "      <th></th>\n",
       "      <th>Date</th>\n",
       "      <th>MaxTemp</th>\n",
       "      <th>MinTemp</th>\n",
       "      <th>Rain mm</th>\n",
       "      <th>Pressure cbl Hpa</th>\n",
       "      <th>WindSpeed Knots</th>\n",
       "      <th>Wind Direction deg</th>\n",
       "    </tr>\n",
       "  </thead>\n",
       "  <tbody>\n",
       "    <tr>\n",
       "      <th>0</th>\n",
       "      <td>31-Oct-17</td>\n",
       "      <td>12.3</td>\n",
       "      <td>10.0</td>\n",
       "      <td>0.0</td>\n",
       "      <td>1003.7</td>\n",
       "      <td>9.2</td>\n",
       "      <td>220</td>\n",
       "    </tr>\n",
       "    <tr>\n",
       "      <th>1</th>\n",
       "      <td>01-Nov-17</td>\n",
       "      <td>12.6</td>\n",
       "      <td>7.8</td>\n",
       "      <td>0.0</td>\n",
       "      <td>998.5</td>\n",
       "      <td>3.8</td>\n",
       "      <td>180</td>\n",
       "    </tr>\n",
       "    <tr>\n",
       "      <th>2</th>\n",
       "      <td>02-Nov-17</td>\n",
       "      <td>12.8</td>\n",
       "      <td>7.8</td>\n",
       "      <td>0.2</td>\n",
       "      <td>997.4</td>\n",
       "      <td>4.1</td>\n",
       "      <td>340</td>\n",
       "    </tr>\n",
       "    <tr>\n",
       "      <th>3</th>\n",
       "      <td>03-Nov-17</td>\n",
       "      <td>10.0</td>\n",
       "      <td>7.3</td>\n",
       "      <td>0.0</td>\n",
       "      <td>992.5</td>\n",
       "      <td>3.1</td>\n",
       "      <td>260</td>\n",
       "    </tr>\n",
       "    <tr>\n",
       "      <th>4</th>\n",
       "      <td>04-Nov-17</td>\n",
       "      <td>9.4</td>\n",
       "      <td>3.4</td>\n",
       "      <td>2.4</td>\n",
       "      <td>991.3</td>\n",
       "      <td>10.2</td>\n",
       "      <td>300</td>\n",
       "    </tr>\n",
       "    <tr>\n",
       "      <th>5</th>\n",
       "      <td>05-Nov-17</td>\n",
       "      <td>9.8</td>\n",
       "      <td>4.0</td>\n",
       "      <td>1.1</td>\n",
       "      <td>1000.5</td>\n",
       "      <td>7.8</td>\n",
       "      <td>320</td>\n",
       "    </tr>\n",
       "    <tr>\n",
       "      <th>6</th>\n",
       "      <td>06-Nov-17</td>\n",
       "      <td>11.5</td>\n",
       "      <td>5.6</td>\n",
       "      <td>10.6</td>\n",
       "      <td>997.8</td>\n",
       "      <td>12.5</td>\n",
       "      <td>200</td>\n",
       "    </tr>\n",
       "    <tr>\n",
       "      <th>7</th>\n",
       "      <td>07-Nov-17</td>\n",
       "      <td>9.7</td>\n",
       "      <td>3.0</td>\n",
       "      <td>2.5</td>\n",
       "      <td>997.2</td>\n",
       "      <td>9.1</td>\n",
       "      <td>330</td>\n",
       "    </tr>\n",
       "    <tr>\n",
       "      <th>8</th>\n",
       "      <td>08-Nov-17</td>\n",
       "      <td>10.5</td>\n",
       "      <td>4.0</td>\n",
       "      <td>0.1</td>\n",
       "      <td>1005.2</td>\n",
       "      <td>5.9</td>\n",
       "      <td>300</td>\n",
       "    </tr>\n",
       "    <tr>\n",
       "      <th>9</th>\n",
       "      <td>09-Nov-17</td>\n",
       "      <td>12.2</td>\n",
       "      <td>8.7</td>\n",
       "      <td>0.8</td>\n",
       "      <td>1006.8</td>\n",
       "      <td>9.9</td>\n",
       "      <td>310</td>\n",
       "    </tr>\n",
       "    <tr>\n",
       "      <th>10</th>\n",
       "      <td>10-Nov-17</td>\n",
       "      <td>12.1</td>\n",
       "      <td>9.2</td>\n",
       "      <td>0.7</td>\n",
       "      <td>1002.6</td>\n",
       "      <td>11.8</td>\n",
       "      <td>300</td>\n",
       "    </tr>\n",
       "    <tr>\n",
       "      <th>11</th>\n",
       "      <td>11-Nov-17</td>\n",
       "      <td>14.1</td>\n",
       "      <td>7.3</td>\n",
       "      <td>4.3</td>\n",
       "      <td>995.2</td>\n",
       "      <td>13.0</td>\n",
       "      <td>280</td>\n",
       "    </tr>\n",
       "    <tr>\n",
       "      <th>12</th>\n",
       "      <td>12-Nov-17</td>\n",
       "      <td>8.6</td>\n",
       "      <td>2.6</td>\n",
       "      <td>0.0</td>\n",
       "      <td>1002.6</td>\n",
       "      <td>11.8</td>\n",
       "      <td>330</td>\n",
       "    </tr>\n",
       "    <tr>\n",
       "      <th>13</th>\n",
       "      <td>13-Nov-17</td>\n",
       "      <td>10.2</td>\n",
       "      <td>2.6</td>\n",
       "      <td>0.0</td>\n",
       "      <td>1007.2</td>\n",
       "      <td>6.6</td>\n",
       "      <td>230</td>\n",
       "    </tr>\n",
       "    <tr>\n",
       "      <th>14</th>\n",
       "      <td>14-Nov-17</td>\n",
       "      <td>13.1</td>\n",
       "      <td>9.6</td>\n",
       "      <td>0.3</td>\n",
       "      <td>1003.2</td>\n",
       "      <td>6.1</td>\n",
       "      <td>230</td>\n",
       "    </tr>\n",
       "    <tr>\n",
       "      <th>15</th>\n",
       "      <td>15-Nov-17</td>\n",
       "      <td>11.1</td>\n",
       "      <td>8.6</td>\n",
       "      <td>2.3</td>\n",
       "      <td>1002.3</td>\n",
       "      <td>5.4</td>\n",
       "      <td>200</td>\n",
       "    </tr>\n",
       "    <tr>\n",
       "      <th>16</th>\n",
       "      <td>16-Nov-17</td>\n",
       "      <td>10.6</td>\n",
       "      <td>4.3</td>\n",
       "      <td>0.2</td>\n",
       "      <td>1005.5</td>\n",
       "      <td>8.2</td>\n",
       "      <td>330</td>\n",
       "    </tr>\n",
       "    <tr>\n",
       "      <th>17</th>\n",
       "      <td>17-Nov-17</td>\n",
       "      <td>8.4</td>\n",
       "      <td>3.1</td>\n",
       "      <td>0.3</td>\n",
       "      <td>1009.3</td>\n",
       "      <td>3.5</td>\n",
       "      <td>220</td>\n",
       "    </tr>\n",
       "    <tr>\n",
       "      <th>18</th>\n",
       "      <td>18-Nov-17</td>\n",
       "      <td>13.4</td>\n",
       "      <td>7.9</td>\n",
       "      <td>1.6</td>\n",
       "      <td>1005.2</td>\n",
       "      <td>6.5</td>\n",
       "      <td>260</td>\n",
       "    </tr>\n",
       "    <tr>\n",
       "      <th>19</th>\n",
       "      <td>19-Nov-17</td>\n",
       "      <td>11.0</td>\n",
       "      <td>7.1</td>\n",
       "      <td>2.0</td>\n",
       "      <td>1000.7</td>\n",
       "      <td>8.1</td>\n",
       "      <td>210</td>\n",
       "    </tr>\n",
       "    <tr>\n",
       "      <th>20</th>\n",
       "      <td>20-Nov-17</td>\n",
       "      <td>13.4</td>\n",
       "      <td>11.0</td>\n",
       "      <td>1.7</td>\n",
       "      <td>994.5</td>\n",
       "      <td>10.9</td>\n",
       "      <td>230</td>\n",
       "    </tr>\n",
       "    <tr>\n",
       "      <th>21</th>\n",
       "      <td>21-Nov-17</td>\n",
       "      <td>13.1</td>\n",
       "      <td>10.6</td>\n",
       "      <td>14.4</td>\n",
       "      <td>985.5</td>\n",
       "      <td>9.9</td>\n",
       "      <td>220</td>\n",
       "    </tr>\n",
       "    <tr>\n",
       "      <th>22</th>\n",
       "      <td>22-Nov-17</td>\n",
       "      <td>12.9</td>\n",
       "      <td>3.0</td>\n",
       "      <td>21.6</td>\n",
       "      <td>970.5</td>\n",
       "      <td>13.5</td>\n",
       "      <td>200</td>\n",
       "    </tr>\n",
       "    <tr>\n",
       "      <th>23</th>\n",
       "      <td>23-Nov-17</td>\n",
       "      <td>9.0</td>\n",
       "      <td>1.9</td>\n",
       "      <td>0.1</td>\n",
       "      <td>977.8</td>\n",
       "      <td>9.2</td>\n",
       "      <td>240</td>\n",
       "    </tr>\n",
       "    <tr>\n",
       "      <th>24</th>\n",
       "      <td>24-Nov-17</td>\n",
       "      <td>6.4</td>\n",
       "      <td>0.9</td>\n",
       "      <td>2.1</td>\n",
       "      <td>993.0</td>\n",
       "      <td>7.6</td>\n",
       "      <td>330</td>\n",
       "    </tr>\n",
       "    <tr>\n",
       "      <th>25</th>\n",
       "      <td>25-Nov-17</td>\n",
       "      <td>5.0</td>\n",
       "      <td>0.6</td>\n",
       "      <td>0.6</td>\n",
       "      <td>1003.2</td>\n",
       "      <td>9.8</td>\n",
       "      <td>300</td>\n",
       "    </tr>\n",
       "    <tr>\n",
       "      <th>26</th>\n",
       "      <td>26-Nov-17</td>\n",
       "      <td>9.7</td>\n",
       "      <td>2.3</td>\n",
       "      <td>0.7</td>\n",
       "      <td>1004.3</td>\n",
       "      <td>10.2</td>\n",
       "      <td>240</td>\n",
       "    </tr>\n",
       "    <tr>\n",
       "      <th>27</th>\n",
       "      <td>27-Nov-17</td>\n",
       "      <td>10.2</td>\n",
       "      <td>4.3</td>\n",
       "      <td>4.0</td>\n",
       "      <td>998.0</td>\n",
       "      <td>11.8</td>\n",
       "      <td>240</td>\n",
       "    </tr>\n",
       "    <tr>\n",
       "      <th>28</th>\n",
       "      <td>28-Nov-17</td>\n",
       "      <td>6.1</td>\n",
       "      <td>1.8</td>\n",
       "      <td>0.1</td>\n",
       "      <td>997.8</td>\n",
       "      <td>11.0</td>\n",
       "      <td>340</td>\n",
       "    </tr>\n",
       "    <tr>\n",
       "      <th>29</th>\n",
       "      <td>29-Nov-17</td>\n",
       "      <td>5.2</td>\n",
       "      <td>0.8</td>\n",
       "      <td>0.0</td>\n",
       "      <td>1001.2</td>\n",
       "      <td>11.5</td>\n",
       "      <td>340</td>\n",
       "    </tr>\n",
       "    <tr>\n",
       "      <th>...</th>\n",
       "      <td>...</td>\n",
       "      <td>...</td>\n",
       "      <td>...</td>\n",
       "      <td>...</td>\n",
       "      <td>...</td>\n",
       "      <td>...</td>\n",
       "      <td>...</td>\n",
       "    </tr>\n",
       "    <tr>\n",
       "      <th>336</th>\n",
       "      <td>02-Oct-18</td>\n",
       "      <td>18.1</td>\n",
       "      <td>11.4</td>\n",
       "      <td>0.0</td>\n",
       "      <td>1006.9</td>\n",
       "      <td>10.6</td>\n",
       "      <td>300</td>\n",
       "    </tr>\n",
       "    <tr>\n",
       "      <th>337</th>\n",
       "      <td>03-Oct-18</td>\n",
       "      <td>15.5</td>\n",
       "      <td>10.4</td>\n",
       "      <td>0.2</td>\n",
       "      <td>1007.7</td>\n",
       "      <td>6.5</td>\n",
       "      <td>220</td>\n",
       "    </tr>\n",
       "    <tr>\n",
       "      <th>338</th>\n",
       "      <td>04-Oct-18</td>\n",
       "      <td>14.9</td>\n",
       "      <td>11.4</td>\n",
       "      <td>2.8</td>\n",
       "      <td>1001.5</td>\n",
       "      <td>7.7</td>\n",
       "      <td>200</td>\n",
       "    </tr>\n",
       "    <tr>\n",
       "      <th>339</th>\n",
       "      <td>05-Oct-18</td>\n",
       "      <td>11.4</td>\n",
       "      <td>6.6</td>\n",
       "      <td>0.4</td>\n",
       "      <td>996.6</td>\n",
       "      <td>10.8</td>\n",
       "      <td>330</td>\n",
       "    </tr>\n",
       "    <tr>\n",
       "      <th>340</th>\n",
       "      <td>06-Oct-18</td>\n",
       "      <td>11.9</td>\n",
       "      <td>5.0</td>\n",
       "      <td>0.0</td>\n",
       "      <td>1000.8</td>\n",
       "      <td>9.0</td>\n",
       "      <td>350</td>\n",
       "    </tr>\n",
       "    <tr>\n",
       "      <th>341</th>\n",
       "      <td>07-Oct-18</td>\n",
       "      <td>13.4</td>\n",
       "      <td>3.1</td>\n",
       "      <td>0.0</td>\n",
       "      <td>1002.3</td>\n",
       "      <td>9.5</td>\n",
       "      <td>230</td>\n",
       "    </tr>\n",
       "    <tr>\n",
       "      <th>342</th>\n",
       "      <td>08-Oct-18</td>\n",
       "      <td>13.9</td>\n",
       "      <td>11.6</td>\n",
       "      <td>0.3</td>\n",
       "      <td>996.2</td>\n",
       "      <td>15.5</td>\n",
       "      <td>210</td>\n",
       "    </tr>\n",
       "    <tr>\n",
       "      <th>343</th>\n",
       "      <td>09-Oct-18</td>\n",
       "      <td>15.2</td>\n",
       "      <td>12.0</td>\n",
       "      <td>0.0</td>\n",
       "      <td>992.2</td>\n",
       "      <td>14.6</td>\n",
       "      <td>210</td>\n",
       "    </tr>\n",
       "    <tr>\n",
       "      <th>344</th>\n",
       "      <td>10-Oct-18</td>\n",
       "      <td>16.9</td>\n",
       "      <td>12.2</td>\n",
       "      <td>0.0</td>\n",
       "      <td>983.2</td>\n",
       "      <td>16.8</td>\n",
       "      <td>140</td>\n",
       "    </tr>\n",
       "    <tr>\n",
       "      <th>345</th>\n",
       "      <td>11-Oct-18</td>\n",
       "      <td>14.1</td>\n",
       "      <td>10.1</td>\n",
       "      <td>9.7</td>\n",
       "      <td>972.3</td>\n",
       "      <td>13.8</td>\n",
       "      <td>140</td>\n",
       "    </tr>\n",
       "    <tr>\n",
       "      <th>346</th>\n",
       "      <td>12-Oct-18</td>\n",
       "      <td>13.9</td>\n",
       "      <td>10.4</td>\n",
       "      <td>18.3</td>\n",
       "      <td>972.8</td>\n",
       "      <td>13.9</td>\n",
       "      <td>150</td>\n",
       "    </tr>\n",
       "    <tr>\n",
       "      <th>347</th>\n",
       "      <td>13-Oct-18</td>\n",
       "      <td>13.2</td>\n",
       "      <td>7.8</td>\n",
       "      <td>18.4</td>\n",
       "      <td>982.3</td>\n",
       "      <td>7.9</td>\n",
       "      <td>320</td>\n",
       "    </tr>\n",
       "    <tr>\n",
       "      <th>348</th>\n",
       "      <td>14-Oct-18</td>\n",
       "      <td>12.3</td>\n",
       "      <td>5.6</td>\n",
       "      <td>0.0</td>\n",
       "      <td>990.5</td>\n",
       "      <td>4.1</td>\n",
       "      <td>300</td>\n",
       "    </tr>\n",
       "    <tr>\n",
       "      <th>349</th>\n",
       "      <td>15-Oct-18</td>\n",
       "      <td>13.3</td>\n",
       "      <td>5.2</td>\n",
       "      <td>0.0</td>\n",
       "      <td>994.0</td>\n",
       "      <td>6.0</td>\n",
       "      <td>30</td>\n",
       "    </tr>\n",
       "    <tr>\n",
       "      <th>350</th>\n",
       "      <td>16-Oct-18</td>\n",
       "      <td>15.5</td>\n",
       "      <td>7.0</td>\n",
       "      <td>1.4</td>\n",
       "      <td>993.5</td>\n",
       "      <td>8.2</td>\n",
       "      <td>200</td>\n",
       "    </tr>\n",
       "    <tr>\n",
       "      <th>351</th>\n",
       "      <td>17-Oct-18</td>\n",
       "      <td>13.1</td>\n",
       "      <td>5.8</td>\n",
       "      <td>0.4</td>\n",
       "      <td>1002.6</td>\n",
       "      <td>8.0</td>\n",
       "      <td>350</td>\n",
       "    </tr>\n",
       "    <tr>\n",
       "      <th>352</th>\n",
       "      <td>18-Oct-18</td>\n",
       "      <td>12.5</td>\n",
       "      <td>4.6</td>\n",
       "      <td>0.1</td>\n",
       "      <td>1007.9</td>\n",
       "      <td>5.3</td>\n",
       "      <td>340</td>\n",
       "    </tr>\n",
       "    <tr>\n",
       "      <th>353</th>\n",
       "      <td>19-Oct-18</td>\n",
       "      <td>13.8</td>\n",
       "      <td>8.1</td>\n",
       "      <td>0.0</td>\n",
       "      <td>1006.4</td>\n",
       "      <td>5.1</td>\n",
       "      <td>220</td>\n",
       "    </tr>\n",
       "    <tr>\n",
       "      <th>354</th>\n",
       "      <td>20-Oct-18</td>\n",
       "      <td>13.5</td>\n",
       "      <td>10.1</td>\n",
       "      <td>0.2</td>\n",
       "      <td>1009.5</td>\n",
       "      <td>6.4</td>\n",
       "      <td>210</td>\n",
       "    </tr>\n",
       "    <tr>\n",
       "      <th>355</th>\n",
       "      <td>21-Oct-18</td>\n",
       "      <td>13.2</td>\n",
       "      <td>5.8</td>\n",
       "      <td>0.6</td>\n",
       "      <td>1013.2</td>\n",
       "      <td>11.8</td>\n",
       "      <td>320</td>\n",
       "    </tr>\n",
       "    <tr>\n",
       "      <th>356</th>\n",
       "      <td>22-Oct-18</td>\n",
       "      <td>12.6</td>\n",
       "      <td>4.5</td>\n",
       "      <td>0.0</td>\n",
       "      <td>1020.9</td>\n",
       "      <td>7.3</td>\n",
       "      <td>340</td>\n",
       "    </tr>\n",
       "    <tr>\n",
       "      <th>357</th>\n",
       "      <td>23-Oct-18</td>\n",
       "      <td>15.3</td>\n",
       "      <td>6.5</td>\n",
       "      <td>0.0</td>\n",
       "      <td>1018.3</td>\n",
       "      <td>10.0</td>\n",
       "      <td>330</td>\n",
       "    </tr>\n",
       "    <tr>\n",
       "      <th>358</th>\n",
       "      <td>24-Oct-18</td>\n",
       "      <td>12.9</td>\n",
       "      <td>7.3</td>\n",
       "      <td>0.0</td>\n",
       "      <td>1013.0</td>\n",
       "      <td>13.1</td>\n",
       "      <td>330</td>\n",
       "    </tr>\n",
       "    <tr>\n",
       "      <th>359</th>\n",
       "      <td>25-Oct-18</td>\n",
       "      <td>13.1</td>\n",
       "      <td>8.3</td>\n",
       "      <td>0.0</td>\n",
       "      <td>1005.5</td>\n",
       "      <td>9.2</td>\n",
       "      <td>330</td>\n",
       "    </tr>\n",
       "    <tr>\n",
       "      <th>360</th>\n",
       "      <td>26-Oct-18</td>\n",
       "      <td>9.2</td>\n",
       "      <td>4.0</td>\n",
       "      <td>0.3</td>\n",
       "      <td>1002.3</td>\n",
       "      <td>13.5</td>\n",
       "      <td>330</td>\n",
       "    </tr>\n",
       "    <tr>\n",
       "      <th>361</th>\n",
       "      <td>27-Oct-18</td>\n",
       "      <td>6.9</td>\n",
       "      <td>1.2</td>\n",
       "      <td>0.1</td>\n",
       "      <td>1004.9</td>\n",
       "      <td>12.5</td>\n",
       "      <td>360</td>\n",
       "    </tr>\n",
       "    <tr>\n",
       "      <th>362</th>\n",
       "      <td>28-Oct-18</td>\n",
       "      <td>8.7</td>\n",
       "      <td>0.3</td>\n",
       "      <td>0.0</td>\n",
       "      <td>1003.1</td>\n",
       "      <td>9.0</td>\n",
       "      <td>330</td>\n",
       "    </tr>\n",
       "    <tr>\n",
       "      <th>363</th>\n",
       "      <td>29-Oct-18</td>\n",
       "      <td>8.4</td>\n",
       "      <td>2.6</td>\n",
       "      <td>2.0</td>\n",
       "      <td>989.4</td>\n",
       "      <td>8.3</td>\n",
       "      <td>140</td>\n",
       "    </tr>\n",
       "    <tr>\n",
       "      <th>364</th>\n",
       "      <td>30-Oct-18</td>\n",
       "      <td>10.1</td>\n",
       "      <td>4.0</td>\n",
       "      <td>6.0</td>\n",
       "      <td>979.9</td>\n",
       "      <td>4.6</td>\n",
       "      <td>160</td>\n",
       "    </tr>\n",
       "    <tr>\n",
       "      <th>365</th>\n",
       "      <td>31-Oct-18</td>\n",
       "      <td>11.2</td>\n",
       "      <td>3.7</td>\n",
       "      <td>0.4</td>\n",
       "      <td>983.0</td>\n",
       "      <td>4.5</td>\n",
       "      <td>220</td>\n",
       "    </tr>\n",
       "  </tbody>\n",
       "</table>\n",
       "<p>366 rows × 7 columns</p>\n",
       "</div>"
      ],
      "text/plain": [
       "          Date  MaxTemp  MinTemp  Rain mm  Pressure cbl Hpa  WindSpeed Knots  \\\n",
       "0    31-Oct-17     12.3     10.0      0.0            1003.7              9.2   \n",
       "1    01-Nov-17     12.6      7.8      0.0             998.5              3.8   \n",
       "2    02-Nov-17     12.8      7.8      0.2             997.4              4.1   \n",
       "3    03-Nov-17     10.0      7.3      0.0             992.5              3.1   \n",
       "4    04-Nov-17      9.4      3.4      2.4             991.3             10.2   \n",
       "5    05-Nov-17      9.8      4.0      1.1            1000.5              7.8   \n",
       "6    06-Nov-17     11.5      5.6     10.6             997.8             12.5   \n",
       "7    07-Nov-17      9.7      3.0      2.5             997.2              9.1   \n",
       "8    08-Nov-17     10.5      4.0      0.1            1005.2              5.9   \n",
       "9    09-Nov-17     12.2      8.7      0.8            1006.8              9.9   \n",
       "10   10-Nov-17     12.1      9.2      0.7            1002.6             11.8   \n",
       "11   11-Nov-17     14.1      7.3      4.3             995.2             13.0   \n",
       "12   12-Nov-17      8.6      2.6      0.0            1002.6             11.8   \n",
       "13   13-Nov-17     10.2      2.6      0.0            1007.2              6.6   \n",
       "14   14-Nov-17     13.1      9.6      0.3            1003.2              6.1   \n",
       "15   15-Nov-17     11.1      8.6      2.3            1002.3              5.4   \n",
       "16   16-Nov-17     10.6      4.3      0.2            1005.5              8.2   \n",
       "17   17-Nov-17      8.4      3.1      0.3            1009.3              3.5   \n",
       "18   18-Nov-17     13.4      7.9      1.6            1005.2              6.5   \n",
       "19   19-Nov-17     11.0      7.1      2.0            1000.7              8.1   \n",
       "20   20-Nov-17     13.4     11.0      1.7             994.5             10.9   \n",
       "21   21-Nov-17     13.1     10.6     14.4             985.5              9.9   \n",
       "22   22-Nov-17     12.9      3.0     21.6             970.5             13.5   \n",
       "23   23-Nov-17      9.0      1.9      0.1             977.8              9.2   \n",
       "24   24-Nov-17      6.4      0.9      2.1             993.0              7.6   \n",
       "25   25-Nov-17      5.0      0.6      0.6            1003.2              9.8   \n",
       "26   26-Nov-17      9.7      2.3      0.7            1004.3             10.2   \n",
       "27   27-Nov-17     10.2      4.3      4.0             998.0             11.8   \n",
       "28   28-Nov-17      6.1      1.8      0.1             997.8             11.0   \n",
       "29   29-Nov-17      5.2      0.8      0.0            1001.2             11.5   \n",
       "..         ...      ...      ...      ...               ...              ...   \n",
       "336  02-Oct-18     18.1     11.4      0.0            1006.9             10.6   \n",
       "337  03-Oct-18     15.5     10.4      0.2            1007.7              6.5   \n",
       "338  04-Oct-18     14.9     11.4      2.8            1001.5              7.7   \n",
       "339  05-Oct-18     11.4      6.6      0.4             996.6             10.8   \n",
       "340  06-Oct-18     11.9      5.0      0.0            1000.8              9.0   \n",
       "341  07-Oct-18     13.4      3.1      0.0            1002.3              9.5   \n",
       "342  08-Oct-18     13.9     11.6      0.3             996.2             15.5   \n",
       "343  09-Oct-18     15.2     12.0      0.0             992.2             14.6   \n",
       "344  10-Oct-18     16.9     12.2      0.0             983.2             16.8   \n",
       "345  11-Oct-18     14.1     10.1      9.7             972.3             13.8   \n",
       "346  12-Oct-18     13.9     10.4     18.3             972.8             13.9   \n",
       "347  13-Oct-18     13.2      7.8     18.4             982.3              7.9   \n",
       "348  14-Oct-18     12.3      5.6      0.0             990.5              4.1   \n",
       "349  15-Oct-18     13.3      5.2      0.0             994.0              6.0   \n",
       "350  16-Oct-18     15.5      7.0      1.4             993.5              8.2   \n",
       "351  17-Oct-18     13.1      5.8      0.4            1002.6              8.0   \n",
       "352  18-Oct-18     12.5      4.6      0.1            1007.9              5.3   \n",
       "353  19-Oct-18     13.8      8.1      0.0            1006.4              5.1   \n",
       "354  20-Oct-18     13.5     10.1      0.2            1009.5              6.4   \n",
       "355  21-Oct-18     13.2      5.8      0.6            1013.2             11.8   \n",
       "356  22-Oct-18     12.6      4.5      0.0            1020.9              7.3   \n",
       "357  23-Oct-18     15.3      6.5      0.0            1018.3             10.0   \n",
       "358  24-Oct-18     12.9      7.3      0.0            1013.0             13.1   \n",
       "359  25-Oct-18     13.1      8.3      0.0            1005.5              9.2   \n",
       "360  26-Oct-18      9.2      4.0      0.3            1002.3             13.5   \n",
       "361  27-Oct-18      6.9      1.2      0.1            1004.9             12.5   \n",
       "362  28-Oct-18      8.7      0.3      0.0            1003.1              9.0   \n",
       "363  29-Oct-18      8.4      2.6      2.0             989.4              8.3   \n",
       "364  30-Oct-18     10.1      4.0      6.0             979.9              4.6   \n",
       "365  31-Oct-18     11.2      3.7      0.4             983.0              4.5   \n",
       "\n",
       "     Wind Direction deg  \n",
       "0                   220  \n",
       "1                   180  \n",
       "2                   340  \n",
       "3                   260  \n",
       "4                   300  \n",
       "5                   320  \n",
       "6                   200  \n",
       "7                   330  \n",
       "8                   300  \n",
       "9                   310  \n",
       "10                  300  \n",
       "11                  280  \n",
       "12                  330  \n",
       "13                  230  \n",
       "14                  230  \n",
       "15                  200  \n",
       "16                  330  \n",
       "17                  220  \n",
       "18                  260  \n",
       "19                  210  \n",
       "20                  230  \n",
       "21                  220  \n",
       "22                  200  \n",
       "23                  240  \n",
       "24                  330  \n",
       "25                  300  \n",
       "26                  240  \n",
       "27                  240  \n",
       "28                  340  \n",
       "29                  340  \n",
       "..                  ...  \n",
       "336                 300  \n",
       "337                 220  \n",
       "338                 200  \n",
       "339                 330  \n",
       "340                 350  \n",
       "341                 230  \n",
       "342                 210  \n",
       "343                 210  \n",
       "344                 140  \n",
       "345                 140  \n",
       "346                 150  \n",
       "347                 320  \n",
       "348                 300  \n",
       "349                  30  \n",
       "350                 200  \n",
       "351                 350  \n",
       "352                 340  \n",
       "353                 220  \n",
       "354                 210  \n",
       "355                 320  \n",
       "356                 340  \n",
       "357                 330  \n",
       "358                 330  \n",
       "359                 330  \n",
       "360                 330  \n",
       "361                 360  \n",
       "362                 330  \n",
       "363                 140  \n",
       "364                 160  \n",
       "365                 220  \n",
       "\n",
       "[366 rows x 7 columns]"
      ]
     },
     "execution_count": 59,
     "metadata": {},
     "output_type": "execute_result"
    }
   ],
   "source": [
    "CorkAirportData"
   ]
  },
  {
   "cell_type": "markdown",
   "metadata": {},
   "source": [
    "** Summary Descriptive Statistics for the Data Frame**\n",
    "\n",
    "To generate random data to match the characteristics of the cork airport weather data I first need to determine the descriptive statistics for the data set. To generate a randm data set that closely aligns to the cork airport data set I am going to calculate the following statistical parameters.\n",
    "\n",
    "- Mean\n",
    "- Standard Deviation (std)\n",
    "- Skewness\n",
    "- Kurtosis"
   ]
  },
  {
   "cell_type": "code",
   "execution_count": 60,
   "metadata": {},
   "outputs": [
    {
     "data": {
      "text/plain": [
       "MaxTemp                13.301366\n",
       "MinTemp                 6.671858\n",
       "Rain mm                 2.960929\n",
       "Pressure cbl Hpa      995.120765\n",
       "WindSpeed Knots         9.370219\n",
       "Wind Direction deg    228.415301\n",
       "dtype: float64"
      ]
     },
     "execution_count": 60,
     "metadata": {},
     "output_type": "execute_result"
    }
   ],
   "source": [
    "##Calculating the Mean Values from the CorkAirportData Frame\n",
    "\"Mean Data\"\n",
    "CorkAirportData.mean()"
   ]
  },
  {
   "cell_type": "code",
   "execution_count": 61,
   "metadata": {},
   "outputs": [
    {
     "data": {
      "text/plain": [
       "MaxTemp                5.517347\n",
       "MinTemp                4.669434\n",
       "Rain mm                5.256508\n",
       "Pressure cbl Hpa      11.382705\n",
       "WindSpeed Knots        3.611673\n",
       "Wind Direction deg    89.321351\n",
       "dtype: float64"
      ]
     },
     "execution_count": 61,
     "metadata": {},
     "output_type": "execute_result"
    }
   ],
   "source": [
    "##Calculating the Standard Deviation Values from the CorkAirportData Frame\n",
    "CorkAirportData.std()"
   ]
  },
  {
   "cell_type": "code",
   "execution_count": 62,
   "metadata": {},
   "outputs": [
    {
     "data": {
      "text/plain": [
       "MaxTemp               0.175570\n",
       "MinTemp              -0.028819\n",
       "Rain mm               2.597616\n",
       "Pressure cbl Hpa     -0.594056\n",
       "WindSpeed Knots       0.694846\n",
       "Wind Direction deg   -0.609418\n",
       "dtype: float64"
      ]
     },
     "execution_count": 62,
     "metadata": {},
     "output_type": "execute_result"
    }
   ],
   "source": [
    "##Calculating the Skewness Values from the CorkAirportData Frame\n",
    "CorkAirportData.skew()"
   ]
  },
  {
   "cell_type": "code",
   "execution_count": 63,
   "metadata": {},
   "outputs": [
    {
     "data": {
      "text/plain": [
       "MaxTemp              -0.538643\n",
       "MinTemp              -0.809285\n",
       "Rain mm               7.324231\n",
       "Pressure cbl Hpa      0.033814\n",
       "WindSpeed Knots       0.133744\n",
       "Wind Direction deg   -0.338251\n",
       "dtype: float64"
      ]
     },
     "execution_count": 63,
     "metadata": {},
     "output_type": "execute_result"
    }
   ],
   "source": [
    "##Calculating the Kurtosis Values from the CorkAirportData Frame\n",
    "CorkAirportData.kurtosis()"
   ]
  },
  {
   "cell_type": "code",
   "execution_count": 64,
   "metadata": {},
   "outputs": [
    {
     "data": {
      "text/plain": [
       "Date                  01-Apr-18\n",
       "MaxTemp                    -1.8\n",
       "MinTemp                      -7\n",
       "Rain mm                       0\n",
       "Pressure cbl Hpa          963.3\n",
       "WindSpeed Knots             2.8\n",
       "Wind Direction deg            0\n",
       "dtype: object"
      ]
     },
     "execution_count": 64,
     "metadata": {},
     "output_type": "execute_result"
    }
   ],
   "source": [
    "##Calculating the Min Values from the CorkAirportData Frame\n",
    "CorkAirportData.min()"
   ]
  },
  {
   "cell_type": "code",
   "execution_count": 65,
   "metadata": {},
   "outputs": [
    {
     "data": {
      "text/plain": [
       "Date                  31-Oct-18\n",
       "MaxTemp                    26.7\n",
       "MinTemp                    16.5\n",
       "Rain mm                      31\n",
       "Pressure cbl Hpa         1020.9\n",
       "WindSpeed Knots            23.8\n",
       "Wind Direction deg          360\n",
       "dtype: object"
      ]
     },
     "execution_count": 65,
     "metadata": {},
     "output_type": "execute_result"
    }
   ],
   "source": [
    "##Calculating the Max Values from the CorkAirportData Frame\n",
    "CorkAirportData.max()"
   ]
  },
  {
   "cell_type": "code",
   "execution_count": 66,
   "metadata": {},
   "outputs": [
    {
     "data": {
      "text/plain": [
       "MaxTemp                12.60\n",
       "MinTemp                 6.75\n",
       "Rain mm                 0.40\n",
       "Pressure cbl Hpa      996.85\n",
       "WindSpeed Knots         8.90\n",
       "Wind Direction deg    230.00\n",
       "dtype: float64"
      ]
     },
     "execution_count": 66,
     "metadata": {},
     "output_type": "execute_result"
    }
   ],
   "source": [
    "##Calculating the Median Values from the CorkAirportData Frame\n",
    "CorkAirportData.median()"
   ]
  },
  {
   "cell_type": "markdown",
   "metadata": {},
   "source": [
    "** Defining Each Column Within the Cork Airport Data Frame**\n",
    "\n",
    "To compare the data and graphs of the Cork airport data and the randomly generated data I will define each column within the data frame so it can be graphed. I will use the iloc function to define each column of data so they can be plotted on as subplots on bar chart graphs."
   ]
  },
  {
   "cell_type": "code",
   "execution_count": 67,
   "metadata": {},
   "outputs": [
    {
     "data": {
      "text/plain": [
       "Text(0,0.5,'Temperature')"
      ]
     },
     "execution_count": 67,
     "metadata": {},
     "output_type": "execute_result"
    }
   ],
   "source": [
    "## Creating a Max Temperature Histogram of the CorkAirportData but as a Subplot\n",
    "plt.subplot(2,3,1)\n",
    "MaxTemp=CorkAirportData.iloc[0:365,1]\n",
    "plt.hist(MaxTemp)\n",
    "plt.title(\"MaxTemp\")\n",
    "plt.xlabel(\"Qty\")\n",
    "plt.ylabel(\"Temperature\")"
   ]
  },
  {
   "cell_type": "code",
   "execution_count": 68,
   "metadata": {},
   "outputs": [
    {
     "data": {
      "text/plain": [
       "Text(0,0.5,'Temperature')"
      ]
     },
     "execution_count": 68,
     "metadata": {},
     "output_type": "execute_result"
    }
   ],
   "source": [
    "## Creating a Min Temperature Histogram of the CorkAirportData but as a Subplot\n",
    "plt.subplot(2,3,2)\n",
    "MinTemp=CorkAirportData.iloc[0:365,2]\n",
    "plt.hist(MinTemp)\n",
    "plt.title(\"MinTemp\")\n",
    "plt.xlabel(\"Qty\")\n",
    "plt.ylabel(\"Temperature\")"
   ]
  },
  {
   "cell_type": "code",
   "execution_count": 69,
   "metadata": {},
   "outputs": [
    {
     "data": {
      "text/plain": [
       "Text(0,0.5,'Volume')"
      ]
     },
     "execution_count": 69,
     "metadata": {},
     "output_type": "execute_result"
    }
   ],
   "source": [
    "## Creating a Rain Histogram of the CorkAirportData but as a Subplot\n",
    "plt.subplot(2,3,3)\n",
    "Rain=CorkAirportData.iloc[0:365,3]\n",
    "plt.hist(Rain)\n",
    "plt.title(\"Percipitation (mm)\")\n",
    "plt.xlabel(\"Qty\")\n",
    "plt.ylabel(\"Volume\")"
   ]
  },
  {
   "cell_type": "code",
   "execution_count": 70,
   "metadata": {},
   "outputs": [
    {
     "data": {
      "text/plain": [
       "Text(0,0.5,'Pressure')"
      ]
     },
     "execution_count": 70,
     "metadata": {},
     "output_type": "execute_result"
    }
   ],
   "source": [
    "## Creating a Pressure Temperature Histogram of the CorkAirportData but as a Subplot\n",
    "plt.subplot(2,3,4)\n",
    "Pressure=CorkAirportData.iloc[0:365,4]\n",
    "plt.hist(Pressure)\n",
    "plt.title(\"Pressure (Hpa)\")\n",
    "plt.xlabel(\"Qty\")\n",
    "plt.ylabel(\"Pressure\")"
   ]
  },
  {
   "cell_type": "code",
   "execution_count": 71,
   "metadata": {},
   "outputs": [
    {
     "data": {
      "text/plain": [
       "Text(0,0.5,'Speed Knots')"
      ]
     },
     "execution_count": 71,
     "metadata": {},
     "output_type": "execute_result"
    }
   ],
   "source": [
    "## Creating a Wind Speed Histogram of the CorkAirportData but as a Subplot\n",
    "plt.subplot(2,3,5)\n",
    "WindSpeed=CorkAirportData.iloc[0:365,5]\n",
    "plt.hist(WindSpeed)\n",
    "plt.title(\"Wind Speed (knots)\")\n",
    "plt.xlabel(\"Qty\")\n",
    "plt.ylabel(\"Speed Knots\")"
   ]
  },
  {
   "cell_type": "code",
   "execution_count": 72,
   "metadata": {},
   "outputs": [
    {
     "data": {
      "text/plain": [
       "Text(0,0.5,'Wind Direction (deg)')"
      ]
     },
     "execution_count": 72,
     "metadata": {},
     "output_type": "execute_result"
    }
   ],
   "source": [
    "## Creating a Wind Direction Histogram of the CorkAirportData but as a Subplot\n",
    "plt.subplot(2,3,6)\n",
    "WindDirection=CorkAirportData.iloc[0:365,6]\n",
    "plt.hist(WindDirection)\n",
    "plt.title(\"Wind Direction (deg)\")\n",
    "plt.xlabel(\"Qty\")\n",
    "plt.ylabel(\"Wind Direction (deg)\")"
   ]
  },
  {
   "cell_type": "code",
   "execution_count": 73,
   "metadata": {},
   "outputs": [
    {
     "data": {
      "image/png": "[encoded data removed]",
      "text/plain": [
       "<matplotlib.figure.Figure at 0x21a62e9e9e8>"
      ]
     },
     "metadata": {},
     "output_type": "display_data"
    }
   ],
   "source": [
    "## Displaying the Subplots\n",
    "plt.show()"
   ]
  },
  {
   "cell_type": "markdown",
   "metadata": {
    "collapsed": true
   },
   "source": [
    "** Generatation of Random Data to Simulation the Cork Airport Weather Data**\n",
    "\n",
    "To analyse the data and to determine if there is any dependancies between the variables and rainfall, random data will be generated who's distributions approximate the real world weather data from Cork Airport. Below we detail the distributions assigned to each of the weather variables selected and a brief justification for selecting the specific distribution for each variable.\n",
    "    \n",
    "       Weather Variable         Designation        Selected Distribution\n",
    "     - Max Temperature          RandMaxTemp        Normal Distribution\n",
    "     - Min Temperature          RandMinTemp        Normal Distribution\n",
    "     - Percipitation            RandRain           Gamma Distribution\n",
    "     - Pressure                 RandPressure       Gumbel Distribution\n",
    "     - Wind Speed               RandWindSpeed      Gumbel Distribution\n",
    "     - Wind Direction           RandWindDir        Gumbel Distribtion\n",
    "     \n",
    "As the original data visually illustrated the Max and Min temperatures displayed an approximation to the normal distribution the random data for Max and Min temperatures will be generated following the normal distribution.\n",
    "\n",
    "On review of literature it was discovered a number of distributions can be used to model percipitation amounts. As the original data set was right skewed the Gamma distribution was selected to model the random data for percipitation (Rain Fall)\n",
    "\n",
    "All other variables display extreme values and for this reason the Gumbel distributions were selected for them.\n",
    "     "
   ]
  },
  {
   "cell_type": "markdown",
   "metadata": {},
   "source": [
    "**RandMaxTemp**"
   ]
  },
  {
   "cell_type": "code",
   "execution_count": 74,
   "metadata": {},
   "outputs": [
    {
     "data": {
      "text/plain": [
       "Text(0,0.5,'Temperature')"
      ]
     },
     "execution_count": 74,
     "metadata": {},
     "output_type": "execute_result"
    }
   ],
   "source": [
    "## Creating a Random Data Set for the Max Temp following the Normal Distribution\n",
    "RandMaxTemp=np.random.normal(13.301366,5.517347,365)\n",
    "plt.subplot(2,3,1)\n",
    "plt.hist(RandMaxTemp)\n",
    "plt.title(\"Daily Max Temperature\")\n",
    "plt.xlabel(\"Qty\")\n",
    "plt.ylabel(\"Temperature\")"
   ]
  },
  {
   "cell_type": "markdown",
   "metadata": {},
   "source": [
    "**RandMinTemp**"
   ]
  },
  {
   "cell_type": "code",
   "execution_count": 75,
   "metadata": {},
   "outputs": [
    {
     "data": {
      "text/plain": [
       "Text(0,0.5,'Temperature')"
      ]
     },
     "execution_count": 75,
     "metadata": {},
     "output_type": "execute_result"
    }
   ],
   "source": [
    "## Creating a Random Data Set for the Min Temp following the Normal Distribution\n",
    "RandMinTemp=np.random.normal(6.671858,4.669434,365)\n",
    "plt.subplot(2,3,2)\n",
    "plt.hist(RandMinTemp)\n",
    "plt.title(\"Daily Min Temperature\")\n",
    "plt.xlabel(\"Qty\")\n",
    "plt.ylabel(\"Temperature\")"
   ]
  },
  {
   "cell_type": "markdown",
   "metadata": {},
   "source": [
    "**RandRain**"
   ]
  },
  {
   "cell_type": "code",
   "execution_count": 76,
   "metadata": {},
   "outputs": [
    {
     "data": {
      "text/plain": [
       "Text(0,0.5,'Rain mm')"
      ]
     },
     "execution_count": 76,
     "metadata": {},
     "output_type": "execute_result"
    }
   ],
   "source": [
    "## Creating a Random Data Set for Rain following the Gamma Distribution\n",
    "RandRain = np.random.gamma(0.4, 5.256508, 365)\n",
    "plt.subplot(2,3,3)\n",
    "plt.hist(RandRain)\n",
    "plt.title(\"Daily Rain Fall\")\n",
    "plt.xlabel(\"Amount\")\n",
    "plt.ylabel(\"Rain mm\")"
   ]
  },
  {
   "cell_type": "markdown",
   "metadata": {},
   "source": [
    "**RandPressure**"
   ]
  },
  {
   "cell_type": "code",
   "execution_count": 77,
   "metadata": {},
   "outputs": [
    {
     "data": {
      "text/plain": [
       "Text(0,0.5,'Pressure Frequency Hpa')"
      ]
     },
     "execution_count": 77,
     "metadata": {},
     "output_type": "execute_result"
    }
   ],
   "source": [
    "## Creating a Random Data Set for Pressure following the Gumbel Distribution\n",
    "RandPressure = np.random.gumbel(996.85, 11.382705, 365)\n",
    "plt.subplot(2,3,4)\n",
    "plt.hist(RandPressure)\n",
    "plt.title(\"Daily Pressure\")\n",
    "plt.xlabel(\"Pressure\")\n",
    "plt.ylabel(\"Pressure Frequency Hpa\")"
   ]
  },
  {
   "cell_type": "markdown",
   "metadata": {},
   "source": [
    "**RandWindSpeed**"
   ]
  },
  {
   "cell_type": "code",
   "execution_count": 78,
   "metadata": {},
   "outputs": [
    {
     "data": {
      "text/plain": [
       "Text(0,0.5,'Wind Speed Frequency Knots')"
      ]
     },
     "execution_count": 78,
     "metadata": {},
     "output_type": "execute_result"
    }
   ],
   "source": [
    "## Creating a Random Data Set for Wind Speed following the Gumbel Distribution\n",
    "RandWindSpeed = np.random.gumbel(8.9, 3.611673, 365)\n",
    "plt.subplot(2,3,5)\n",
    "plt.hist(RandWindSpeed)\n",
    "plt.title(\"Daily Wind Speed\")\n",
    "plt.xlabel(\"Wind Speed\")\n",
    "plt.ylabel(\"Wind Speed Frequency Knots\")"
   ]
  },
  {
   "cell_type": "markdown",
   "metadata": {},
   "source": [
    "**RandWindDir**"
   ]
  },
  {
   "cell_type": "code",
   "execution_count": 79,
   "metadata": {},
   "outputs": [
    {
     "data": {
      "text/plain": [
       "Text(0,0.5,'Wind Direction Degs')"
      ]
     },
     "execution_count": 79,
     "metadata": {},
     "output_type": "execute_result"
    }
   ],
   "source": [
    "## Creating a Random Data Set for Wind Direction following the Gumbel Distribution\n",
    "RandWindDir = np.random.gumbel(230, 89.321351, 365)\n",
    "plt.subplot(2,3,6)\n",
    "plt.hist(RandWindDir)\n",
    "plt.title(\"Daily Wind Direction\")\n",
    "plt.xlabel(\"Wind Direction\")\n",
    "plt.ylabel(\"Wind Direction Degs\")"
   ]
  },
  {
   "cell_type": "code",
   "execution_count": 80,
   "metadata": {},
   "outputs": [
    {
     "data": {
      "image/png": "[encoded data removed]",
      "text/plain": [
       "<matplotlib.figure.Figure at 0x21a62fa8e48>"
      ]
     },
     "metadata": {},
     "output_type": "display_data"
    }
   ],
   "source": [
    "## Displaying SubPlots\n",
    "plt.show()"
   ]
  },
  {
   "cell_type": "code",
   "execution_count": 83,
   "metadata": {
    "collapsed": true
   },
   "outputs": [],
   "source": [
    "## Including a range of integers for use in the scatter plots for an \"X\" value\n",
    "DayNumber = range(1,366)"
   ]
  },
  {
   "cell_type": "markdown",
   "metadata": {},
   "source": [
    "**Random Data, Data Frame Creation**\n",
    "\n",
    "Now that we have created random data to simulate the real world weather data from Cork airport, we will create a data from to store our results.\n",
    "\n",
    "I will define and name the data frame RanWeatherData to differenciate from the original data set from Cork airport."
   ]
  },
  {
   "cell_type": "code",
   "execution_count": 84,
   "metadata": {},
   "outputs": [],
   "source": [
    "## Assigning the name \"RanWeatherData\" to the random weather data frame\n",
    "RanWeatherData = pd.DataFrame({\"Day Number\": DayNumber,\"Random Max Temp\":RandMaxTemp, \"Random Min Temp\": RandMinTemp, \"Random Rain\": RandRain, \"Random Pressure\": RandPressure, \"Random Wind Speed\": RandWindSpeed, \"Random Wind Direction\": RandWindDir})"
   ]
  },
  {
   "cell_type": "code",
   "execution_count": 85,
   "metadata": {},
   "outputs": [
    {
     "data": {
      "text/html": [
       "<div>\n",
       "<style>\n",
       "    .dataframe thead tr:only-child th {\n",
       "        text-align: right;\n",
       "    }\n",
       "\n",
       "    .dataframe thead th {\n",
       "        text-align: left;\n",
       "    }\n",
       "\n",
       "    .dataframe tbody tr th {\n",
       "        vertical-align: top;\n",
       "    }\n",
       "</style>\n",
       "<table border=\"1\" class=\"dataframe\">\n",
       "  <thead>\n",
       "    <tr style=\"text-align: right;\">\n",
       "      <th></th>\n",
       "      <th>Day Number</th>\n",
       "      <th>Random Max Temp</th>\n",
       "      <th>Random Min Temp</th>\n",
       "      <th>Random Pressure</th>\n",
       "      <th>Random Rain</th>\n",
       "      <th>Random Wind Direction</th>\n",
       "      <th>Random Wind Speed</th>\n",
       "    </tr>\n",
       "  </thead>\n",
       "  <tbody>\n",
       "    <tr>\n",
       "      <th>0</th>\n",
       "      <td>1</td>\n",
       "      <td>14.919749</td>\n",
       "      <td>5.199845</td>\n",
       "      <td>996.658181</td>\n",
       "      <td>6.141537e+00</td>\n",
       "      <td>311.296153</td>\n",
       "      <td>14.304245</td>\n",
       "    </tr>\n",
       "    <tr>\n",
       "      <th>1</th>\n",
       "      <td>2</td>\n",
       "      <td>16.614364</td>\n",
       "      <td>12.816871</td>\n",
       "      <td>1012.869560</td>\n",
       "      <td>6.523442e+00</td>\n",
       "      <td>132.088252</td>\n",
       "      <td>7.057590</td>\n",
       "    </tr>\n",
       "    <tr>\n",
       "      <th>2</th>\n",
       "      <td>3</td>\n",
       "      <td>7.800150</td>\n",
       "      <td>6.309005</td>\n",
       "      <td>981.736745</td>\n",
       "      <td>3.551263e-02</td>\n",
       "      <td>264.368784</td>\n",
       "      <td>7.320520</td>\n",
       "    </tr>\n",
       "    <tr>\n",
       "      <th>3</th>\n",
       "      <td>4</td>\n",
       "      <td>12.670202</td>\n",
       "      <td>8.129960</td>\n",
       "      <td>1025.426046</td>\n",
       "      <td>6.519926e-01</td>\n",
       "      <td>348.205029</td>\n",
       "      <td>15.899440</td>\n",
       "    </tr>\n",
       "    <tr>\n",
       "      <th>4</th>\n",
       "      <td>5</td>\n",
       "      <td>10.125634</td>\n",
       "      <td>17.511071</td>\n",
       "      <td>1003.830667</td>\n",
       "      <td>5.838438e+00</td>\n",
       "      <td>407.746813</td>\n",
       "      <td>8.113753</td>\n",
       "    </tr>\n",
       "    <tr>\n",
       "      <th>5</th>\n",
       "      <td>6</td>\n",
       "      <td>16.552608</td>\n",
       "      <td>5.031629</td>\n",
       "      <td>1007.808727</td>\n",
       "      <td>1.685237e+00</td>\n",
       "      <td>99.124719</td>\n",
       "      <td>7.339729</td>\n",
       "    </tr>\n",
       "    <tr>\n",
       "      <th>6</th>\n",
       "      <td>7</td>\n",
       "      <td>12.523275</td>\n",
       "      <td>7.569306</td>\n",
       "      <td>1026.337606</td>\n",
       "      <td>1.127527e-01</td>\n",
       "      <td>334.320450</td>\n",
       "      <td>13.611250</td>\n",
       "    </tr>\n",
       "    <tr>\n",
       "      <th>7</th>\n",
       "      <td>8</td>\n",
       "      <td>11.942353</td>\n",
       "      <td>7.491326</td>\n",
       "      <td>1030.090935</td>\n",
       "      <td>3.381780e+00</td>\n",
       "      <td>254.713740</td>\n",
       "      <td>12.926327</td>\n",
       "    </tr>\n",
       "    <tr>\n",
       "      <th>8</th>\n",
       "      <td>9</td>\n",
       "      <td>10.289239</td>\n",
       "      <td>-2.538600</td>\n",
       "      <td>1014.426664</td>\n",
       "      <td>8.314527e-02</td>\n",
       "      <td>244.148996</td>\n",
       "      <td>3.762253</td>\n",
       "    </tr>\n",
       "    <tr>\n",
       "      <th>9</th>\n",
       "      <td>10</td>\n",
       "      <td>17.538618</td>\n",
       "      <td>14.492586</td>\n",
       "      <td>1038.732862</td>\n",
       "      <td>1.857299e-03</td>\n",
       "      <td>293.394884</td>\n",
       "      <td>11.549043</td>\n",
       "    </tr>\n",
       "    <tr>\n",
       "      <th>10</th>\n",
       "      <td>11</td>\n",
       "      <td>5.720482</td>\n",
       "      <td>16.414813</td>\n",
       "      <td>1004.614748</td>\n",
       "      <td>3.450998e+00</td>\n",
       "      <td>271.379765</td>\n",
       "      <td>13.485901</td>\n",
       "    </tr>\n",
       "    <tr>\n",
       "      <th>11</th>\n",
       "      <td>12</td>\n",
       "      <td>23.056976</td>\n",
       "      <td>4.248018</td>\n",
       "      <td>1007.494278</td>\n",
       "      <td>2.456414e-01</td>\n",
       "      <td>251.398230</td>\n",
       "      <td>7.517432</td>\n",
       "    </tr>\n",
       "    <tr>\n",
       "      <th>12</th>\n",
       "      <td>13</td>\n",
       "      <td>19.956173</td>\n",
       "      <td>4.900835</td>\n",
       "      <td>983.611228</td>\n",
       "      <td>2.072549e-01</td>\n",
       "      <td>240.444227</td>\n",
       "      <td>16.741373</td>\n",
       "    </tr>\n",
       "    <tr>\n",
       "      <th>13</th>\n",
       "      <td>14</td>\n",
       "      <td>23.797550</td>\n",
       "      <td>5.855124</td>\n",
       "      <td>994.301985</td>\n",
       "      <td>3.727603e-01</td>\n",
       "      <td>421.584484</td>\n",
       "      <td>14.225510</td>\n",
       "    </tr>\n",
       "    <tr>\n",
       "      <th>14</th>\n",
       "      <td>15</td>\n",
       "      <td>19.064493</td>\n",
       "      <td>1.866104</td>\n",
       "      <td>997.139053</td>\n",
       "      <td>4.075355e-01</td>\n",
       "      <td>186.417183</td>\n",
       "      <td>14.147899</td>\n",
       "    </tr>\n",
       "    <tr>\n",
       "      <th>15</th>\n",
       "      <td>16</td>\n",
       "      <td>16.055406</td>\n",
       "      <td>0.088211</td>\n",
       "      <td>1000.249568</td>\n",
       "      <td>5.944710e+00</td>\n",
       "      <td>229.551232</td>\n",
       "      <td>10.919599</td>\n",
       "    </tr>\n",
       "    <tr>\n",
       "      <th>16</th>\n",
       "      <td>17</td>\n",
       "      <td>16.120833</td>\n",
       "      <td>1.490662</td>\n",
       "      <td>986.655604</td>\n",
       "      <td>3.437321e-03</td>\n",
       "      <td>226.219200</td>\n",
       "      <td>7.266848</td>\n",
       "    </tr>\n",
       "    <tr>\n",
       "      <th>17</th>\n",
       "      <td>18</td>\n",
       "      <td>19.331275</td>\n",
       "      <td>11.679635</td>\n",
       "      <td>998.630334</td>\n",
       "      <td>9.905579e+00</td>\n",
       "      <td>116.821952</td>\n",
       "      <td>9.143232</td>\n",
       "    </tr>\n",
       "    <tr>\n",
       "      <th>18</th>\n",
       "      <td>19</td>\n",
       "      <td>7.454702</td>\n",
       "      <td>14.477086</td>\n",
       "      <td>998.778003</td>\n",
       "      <td>1.675530e-01</td>\n",
       "      <td>103.572393</td>\n",
       "      <td>1.603597</td>\n",
       "    </tr>\n",
       "    <tr>\n",
       "      <th>19</th>\n",
       "      <td>20</td>\n",
       "      <td>17.902419</td>\n",
       "      <td>8.339943</td>\n",
       "      <td>991.869020</td>\n",
       "      <td>2.552057e+00</td>\n",
       "      <td>383.696783</td>\n",
       "      <td>37.126837</td>\n",
       "    </tr>\n",
       "    <tr>\n",
       "      <th>20</th>\n",
       "      <td>21</td>\n",
       "      <td>8.530598</td>\n",
       "      <td>9.142319</td>\n",
       "      <td>992.069377</td>\n",
       "      <td>4.665754e-01</td>\n",
       "      <td>322.883479</td>\n",
       "      <td>12.439426</td>\n",
       "    </tr>\n",
       "    <tr>\n",
       "      <th>21</th>\n",
       "      <td>22</td>\n",
       "      <td>17.023404</td>\n",
       "      <td>13.931251</td>\n",
       "      <td>1009.412544</td>\n",
       "      <td>1.725717e-01</td>\n",
       "      <td>185.667452</td>\n",
       "      <td>7.157876</td>\n",
       "    </tr>\n",
       "    <tr>\n",
       "      <th>22</th>\n",
       "      <td>23</td>\n",
       "      <td>12.923389</td>\n",
       "      <td>11.955927</td>\n",
       "      <td>1021.201609</td>\n",
       "      <td>1.442312e-01</td>\n",
       "      <td>155.823225</td>\n",
       "      <td>33.272959</td>\n",
       "    </tr>\n",
       "    <tr>\n",
       "      <th>23</th>\n",
       "      <td>24</td>\n",
       "      <td>5.100691</td>\n",
       "      <td>9.279086</td>\n",
       "      <td>984.238378</td>\n",
       "      <td>2.059460e+00</td>\n",
       "      <td>164.188671</td>\n",
       "      <td>13.679083</td>\n",
       "    </tr>\n",
       "    <tr>\n",
       "      <th>24</th>\n",
       "      <td>25</td>\n",
       "      <td>5.492231</td>\n",
       "      <td>4.743115</td>\n",
       "      <td>998.389517</td>\n",
       "      <td>3.462352e+00</td>\n",
       "      <td>312.161741</td>\n",
       "      <td>17.525447</td>\n",
       "    </tr>\n",
       "    <tr>\n",
       "      <th>25</th>\n",
       "      <td>26</td>\n",
       "      <td>21.663165</td>\n",
       "      <td>11.842420</td>\n",
       "      <td>1016.839735</td>\n",
       "      <td>1.027152e+01</td>\n",
       "      <td>118.554202</td>\n",
       "      <td>7.563359</td>\n",
       "    </tr>\n",
       "    <tr>\n",
       "      <th>26</th>\n",
       "      <td>27</td>\n",
       "      <td>17.680194</td>\n",
       "      <td>2.226295</td>\n",
       "      <td>1020.109234</td>\n",
       "      <td>1.051255e-01</td>\n",
       "      <td>324.079170</td>\n",
       "      <td>9.936852</td>\n",
       "    </tr>\n",
       "    <tr>\n",
       "      <th>27</th>\n",
       "      <td>28</td>\n",
       "      <td>14.175529</td>\n",
       "      <td>3.503587</td>\n",
       "      <td>1035.546929</td>\n",
       "      <td>4.591663e-01</td>\n",
       "      <td>224.114057</td>\n",
       "      <td>16.427803</td>\n",
       "    </tr>\n",
       "    <tr>\n",
       "      <th>28</th>\n",
       "      <td>29</td>\n",
       "      <td>11.804192</td>\n",
       "      <td>8.294175</td>\n",
       "      <td>998.367420</td>\n",
       "      <td>1.163473e-01</td>\n",
       "      <td>161.694772</td>\n",
       "      <td>12.465568</td>\n",
       "    </tr>\n",
       "    <tr>\n",
       "      <th>29</th>\n",
       "      <td>30</td>\n",
       "      <td>13.878291</td>\n",
       "      <td>7.164589</td>\n",
       "      <td>1004.237485</td>\n",
       "      <td>1.259163e+01</td>\n",
       "      <td>231.612873</td>\n",
       "      <td>11.922594</td>\n",
       "    </tr>\n",
       "    <tr>\n",
       "      <th>...</th>\n",
       "      <td>...</td>\n",
       "      <td>...</td>\n",
       "      <td>...</td>\n",
       "      <td>...</td>\n",
       "      <td>...</td>\n",
       "      <td>...</td>\n",
       "      <td>...</td>\n",
       "    </tr>\n",
       "    <tr>\n",
       "      <th>335</th>\n",
       "      <td>336</td>\n",
       "      <td>-0.538066</td>\n",
       "      <td>3.514988</td>\n",
       "      <td>1002.243222</td>\n",
       "      <td>2.897221e+00</td>\n",
       "      <td>419.978479</td>\n",
       "      <td>19.064614</td>\n",
       "    </tr>\n",
       "    <tr>\n",
       "      <th>336</th>\n",
       "      <td>337</td>\n",
       "      <td>11.443796</td>\n",
       "      <td>12.759827</td>\n",
       "      <td>1058.666823</td>\n",
       "      <td>3.225027e-01</td>\n",
       "      <td>361.090502</td>\n",
       "      <td>7.506891</td>\n",
       "    </tr>\n",
       "    <tr>\n",
       "      <th>337</th>\n",
       "      <td>338</td>\n",
       "      <td>3.799550</td>\n",
       "      <td>5.858408</td>\n",
       "      <td>999.374004</td>\n",
       "      <td>9.180285e-01</td>\n",
       "      <td>263.051901</td>\n",
       "      <td>10.386818</td>\n",
       "    </tr>\n",
       "    <tr>\n",
       "      <th>338</th>\n",
       "      <td>339</td>\n",
       "      <td>17.075055</td>\n",
       "      <td>11.659333</td>\n",
       "      <td>1014.320406</td>\n",
       "      <td>1.029475e+01</td>\n",
       "      <td>284.109489</td>\n",
       "      <td>8.443347</td>\n",
       "    </tr>\n",
       "    <tr>\n",
       "      <th>339</th>\n",
       "      <td>340</td>\n",
       "      <td>4.142302</td>\n",
       "      <td>2.461524</td>\n",
       "      <td>994.374547</td>\n",
       "      <td>7.593176e+00</td>\n",
       "      <td>256.151225</td>\n",
       "      <td>12.152422</td>\n",
       "    </tr>\n",
       "    <tr>\n",
       "      <th>340</th>\n",
       "      <td>341</td>\n",
       "      <td>7.153809</td>\n",
       "      <td>13.481938</td>\n",
       "      <td>1002.314551</td>\n",
       "      <td>1.382530e-02</td>\n",
       "      <td>292.845492</td>\n",
       "      <td>10.068045</td>\n",
       "    </tr>\n",
       "    <tr>\n",
       "      <th>341</th>\n",
       "      <td>342</td>\n",
       "      <td>-1.163820</td>\n",
       "      <td>14.959601</td>\n",
       "      <td>1005.017655</td>\n",
       "      <td>1.759878e-03</td>\n",
       "      <td>186.676262</td>\n",
       "      <td>9.748239</td>\n",
       "    </tr>\n",
       "    <tr>\n",
       "      <th>342</th>\n",
       "      <td>343</td>\n",
       "      <td>20.882107</td>\n",
       "      <td>12.348859</td>\n",
       "      <td>983.727872</td>\n",
       "      <td>2.986242e-01</td>\n",
       "      <td>243.888713</td>\n",
       "      <td>6.822264</td>\n",
       "    </tr>\n",
       "    <tr>\n",
       "      <th>343</th>\n",
       "      <td>344</td>\n",
       "      <td>19.339716</td>\n",
       "      <td>13.321803</td>\n",
       "      <td>982.042378</td>\n",
       "      <td>2.559034e-01</td>\n",
       "      <td>232.708594</td>\n",
       "      <td>16.033927</td>\n",
       "    </tr>\n",
       "    <tr>\n",
       "      <th>344</th>\n",
       "      <td>345</td>\n",
       "      <td>13.341548</td>\n",
       "      <td>7.438110</td>\n",
       "      <td>997.830563</td>\n",
       "      <td>7.901920e-01</td>\n",
       "      <td>145.687936</td>\n",
       "      <td>9.670487</td>\n",
       "    </tr>\n",
       "    <tr>\n",
       "      <th>345</th>\n",
       "      <td>346</td>\n",
       "      <td>14.349141</td>\n",
       "      <td>6.309605</td>\n",
       "      <td>996.399171</td>\n",
       "      <td>2.241819e+00</td>\n",
       "      <td>220.755273</td>\n",
       "      <td>12.084222</td>\n",
       "    </tr>\n",
       "    <tr>\n",
       "      <th>346</th>\n",
       "      <td>347</td>\n",
       "      <td>10.813432</td>\n",
       "      <td>6.776936</td>\n",
       "      <td>1007.899228</td>\n",
       "      <td>3.953463e-03</td>\n",
       "      <td>341.412926</td>\n",
       "      <td>9.776296</td>\n",
       "    </tr>\n",
       "    <tr>\n",
       "      <th>347</th>\n",
       "      <td>348</td>\n",
       "      <td>4.756652</td>\n",
       "      <td>7.323534</td>\n",
       "      <td>1002.529947</td>\n",
       "      <td>1.965593e-02</td>\n",
       "      <td>293.014825</td>\n",
       "      <td>10.178913</td>\n",
       "    </tr>\n",
       "    <tr>\n",
       "      <th>348</th>\n",
       "      <td>349</td>\n",
       "      <td>6.593767</td>\n",
       "      <td>11.280740</td>\n",
       "      <td>992.021783</td>\n",
       "      <td>1.471421e-02</td>\n",
       "      <td>302.546713</td>\n",
       "      <td>6.367945</td>\n",
       "    </tr>\n",
       "    <tr>\n",
       "      <th>349</th>\n",
       "      <td>350</td>\n",
       "      <td>8.002873</td>\n",
       "      <td>12.533501</td>\n",
       "      <td>991.304289</td>\n",
       "      <td>3.103246e+00</td>\n",
       "      <td>248.956390</td>\n",
       "      <td>12.655366</td>\n",
       "    </tr>\n",
       "    <tr>\n",
       "      <th>350</th>\n",
       "      <td>351</td>\n",
       "      <td>20.575041</td>\n",
       "      <td>10.511317</td>\n",
       "      <td>1004.230858</td>\n",
       "      <td>8.084096e+00</td>\n",
       "      <td>257.578046</td>\n",
       "      <td>9.820537</td>\n",
       "    </tr>\n",
       "    <tr>\n",
       "      <th>351</th>\n",
       "      <td>352</td>\n",
       "      <td>15.511612</td>\n",
       "      <td>-2.314676</td>\n",
       "      <td>989.120869</td>\n",
       "      <td>2.228149e-03</td>\n",
       "      <td>408.738912</td>\n",
       "      <td>16.164925</td>\n",
       "    </tr>\n",
       "    <tr>\n",
       "      <th>352</th>\n",
       "      <td>353</td>\n",
       "      <td>8.149804</td>\n",
       "      <td>15.858845</td>\n",
       "      <td>983.558027</td>\n",
       "      <td>1.199979e-01</td>\n",
       "      <td>374.981423</td>\n",
       "      <td>12.627289</td>\n",
       "    </tr>\n",
       "    <tr>\n",
       "      <th>353</th>\n",
       "      <td>354</td>\n",
       "      <td>16.166291</td>\n",
       "      <td>3.071343</td>\n",
       "      <td>998.877223</td>\n",
       "      <td>4.587806e+00</td>\n",
       "      <td>374.250588</td>\n",
       "      <td>14.415192</td>\n",
       "    </tr>\n",
       "    <tr>\n",
       "      <th>354</th>\n",
       "      <td>355</td>\n",
       "      <td>11.903588</td>\n",
       "      <td>0.447197</td>\n",
       "      <td>996.146064</td>\n",
       "      <td>2.707742e-04</td>\n",
       "      <td>333.472255</td>\n",
       "      <td>6.106873</td>\n",
       "    </tr>\n",
       "    <tr>\n",
       "      <th>355</th>\n",
       "      <td>356</td>\n",
       "      <td>25.146240</td>\n",
       "      <td>10.054331</td>\n",
       "      <td>1005.137561</td>\n",
       "      <td>1.450202e+01</td>\n",
       "      <td>281.169397</td>\n",
       "      <td>7.947609</td>\n",
       "    </tr>\n",
       "    <tr>\n",
       "      <th>356</th>\n",
       "      <td>357</td>\n",
       "      <td>7.987446</td>\n",
       "      <td>5.320101</td>\n",
       "      <td>994.546266</td>\n",
       "      <td>1.148565e+00</td>\n",
       "      <td>504.181884</td>\n",
       "      <td>11.354722</td>\n",
       "    </tr>\n",
       "    <tr>\n",
       "      <th>357</th>\n",
       "      <td>358</td>\n",
       "      <td>19.679349</td>\n",
       "      <td>0.802057</td>\n",
       "      <td>981.159840</td>\n",
       "      <td>3.183345e+00</td>\n",
       "      <td>234.254020</td>\n",
       "      <td>9.735824</td>\n",
       "    </tr>\n",
       "    <tr>\n",
       "      <th>358</th>\n",
       "      <td>359</td>\n",
       "      <td>5.334527</td>\n",
       "      <td>0.156730</td>\n",
       "      <td>1009.610835</td>\n",
       "      <td>3.144431e-09</td>\n",
       "      <td>414.995689</td>\n",
       "      <td>10.215527</td>\n",
       "    </tr>\n",
       "    <tr>\n",
       "      <th>359</th>\n",
       "      <td>360</td>\n",
       "      <td>16.952787</td>\n",
       "      <td>3.125089</td>\n",
       "      <td>995.869120</td>\n",
       "      <td>1.173828e+00</td>\n",
       "      <td>275.728721</td>\n",
       "      <td>11.620542</td>\n",
       "    </tr>\n",
       "    <tr>\n",
       "      <th>360</th>\n",
       "      <td>361</td>\n",
       "      <td>13.165869</td>\n",
       "      <td>10.406682</td>\n",
       "      <td>986.331933</td>\n",
       "      <td>1.556450e-01</td>\n",
       "      <td>319.558219</td>\n",
       "      <td>12.833288</td>\n",
       "    </tr>\n",
       "    <tr>\n",
       "      <th>361</th>\n",
       "      <td>362</td>\n",
       "      <td>11.475803</td>\n",
       "      <td>8.273908</td>\n",
       "      <td>1000.406241</td>\n",
       "      <td>7.244843e-06</td>\n",
       "      <td>216.286893</td>\n",
       "      <td>11.994812</td>\n",
       "    </tr>\n",
       "    <tr>\n",
       "      <th>362</th>\n",
       "      <td>363</td>\n",
       "      <td>16.331525</td>\n",
       "      <td>1.185419</td>\n",
       "      <td>997.030336</td>\n",
       "      <td>1.365832e+01</td>\n",
       "      <td>413.128646</td>\n",
       "      <td>13.374237</td>\n",
       "    </tr>\n",
       "    <tr>\n",
       "      <th>363</th>\n",
       "      <td>364</td>\n",
       "      <td>15.900545</td>\n",
       "      <td>11.517086</td>\n",
       "      <td>992.670065</td>\n",
       "      <td>8.611788e+00</td>\n",
       "      <td>260.305625</td>\n",
       "      <td>7.706215</td>\n",
       "    </tr>\n",
       "    <tr>\n",
       "      <th>364</th>\n",
       "      <td>365</td>\n",
       "      <td>14.025324</td>\n",
       "      <td>9.008575</td>\n",
       "      <td>1002.742086</td>\n",
       "      <td>4.049431e-03</td>\n",
       "      <td>359.047800</td>\n",
       "      <td>7.297003</td>\n",
       "    </tr>\n",
       "  </tbody>\n",
       "</table>\n",
       "<p>365 rows × 7 columns</p>\n",
       "</div>"
      ],
      "text/plain": [
       "     Day Number  Random Max Temp  Random Min Temp  Random Pressure  \\\n",
       "0             1        14.919749         5.199845       996.658181   \n",
       "1             2        16.614364        12.816871      1012.869560   \n",
       "2             3         7.800150         6.309005       981.736745   \n",
       "3             4        12.670202         8.129960      1025.426046   \n",
       "4             5        10.125634        17.511071      1003.830667   \n",
       "5             6        16.552608         5.031629      1007.808727   \n",
       "6             7        12.523275         7.569306      1026.337606   \n",
       "7             8        11.942353         7.491326      1030.090935   \n",
       "8             9        10.289239        -2.538600      1014.426664   \n",
       "9            10        17.538618        14.492586      1038.732862   \n",
       "10           11         5.720482        16.414813      1004.614748   \n",
       "11           12        23.056976         4.248018      1007.494278   \n",
       "12           13        19.956173         4.900835       983.611228   \n",
       "13           14        23.797550         5.855124       994.301985   \n",
       "14           15        19.064493         1.866104       997.139053   \n",
       "15           16        16.055406         0.088211      1000.249568   \n",
       "16           17        16.120833         1.490662       986.655604   \n",
       "17           18        19.331275        11.679635       998.630334   \n",
       "18           19         7.454702        14.477086       998.778003   \n",
       "19           20        17.902419         8.339943       991.869020   \n",
       "20           21         8.530598         9.142319       992.069377   \n",
       "21           22        17.023404        13.931251      1009.412544   \n",
       "22           23        12.923389        11.955927      1021.201609   \n",
       "23           24         5.100691         9.279086       984.238378   \n",
       "24           25         5.492231         4.743115       998.389517   \n",
       "25           26        21.663165        11.842420      1016.839735   \n",
       "26           27        17.680194         2.226295      1020.109234   \n",
       "27           28        14.175529         3.503587      1035.546929   \n",
       "28           29        11.804192         8.294175       998.367420   \n",
       "29           30        13.878291         7.164589      1004.237485   \n",
       "..          ...              ...              ...              ...   \n",
       "335         336        -0.538066         3.514988      1002.243222   \n",
       "336         337        11.443796        12.759827      1058.666823   \n",
       "337         338         3.799550         5.858408       999.374004   \n",
       "338         339        17.075055        11.659333      1014.320406   \n",
       "339         340         4.142302         2.461524       994.374547   \n",
       "340         341         7.153809        13.481938      1002.314551   \n",
       "341         342        -1.163820        14.959601      1005.017655   \n",
       "342         343        20.882107        12.348859       983.727872   \n",
       "343         344        19.339716        13.321803       982.042378   \n",
       "344         345        13.341548         7.438110       997.830563   \n",
       "345         346        14.349141         6.309605       996.399171   \n",
       "346         347        10.813432         6.776936      1007.899228   \n",
       "347         348         4.756652         7.323534      1002.529947   \n",
       "348         349         6.593767        11.280740       992.021783   \n",
       "349         350         8.002873        12.533501       991.304289   \n",
       "350         351        20.575041        10.511317      1004.230858   \n",
       "351         352        15.511612        -2.314676       989.120869   \n",
       "352         353         8.149804        15.858845       983.558027   \n",
       "353         354        16.166291         3.071343       998.877223   \n",
       "354         355        11.903588         0.447197       996.146064   \n",
       "355         356        25.146240        10.054331      1005.137561   \n",
       "356         357         7.987446         5.320101       994.546266   \n",
       "357         358        19.679349         0.802057       981.159840   \n",
       "358         359         5.334527         0.156730      1009.610835   \n",
       "359         360        16.952787         3.125089       995.869120   \n",
       "360         361        13.165869        10.406682       986.331933   \n",
       "361         362        11.475803         8.273908      1000.406241   \n",
       "362         363        16.331525         1.185419       997.030336   \n",
       "363         364        15.900545        11.517086       992.670065   \n",
       "364         365        14.025324         9.008575      1002.742086   \n",
       "\n",
       "      Random Rain  Random Wind Direction  Random Wind Speed  \n",
       "0    6.141537e+00             311.296153          14.304245  \n",
       "1    6.523442e+00             132.088252           7.057590  \n",
       "2    3.551263e-02             264.368784           7.320520  \n",
       "3    6.519926e-01             348.205029          15.899440  \n",
       "4    5.838438e+00             407.746813           8.113753  \n",
       "5    1.685237e+00              99.124719           7.339729  \n",
       "6    1.127527e-01             334.320450          13.611250  \n",
       "7    3.381780e+00             254.713740          12.926327  \n",
       "8    8.314527e-02             244.148996           3.762253  \n",
       "9    1.857299e-03             293.394884          11.549043  \n",
       "10   3.450998e+00             271.379765          13.485901  \n",
       "11   2.456414e-01             251.398230           7.517432  \n",
       "12   2.072549e-01             240.444227          16.741373  \n",
       "13   3.727603e-01             421.584484          14.225510  \n",
       "14   4.075355e-01             186.417183          14.147899  \n",
       "15   5.944710e+00             229.551232          10.919599  \n",
       "16   3.437321e-03             226.219200           7.266848  \n",
       "17   9.905579e+00             116.821952           9.143232  \n",
       "18   1.675530e-01             103.572393           1.603597  \n",
       "19   2.552057e+00             383.696783          37.126837  \n",
       "20   4.665754e-01             322.883479          12.439426  \n",
       "21   1.725717e-01             185.667452           7.157876  \n",
       "22   1.442312e-01             155.823225          33.272959  \n",
       "23   2.059460e+00             164.188671          13.679083  \n",
       "24   3.462352e+00             312.161741          17.525447  \n",
       "25   1.027152e+01             118.554202           7.563359  \n",
       "26   1.051255e-01             324.079170           9.936852  \n",
       "27   4.591663e-01             224.114057          16.427803  \n",
       "28   1.163473e-01             161.694772          12.465568  \n",
       "29   1.259163e+01             231.612873          11.922594  \n",
       "..            ...                    ...                ...  \n",
       "335  2.897221e+00             419.978479          19.064614  \n",
       "336  3.225027e-01             361.090502           7.506891  \n",
       "337  9.180285e-01             263.051901          10.386818  \n",
       "338  1.029475e+01             284.109489           8.443347  \n",
       "339  7.593176e+00             256.151225          12.152422  \n",
       "340  1.382530e-02             292.845492          10.068045  \n",
       "341  1.759878e-03             186.676262           9.748239  \n",
       "342  2.986242e-01             243.888713           6.822264  \n",
       "343  2.559034e-01             232.708594          16.033927  \n",
       "344  7.901920e-01             145.687936           9.670487  \n",
       "345  2.241819e+00             220.755273          12.084222  \n",
       "346  3.953463e-03             341.412926           9.776296  \n",
       "347  1.965593e-02             293.014825          10.178913  \n",
       "348  1.471421e-02             302.546713           6.367945  \n",
       "349  3.103246e+00             248.956390          12.655366  \n",
       "350  8.084096e+00             257.578046           9.820537  \n",
       "351  2.228149e-03             408.738912          16.164925  \n",
       "352  1.199979e-01             374.981423          12.627289  \n",
       "353  4.587806e+00             374.250588          14.415192  \n",
       "354  2.707742e-04             333.472255           6.106873  \n",
       "355  1.450202e+01             281.169397           7.947609  \n",
       "356  1.148565e+00             504.181884          11.354722  \n",
       "357  3.183345e+00             234.254020           9.735824  \n",
       "358  3.144431e-09             414.995689          10.215527  \n",
       "359  1.173828e+00             275.728721          11.620542  \n",
       "360  1.556450e-01             319.558219          12.833288  \n",
       "361  7.244843e-06             216.286893          11.994812  \n",
       "362  1.365832e+01             413.128646          13.374237  \n",
       "363  8.611788e+00             260.305625           7.706215  \n",
       "364  4.049431e-03             359.047800           7.297003  \n",
       "\n",
       "[365 rows x 7 columns]"
      ]
     },
     "execution_count": 85,
     "metadata": {},
     "output_type": "execute_result"
    }
   ],
   "source": [
    "## Displaying the Random Data, Data Frame\n",
    "RanWeatherData"
   ]
  },
  {
   "cell_type": "markdown",
   "metadata": {},
   "source": [
    "** Comparison of Original Data and Random Generated Data** \n",
    "\n",
    "To compare and contrast the original Cork Airport weather data and the random generated data, I will generate box plots to compare and contrast the data sets. The box plot will allow a standardized way of displaying the distribution of the data based on five descriptive statistics, namely minimum value, first quartile, median value, third quartile, and maximum value. "
   ]
  },
  {
   "cell_type": "code",
   "execution_count": 90,
   "metadata": {},
   "outputs": [
    {
     "data": {
      "text/plain": [
       "([<matplotlib.axis.XTick at 0x21a6355dba8>,\n",
       "  <matplotlib.axis.XTick at 0x21a6355d518>],\n",
       " <a list of 2 Text xticklabel objects>)"
      ]
     },
     "execution_count": 90,
     "metadata": {},
     "output_type": "execute_result"
    }
   ],
   "source": [
    "## Creating a Boxplot for the Max Temp Data Sets as a Subplot\n",
    "plt.subplot(1,2,1)\n",
    "MaxTempBoxPlot=[RandMaxTemp, MaxTemp]\n",
    "plt.title(\"Max Temperature Comparison\")\n",
    "plt.boxplot(MaxTempBoxPlot)\n",
    "plt.xlabel('Data Points')\n",
    "plt.ylabel('Temperature')\n",
    "plt.xticks([1, 2], ['RandMaxTemp', 'MaxTemp'])"
   ]
  },
  {
   "cell_type": "code",
   "execution_count": 89,
   "metadata": {
    "scrolled": true
   },
   "outputs": [
    {
     "data": {
      "image/png": "[encoded data removed]",
      "text/plain": [
       "<matplotlib.figure.Figure at 0x21a63493978>"
      ]
     },
     "metadata": {},
     "output_type": "display_data"
    }
   ],
   "source": [
    "## Creating a Boxplot for the Min Temp Data Sets as a Subplot\n",
    "plt.subplot(1,2,2)\n",
    "MinTempBoxPlot=[RandMinTemp, MinTemp]\n",
    "plt.title(\"Min Temperature Comparison\")\n",
    "plt.boxplot(MinTempBoxPlot)\n",
    "plt.xlabel('Data Points')\n",
    "plt.ylabel('Temperature')\n",
    "plt.xticks([1, 2], ['RandMinTemp', 'MinTemp'])\n",
    "plt.show()"
   ]
  },
  {
   "cell_type": "code",
   "execution_count": 88,
   "metadata": {},
   "outputs": [
    {
     "data": {
      "image/png": "[encoded data removed]",
      "text/plain": [
       "<matplotlib.figure.Figure at 0x21a63422470>"
      ]
     },
     "metadata": {},
     "output_type": "display_data"
    }
   ],
   "source": [
    "## Creating a Boxplot for the Pressure Data Sets as a Subplot\n",
    "PressureBoxPlot=[RandPressure, Pressure]\n",
    "plt.title(\"Pressure Comparison\")\n",
    "plt.boxplot(PressureBoxPlot)\n",
    "plt.xlabel('Data Points')\n",
    "plt.ylabel('Pressure')\n",
    "plt.xticks([1, 2], ['Rand Pressure','Pressure cbl Hpa'])\n",
    "plt.show()"
   ]
  },
  {
   "cell_type": "code",
   "execution_count": 92,
   "metadata": {},
   "outputs": [
    {
     "data": {
      "image/png": "[encoded data removed]",
      "text/plain": [
       "<matplotlib.figure.Figure at 0x21a635875c0>"
      ]
     },
     "metadata": {},
     "output_type": "display_data"
    }
   ],
   "source": [
    "## Creating a Boxplot for the Rain Data Sets as a Subplot\n",
    "RainBoxPlot=[RandRain, Rain]\n",
    "plt.title(\"Rain Comparison\")\n",
    "plt.boxplot(RainBoxPlot)\n",
    "plt.xlabel('Data Points')\n",
    "plt.ylabel('Rain')\n",
    "plt.xticks([1, 2], ['Random Rain','Rain'])\n",
    "plt.show()"
   ]
  },
  {
   "cell_type": "code",
   "execution_count": 93,
   "metadata": {},
   "outputs": [
    {
     "data": {
      "image/png": "[encoded data removed]",
      "text/plain": [
       "<matplotlib.figure.Figure at 0x21a63660390>"
      ]
     },
     "metadata": {},
     "output_type": "display_data"
    }
   ],
   "source": [
    "## Creating a Boxplot for the Wind Speed Data Sets as a Subplot\n",
    "WindSpeedBoxPlot=[RandWindSpeed, WindSpeed]\n",
    "plt.title(\"Wind Speed Comparison\")\n",
    "plt.boxplot(WindSpeedBoxPlot)\n",
    "plt.xlabel('Data Points')\n",
    "plt.ylabel('Wind Speed')\n",
    "plt.xticks([1, 2], ['Random Wind Speed','Wind Speed'])\n",
    "plt.show()"
   ]
  },
  {
   "cell_type": "code",
   "execution_count": 94,
   "metadata": {},
   "outputs": [
    {
     "data": {
      "image/png": "[encoded data removed]",
      "text/plain": [
       "<matplotlib.figure.Figure at 0x21a636d3b70>"
      ]
     },
     "metadata": {},
     "output_type": "display_data"
    }
   ],
   "source": [
    "## Creating a Boxplot for the Wind Direction Data Sets as a Subplot\n",
    "WindDirectionBoxPlot=[RandWindDir, WindDirection]\n",
    "plt.title(\"Wind Direction Comparison\")\n",
    "plt.boxplot(WindDirectionBoxPlot)\n",
    "plt.xlabel('Data Points')\n",
    "plt.ylabel('Wind Direction')\n",
    "plt.xticks([1, 2], ['Random Wind Direction','Wind Direction'])\n",
    "plt.show()"
   ]
  },
  {
   "cell_type": "markdown",
   "metadata": {
    "collapsed": true
   },
   "source": [
    "**Box Plot Comparison Results**\n",
    "\n",
    "As can be seen from the box plots the random data generated for the majority of the weather variables mimick the distribution of the Cork Airport weather data, except for Wind Direction. Possibly the incorrect distribution for generating the Wind Direction random data was selected and this would explain the differences in the random data generated. As can be seen from the box plot the random data is right skewed while the airport data is left skewed, which indicates opposing distributions."
   ]
  },
  {
   "cell_type": "markdown",
   "metadata": {},
   "source": [
    "**Generation of Scatter Plots**\n",
    "\n",
    "To use PearsonR correlation analysis tool a fundamental requirement is that the data is linear. I will now generate scatter plots for each of the random data weather variables to graphically display the data sets.  "
   ]
  },
  {
   "cell_type": "code",
   "execution_count": 95,
   "metadata": {},
   "outputs": [
    {
     "data": {
      "image/png": "[encoded data removed]",
      "text/plain": [
       "<matplotlib.figure.Figure at 0x21a63660588>"
      ]
     },
     "metadata": {},
     "output_type": "display_data"
    }
   ],
   "source": [
    "## Creating a scatter plot of the Max Temp Random Data Set\n",
    "plt.scatter(DayNumber,RandMaxTemp, s=100, marker=(5, 2))\n",
    "plt.title('Scatter Plot of Random Data Max Temperature')\n",
    "plt.xlabel('Day Number')\n",
    "plt.ylabel('Temperature')\n",
    "plt.show()"
   ]
  },
  {
   "cell_type": "code",
   "execution_count": 96,
   "metadata": {},
   "outputs": [
    {
     "data": {
      "image/png": "[encoded data removed]",
      "text/plain": [
       "<matplotlib.figure.Figure at 0x21a63797f98>"
      ]
     },
     "metadata": {},
     "output_type": "display_data"
    }
   ],
   "source": [
    "## Creating a scatter plot of the Min Temp Random Data Set\n",
    "plt.scatter(DayNumber,RandMinTemp, s=100, marker=(5, 2))\n",
    "plt.title('Scatter Plot of Random Data Min Temperature')\n",
    "plt.xlabel('Day Number')\n",
    "plt.ylabel('Temperature')\n",
    "plt.show()"
   ]
  },
  {
   "cell_type": "code",
   "execution_count": 97,
   "metadata": {},
   "outputs": [
    {
     "data": {
      "image/png": "[encoded data removed]",
      "text/plain": [
       "<matplotlib.figure.Figure at 0x21a637cca90>"
      ]
     },
     "metadata": {},
     "output_type": "display_data"
    }
   ],
   "source": [
    "## Creating a scatter plot of the Pressure Random Data Set\n",
    "plt.scatter(DayNumber,RandPressure, s=100, marker=(5, 2))\n",
    "plt.title('Scatter Plot of Random Data Atmospheric Pressure')\n",
    "plt.xlabel('Day Number')\n",
    "plt.ylabel('Pressure cbl Hpa')\n",
    "plt.show()"
   ]
  },
  {
   "cell_type": "code",
   "execution_count": 98,
   "metadata": {},
   "outputs": [
    {
     "data": {
      "image/png": "[encoded data removed]",
      "text/plain": [
       "<matplotlib.figure.Figure at 0x21a6382d940>"
      ]
     },
     "metadata": {},
     "output_type": "display_data"
    }
   ],
   "source": [
    "## Creating a scatter plot of the Rain Random Data Set\n",
    "plt.scatter(DayNumber,RandRain, s=100, marker=(5, 2))\n",
    "plt.title('Scatter Plot of Random Data Percipitation')\n",
    "plt.xlabel('Day Number')\n",
    "plt.ylabel('Rain Fall mm')\n",
    "plt.show()"
   ]
  },
  {
   "cell_type": "code",
   "execution_count": 99,
   "metadata": {},
   "outputs": [
    {
     "data": {
      "image/png": "[encoded data removed]",
      "text/plain": [
       "<matplotlib.figure.Figure at 0x21a6488e0f0>"
      ]
     },
     "metadata": {},
     "output_type": "display_data"
    }
   ],
   "source": [
    "## Creating a scatter plot of the Wind Speed Random Data Set\n",
    "plt.scatter(DayNumber,RandWindSpeed, s=100, marker=(5, 2))\n",
    "plt.title('Scatter Plot of Random Data Wind Speed')\n",
    "plt.xlabel('Day Number')\n",
    "plt.ylabel('Wind Speed knots')\n",
    "plt.show()"
   ]
  },
  {
   "cell_type": "code",
   "execution_count": 100,
   "metadata": {},
   "outputs": [
    {
     "data": {
      "image/png": "[encoded data removed]",
      "text/plain": [
       "<matplotlib.figure.Figure at 0x21a637fe278>"
      ]
     },
     "metadata": {},
     "output_type": "display_data"
    }
   ],
   "source": [
    "## Creating a scatter plot of the Wind Direction Random Data Set\n",
    "plt.scatter(DayNumber,RandWindDir, s=100, marker=(5, 2))\n",
    "plt.title('Scatter Plot of Random Data Wind Direction')\n",
    "plt.xlabel('Day Number')\n",
    "plt.ylabel('Wind Direction degrees')\n",
    "plt.show()"
   ]
  },
  {
   "cell_type": "markdown",
   "metadata": {
    "collapsed": true
   },
   "source": [
    "** Correlation Analysis of Weather Variables**\n",
    "\n",
    "The statistical evaluation of the relationship between two numerical continuous variables is called Correlation Analysis. Every day examples would be a persons height to weight ratio and a persons exam results in relation to study time.\n",
    "\n",
    "For the purpose of this project, below, we are going to perform correlation analysis on the following variables against rain fall to see if there is a relationship between the amount of rain fallen and any of the other weather variables. \n",
    "\n",
    "- Maximum Air Temperature (C)\n",
    "- Minimum Air Temperature (C)\n",
    "- Mean Wind Speed (Knot)\n",
    "- Mean CBL Pressure (hpa) \n",
    "\n",
    "There is a number of different commands that could be used to determine if a correlation exists between rain fall and any of the other variables. These include;\n",
    "\n",
    "- np.corrcoef\n",
    "- stats.pearsonr\n",
    "\n",
    "The correlation coefficient can range in value from -1 to 1. The larger the coefficient value the stronger the relationship between the variables. A perfect linear correlation is indicated by an absolute value of 1. The sign of the coefficient correlation value indicates the direction of the relationship. A positive value indicates both variables tend to increase or decrease together. If one variable increases and the other decreases a negative correlation coefficient is produced.\n",
    "\n",
    "For the purpose of this project the stats.pearsonr command will be utilised. There are a number of assumptions that need to be met before the Pearsons correlation method can be used but for the purpose of the project each varialbe will be analysed using the Pearson method.\n",
    "\n",
    "The correlation coefficient result is outputted in the following for;\n",
    "\n",
    "(x,y)\n",
    "\n",
    "where x if the correlation coefficient and y is the p-value.\n",
    "\n",
    "The significance of the p-value is important. The p-value indicates if the correlation coefficient is significantly different from 0. \n",
    "\n",
    "A coefficient of 0 indicates no linear relationship.\n",
    "\n",
    "If the p-value is less than or equal to the specified alpha level (0.05) it can be concluded that the correlation is significantly different from 0. If the p-value is greater than the alpha level it cannot be concluded that the correlation is significant from 0.\n"
   ]
  },
  {
   "cell_type": "markdown",
   "metadata": {},
   "source": [
    "** Rain vs Pressure **"
   ]
  },
  {
   "cell_type": "code",
   "execution_count": 101,
   "metadata": {},
   "outputs": [
    {
     "data": {
      "text/plain": [
       "(0.067132682332380747, 0.20068135653319447)"
      ]
     },
     "execution_count": 101,
     "metadata": {},
     "output_type": "execute_result"
    }
   ],
   "source": [
    "## Correlation analysis of Rain vs Pressure using the Pearsonr Correlation Method\n",
    "stats.pearsonr(RandRain, RandPressure)"
   ]
  },
  {
   "cell_type": "code",
   "execution_count": 102,
   "metadata": {},
   "outputs": [
    {
     "data": {
      "image/png": "[encoded data removed]",
      "text/plain": [
       "<matplotlib.figure.Figure at 0x21a636c1fd0>"
      ]
     },
     "metadata": {},
     "output_type": "display_data"
    }
   ],
   "source": [
    "## Scatter plot of Rain vs Pressure\n",
    "plt.scatter(RandRain, RandPressure)\n",
    "plt.show()"
   ]
  },
  {
   "cell_type": "markdown",
   "metadata": {},
   "source": [
    "**Analysis Interpretation**\n",
    "\n",
    "The first value listed 0.067132682332380747 is the Pearson Coefficient number and the second value is the p-value. As the pearson number is close to zero indicates there is no correlation between rain fall and pressure. As the p-value is greater than 0.05 it cannot be concluded that the correlation is different from 0."
   ]
  },
  {
   "cell_type": "markdown",
   "metadata": {},
   "source": [
    "**Rain vs Maximum Temperature**"
   ]
  },
  {
   "cell_type": "code",
   "execution_count": 107,
   "metadata": {},
   "outputs": [
    {
     "data": {
      "text/plain": [
       "(0.14261847330715821, 0.0063460986718293678)"
      ]
     },
     "execution_count": 107,
     "metadata": {},
     "output_type": "execute_result"
    }
   ],
   "source": [
    "## Correlation analysis of Rain vs Max Temp using the Pearsonr Correlation Method\n",
    "stats.pearsonr(RandRain, RandMaxTemp)"
   ]
  },
  {
   "cell_type": "code",
   "execution_count": 108,
   "metadata": {},
   "outputs": [
    {
     "data": {
      "image/png": "[encoded data removed]",
      "text/plain": [
       "<matplotlib.figure.Figure at 0x21a64a139b0>"
      ]
     },
     "metadata": {},
     "output_type": "display_data"
    }
   ],
   "source": [
    "## Scatter Plot of Rain vs Max Temp \n",
    "plt.scatter(RandRain, RandMaxTemp)\n",
    "plt.show()"
   ]
  },
  {
   "cell_type": "markdown",
   "metadata": {},
   "source": [
    "**Analysis Interpretation**\n",
    "\n",
    "The first value listed 0.14261847330715821 is the Pearson Coefficient number and the second value is the p-value. As the pearson number is close to zero indicates there is no correlation between rain fall and maximum temperature. As the p-value is less than 0.05 it can be concluded that the correlation is different from 0."
   ]
  },
  {
   "cell_type": "markdown",
   "metadata": {},
   "source": [
    "** Rain vs Minimum Temperature**"
   ]
  },
  {
   "cell_type": "code",
   "execution_count": 109,
   "metadata": {},
   "outputs": [
    {
     "data": {
      "text/plain": [
       "(-0.032223282535898991, 0.53943163313316622)"
      ]
     },
     "execution_count": 109,
     "metadata": {},
     "output_type": "execute_result"
    }
   ],
   "source": [
    "## Correlation analysis of Rain vs Min Temp using the Pearsonr Correlation Method\n",
    "stats.pearsonr(RandRain, RandMinTemp)"
   ]
  },
  {
   "cell_type": "code",
   "execution_count": 124,
   "metadata": {},
   "outputs": [
    {
     "data": {
      "image/png": "[encoded data removed]",
      "text/plain": [
       "<matplotlib.figure.Figure at 0x211ba52a6a0>"
      ]
     },
     "metadata": {},
     "output_type": "display_data"
    }
   ],
   "source": [
    "plt.scatter(RandRain, RandMinTemp)\n",
    "plt.show()"
   ]
  },
  {
   "cell_type": "markdown",
   "metadata": {},
   "source": [
    "**Analysis Interpretation**\n",
    "\n",
    "The first value listed -0.032223282535898991 is the Pearson Coefficient number and the second value is the p-value. As the pearson number is close to zero indicates there is no correlation between rain fall and minimum temperature. As the p-value is greater than 0.05 it cannot be concluded that the correlation is different from 0."
   ]
  },
  {
   "cell_type": "markdown",
   "metadata": {},
   "source": [
    "** Rain vs Wind Speed **"
   ]
  },
  {
   "cell_type": "code",
   "execution_count": 110,
   "metadata": {},
   "outputs": [
    {
     "data": {
      "text/plain": [
       "(-0.014332418542728258, 0.78493372451621823)"
      ]
     },
     "execution_count": 110,
     "metadata": {},
     "output_type": "execute_result"
    }
   ],
   "source": [
    "## Correlation analysis of Rain vs Wind Speed using the Pearsonr Correlation Method\n",
    "stats.pearsonr(RandRain, RandWindSpeed)"
   ]
  },
  {
   "cell_type": "code",
   "execution_count": 126,
   "metadata": {},
   "outputs": [
    {
     "data": {
      "image/png": "[encoded data removed]",
      "text/plain": [
       "<matplotlib.figure.Figure at 0x211bba88518>"
      ]
     },
     "metadata": {},
     "output_type": "display_data"
    }
   ],
   "source": [
    "plt.scatter(RandRain, RandWindSpeed)\n",
    "plt.show()"
   ]
  },
  {
   "cell_type": "markdown",
   "metadata": {},
   "source": [
    "**Analysis Interpretation**\n",
    "\n",
    "The first value listed -0.014332418542728258 is the Pearson Coefficient number and the second value is the p-value. As the pearson number is close to zero indicates there is no correlation between rain fall and wind speed. As the p-value is greater than 0.05 it cannot be concluded that the correlation is different from 0."
   ]
  },
  {
   "cell_type": "markdown",
   "metadata": {},
   "source": [
    "** Conclusion**\n",
    "\n",
    "As can be seen from the analysis there was no correlation between the amount of rain fall and any of the other weather variables analysed. On review of the results it has been noted that generating random data for weather variables was probably not the most appropriate data set to select due to the variation that can be inherently normal within weather i.e. abnormally warm days in winter, wetter summers than winter and thunder showers with high pressure.\n",
    "\n",
    "Also it is has been noted that some of the selected distributions were not the most appropriate distributions to be selected for generating the random data sets i.e. literature notes a number of suitable distributions for rain fall as well as other variables being left / right screwed when reviewing the real world data, the distributions exhibited the opposite skew.\n",
    "\n",
    "It is hoped that the tools and techniques utilised within this project notebook gives enough evidence of the understanding of the tools, techniques and libraries that can be utilised to generate random data and perform an accurate analysis of sai data.\n",
    "\n"
   ]
  }
 ],
 "metadata": {
  "kernelspec": {
   "display_name": "Python 3",
   "language": "python",
   "name": "python3"
  },
  "language_info": {
   "codemirror_mode": {
    "name": "ipython",
    "version": 3
   },
   "file_extension": ".py",
   "mimetype": "text/x-python",
   "name": "python",
   "nbconvert_exporter": "python",
   "pygments_lexer": "ipython3",
   "version": "3.6.3"
  }
 },
 "nbformat": 4,
 "nbformat_minor": 2
}
